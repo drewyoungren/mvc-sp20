{
 "cells": [
  {
   "cell_type": "code",
   "execution_count": 2,
   "metadata": {
    "slideshow": {
     "slide_type": "skip"
    }
   },
   "outputs": [],
   "source": [
    "import numpy as np\n",
    "import matplotlib as mpl\n",
    "import matplotlib.pyplot as plt\n",
    "from IPython.display import display, HTML, IFrame\n",
    "from ipywidgets import interact\n",
    "import networkx as nx\n",
    "import pandas as pd\n",
    "\n",
    "mpl.rcParams['figure.figsize'] = [6.0, 6.0]®"
   ]
  },
  {
   "cell_type": "markdown",
   "metadata": {
    "slideshow": {
     "slide_type": "notes"
    }
   },
   "source": [
    "$\\newcommand{\\RR}{\\mathbb{R}}$\n",
    "$\\newcommand{\\bv}[1]{\\begin{bmatrix} #1 \\end{bmatrix}}$\n",
    "$\\renewcommand{\\vec}{\\mathbf}$"
   ]
  },
  {
   "cell_type": "markdown",
   "metadata": {
    "slideshow": {
     "slide_type": "slide"
    }
   },
   "source": [
    "# Warm up\n",
    "\n",
    "<img src=\"img/mvc-s1.1.qr.png\" style=\"float:right\" width=\"300px\" />\n",
    "\n"
   ]
  },
  {
   "cell_type": "markdown",
   "metadata": {
    "hide_input": true,
    "slideshow": {
     "slide_type": "slide"
    }
   },
   "source": [
    "Welcome to APMA E2000\n",
    "\n",
    "# Multivariable Calculus\n",
    " \n",
    "Drew C Youngren\n",
    "\n",
    "<code>dcy2@columbia.edu</code>"
   ]
  },
  {
   "cell_type": "markdown",
   "metadata": {
    "slideshow": {
     "slide_type": "subslide"
    }
   },
   "source": [
    "\n",
    "Welcome to APMA E2000\n",
    "\n",
    "# Multivariable Calculus for Engineers and Applied Scientists\n",
    "\n",
    "Drew C Youngren\n",
    "\n",
    "<code>dcy2@columbia.edu</code>"
   ]
  },
  {
   "cell_type": "markdown",
   "metadata": {
    "slideshow": {
     "slide_type": "subslide"
    }
   },
   "source": [
    "Welcome to APMA E2000\n",
    "\n",
    "<img src=\"img/tmp.gif\" width=\"50%\" style=\"float:right\" />\n",
    "\n",
    "# MVC\n",
    "\n",
    "Drew C Youngren\n",
    "\n",
    "<code>dcy2@columbia.edu</code>"
   ]
  },
  {
   "cell_type": "markdown",
   "metadata": {
    "slideshow": {
     "slide_type": "slide"
    }
   },
   "source": [
    "## Logistics\n",
    "\n",
    "  - [Schedule](https://docs.google.com/spreadsheets/d/1Fe4STW3XDvxA5-CIXK_XPyERFoAkY028wcwaapg4Z_o/edit?usp=sharing)\n",
    "  - Detailed syllabus on [Courseworks/Canvas](https://courseworks2.columbia.edu)\n",
    "  - Assessment\n",
    "    - Homework (weekly, usually due Tues a.m.)\n",
    "    - Quizzes (weekly, in recitation)\n",
    "    - Exams (two, in-class, see schedule)\n",
    "    - Final Exam (set by registrar)\n",
    "  - Office Hours (*projected)\n",
    "    - Youngren: M 1100–1250 Mudd 214, R 1010–1100 Eng Terr 287\n",
    "    - TAs: Jessie, Hwi, Kuang\n",
    "  - Help Hours\n",
    "    - CAs: MR 1900–2100, S 1500–1700 TBD"
   ]
  },
  {
   "cell_type": "markdown",
   "metadata": {
    "slideshow": {
     "slide_type": "subslide"
    }
   },
   "source": [
    "## Homework 0\n",
    "\n",
    "Due Friday, 12 pm (noon). Make sure you can access all digital platforms.\n",
    "\n",
    "  - Courseworks - Assignments/grades/announcements\n",
    "  - Piazza - Discussion/questions\n",
    "  - Gradescope - submit homework\n",
    "\n",
    "## Recitation\n",
    "\n",
    "**Does** meet this week. No quiz. Bring a laptop if possible. \n",
    "\n"
   ]
  },
  {
   "cell_type": "markdown",
   "metadata": {
    "slideshow": {
     "slide_type": "slide"
    }
   },
   "source": [
    "# What is calculus?"
   ]
  },
  {
   "cell_type": "code",
   "execution_count": 4,
   "metadata": {
    "slideshow": {
     "slide_type": "fragment"
    }
   },
   "outputs": [],
   "source": [
    "from wordcloud import WordCloud\n",
    "import re\n",
    "\n",
    "pat = re.compile(r\"[^\\w']+\")   \n",
    "url = \"https://docs.google.com/spreadsheets/d/e/2PACX-1vRwge0i83wewA-X4G6ki5zhdPfcDRyHBbwH7hAA5XeWJTfL_IaZAkfINu4ZCESyRrbqRkk_SndUZE3H/pub?gid=1016261283&single=true&output=csv\"\n",
    "df = pd.read_csv(url)\n",
    "wds = df[\"Calculus is...\"].tolist()\n",
    "wds = [item.lower() for w in wds for item in pat.split(w)]\n",
    "wds = [w for w in wds if w not in [\"the\",\"a\",\"with\",\"among\",\"an\",\"of\",\"in\",\"to\",\"for\",\"is\",\"that\",\"it\",\"was\",\"you\"]]\n",
    "wc = WordCloud(background_color=\"#EEEEFF00\",width = 800,height=600).generate(' '.join(wds))"
   ]
  },
  {
   "cell_type": "code",
   "execution_count": null,
   "metadata": {
    "slideshow": {
     "slide_type": "subslide"
    }
   },
   "outputs": [],
   "source": [
    "plt.figure(figsize=(16,12))\n",
    "plt.imshow(wc, interpolation=\"bilinear\")\n",
    "plt.axis(\"off\");"
   ]
  },
  {
   "cell_type": "markdown",
   "metadata": {
    "slideshow": {
     "slide_type": "subslide"
    }
   },
   "source": [
    "In case that didn't work, here's last semester's:\n",
    "\n",
    "![Calculus is...wordcloud](img/calculus-worcloud.png)"
   ]
  },
  {
   "cell_type": "markdown",
   "metadata": {
    "slideshow": {
     "slide_type": "slide"
    }
   },
   "source": [
    "  # What is Multivariable Calculus?\n",
    "  \n",
    "  In the first two semesters of calculus, the object of study are functions from the real numbers to the real numbers.\n",
    "  \n",
    "  $$f: \\RR \\to \\RR$$"
   ]
  },
  {
   "cell_type": "markdown",
   "metadata": {
    "slideshow": {
     "slide_type": "fragment"
    }
   },
   "source": [
    "In multivariable calculus, we'll expand this study in three ways:"
   ]
  },
  {
   "cell_type": "markdown",
   "metadata": {
    "slideshow": {
     "slide_type": "fragment"
    }
   },
   "source": [
    "  - Vector-values functions (curves) $$f:\\RR \\to \\RR^n$$"
   ]
  },
  {
   "cell_type": "markdown",
   "metadata": {
    "slideshow": {
     "slide_type": "fragment"
    }
   },
   "source": [
    "  - Functions of several variables (scalar fields) $$f:\\RR^n \\to \\RR$$"
   ]
  },
  {
   "cell_type": "markdown",
   "metadata": {
    "slideshow": {
     "slide_type": "fragment"
    }
   },
   "source": [
    "  - Vector fields $$f:\\RR^n \\to \\RR^n$$"
   ]
  },
  {
   "cell_type": "markdown",
   "metadata": {
    "slideshow": {
     "slide_type": "slide"
    }
   },
   "source": [
    "## What is $\\RR^n$?\n",
    "\n",
    "$$ \\RR = \\RR^1 = \\text{ the real numbers}$$"
   ]
  },
  {
   "cell_type": "markdown",
   "metadata": {
    "slideshow": {
     "slide_type": "fragment"
    }
   },
   "source": [
    "$$\\RR^2 = \\{ (x,y): x,y \\in \\RR \\} = \\text{ the Cartesian plane}$$"
   ]
  },
  {
   "cell_type": "markdown",
   "metadata": {
    "slideshow": {
     "slide_type": "fragment"
    }
   },
   "source": [
    "$$\\RR^3 = \\{ (x,y,z): x,y,z \\in \\RR \\} = \\text{ 3-space}$$"
   ]
  },
  {
   "cell_type": "markdown",
   "metadata": {
    "slideshow": {
     "slide_type": "fragment"
    }
   },
   "source": [
    "$$\\dots$$ $$ \\RR^n = n\\text{-space}$$"
   ]
  },
  {
   "cell_type": "markdown",
   "metadata": {
    "slideshow": {
     "slide_type": "slide"
    }
   },
   "source": [
    "## Loci\n",
    "\n",
    "A set of points in space determined by some condition is called a **locus**. These are often solution sets to equations. Many examples involve the distance formula.\n",
    "\n",
    "### Examples\n",
    "\n",
    "  1. $x + y = 3$"
   ]
  },
  {
   "cell_type": "code",
   "execution_count": 9,
   "metadata": {
    "hide_input": false,
    "scrolled": true,
    "slideshow": {
     "slide_type": "fragment"
    }
   },
   "outputs": [
    {
     "data": {
      "image/png": "[encoded data removed]",
      "text/plain": [
       "<Figure size 432x432 with 1 Axes>"
      ]
     },
     "metadata": {
      "needs_background": "light"
     },
     "output_type": "display_data"
    }
   ],
   "source": [
    "from mpl_toolkits.mplot3d import Axes3D  # noqa: F401 unused import\n",
    "from matplotlib import cm\n",
    "\n",
    "fig = plt.figure()\n",
    "ax = fig.gca(projection='3d')\n",
    "\n",
    "# Make data.\n",
    "X = np.arange(-5, 5, 0.25)\n",
    "Y = np.arange(-5, 5, 0.25)\n",
    "X, Y = np.meshgrid(X, Y)\n",
    "# R = np.sqrt(X**2 + Y**2)\n",
    "Z = -3*X\n",
    "\n",
    "ax.set_xlabel(\"$x$\",fontsize=16)\n",
    "ax.set_ylabel(\"$y$\",fontsize=16)\n",
    "ax.set_zlabel(\"$z$\",fontsize=16)\n",
    "\n",
    "\n",
    "# Plot the surface.\n",
    "surf = ax.plot_surface(X, 3-X, Y, cmap=cm.coolwarm,\n",
    "                       linewidth=0, antialiased=False,alpha=.4)"
   ]
  },
  {
   "cell_type": "markdown",
   "metadata": {
    "slideshow": {
     "slide_type": "slide"
    }
   },
   "source": [
    "## Distance\n",
    "\n",
    "The formula for the distance between two points in $\\RR^n$ is trivial if you just remember the Pythagorean Theorem.\n",
    "\n",
    "$$d = \\sqrt{\\sum_{i=1}^n (x_i - y_i)^2}$$"
   ]
  },
  {
   "cell_type": "markdown",
   "metadata": {
    "hide_input": true,
    "slideshow": {
     "slide_type": "subslide"
    }
   },
   "source": [
    "  2. $x^2 + y^2 +z^2 = 1$"
   ]
  },
  {
   "cell_type": "code",
   "execution_count": 19,
   "metadata": {
    "hide_input": true,
    "slideshow": {
     "slide_type": "fragment"
    }
   },
   "outputs": [
    {
     "data": {
      "image/png": "[encoded data removed]",
      "text/plain": [
       "<Figure size 432x432 with 1 Axes>"
      ]
     },
     "metadata": {
      "needs_background": "light"
     },
     "output_type": "display_data"
    }
   ],
   "source": [
    "from mpl_toolkits.mplot3d import Axes3D  # noqa: F401 unused import\n",
    "from matplotlib import cm\n",
    "\n",
    "fig = plt.figure(figsize=(6,6))\n",
    "ax = fig.gca(projection='3d')\n",
    "\n",
    "# Make data.\n",
    "x = np.linspace(0, 2*np.pi,80)\n",
    "y = np.linspace(0, np.pi,40)\n",
    "x, y = np.meshgrid(x, y)\n",
    "X = np.sin(y)*np.cos(x)\n",
    "Y = np.sin(y)*np.sin(x)\n",
    "Z = np.cos(y)\n",
    "\n",
    "# Plot the surface.\n",
    "surf = ax.plot_surface(X, Y, Z, cmap=cm.coolwarm,\n",
    "                       linewidth=0.2, antialiased=False,alpha=.8)\n",
    "for dim in 'xyz':\n",
    "    getattr(ax, f'set_{dim}lim')([-1,1])\n"
   ]
  },
  {
   "cell_type": "markdown",
   "metadata": {
    "slideshow": {
     "slide_type": "slide"
    }
   },
   "source": [
    "# Vectors"
   ]
  },
  {
   "cell_type": "markdown",
   "metadata": {
    "slideshow": {
     "slide_type": "fragment"
    }
   },
   "source": [
    "A **vector** in $\\RR^n$ is a directed line segment $\\overrightarrow{AB}$ between two points. "
   ]
  },
  {
   "cell_type": "markdown",
   "metadata": {
    "slideshow": {
     "slide_type": "fragment"
    }
   },
   "source": [
    "Two vectors are considered the same if they have the same *magnitude* (length) and *direction*."
   ]
  },
  {
   "cell_type": "code",
   "execution_count": 20,
   "metadata": {
    "slideshow": {
     "slide_type": "skip"
    }
   },
   "outputs": [],
   "source": [
    "def plot_vector(v,base=(0,0),**kwargs):\n",
    "    \"\"\"Plots a vector `v` with tail at the point `base` (defaults to origin).\"\"\"\n",
    "    plt.arrow(base[0],base[1],v[0],v[1],length_includes_head=True,head_width=.2,**kwargs);"
   ]
  },
  {
   "cell_type": "code",
   "execution_count": 23,
   "metadata": {
    "hide_input": true,
    "slideshow": {
     "slide_type": "fragment"
    }
   },
   "outputs": [
    {
     "data": {
      "image/png": "[encoded data removed]",
      "text/plain": [
       "<Figure size 432x288 with 1 Axes>"
      ]
     },
     "metadata": {
      "needs_background": "light"
     },
     "output_type": "display_data"
    }
   ],
   "source": [
    "v = np.array([-2,2])\n",
    "w = np.array([3,-4])\n",
    "\n",
    "plt.xlim([-5,5])\n",
    "plt.ylim([-5,5])\n",
    "plt.xlabel(\"$x$\")\n",
    "plt.ylabel(\"$y$\")\n",
    "plt.title(\"A Vector\");\n",
    "\n",
    "plot_vector(v,color='r')\n",
    "plot_vector(v,base=(3,-1),color='b')\n",
    "plot_vector(v,base=(-2,-2),color='purple')\n",
    "plt.grid(True);"
   ]
  },
  {
   "cell_type": "markdown",
   "metadata": {
    "slideshow": {
     "slide_type": "subslide"
    }
   },
   "source": [
    "## Notation\n",
    "\n",
    "We specify a vector by the displacement in each component. E.g., $$\\vec v = \\langle 3,1 \\rangle = \\bv{3 \\\\ 1}.$$"
   ]
  },
  {
   "cell_type": "markdown",
   "metadata": {
    "slideshow": {
     "slide_type": "fragment"
    }
   },
   "source": [
    "### Analogy\n",
    "\n",
    "$(3,21)$ is a point. $\\vec v = \\langle 3,21\\rangle$ is a vector. \n",
    "\n",
    "\"21st St & 3rd Ave\" is a location. \"21 blocks north and 3 blocks west\" is a displacement. "
   ]
  },
  {
   "cell_type": "markdown",
   "metadata": {
    "slideshow": {
     "slide_type": "slide"
    }
   },
   "source": [
    "# Vector Operations\n",
    "\n",
    "The most important aspect of vectors is what you can do with/to them. In a sense their defining feature is that they can be **scaled** and **added together**."
   ]
  },
  {
   "cell_type": "markdown",
   "metadata": {
    "slideshow": {
     "slide_type": "fragment"
    }
   },
   "source": [
    "Let $\\vec v = \\langle v_1, v_2, v_3 \\rangle$."
   ]
  },
  {
   "cell_type": "markdown",
   "metadata": {
    "slideshow": {
     "slide_type": "fragment"
    }
   },
   "source": [
    "### Magnitude\n",
    "\n",
    "The **magnitude** of a vector $\\vec v$ is a (nonnegative) scalar $|\\vec v|$ (also written $\\| \\vec v \\|$). \n",
    "\n",
    "$$|\\vec v| = \\sqrt{v_1^2 +v_2^2 + v_3^2}$$"
   ]
  },
  {
   "cell_type": "markdown",
   "metadata": {
    "slideshow": {
     "slide_type": "subslide"
    }
   },
   "source": [
    "## Scalar multiplication\n",
    "\n",
    "Let $c$ be a scalar. $$c\\vec v = \\langle c v_1, c v_2, c v_3\\rangle$$"
   ]
  },
  {
   "cell_type": "code",
   "execution_count": 51,
   "metadata": {
    "hide_input": true,
    "scrolled": false,
    "slideshow": {
     "slide_type": "fragment"
    }
   },
   "outputs": [
    {
     "data": {
      "application/vnd.jupyter.widget-view+json": {
       "model_id": "4fbbc6cc64434905a9b180babd9d4b50",
       "version_major": 2,
       "version_minor": 0
      },
      "text/plain": [
       "interactive(children=(FloatSlider(value=1.0, description='s', max=3.0, min=-1.0), Output()), _dom_classes=('wi…"
      ]
     },
     "metadata": {},
     "output_type": "display_data"
    }
   ],
   "source": [
    "@interact\n",
    "def _(s=(-1,3.)):\n",
    "    plt.xlim([-6,6])\n",
    "    plt.ylim([-6,6])\n",
    "    plt.grid(True)\n",
    "    plt.arrow(0,0,3,1,color='b',head_width=.2,length_includes_head=True)\n",
    "    plt.arrow(0,0,s*3,s,color=\"gray\",alpha=.6,head_width=.2,length_includes_head=True)"
   ]
  },
  {
   "cell_type": "markdown",
   "metadata": {
    "slideshow": {
     "slide_type": "fragment"
    }
   },
   "source": [
    "#### Short exercise \n",
    "\n",
    "Complete the identity $$|c\\vec v| = $$"
   ]
  },
  {
   "cell_type": "markdown",
   "metadata": {
    "slideshow": {
     "slide_type": "subslide"
    }
   },
   "source": [
    "## Vector addition\n",
    "\n",
    "Let $\\vec w = \\langle w_1,w_2,w_3 \\rangle$. $$\\vec v + \\vec w = \\langle v_1 +w_1, v_2+w_2, v_3+w_3 \\rangle$$"
   ]
  },
  {
   "cell_type": "code",
   "execution_count": 50,
   "metadata": {
    "hide_input": false,
    "scrolled": false,
    "slideshow": {
     "slide_type": "fragment"
    }
   },
   "outputs": [
    {
     "data": {
      "application/vnd.jupyter.widget-view+json": {
       "model_id": "",
       "version_major": 2,
       "version_minor": 0
      },
      "text/plain": [
       "interactive(children=(FloatSlider(value=0.0, description='w1', max=2.0, min=-2.0), FloatSlider(value=0.0, desc…"
      ]
     },
     "metadata": {},
     "output_type": "display_data"
    }
   ],
   "source": [
    "@interact\n",
    "def _(w1=(-2,2.),w2=(-2,2.)):\n",
    "    v = np.array((3,1))\n",
    "    w = np.array((w1,w2))\n",
    "    plt.xlim([-5,5])\n",
    "    plt.ylim([-5,5])\n",
    "    plt.grid(True)\n",
    "    plt.arrow(0,0,3,1,color='b',head_width=.2,length_includes_head=True)\n",
    "    plt.arrow(0,0,w[0],w[1],color=\"r\",alpha=1,head_width=.2,length_includes_head=True)\n",
    "    plt.arrow(v[0],v[1],(w)[0],(w)[1],color=\"gray\",alpha=.6,head_width=.2,length_includes_head=True)\n",
    "    plt.arrow(w[0],w[1],(v)[0],(v)[1],color=\"gray\",alpha=.6,head_width=.2,length_includes_head=True)\n",
    "    plt.arrow(0,0,(v+w)[0],(v+w)[1],color=\"purple\",alpha=1,head_width=.2,length_includes_head=True)"
   ]
  },
  {
   "cell_type": "markdown",
   "metadata": {
    "slideshow": {
     "slide_type": "slide"
    }
   },
   "source": [
    "# Linear combinations\n",
    "\n",
    "A **linear combination** of vectors $\\vec v$ and $\\vec w$ is a vector $$a\\vec v + b \\vec w$$where $a$ and $b$ are arbitrary scalars. "
   ]
  },
  {
   "cell_type": "markdown",
   "metadata": {
    "slideshow": {
     "slide_type": "fragment"
    }
   },
   "source": [
    "#### Example - important\n",
    "\n",
    "$$\\vec v - \\vec w = \\vec v + (-1) \\vec w$$ is the **difference** between two vectors.\n",
    "\n",
    "Plot the vectors $\\vec v = \\langle 3,1 \\rangle$, $\\vec w = \\langle -2,2\\rangle$, and the difference $\\vec v - \\vec w$."
   ]
  },
  {
   "cell_type": "code",
   "execution_count": 49,
   "metadata": {
    "hide_input": true,
    "slideshow": {
     "slide_type": "fragment"
    }
   },
   "outputs": [
    {
     "data": {
      "image/png": "[encoded data removed]",
      "text/plain": [
       "<Figure size 432x432 with 1 Axes>"
      ]
     },
     "metadata": {
      "needs_background": "light"
     },
     "output_type": "display_data"
    }
   ],
   "source": [
    "v = np.array([3,1])\n",
    "w = np.array([-2,2])\n",
    "plt.xlim([-5,5])\n",
    "plt.ylim([-5,5])\n",
    "plot_vector(v,color='b')\n",
    "plot_vector(w,color='r')\n",
    "plt.grid(True)"
   ]
  },
  {
   "cell_type": "markdown",
   "metadata": {
    "slideshow": {
     "slide_type": "subslide"
    }
   },
   "source": [
    "#### Exercise\n",
    " \n",
    "  1. Plot the the following linear combinations of the vectors $\\vec v = \\langle 3,1 \\rangle$ and $\\vec w = \\langle -2,2\\rangle$:\n",
    "      \n",
    "    1. $\\vec v+\\vec w$\n",
    "    2. $\\frac{\\vec v + \\vec w}{2}$\n",
    "    3. $2\\vec w - \\vec v$"
   ]
  },
  {
   "cell_type": "code",
   "execution_count": 49,
   "metadata": {
    "hide_input": false,
    "slideshow": {
     "slide_type": "fragment"
    }
   },
   "outputs": [
    {
     "data": {
      "image/png": "[encoded data removed]",
      "text/plain": [
       "<Figure size 432x432 with 1 Axes>"
      ]
     },
     "metadata": {
      "needs_background": "light"
     },
     "output_type": "display_data"
    }
   ],
   "source": [
    "v = np.array([3,1])\n",
    "w = np.array([-2,2])\n",
    "plt.xlim([-5,5])\n",
    "plt.ylim([-5,5])\n",
    "plot_vector(v,color='b')\n",
    "plot_vector(w,color='r')\n",
    "plt.grid(True)"
   ]
  },
  {
   "cell_type": "markdown",
   "metadata": {
    "slideshow": {
     "slide_type": "subslide"
    }
   },
   "source": [
    "  2. (extra) What linear combination is this? $$ .15 \\vec h + .2\\vec q + .35 \\vec m + .3 \\vec f$$\n",
    "  "
   ]
  },
  {
   "cell_type": "markdown",
   "metadata": {
    "slideshow": {
     "slide_type": "slide"
    }
   },
   "source": [
    "# Dot product\n",
    "\n",
    "We do not simply _multiply_ vectors, per se, but there are special products we take. \n",
    "\n",
    "The **dot product** (or scalar product or inner product) between two vectors $\\vec v = \\langle v_1, \\dots,v_n\\rangle$ and $\\vec w = \\langle w_1, \\dots,w_n\\rangle$ is given by\n",
    "\n",
    "$$\\vec v\\cdot \\vec w = \\sum_{i=1}^n v_i w_i $$"
   ]
  },
  {
   "cell_type": "code",
   "execution_count": 56,
   "metadata": {
    "hide_input": true,
    "scrolled": false,
    "slideshow": {
     "slide_type": "fragment"
    }
   },
   "outputs": [
    {
     "data": {
      "application/vnd.jupyter.widget-view+json": {
       "model_id": "",
       "version_major": 2,
       "version_minor": 0
      },
      "text/plain": [
       "interactive(children=(FloatSlider(value=0.0, description='w1', max=2.0, min=-2.0, step=0.5), FloatSlider(value…"
      ]
     },
     "metadata": {},
     "output_type": "display_data"
    }
   ],
   "source": [
    "@interact\n",
    "def _(w1=(-2,2.,.5),w2=(-2,2.,.5)):\n",
    "    v = np.array((3,1))\n",
    "    w = np.array((w1,w2))\n",
    "    plt.xlim([-5,5])\n",
    "    plt.ylim([-5,5])\n",
    "    plt.grid(True)\n",
    "    plt.arrow(0,0,3,1,color='b',head_width=.2,length_includes_head=True)\n",
    "    plt.arrow(0,0,w[0],w[1],color=\"r\",alpha=1,head_width=.2,length_includes_head=True)\n",
    "#     plt.arrow(v[0],v[1],(w)[0],(w)[1],color=\"gray\",alpha=.6,head_width=.2,length_includes_head=True)\n",
    "#     plt.arrow(w[0],w[1],(v)[0],(v)[1],color=\"gray\",alpha=.6,head_width=.2,length_includes_head=True)\n",
    "#     plt.arrow(0,0,(v+w)[0],(v+w)[1],color=\"purple\",alpha=1,head_width=.2,length_includes_head=True)\n",
    "    plt.title(f\"$\\\\vec v \\\\cdot \\\\vec w = {np.dot(v,w)}$\")"
   ]
  },
  {
   "cell_type": "markdown",
   "metadata": {
    "slideshow": {
     "slide_type": "slide"
    }
   },
   "source": [
    "# Properties of the dot product\n",
    "\n",
    "The dot product is:"
   ]
  },
  {
   "cell_type": "markdown",
   "metadata": {
    "slideshow": {
     "slide_type": "fragment"
    }
   },
   "source": [
    "  - commutative $$\\vec v \\cdot \\vec w = \\vec w \\cdot \\vec v$$"
   ]
  },
  {
   "cell_type": "markdown",
   "metadata": {
    "slideshow": {
     "slide_type": "fragment"
    }
   },
   "source": [
    "  - bilinear $$(c\\vec v + d\\vec w )\\cdot \\vec u = c(\\vec v\\cdot \\vec u) + d(\\vec w\\cdot \\vec u)$$"
   ]
  },
  {
   "cell_type": "markdown",
   "metadata": {
    "hide_input": false,
    "slideshow": {
     "slide_type": "fragment"
    }
   },
   "source": [
    "It can be used to define the magnitude. $$|\\vec v|^2 = \\vec v \\cdot \\vec v$$"
   ]
  },
  {
   "cell_type": "markdown",
   "metadata": {
    "slideshow": {
     "slide_type": "fragment"
    }
   },
   "source": [
    "There is a special vector $\\vec 0 = \\langle 0,0,\\dots,0\\rangle$, and for all $\\vec v$, $$\\vec v\\cdot \\vec 0 = 0$$"
   ]
  },
  {
   "cell_type": "markdown",
   "metadata": {
    "slideshow": {
     "slide_type": "subslide"
    }
   },
   "source": [
    "# The Most Important Property\n",
    "\n",
    "Observe what happens with the angles. "
   ]
  },
  {
   "cell_type": "code",
   "execution_count": 63,
   "metadata": {
    "hide_input": true,
    "scrolled": false,
    "slideshow": {
     "slide_type": "fragment"
    }
   },
   "outputs": [
    {
     "data": {
      "application/vnd.jupyter.widget-view+json": {
       "model_id": "ee78270c50ff47698e823c54edd0814b",
       "version_major": 2,
       "version_minor": 0
      },
      "text/plain": [
       "interactive(children=(FloatSlider(value=0.0, description='w1', max=2.0, min=-2.0, step=0.5), FloatSlider(value…"
      ]
     },
     "metadata": {},
     "output_type": "display_data"
    }
   ],
   "source": [
    "@interact\n",
    "def _(w1=(-2,2.,.5),w2=(-2,2.,.5),th=(-np.pi,np.pi)):\n",
    "    A = np.array([[np.cos(th),-np.sin(th)],[np.sin(th),np.cos(th)]])\n",
    "    v = A.dot(np.array((3,1)))\n",
    "    w = A.dot(np.array((w1,w2)))\n",
    "#     print(A*v)\n",
    "    plt.xlim([-5,5])\n",
    "    plt.ylim([-5,5])\n",
    "    plt.grid(True)\n",
    "    plt.arrow(0,0,v[0],v[1],color='b',head_width=.2,length_includes_head=True)\n",
    "    plt.arrow(0,0,w[0],w[1],color=\"r\",alpha=1,head_width=.2,length_includes_head=True)\n",
    "#     plt.arrow(v[0],v[1],(w)[0],(w)[1],color=\"gray\",alpha=.6,head_width=.2,length_includes_head=True)\n",
    "#     plt.arrow(w[0],w[1],(v)[0],(v)[1],color=\"gray\",alpha=.6,head_width=.2,length_includes_head=True)\n",
    "#     plt.arrow(0,0,(v+w)[0],(v+w)[1],color=\"purple\",alpha=1,head_width=.2,length_includes_head=True)\n",
    "    plt.title(f\"$\\\\vec v \\\\cdot \\\\vec w = {np.dot(v,w)}$\")"
   ]
  },
  {
   "cell_type": "markdown",
   "metadata": {
    "slideshow": {
     "slide_type": "fragment"
    }
   },
   "source": [
    "$$ \\vec v \\cdot \\vec w = |\\vec v ||\\vec w| \\cos \\theta$$ where $\\theta$ is the angle between them."
   ]
  },
  {
   "cell_type": "markdown",
   "metadata": {
    "slideshow": {
     "slide_type": "slide"
    }
   },
   "source": [
    "### Exercise\n",
    "\n",
    "Show that for all vectors $\\vec v$ and $\\vec w$,\n",
    "\n",
    "$$\\vec v \\cdot \\vec w \\leq \\frac{|\\vec v|^2 + |\\vec w|^2}{2}.$$"
   ]
  },
  {
   "cell_type": "code",
   "execution_count": null,
   "metadata": {},
   "outputs": [],
   "source": []
  }
 ],
 "metadata": {
  "celltoolbar": "Slideshow",
  "kernelspec": {
   "display_name": "Python 3",
   "language": "python",
   "name": "python3"
  },
  "language_info": {
   "codemirror_mode": {
    "name": "ipython",
    "version": 3
   },
   "file_extension": ".py",
   "mimetype": "text/x-python",
   "name": "python",
   "nbconvert_exporter": "python",
   "pygments_lexer": "ipython3",
   "version": "3.7.6"
  },
  "rise": {
   "scroll": true,
   "theme": "sky",
   "transition": "concave"
  }
 },
 "nbformat": 4,
 "nbformat_minor": 2
}
