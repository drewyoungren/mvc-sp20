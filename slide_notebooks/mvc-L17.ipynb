{
 "cells": [
  {
   "cell_type": "code",
   "execution_count": 2,
   "metadata": {
    "slideshow": {
     "slide_type": "skip"
    }
   },
   "outputs": [],
   "source": [
    "import numpy as np\n",
    "import matplotlib.pyplot as plt\n",
    "from IPython.display import display, HTML, IFrame\n",
    "from ipywidgets import interact,fixed\n",
    "import pandas as pd\n",
    "from mpl_toolkits import mplot3d\n",
    "from mpl_toolkits.mplot3d import axes3d\n",
    "from matplotlib.patches import FancyArrowPatch,Rectangle\n",
    "from mpl_toolkits.mplot3d.art3d import Poly3DCollection\n",
    "from mpl_toolkits.mplot3d import proj3d\n",
    "\n",
    "plt.rcParams[\"figure.figsize\"] = [10, 10]\n",
    "\n",
    "from numpy.linalg import norm\n",
    "from numpy import cos,sin,tan,arctan,exp,log,pi,sqrt\n",
    "\n",
    "from scipy.integrate import quad,dblquad"
   ]
  },
  {
   "cell_type": "markdown",
   "metadata": {
    "slideshow": {
     "slide_type": "notes"
    }
   },
   "source": [
    "$\\newcommand{\\RR}{\\mathbb{R}}$\n",
    "$\\newcommand{\\bv}[1]{\\begin{bmatrix} #1 \\end{bmatrix}}$\n",
    "$\\renewcommand{\\vec}{\\mathbf}$\n"
   ]
  },
  {
   "cell_type": "markdown",
   "metadata": {
    "hide_input": true,
    "slideshow": {
     "slide_type": "slide"
    }
   },
   "source": [
    "## Announcements\n",
    "\n",
    "  - Quiz 7 this week. \n",
    "    - (Rectangular) triple integrals\n",
    "    - Center of mass/moments of inertia.\n",
    "  - Homework 10 due Tuesday.\n",
    "  - Exam 2 04/09\n",
    "    - Through HW10\n",
    "    - Practice materials in the \"review_materials\" folder on Canvas.\n",
    "    - [Screencast with old exam here](https://youtu.be/d2n3ytcJ5j4).\n",
    "    \n",
    "    "
   ]
  },
  {
   "cell_type": "markdown",
   "metadata": {
    "slideshow": {
     "slide_type": "slide"
    }
   },
   "source": [
    "# One-minute Review\n",
    "\n",
    "Fubini's Theorem applies directly to triple integrals.\n",
    "\n",
    "$$\\iiint_E f(x,y,z)\\,dV = \\int_a^b \\int_{g(x)}^{h(x)} \\int_{j(x,y)}^{k(x,y)} f(x,y,z)\\,dz\\,dy\\,dx $$\n",
    "\n",
    "In setting up such an integral, look for one coordinate whose upper- and lower-bounds are easily expressed as functions of the other two variables. Make this the \"inside\" variable. This reduces the problem to a 2-D case (easier said than done).\n",
    "  "
   ]
  },
  {
   "cell_type": "markdown",
   "metadata": {
    "slideshow": {
     "slide_type": "slide"
    }
   },
   "source": [
    "# Lecture 17\n",
    "\n",
    "  - Objectives\n",
    "    - Triple Integration\n",
    "      - Integrals in Spherical and Cylindrical Coords\n",
    "      - Integration Review\n",
    "    - Midterm 2 review.\n",
    "  - Resources\n",
    "    - Content\n",
    "      - Stewart: §15.5–7\n",
    "      - New Strang:  \n",
    "        - [§5.4](https://openstax.org/books/calculus-volume-3/pages/5-4-triple-integrals) Some good practice on changing order of integration here, Particularly, nos. 203–206, 211, 212, 215–220, 235, 240, though some answers may have errors.\n",
    "        - [§5.5](https://openstax.org/books/calculus-volume-3/pages/5-5-triple-integrals-in-cylindrical-and-spherical-coordinates)\n",
    "      - [Slides](https://hub.columbiajupyter2.org/hub/user-redirect/git-pull?repo=https%3A%2F%2Fgithub.com%2Fdrewyoungren%2Fmvc-f19&urlpath=tree%2Fmvc-f19%2Fslides%2Fmvc-L17.ipynb) via JupyterHub\n",
    "    - Practice\n",
    "      - Mooculus: [Cylindrical Coordinates](https://ximera.osu.edu/mooculus/calculus3/commonCoordinates/digInCylindricalCoordinates) [Spherical](https://ximera.osu.edu/mooculus/calculus3/computationsAndInterpretations/digInMassMomentsAndCenterOfMass)\n",
    "    - Extras\n",
    "      - CalcBLUE: [Cylindrical Coordinates](https://www.youtube.com/watch?v=YIi7muLgI9U&list=PL8erL0pXF3JaJdUcmc_PeGV-vG5z87BkD&index=90) [Spherical Coordinates](https://www.youtube.com/watch?v=Zc8uCT-e5KI&list=PL8erL0pXF3JaJdUcmc_PeGV-vG5z87BkD&index=98) "
   ]
  },
  {
   "cell_type": "markdown",
   "metadata": {
    "slideshow": {
     "slide_type": "slide"
    }
   },
   "source": [
    "# Volumes\n",
    "\n",
    "When integrating, we divide space up by taking small intervals in each coordinate. Let's look at the volumes $\\Delta V$ of such subdivisions."
   ]
  },
  {
   "cell_type": "code",
   "execution_count": 1,
   "metadata": {
    "hide_input": true,
    "scrolled": false,
    "slideshow": {
     "slide_type": "fragment"
    }
   },
   "outputs": [
    {
     "ename": "NameError",
     "evalue": "name 'interact' is not defined",
     "output_type": "error",
     "traceback": [
      "\u001b[0;31m---------------------------------------------------------------------------\u001b[0m",
      "\u001b[0;31mNameError\u001b[0m                                 Traceback (most recent call last)",
      "\u001b[0;32m<ipython-input-1-0c8de251fd97>\u001b[0m in \u001b[0;36m<module>\u001b[0;34m\u001b[0m\n\u001b[0;32m----> 1\u001b[0;31m \u001b[0;34m@\u001b[0m\u001b[0minteract\u001b[0m\u001b[0;34m(\u001b[0m\u001b[0mangle\u001b[0m\u001b[0;34m=\u001b[0m\u001b[0;34m(\u001b[0m\u001b[0;34m-\u001b[0m\u001b[0;36m108\u001b[0m\u001b[0;34m,\u001b[0m\u001b[0;36m66\u001b[0m\u001b[0;34m,\u001b[0m\u001b[0;36m6\u001b[0m\u001b[0;34m)\u001b[0m\u001b[0;34m,\u001b[0m\u001b[0mmov\u001b[0m\u001b[0;34m=\u001b[0m\u001b[0;34m(\u001b[0m\u001b[0;36m.1\u001b[0m\u001b[0;34m,\u001b[0m\u001b[0;36m1\u001b[0m\u001b[0;34m,\u001b[0m\u001b[0;36m.05\u001b[0m\u001b[0;34m)\u001b[0m\u001b[0;34m)\u001b[0m\u001b[0;34m\u001b[0m\u001b[0;34m\u001b[0m\u001b[0m\n\u001b[0m\u001b[1;32m      2\u001b[0m \u001b[0;32mdef\u001b[0m \u001b[0m_\u001b[0m\u001b[0;34m(\u001b[0m\u001b[0mangle\u001b[0m\u001b[0;34m=\u001b[0m\u001b[0;34m-\u001b[0m\u001b[0;36m24\u001b[0m\u001b[0;34m,\u001b[0m\u001b[0mvangle\u001b[0m\u001b[0;34m=\u001b[0m\u001b[0;34m(\u001b[0m\u001b[0;36m0\u001b[0m\u001b[0;34m,\u001b[0m\u001b[0;36m90\u001b[0m\u001b[0;34m,\u001b[0m\u001b[0;36m6\u001b[0m\u001b[0;34m)\u001b[0m\u001b[0;34m,\u001b[0m\u001b[0mcoords\u001b[0m\u001b[0;34m=\u001b[0m\u001b[0;34m[\u001b[0m\u001b[0;34m'rectangular'\u001b[0m\u001b[0;34m,\u001b[0m\u001b[0;34m'cylindrical'\u001b[0m\u001b[0;34m,\u001b[0m\u001b[0;34m'spherical'\u001b[0m\u001b[0;34m]\u001b[0m\u001b[0;34m,\u001b[0m\u001b[0mmov\u001b[0m\u001b[0;34m=\u001b[0m\u001b[0;36m1\u001b[0m\u001b[0;34m)\u001b[0m\u001b[0;34m:\u001b[0m\u001b[0;34m\u001b[0m\u001b[0;34m\u001b[0m\u001b[0m\n\u001b[1;32m      3\u001b[0m \u001b[0;31m#     a,b,c = (.5,.6,.8)\u001b[0m\u001b[0;34m\u001b[0m\u001b[0;34m\u001b[0m\u001b[0;34m\u001b[0m\u001b[0m\n\u001b[1;32m      4\u001b[0m \u001b[0;31m#     r = sqrt(a**2 + b**2)\u001b[0m\u001b[0;34m\u001b[0m\u001b[0;34m\u001b[0m\u001b[0;34m\u001b[0m\u001b[0m\n\u001b[1;32m      5\u001b[0m \u001b[0;31m#     th = np.arctan(b/a)\u001b[0m\u001b[0;34m\u001b[0m\u001b[0;34m\u001b[0m\u001b[0;34m\u001b[0m\u001b[0m\n",
      "\u001b[0;31mNameError\u001b[0m: name 'interact' is not defined"
     ]
    }
   ],
   "source": [
    "@interact(angle=(-108,66,6),mov=(.1,1,.05))\n",
    "def _(angle=-24,vangle=(0,90,6),coords=['rectangular','cylindrical','spherical'],mov=1):\n",
    "#     a,b,c = (.5,.6,.8)\n",
    "#     r = sqrt(a**2 + b**2)\n",
    "#     th = np.arctan(b/a)\n",
    "#     rho = sqrt(a**2 + b**2 + c**2)\n",
    "#     phi = np.arctan(r/c)\n",
    "    fig = plt.figure(figsize=(10,10))\n",
    "    ax= fig.add_subplot(111,projection='3d')\n",
    "    u = np.linspace(0,1,81)\n",
    "    v = np.linspace(0,1,81)\n",
    "    U,V = np.meshgrid(u,v)\n",
    "    X = U\n",
    "    Y = V\n",
    "    Z = np.ones_like(U)\n",
    "    if coords=='rectangular':\n",
    "        ax.plot_wireframe(U,V,0*Z+mov,rcount=11,ccount=11,color='gray',alpha=.7)\n",
    "        ax.plot_wireframe(U,V,0*Z+mov-.1,rcount=11,ccount=11,color='gray',alpha=.7)\n",
    "        for i in np.arange(0,1.1,.1):\n",
    "            for j in np.arange(0,1.1,.1):\n",
    "                ax.plot([i,i],[j,j],[mov-.1,mov],color='gray',alpha=.7)\n",
    "    elif coords=='cylindrical':\n",
    "        ax.plot_wireframe(mov*cos(pi/2*V),mov*sin(pi/2*V),U,rcount=11,ccount=11,color='gray',alpha=.7)\n",
    "        ax.plot_wireframe((mov-.1)*cos(pi/2*V),(mov-.1)*sin(pi/2*V),U,rcount=11,ccount=11,color='gray',alpha=.7)\n",
    "        for i in np.arange(0,1.1,.1):\n",
    "            for j in np.arange(0,1.1,.1):\n",
    "                ax.plot([(mov-.1)*cos(pi/2*i),(mov)*cos(pi/2*i)],[(mov-.1)*sin(pi/2*i),mov*sin(pi/2*i)],[j,j],color='gray',alpha=.7)\n",
    "\n",
    "    elif coords=='spherical':\n",
    "        ax.plot_wireframe(mov*sin(pi/2*U)*cos(pi/2*V),mov*sin(pi/2*U)*sin(pi/2*V),mov*cos(pi/2*U),rcount=11,ccount=11,color='gray',alpha=.7)\n",
    "        ax.plot_wireframe((mov-.1)*sin(pi/2*U)*cos(pi/2*V),(mov-.1)*sin(pi/2*U)*sin(pi/2*V),(mov-.1)*cos(pi/2*U),rcount=11,ccount=11,color='gray',alpha=.7)\n",
    "        for i in np.arange(0,1.1,.1):\n",
    "            for j in np.arange(0,1.1,.1):\n",
    "                ax.plot([(mov-.1)*sin(pi/2*j)*cos(pi/2*i),(mov)*sin(pi/2*j)*cos(pi/2*i)],[(mov-.1)*sin(pi/2*j)*sin(pi/2*i),(mov)*sin(pi/2*j)*sin(pi/2*i)],[(mov-.1)*cos(pi/2*j),(mov)*cos(pi/2*j)],color='gray',alpha=.7)\n",
    "\n",
    "\n",
    "    ax.view_init(vangle,angle)\n",
    "    \n",
    "    for c in 'xyz':\n",
    "        getattr(ax,f\"set_{c}lim\")([0,1]);    \n",
    "        getattr(ax,f\"set_{c}label\")(f\"${c}$\",size=16)\n",
    "    "
   ]
  },
  {
   "cell_type": "markdown",
   "metadata": {
    "slideshow": {
     "slide_type": "fragment"
    }
   },
   "source": [
    "$$dV=dx\\,dy\\,dz = r\\,dr\\,d\\theta\\,dz = \\rho^2 \\sin \\phi \\,d\\rho\\,d\\theta\\,d\\phi$$"
   ]
  },
  {
   "cell_type": "markdown",
   "metadata": {
    "slideshow": {
     "slide_type": "slide"
    }
   },
   "source": [
    "# Exam 2 Review\n",
    "\n",
    "  - Administered via Gradescope.\n",
    "  - Not cumulative in a direct sense (cumulative as necessary).\n",
    "  - Topics\n",
    "    - Chain Rule\n",
    "    - Gradients\n",
    "      - Definition\n",
    "      - Properties\n",
    "      - Directional Derivative\n",
    "    - Optimization\n",
    "      - Critical Points\n",
    "      - Classifying critical points\n",
    "      - Unconstrained optimization\n",
    "      - Lagrange Multipliers\n",
    "    - Integration\n",
    "      - Riemann sums\n",
    "      - Double integrals\n",
    "      - Fubini's Theorem\n",
    "      - Polar Coordinates\n",
    "      - Applications\n",
    "        - Mass/density\n",
    "        - Center of mass/centroids\n",
    "        - Moments of inertia\n",
    "        - Expected value/probability\n",
    "      - Triple integrals\n",
    "      - Cylindrical coordinates\n",
    "      - Spherical Coordinates"
   ]
  },
  {
   "cell_type": "markdown",
   "metadata": {
    "slideshow": {
     "slide_type": "subslide"
    }
   },
   "source": [
    "### Exercise\n",
    "\n",
    "Let $E$ be the region in $\\RR^3$ defined by\n",
    "\\begin{align*}\n",
    "& 0\\leq x^2+y^2+z^2\\leq 1,\\\\\n",
    "& x\\geq0.\n",
    "\\end{align*}\n",
    "\n",
    "Which of the following integrals must be $0$? (Do **not** compute them. Use other means.)\n",
    "\n",
    "  1. $\\displaystyle\\iiint_E \\sin(x) dV$.\n",
    "  1.  $\\displaystyle\\iiint_E xy^2z^2 dV$. \n",
    "  1.  $\\displaystyle\\iiint_E x^2yz dV$.\n",
    "  1.  $\\displaystyle\\iiint_E \\cos(y) dV$. \n",
    "  1.  None of the above."
   ]
  },
  {
   "cell_type": "markdown",
   "metadata": {
    "slideshow": {
     "slide_type": "subslide"
    }
   },
   "source": [
    "Which region in $\\RR^3$ described below has the smallest volume?\n",
    "\n",
    "\n",
    "  1. All cylindrical coordinates $r,\\theta,z$ are between 0 and 1. \n",
    "  1. All rectangular coordinates $x,y,z$ are between 0 and 1. \n",
    "  1. All spherical coordinates $\\rho,\\theta,\\phi$ are between 0 and 1.\n",
    "  1. All of the above have equal volume. \n",
    "  1. Don't choose this.\n"
   ]
  }
 ],
 "metadata": {
  "celltoolbar": "Slideshow",
  "kernelspec": {
   "display_name": "Python 3",
   "language": "python",
   "name": "python3"
  },
  "language_info": {
   "codemirror_mode": {
    "name": "ipython",
    "version": 3
   },
   "file_extension": ".py",
   "mimetype": "text/x-python",
   "name": "python",
   "nbconvert_exporter": "python",
   "pygments_lexer": "ipython3",
   "version": "3.7.6"
  },
  "rise": {
   "enable_chalkboard": true,
   "scroll": true,
   "theme": "sky",
   "transition": "concave"
  }
 },
 "nbformat": 4,
 "nbformat_minor": 2
}
