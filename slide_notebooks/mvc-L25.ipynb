{
 "cells": [
  {
   "cell_type": "code",
   "execution_count": 4,
   "metadata": {
    "slideshow": {
     "slide_type": "skip"
    }
   },
   "outputs": [],
   "source": [
    "import numpy as np\n",
    "import matplotlib.pyplot as plt\n",
    "from IPython.display import display, HTML, IFrame\n",
    "from ipywidgets import interact,fixed,FloatSlider\n",
    "import pandas as pd\n",
    "from mpl_toolkits import mplot3d\n",
    "from mpl_toolkits.mplot3d import axes3d\n",
    "from matplotlib.patches import FancyArrowPatch,Rectangle,Circle\n",
    "from mpl_toolkits.mplot3d.art3d import Poly3DCollection\n",
    "from mpl_toolkits.mplot3d import proj3d\n",
    "import mpl_toolkits.mplot3d.art3d as art3d\n",
    "\n",
    "\n",
    "plt.rcParams[\"figure.figsize\"] = [10, 10]\n",
    "\n",
    "from numpy.linalg import norm\n",
    "from numpy import cos,sin,tan,arctan,exp,log,pi,sqrt\n",
    "\n",
    "from scipy.integrate import quad,dblquad\n",
    "\n",
    "from matplotlib import cm\n",
    "\n",
    "from matplotlib.animation import FuncAnimation\n",
    "\n",
    "fig = plt.figure()\n",
    "ax = fig.add_subplot(projection='3d')\n",
    "plt.close()"
   ]
  },
  {
   "cell_type": "markdown",
   "metadata": {
    "slideshow": {
     "slide_type": "notes"
    }
   },
   "source": [
    "$\\newcommand{\\RR}{\\mathbb{R}}$\n",
    "$\\newcommand{\\bv}[1]{\\begin{bmatrix} #1 \\end{bmatrix}}$\n",
    "$\\renewcommand{\\vec}{\\mathbf}$\n"
   ]
  },
  {
   "cell_type": "markdown",
   "metadata": {
    "slideshow": {
     "slide_type": "slide"
    }
   },
   "source": [
    "# One-minute Review\n",
    "\n",
    "### Fishing in a river\n",
    "\n",
    "\n",
    "\n",
    "How could we know the two surfaces in the earlier example had the same flux?"
   ]
  },
  {
   "cell_type": "markdown",
   "metadata": {
    "slideshow": {
     "slide_type": "fragment"
    }
   },
   "source": [
    "### Example\n",
    "\n",
    "Consider the constant vector field $\\vec F(x,y,z) = \\vec i$. Consider the surfaces\n",
    "\n",
    "  - $\\Omega_1$: piece of the plane $x=0$ for $(0 \\leq y,z \\leq 1$\n",
    "  - $\\Omega_2$: piece of the surface $x= 3y(1-y)$ for $0 \\leq y,z \\leq 1$\n",
    "\n",
    "oriented in the positive $x$-direction. Through which surface is the flux of $\\vec F$ greater?"
   ]
  },
  {
   "cell_type": "code",
   "execution_count": 5,
   "metadata": {
    "hide_input": true,
    "scrolled": false,
    "slideshow": {
     "slide_type": "fragment"
    }
   },
   "outputs": [
    {
     "data": {
      "application/vnd.jupyter.widget-view+json": {
       "model_id": "4638e1b0419942e3aa6ca5232791ce6f",
       "version_major": 2,
       "version_minor": 0
      },
      "text/plain": [
       "interactive(children=(IntSlider(value=-48, description='angle', max=6, min=-96, step=6), Checkbox(value=False,…"
      ]
     },
     "metadata": {},
     "output_type": "display_data"
    }
   ],
   "source": [
    "@interact\n",
    "def _(angle = (-96,6,6),caps=False):\n",
    "    fig = plt.figure(figsize=(8,8))\n",
    "    ax = fig.gca(projection='3d')\n",
    "    u = np.linspace(0,1,20)\n",
    "    v = np.linspace(0,1,10)\n",
    "    U,V = np.meshgrid(u,v)\n",
    "    ax.plot_surface(0*U*(1-U),U,V,alpha=.5)\n",
    "    ax.plot_wireframe(0*U*(1-U),U,V,alpha=1,color='k',rcount=10,ccount=10)\n",
    "    ax.plot_surface(3*U*(1-U),U,V,alpha=.5)\n",
    "    ax.plot_wireframe(3*U*(1-U),U,V,alpha=1,color='k',rcount=10,ccount=10)\n",
    "    if caps:\n",
    "        ax.plot_surface(3*V*U*(1-U),U,np.ones_like(V),alpha=.5)\n",
    "        ax.plot_wireframe(3*V*U*(1-U),U,np.ones_like(V),alpha=1,color='k',rcount=10,ccount=10)\n",
    "        ax.plot_surface(3*V*U*(1-U),U,np.zeros_like(V),alpha=.5)\n",
    "        ax.plot_wireframe(3*V*U*(1-U),U,np.zeros_like(V),alpha=1,color='k',rcount=10,ccount=10)\n",
    "    ax.view_init(30,angle)\n",
    "    u = v = np.linspace(0,1,7)\n",
    "    # v = np.linspace(0,2*pi,10)\n",
    "    U,V,W = np.meshgrid(u,v,u)\n",
    "    ax.quiver(U,V,W,np.ones_like(U),0*U,0*U,length=.2);\n"
   ]
  },
  {
   "cell_type": "markdown",
   "metadata": {
    "slideshow": {
     "slide_type": "fragment"
    }
   },
   "source": [
    "Let $\\Omega_1$ and $\\Omega_2$ be as before (with a negative sign indicating an opposite orientation) and $T_1$ and $T_0$ be the enclosing, upward-oriented \"caps\" to the solid at $z=1$ and $z=0$, respectively. \n",
    "\n",
    "$$ \\iint_{\\Omega_2} \\vec F\\cdot d\\vec S + \\iint_{-\\Omega_1} \\vec F\\cdot d\\vec S + \\iint_{T_1} \\vec F\\cdot d\\vec S + \\iint_{-T_0} \\vec F\\cdot d\\vec S = \\iiint_E \\nabla\\cdot \\vec F\\,dV $$ "
   ]
  },
  {
   "cell_type": "markdown",
   "metadata": {
    "slideshow": {
     "slide_type": "fragment"
    }
   },
   "source": [
    "$$ \\iint_{\\Omega_2} \\vec F\\cdot d\\vec S - \\iint_{\\Omega_1} \\vec F\\cdot d\\vec S = 0 $$ "
   ]
  },
  {
   "cell_type": "markdown",
   "metadata": {
    "slideshow": {
     "slide_type": "slide"
    }
   },
   "source": [
    "# Lecture 25\n",
    "\n",
    "  - Objectives\n",
    "    - Curl\n",
    "      - compute the curl of a vector field\n",
    "      - interpret direction and magtitude of curl vector\n",
    "      - relate to grad and div\n",
    "    - Stokes' Theorem\n",
    "      - orient a surface and its boundary\n",
    "      - recognize when it applies\n",
    "      - relate to divergence theorem\n",
    "  - Resources\n",
    "    - Content\n",
    "      - Stewart: §16.6-9\n",
    "      - New Strang:  \n",
    "        - [§6.7](https://openstax.org/books/calculus-volume-3/pages/6-7-stokes-theorem)\n",
    "      - [Slides](https://hub.columbiajupyter2.org/hub/user-redirect/git-pull?repo=https%3A%2F%2Fgithub.com%2Fdrewyoungren%2Fmvc-f19&urlpath=tree%2Fmvc-f19%2Fslides%2Fmvc-L24.ipynb) via JupyterHub\n",
    "      - [CalcPlot3D](https://www.monroecc.edu/faculty/paulseeburger/calcnsf/CalcPlot3D/)\n",
    "      - Mooculus: [Surface Integrals](https://ximera.osu.edu/mooculus/calculus3/shapeOfThingsToCome/digInSurfaceIntegrals) [Stokes' Theorem](https://ximera.osu.edu/mooculus/calculus3/shapeOfThingsToCome/digInStokesTheorem)\n",
    "    - Extras \n",
    "      - CalcBLUE: [Stokes' Theorem](https://www.youtube.com/watch?v=ypFo3YPtWBg&list=PL8erL0pXF3JYCn8Xukv0DqVIXtXJbOqdo&index=77) *Use with caution. This is a different and more general formulation of surface integrals. "
   ]
  },
  {
   "cell_type": "markdown",
   "metadata": {
    "slideshow": {
     "slide_type": "slide"
    }
   },
   "source": [
    "## Div, curl, etc.\n",
    "\n",
    "Recall out notation $$\\nabla = \\frac{\\partial}{\\partial x} \\,\\vec i + \\frac{\\partial}{\\partial y} \\,\\vec j + \\frac{\\partial}{\\partial z} \\,\\vec k $$\n",
    "\n",
    "Applying vector operations to thids \"vector\" yields different kinds of derivatives:\n",
    "\n",
    "\n",
    "| name |&nbsp; form| in | out |\n",
    "|---|---|---|---|\n",
    "|derivative | &nbsp; $$\\frac{d}{dx} f(x)$$ | scalar | scalar | \n",
    "|partial | $\\frac{\\partial}{\\partial x}f(x,y)$ | scalar | scalar | \n",
    "| grad | $\\nabla f(x,y)$ | scalar | vector |\n",
    "| div | $\\nabla \\cdot \\vec F(x,y,z)$ | vector | scalar |\n",
    "| curl | $\\nabla \\times \\vec F(x,y,z)$ | vector | vector |"
   ]
  },
  {
   "cell_type": "markdown",
   "metadata": {
    "slideshow": {
     "slide_type": "slide"
    }
   },
   "source": [
    "# Curl\n",
    "\n",
    "The curl of a vector field $$ \\vec F(x,y,z) = P(x,y,z) \\,\\vec i + Q(x,y,z) \\,\\vec j + R(x,y,z) \\,\\vec k $$ is another vector field given by \n",
    "\n",
    "$$\\operatorname{curl}\\vec F = \\nabla \\times \\vec F = \\begin{vmatrix}\n",
    "\\vec i & \\vec j & \\vec k \\\\ \\partial_x & \\partial_y & \\partial_z \\\\ P & Q & R \\\\ \\end{vmatrix} $$ "
   ]
  },
  {
   "cell_type": "markdown",
   "metadata": {
    "slideshow": {
     "slide_type": "fragment"
    }
   },
   "source": [
    "$$ = (R_y - Q_z) \\,\\vec i + (P_z - R_x) \\,\\vec j + (Q_x - P_y) \\,\\vec k$$"
   ]
  },
  {
   "cell_type": "markdown",
   "metadata": {
    "slideshow": {
     "slide_type": "fragment"
    }
   },
   "source": [
    "The curl measures the spin or rotation of a vector field. It is a vector with the direction giving the axis of rotation and the magnitude indicating the strength of the rotation (as indicated by the right hand rule).  "
   ]
  },
  {
   "cell_type": "markdown",
   "metadata": {
    "slideshow": {
     "slide_type": "subslide"
    }
   },
   "source": [
    "## Example\n",
    "\n",
    "Compute the curl $\\nabla \\times \\vec F(-1/4,-1/4, -4/5)$ for the vector field \n",
    "$$ \\vec F(x,y,z) = y \\,\\vec i - x  \\,\\vec j + \\frac{x^2}{2} \\,\\vec k $$\n",
    "\n",
    "(*Video takes a while to render*)"
   ]
  },
  {
   "cell_type": "code",
   "execution_count": 7,
   "metadata": {
    "hide_input": true,
    "scrolled": false,
    "slideshow": {
     "slide_type": "subslide"
    }
   },
   "outputs": [
    {
     "data": {
      "application/vnd.jupyter.widget-view+json": {
       "model_id": "d69616b8bc994f2b8b3648ebb9adf5b1",
       "version_major": 2,
       "version_minor": 0
      },
      "text/plain": [
       "interactive(children=(IntSlider(value=24, description='angle', max=96, min=-6, step=6), IntSlider(value=42, de…"
      ]
     },
     "metadata": {},
     "output_type": "display_data"
    }
   ],
   "source": [
    "@interact(angle=(-6,96,6))\n",
    "def _(angle = 24,vangle=(0,90,6)):\n",
    "    fig = plt.figure(figsize=(8,8))\n",
    "    ax = fig.gca(projection='3d')\n",
    "    ax.view_init(vangle,angle)\n",
    "    u = v = np.linspace(-2,2,12)\n",
    "    U,V,W = np.meshgrid(u,v,u)\n",
    "    ax.quiver(U,V,W,V,-U,U**2/2,length=.2,color='r',lw=.3);\n",
    "    u = v = np.linspace(-2,2,5)\n",
    "    U,V,W = np.meshgrid(np.linspace(-2,2,3),np.linspace(-2,2,3),np.linspace(-2,2,3))\n",
    "    ax.quiver(U,V,W,0*U,-U,-2-0*U,length=.4,color='b',lw=1);\n"
   ]
  },
  {
   "cell_type": "markdown",
   "metadata": {
    "slideshow": {
     "slide_type": "slide"
    }
   },
   "source": [
    "## Playing with $\\nabla$\n",
    "\n",
    "If $f$ and $\\vec F$ are smooth scalar and vector fields, respectively, which of the following is meaningful?\n",
    "\n",
    "  - $f(\\nabla f)$\n",
    "  - $\\vec F \\cdot \\nabla f$\n",
    "  - $\\nabla\\cdot \\nabla f$\n",
    "  - $\\nabla \\times \\nabla \\cdot \\vec F$  \n",
    "  - $\\nabla \\times \\nabla f$\n",
    "  - $\\nabla \\cdot \\nabla \\times \\vec F $\n",
    "  "
   ]
  },
  {
   "cell_type": "markdown",
   "metadata": {
    "slideshow": {
     "slide_type": "slide"
    }
   },
   "source": [
    "<img alt=\"George Stokes\" src=\"http://mathshistory.st-andrews.ac.uk/BigPictures/Stokes_3.jpeg\" style=\"float: right\">\n",
    "\n",
    "# Lecture 25\n",
    "\n",
    "## Stokes' Theorem"
   ]
  },
  {
   "cell_type": "markdown",
   "metadata": {
    "slideshow": {
     "slide_type": "fragment"
    }
   },
   "source": [
    "  \n",
    "  \n",
    "  - Objectives\n",
    "\n",
    "      - orient a surface and its boundary\n",
    "      - see a brief justification\n",
    "      - recognize when it applies\n",
    "      "
   ]
  },
  {
   "cell_type": "markdown",
   "metadata": {
    "slideshow": {
     "slide_type": "subslide"
    }
   },
   "source": [
    "## Stokes' Theorem\n",
    "\n",
    "Let $\\Omega$ be an oriented surface in $\\RR^3$ and $\\partial \\Omega$ its positively-oriented boundary. If $\\vec F(x,y,z)$ is a smooth vector field, then\n",
    "\n",
    "$$ \\iint_{\\Omega} \\nabla \\times\\vec F \\cdot d \\vec S = \\oint_{\\partial \\Omega} \\vec F\\cdot d \\vec r$$"
   ]
  },
  {
   "cell_type": "code",
   "execution_count": 52,
   "metadata": {
    "hide_input": true,
    "slideshow": {
     "slide_type": "fragment"
    }
   },
   "outputs": [
    {
     "data": {
      "application/vnd.jupyter.widget-view+json": {
       "model_id": "2f5f09c4c629431c926239acb5e7566f",
       "version_major": 2,
       "version_minor": 0
      },
      "text/plain": [
       "interactive(children=(FloatSlider(value=0.0, description='zoom', max=1.0, step=0.04), IntSlider(value=42, desc…"
      ]
     },
     "metadata": {},
     "output_type": "display_data"
    }
   ],
   "source": [
    "@interact(zoom=(0,1,.04),vangle=(0,90,6))\n",
    "def _(zoom=0,angle=(-30,120,6),vangle=30,curl=False):\n",
    "    fig = plt.figure(figsize=(11,11))\n",
    "    ax = fig.gca(projection='3d')\n",
    "    u = np.linspace(0,1,55)\n",
    "    v = np.linspace(0,1,55)\n",
    "    U,V = np.meshgrid(u,v)\n",
    "    rd = pi*sqrt(U - U**2) - U*sin(pi*U)**2\n",
    "    p,q,r = U*pi, rd*cos(V*pi),rd*sin(V*pi)\n",
    "    ax.plot_surface(p,q,r,color=(.3,.8,.5,.4*(1-zoom)))\n",
    "#     ax.plot_wireframe(p,q,r,alpha=1,color='k',rcount=6,ccount=6)\n",
    "    ax.plot_wireframe(p,q,r,alpha=1-zoom,color='k',rstride=11,cstride=11)\n",
    "    \n",
    "    u = np.linspace(.2,.4,35)\n",
    "    v = np.linspace(.2,.4,35)\n",
    "    U,V = np.meshgrid(u,v)\n",
    "    rd = pi*sqrt(U - U**2) - U*sin(pi*U)**2\n",
    "    p,q,r = U*pi, rd*cos(V*pi),rd*sin(V*pi)\n",
    "    ax.plot_surface(p,q,r,color=(.3,.2,.8,zoom*.5))\n",
    "    ax.plot_wireframe(p,q,r,alpha=zoom,color='k',rcount=3,ccount=3)\n",
    "\n",
    "    u = np.linspace(.01,.95,13)\n",
    "    v = np.linspace(.0,1,13)\n",
    "    U,V = np.meshgrid(u,v)\n",
    "    rd = pi*sqrt(U - U**2) - U*sin(pi*U)**2\n",
    "    p,q,r = U*pi, rd*cos(V*pi),rd*sin(V*pi)\n",
    "    ax.quiver(p,q,r,-q,p*q,p,color=(0,0,.5,.4*(1-zoom)),length=.2)\n",
    "    if curl:\n",
    "        ax.quiver(p,q,r,np.zeros_like(p),-np.ones_like(p),q + 1,color=(1,0,0,.8*(1-zoom)),length=.2)\n",
    "\n",
    "\n",
    "    u = np.linspace(.2,.4,4)\n",
    "    v = np.linspace(.2,.4,4)\n",
    "    U,V = np.meshgrid(u,v)\n",
    "    rd = pi*sqrt(U - U**2) - U*sin(pi*U)**2\n",
    "    p,q,r = U*pi, rd*cos(V*pi),rd*sin(V*pi)\n",
    "    ax.quiver(p,q,r,-q,p*q,p,color=(0,0,.5,.8*(zoom)),length=.2)\n",
    "\n",
    "    u = np.linspace(.2+.2/6,.4-.2/6,3)\n",
    "    v = np.linspace(.2+.2/6,.4-.2/6,3)\n",
    "    U,V = np.meshgrid(u,v)\n",
    "    rd = pi*sqrt(U - U**2) - U*sin(pi*U)**2\n",
    "    p,q,r = U*pi, rd*cos(V*pi),rd*sin(V*pi)    \n",
    "    ax.quiver(p,q,r,np.zeros_like(p),-np.ones_like(p),q + 1,color=(1,0,0,.8*(zoom)),length=.2)\n",
    "\n",
    "\n",
    "    ax.view_init(vangle,angle)\n",
    "#     u = v = np.linspace(0,1,7)\n",
    "#     # v = np.linspace(0,2*pi,10)\n",
    "#     U,V,W = np.meshgrid(u,v,u)\n",
    "#     ax.quiver(U,V,W,np.ones_like(U),0*U,0*U,length=.2);\n",
    "    for c in 'xz':\n",
    "        getattr(ax,f\"set_{c}lim\")((0+.5*zoom,4 - 2.5*zoom))\n",
    "    ax.set_ylim((-2 + 2.2*zoom,2 - .8*zoom))\n"
   ]
  },
  {
   "cell_type": "markdown",
   "metadata": {
    "slideshow": {
     "slide_type": "subslide"
    }
   },
   "source": [
    "## Faraday's Law\n",
    "\n",
    "$$-\\frac{\\partial \\Phi}{\\partial t} = \\iint_{D(t)} -\\frac{\\partial B}{\\partial t} d\\vec S = \\iint_{D(t)} \\nabla\\times \\vec E\\cdot d\\vec S = \\oint_{C(t)} \\vec E\\cdot d\\vec r $$\n",
    "\n",
    "![Diagram of magnetic field in solenoid](http://www.funscience.in/images/StudyZone/Physics/MagneticEffectsOfCurrent/MagneticLinesOfForceAroundASolenoidCarryingCurrent.jpg)"
   ]
  },
  {
   "cell_type": "markdown",
   "metadata": {
    "slideshow": {
     "slide_type": "subslide"
    }
   },
   "source": [
    "### Revisit Cone\n",
    "\n",
    "Find the flux of the curl $\\nabla\\times \\vec F$ of the vector field $2y\\,\\vec i + 3z\\,\\vec j +x\\,\\vec k$ through the piece of the cone $z=\\sqrt{x^2 + y^2}$ below $z=2$, oriented upward.\n",
    "  \n",
    "  "
   ]
  },
  {
   "cell_type": "code",
   "execution_count": 46,
   "metadata": {
    "hide_input": false,
    "scrolled": false,
    "slideshow": {
     "slide_type": "fragment"
    }
   },
   "outputs": [
    {
     "data": {
      "application/vnd.jupyter.widget-view+json": {
       "model_id": "a3d086ed8a2643a78b5be9d3702006e0",
       "version_major": 2,
       "version_minor": 0
      },
      "text/plain": [
       "interactive(children=(IntSlider(value=24, description='angle', max=96, min=-6, step=6), IntSlider(value=42, de…"
      ]
     },
     "metadata": {},
     "output_type": "display_data"
    }
   ],
   "source": [
    "@interact(angle=(-6,96,6))\n",
    "def _(angle = 24,vangle=(0,90,6),fade=(0,1,.04)):\n",
    "    fig = plt.figure(figsize=(10,10))\n",
    "    ax = fig.gca(projection='3d')\n",
    "    u = np.linspace(0,2,100)\n",
    "    v = np.linspace(0,2*pi,100)\n",
    "    U,V = np.meshgrid(u,v)\n",
    "    ax.view_init(vangle,angle)\n",
    "    ax.plot_surface(U*cos(V),U*sin(V),U,alpha=.5)\n",
    "    ax.plot_wireframe(U*cos(V),U*sin(V),U,alpha=1,color='k',rcount=10,ccount=10)\n",
    "    # ax.plot_surface(U*cos(V),U*sin(V),2*np.ones_like(U),alpha=.5)\n",
    "    # ax.plot_wireframe(U*cos(V),U*sin(V),2*np.ones_like(U),alpha=1,color='k',rcount=10,ccount=10)\n",
    "    u = v = np.linspace(-2,2,8)\n",
    "    # v = np.linspace(0,2*pi,10)\n",
    "    U,V,W = np.meshgrid(u,v,u)\n",
    "    ax.quiver(U,(V),W,2*V,3*W,U,length=.1,alpha=1-fade);\n",
    "    ax.quiver(U,(V),W,0*U - 3,0*W - 1,0*U - 2,length=.2,lw=2,color='r',alpha=fade);\n"
   ]
  },
  {
   "cell_type": "markdown",
   "metadata": {},
   "source": [
    "## Exercise\n",
    "\n",
    "Compute the line integral $\\oint_{\\partial D} \\vec F \\cdot d\\vec r$ around the ccw (from above) boundary of the surface $D$ given.\n",
    "\n",
    "$$ \\vec F(x,y,z) = xyz \\,\\vec i + y \\,\\vec j + z \\,\\vec k$$\n",
    "\n",
    "where $D$ is the portion of the surface $z=x^2$ above $x^2 + y^2 \\leq a^2$ in the first octant."
   ]
  },
  {
   "cell_type": "code",
   "execution_count": 9,
   "metadata": {
    "hide_input": true,
    "scrolled": false,
    "slideshow": {
     "slide_type": "fragment"
    }
   },
   "outputs": [
    {
     "data": {
      "application/vnd.jupyter.widget-view+json": {
       "model_id": "8424577d2a7645ac95519a20aa7523f3",
       "version_major": 2,
       "version_minor": 0
      },
      "text/plain": [
       "interactive(children=(IntSlider(value=-24, description='angle', max=6, min=-96, step=6), IntSlider(value=42, d…"
      ]
     },
     "metadata": {},
     "output_type": "display_data"
    }
   ],
   "source": [
    "@interact(angle=(-96,6,6))\n",
    "def _(angle = -24,vangle=(0,90,6)):\n",
    "    fig = plt.figure(figsize=(8,8))\n",
    "    ax = fig.gca(projection='3d')\n",
    "    u = np.linspace(0,2,40)\n",
    "    v = np.linspace(0,pi/2,40)\n",
    "    U,V = np.meshgrid(u,v)\n",
    "    ax.view_init(vangle,angle)\n",
    "    ax.plot_surface(U*cos(V),U*sin(V),U**2*cos(V)**2,alpha=.5)\n",
    "    ax.plot_wireframe(U*cos(V),U*sin(V),U**2*cos(V)**2,alpha=1,color='k',rcount=10,ccount=10)\n",
    "    # ax.plot_surface(U*cos(V),U*sin(V),2*np.ones_like(U),alpha=.5)\n",
    "    # ax.plot_wireframe(U*cos(V),U*sin(V),2*np.ones_like(U),alpha=1,color='k',rcount=10,ccount=10)\n",
    "    u = v = np.linspace(0,2,8)\n",
    "    # v = np.linspace(0,2*pi,10)\n",
    "    U,V,W = np.meshgrid(u,v,2*u)\n",
    "    ax.quiver(U,V,W,U*W*V,V,W,length=.05);\n",
    "#     ax.quiver(U,V,W,0*U - 3,0*W - 1,0*U - 2,length=.2,lw=2,color='r');\n"
   ]
  },
  {
   "cell_type": "markdown",
   "metadata": {
    "slideshow": {
     "slide_type": "fragment"
    }
   },
   "source": [
    "#### Answer\n",
    "\n",
    "Compute the curl.\n",
    "\n",
    "$$\\nabla \\times \\vec F = xy\\, \\vec j - xz \\,\\vec k $$\n",
    "\n",
    "Parametrize the surface.\n",
    "\n",
    "$$ \\vec r(u,v) = u \\cos v  \\,\\vec i + u \\sin v \\,\\vec j + u^2 \\cos^2 v \\,\\vec k$$\n",
    "\n",
    "for $0 \\leq u \\leq a$ and $0 \\leq v \\leq \\pi/2$.\n",
    "\n",
    "$$ \\vec r_u \\times \\vec r_v = \\begin{vmatrix} \\vec i & \\vec j & \\vec k \\\\\n",
    "\\cos v & \\sin v & 2u \\cos^2 v \\\\\n",
    "-u\\sin v & u \\cos v & -2u^2 \\sin v\\cos v \\\\\n",
    "\\end{vmatrix} = - 2u^2 \\cos v \\vec i + u \\vec k$$\n",
    "\n",
    "which is consistent with an upward orientation.\n",
    "\n",
    "Finally, we apply Stokes'.\n",
    "\n",
    "$$\\oint_{\\partial \\Omega} \\vec F\\cdot d\\vec r = \\iint_\\Omega \\nabla \\times \\vec F \\cdot d\\vec S $$\n",
    "\n",
    "Since the vectors only share a $\\vec k$ component, the integrand simplifies.\n",
    "\n",
    "$$ = \\int_0^{\\pi/2} \\int_0^a -u^4\\cos ^3 v \\, du\\, dv =-\\frac{2a^5}{15}$$"
   ]
  },
  {
   "cell_type": "markdown",
   "metadata": {
    "slideshow": {
     "slide_type": "slide"
    }
   },
   "source": [
    "# Let's Review\n",
    "\n",
    "Four Big Theorems"
   ]
  },
  {
   "cell_type": "markdown",
   "metadata": {
    "slideshow": {
     "slide_type": "subslide"
    }
   },
   "source": [
    "  - FTLI\n",
    "$$ f(C_{1}) - f(C_0) = \\int_{C} \\nabla f\\cdot d\\vec r $$"
   ]
  },
  {
   "cell_type": "markdown",
   "metadata": {
    "slideshow": {
     "slide_type": "subslide"
    }
   },
   "source": [
    "  - Green's Theorem\n",
    "$$ \\oint_{\\partial D} P\\, dx + Q\\,dy = \\iint_D (Q_x - P_y)\\,dA $$"
   ]
  },
  {
   "cell_type": "markdown",
   "metadata": {
    "slideshow": {
     "slide_type": "subslide"
    }
   },
   "source": [
    "  - Divergence Theorem\n",
    "  $$ \\iint_{\\partial E} \\vec F \\cdot d\\vec S = \\iiint_E \\nabla\\cdot \\vec F \\,dV $$\n",
    "  "
   ]
  },
  {
   "cell_type": "markdown",
   "metadata": {
    "slideshow": {
     "slide_type": "subslide"
    }
   },
   "source": [
    "  - Stokes' Theorem\n",
    "  $$ \\oint_{\\partial \\Omega} \\vec F\\cdot d\\vec r = \\iint_\\Omega \\nabla\\times F \\cdot d\\vec S$$ "
   ]
  }
 ],
 "metadata": {
  "celltoolbar": "Slideshow",
  "kernelspec": {
   "display_name": "Python 3",
   "language": "python",
   "name": "python3"
  },
  "language_info": {
   "codemirror_mode": {
    "name": "ipython",
    "version": 3
   },
   "file_extension": ".py",
   "mimetype": "text/x-python",
   "name": "python",
   "nbconvert_exporter": "python",
   "pygments_lexer": "ipython3",
   "version": "3.7.6"
  },
  "rise": {
   "enable_chalkboard": false,
   "scroll": true,
   "theme": "sky",
   "transition": "concave"
  }
 },
 "nbformat": 4,
 "nbformat_minor": 2
}
