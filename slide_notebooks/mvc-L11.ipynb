{
 "cells": [
  {
   "cell_type": "code",
   "execution_count": 1,
   "metadata": {
    "slideshow": {
     "slide_type": "skip"
    }
   },
   "outputs": [],
   "source": [
    "import numpy as np\n",
    "import matplotlib.pyplot as plt\n",
    "from IPython.display import display, HTML, IFrame\n",
    "from ipywidgets import interact,fixed\n",
    "import pandas as pd\n",
    "from mpl_toolkits import mplot3d\n",
    "from mpl_toolkits.mplot3d import axes3d\n",
    "from matplotlib.patches import FancyArrowPatch\n",
    "from mpl_toolkits.mplot3d import proj3d\n",
    "\n",
    "plt.rcParams[\"figure.figsize\"] = [12, 9]\n",
    "\n",
    "from numpy.linalg import norm\n",
    "from numpy import cos,sin,tan,arctan,exp,log,pi,sqrt"
   ]
  },
  {
   "cell_type": "markdown",
   "metadata": {
    "slideshow": {
     "slide_type": "notes"
    }
   },
   "source": [
    "$\\newcommand{\\RR}{\\mathbb{R}}$\n",
    "$\\newcommand{\\bv}[1]{\\begin{bmatrix} #1 \\end{bmatrix}}$\n",
    "$\\renewcommand{\\vec}{\\mathbf}$\n"
   ]
  },
  {
   "cell_type": "markdown",
   "metadata": {
    "hide_input": true,
    "slideshow": {
     "slide_type": "slide"
    }
   },
   "source": [
    "## Announcements\n",
    "\n",
    "  - Quiz 4 in recitation\n",
    "    - Find the tangent plane to graph of a function\n",
    "    - Use linearization to estimate value of a function\n",
    "  - HW 6 posted\n",
    "  - Lab 1 (optionally) due Friday. \n",
    "    "
   ]
  },
  {
   "cell_type": "markdown",
   "metadata": {
    "slideshow": {
     "slide_type": "slide"
    }
   },
   "source": [
    "# One-minute Review\n",
    "\n",
    "The **chain rule** for a differential function $f:\\RR^n \\to \\RR$ and a differentiable curve $\\vec r:\\RR\\to\\RR^n$ is  $$ \\frac{d}{dt} f\\circ \\vec r(t) = \\nabla f (\\vec r(t))\\cdot \\vec r'(t)$$\n",
    "\n",
    "where $\\nabla f = \\langle f_{x_1}, \\cdots, f_{x_n} \\rangle$. "
   ]
  },
  {
   "cell_type": "markdown",
   "metadata": {
    "slideshow": {
     "slide_type": "slide"
    }
   },
   "source": [
    "# Lecture 11\n",
    "\n",
    "  - Objectives\n",
    "    - Define directional derivatives.\n",
    "    - Compute $D_\\vec u f$ using the gradient.\n",
    "    - Use the properties of $\\nabla f$ to compute tangent spaces and the like.\n",
    "    \n",
    "  - Resources\n",
    "    - Content\n",
    "      - Stewart: §14.6\n",
    "      - New Strang: [§4.6](https://cnx.org/contents/oxzXkyFi@6.1:gkQNvJr6@7/4-6-Directional-Derivatives-and-the-Gradient)\n",
    "      - [Slides](https://e2000.columbiajupyter2.org/hub/user-redirect/git-pull?repo=https%3A%2F%2Fgithub.com%2Fdrewyoungren%2Fmvc-sp20&urlpath=tree%2Fmvc-sp20%2Fslide_notebooks%2Fmvc-L11.ipynb) via JupyterHub\n",
    "    - Practice\n",
    "      - Mooculus: [The Gradient](https://ximera.osu.edu/mooculus/calculus3/interpretingTheGradient/digInGradient)\n",
    "    - Extras\n",
    "      - CalcBLUE: [Gradients](https://www.youtube.com/watch?v=zEvGUXXW1BI&list=PL8erL0pXF3JZZTnqjginERYYEi1WpLE_V&index=58) "
   ]
  },
  {
   "cell_type": "markdown",
   "metadata": {
    "slideshow": {
     "slide_type": "slide"
    }
   },
   "source": [
    "# Directional Derivatives\n",
    "\n",
    "Partial derivatives give rates of change in coordinate directions, but what of the (infinite) other directions in which a function is changing?"
   ]
  },
  {
   "cell_type": "markdown",
   "metadata": {
    "slideshow": {
     "slide_type": "fragment"
    }
   },
   "source": [
    "#### Fundamental example\n",
    "\n",
    "Given an elevation map, the partial derivatives give slopes in the cardinal directions, but we want to know how the terrain is changing as we head northeast, or, perhaps, which direction has the steepest climb?\n",
    "\n",
    "![Topographic map example](adiron.png)"
   ]
  },
  {
   "cell_type": "markdown",
   "metadata": {
    "slideshow": {
     "slide_type": "subslide"
    }
   },
   "source": [
    "## Definition\n",
    "\n",
    "Let $\\vec u$ be a _unit vector_. The **directional derivative** of $f$ at $\\vec x$ in the direction $\\vec u$ is $$D_\\vec u f(\\vec x) = \\lim_{h \\to 0}\\frac{f(\\vec x+ h\\vec u) - f(\\vec x)}{h}.$$"
   ]
  },
  {
   "cell_type": "markdown",
   "metadata": {
    "slideshow": {
     "slide_type": "fragment"
    }
   },
   "source": [
    "### Use the Chain Rule. \n",
    "\n",
    "Let $\\vec r(h) = \\vec x + h\\vec u$. Then $$D_\\vec u f(\\vec x) = (f\\circ \\vec r)'(0)$$"
   ]
  },
  {
   "cell_type": "markdown",
   "metadata": {
    "slideshow": {
     "slide_type": "fragment"
    }
   },
   "source": [
    "$$= \\nabla f(\\vec r(0))\\cdot \\vec r'(0)$$"
   ]
  },
  {
   "cell_type": "markdown",
   "metadata": {
    "slideshow": {
     "slide_type": "fragment"
    }
   },
   "source": [
    "$$= \\nabla f(\\vec x)\\cdot \\vec u.$$"
   ]
  },
  {
   "cell_type": "markdown",
   "metadata": {
    "slideshow": {
     "slide_type": "subslide"
    }
   },
   "source": [
    "## Example\n",
    "\n",
    "Find the directional derivative of the function $$f(x,y) = e^{y-x^2}$$ at the point $(1,0)$ in the direction of $\\langle -1,1\\rangle$."
   ]
  },
  {
   "cell_type": "code",
   "execution_count": 8,
   "metadata": {
    "hide_input": false,
    "scrolled": false,
    "slideshow": {
     "slide_type": "fragment"
    }
   },
   "outputs": [
    {
     "data": {
      "application/vnd.jupyter.widget-view+json": {
       "model_id": "dc312b8c678a407184ae259a4c4b44ee",
       "version_major": 2,
       "version_minor": 0
      },
      "text/plain": [
       "interactive(children=(IntSlider(value=12, description='angle', max=120, min=-90, step=6), IntSlider(value=42, …"
      ]
     },
     "metadata": {},
     "output_type": "display_data"
    }
   ],
   "source": [
    "f = lambda x,y: exp(y-x**2)\n",
    "u0 = np.arccos(-2/sqrt(5))\n",
    "\n",
    "@interact(u=(u0-pi,u0+pi,pi/12))\n",
    "def _(func=fixed(f),angle=(-90,120,6),vangle=(0,90,6),u=3*pi/4):\n",
    "    fig = plt.figure(figsize = (12,6))\n",
    "    ax = fig.add_subplot(121,projection='3d')\n",
    "    ax.view_init(vangle,angle)\n",
    "    for c in 'xyz':\n",
    "#         getattr(ax,f\"set_{c}lim\")([-1,1]);    \n",
    "        getattr(ax,f\"set_{c}label\")(f\"${c}$\",size=16)\n",
    "    x =  np.linspace(-3/2,3/2,601)\n",
    "    y =  np.linspace(-3/2,3/2,301)    \n",
    "    X,Y = np.meshgrid(x,y)\n",
    "    Z = func(X,Y)\n",
    "    ax.plot_surface(X,Y,Z,alpha=.6,cmap='ocean',rcount=50,ccount=50);\n",
    "#     ax.quiver([1,1],[0,0],[0,0],[-2/exp(1),-1/sqrt(2)],[1/exp(1),1/sqrt(2)],[0,0],lw=3,color='r',alpha=1)\n",
    "    ax2 = fig.add_subplot(122)\n",
    "    cp = ax2.contour(X,Y,Z,cmap='ocean',levels = np.arange(1/exp(1)-.2,3,.2))\n",
    "    ax2.set_xlabel(\"$x$\",size=16)\n",
    "    ax2.set_ylabel(\"$y$\",size=16)\n",
    "    ax2.clabel(cp,fmt=\"%.1f\")\n",
    "    ax2.quiver([1,1],[0,0],[-2/exp(1),cos(u)],[exp(-1),sin(u)],lw=3,color=['r','b'],alpha=1,angles='xy', scale_units='xy', scale=1)\n",
    "\n",
    "    s = np.linspace(0,20,100)\n",
    "    s = np.array([tt for tt in s if (np.abs(tt*cos(u)+1) <= 3/2) and (np.abs(tt*sin(u)) <= 3/2)])\n",
    "    ax.plot(s*cos(u)+1,s*sin(u),func(s*cos(u)+1,s*sin(u)),lw=3,ls='--',color='k')\n",
    "    ax2.plot(s*cos(u)+1,s*sin(u),lw=2,ls='--',color='k')\n",
    "    ax.plot(s*cos(u)+1,s*sin(u),exp(-1) + s*(sin(u)*exp(-1)-2*cos(u)*exp(-1)),lw=3,color='b')\n",
    "    ax.scatter(1,0,exp(-1))\n",
    "    ax.set_xlim3d([-3/2,3/2])\n",
    "    ax.set_ylim3d([-3/2,3/2])\n",
    "    ax.set_zlim3d([0,4])\n",
    "    ax2.set_title(r\"$D_{\\vec u} f = $\" + (\"%.3f\" % (sin(u)*exp(-1)-2*cos(u)*exp(-1),)))\n",
    "#     ax2.plot((pi/2-t)/pi*4,dz/dt*(t-t[pt])+Z[pt])\n",
    "#     ax2.set_ylim([0,1])"
   ]
  },
  {
   "cell_type": "markdown",
   "metadata": {
    "slideshow": {
     "slide_type": "subslide"
    }
   },
   "source": [
    "### Some questions"
   ]
  },
  {
   "cell_type": "code",
   "execution_count": 3,
   "metadata": {
    "hide_input": true,
    "scrolled": false,
    "slideshow": {
     "slide_type": "fragment"
    }
   },
   "outputs": [
    {
     "data": {
      "application/vnd.jupyter.widget-view+json": {
       "model_id": "",
       "version_major": 2,
       "version_minor": 0
      },
      "text/plain": [
       "interactive(children=(IntSlider(value=12, description='angle', max=120, min=-90, step=6), IntSlider(value=42, …"
      ]
     },
     "metadata": {},
     "output_type": "display_data"
    }
   ],
   "source": [
    "f = lambda x,y: exp(y-x**2)\n",
    "u0 = np.arccos(-2/sqrt(5))\n",
    "\n",
    "@interact\n",
    "def _(func=fixed(f),angle=(-90,120,6),vangle=(0,90,6),u=(u0-pi,u0+pi,pi/12)):\n",
    "    fig = plt.figure(figsize = (12,6))\n",
    "    ax = fig.add_subplot(121,projection='3d')\n",
    "    ax.view_init(vangle,angle)\n",
    "    for c in 'xyz':\n",
    "#         getattr(ax,f\"set_{c}lim\")([-1,1]);    \n",
    "        getattr(ax,f\"set_{c}label\")(f\"${c}$\",size=16)\n",
    "    x =  np.linspace(-3/2,3/2,601)\n",
    "    y =  np.linspace(-3/2,3/2,301)    \n",
    "    X,Y = np.meshgrid(x,y)\n",
    "    Z = func(X,Y)\n",
    "    ax.plot_surface(X,Y,Z,alpha=.6,cmap='ocean',rcount=50,ccount=50);\n",
    "#     ax.quiver([1,1],[0,0],[0,0],[-2/exp(1),-1/sqrt(2)],[1/exp(1),1/sqrt(2)],[0,0],lw=3,color='r',alpha=1)\n",
    "    ax2 = fig.add_subplot(122)\n",
    "    cp = ax2.contour(X,Y,Z,cmap='ocean',levels = np.arange(1/exp(1)-.2,3,.2))\n",
    "    ax2.set_xlabel(\"$x$\",size=16)\n",
    "    ax2.set_ylabel(\"$y$\",size=16)\n",
    "    ax2.clabel(cp,fmt=\"%.1f\")\n",
    "    ax2.quiver([1,1],[0,0],[-2/exp(1),cos(u)],[exp(-1),sin(u)],lw=3,color=['r','b'],alpha=1,angles='xy', scale_units='xy', scale=1)\n",
    "\n",
    "    s = np.linspace(0,20,100)\n",
    "    s = np.array([tt for tt in s if (np.abs(tt*cos(u)+1) <= 3/2) and (np.abs(tt*sin(u)) <= 3/2)])\n",
    "    ax.plot(s*cos(u)+1,s*sin(u),func(s*cos(u)+1,s*sin(u)),lw=3,ls='--',color='k')\n",
    "    ax2.plot(s*cos(u)+1,s*sin(u),lw=2,ls='--',color='k')\n",
    "    ax.plot(s*cos(u)+1,s*sin(u),exp(-1) + s*(sin(u)*exp(-1)-2*cos(u)*exp(-1)),lw=3,color='b')\n",
    "    ax.scatter(1,0,exp(-1))\n",
    "    ax.set_xlim3d([-3/2,3/2])\n",
    "    ax.set_ylim3d([-3/2,3/2])\n",
    "    ax.set_zlim3d([0,4])\n",
    "    ax2.set_title(r\"$D_{\\vec u} f = $\" + (\"%.3f\" % (sin(u)*exp(-1)-2*cos(u)*exp(-1),)))\n",
    "#     ax2.plot((pi/2-t)/pi*4,dz/dt*(t-t[pt])+Z[pt])\n",
    "#     ax2.set_ylim([0,1])"
   ]
  },
  {
   "cell_type": "markdown",
   "metadata": {
    "slideshow": {
     "slide_type": "fragment"
    }
   },
   "source": [
    "  1. Must there always be a direction $\\vec u$ such that $D_\\vec u f = 0$?"
   ]
  },
  {
   "cell_type": "markdown",
   "metadata": {
    "slideshow": {
     "slide_type": "fragment"
    }
   },
   "source": [
    "  2. What is $D_{-\\vec u} f$?"
   ]
  },
  {
   "cell_type": "markdown",
   "metadata": {
    "slideshow": {
     "slide_type": "fragment"
    }
   },
   "source": [
    "  3. What if $D_{\\vec u} f = 1$ in all directions $\\vec u$?\n",
    "  \n",
    "  ![Plot of cone](cone.png)"
   ]
  },
  {
   "cell_type": "markdown",
   "metadata": {
    "slideshow": {
     "slide_type": "slide"
    }
   },
   "source": [
    "# Properties of the gradient "
   ]
  },
  {
   "cell_type": "markdown",
   "metadata": {
    "slideshow": {
     "slide_type": "fragment"
    }
   },
   "source": [
    "## Nota Bene: This is essential stuff\n",
    "\n",
    "The gradient vector packs in a *ton* of information about how a function is changing."
   ]
  },
  {
   "cell_type": "markdown",
   "metadata": {
    "slideshow": {
     "slide_type": "fragment"
    }
   },
   "source": [
    "# 1. The gradient is orthogonal to level sets."
   ]
  },
  {
   "cell_type": "markdown",
   "metadata": {
    "slideshow": {
     "slide_type": "fragment"
    }
   },
   "source": [
    "# 2. It points in the direction of greatest change."
   ]
  },
  {
   "cell_type": "markdown",
   "metadata": {
    "slideshow": {
     "slide_type": "fragment"
    }
   },
   "source": [
    "# 3. Its magnitude is the amount of greatest change."
   ]
  },
  {
   "cell_type": "markdown",
   "metadata": {
    "slideshow": {
     "slide_type": "slide"
    }
   },
   "source": [
    "# 1. The gradient is orthogonal to level sets."
   ]
  },
  {
   "cell_type": "markdown",
   "metadata": {
    "slideshow": {
     "slide_type": "fragment"
    }
   },
   "source": [
    "Suppose $\\langle x(t),y(t) \\rangle$ is a smooth curve **inside a level set** $f(x,y) = c$ of a differentiable function $f$.\n",
    "\n",
    "We compute $$\\frac {d}{dt} f(x(t),y(t)) = 0 $$ "
   ]
  },
  {
   "cell_type": "markdown",
   "metadata": {
    "slideshow": {
     "slide_type": "fragment"
    }
   },
   "source": [
    "$$ f_x(x(t),y(t)) x'(t) + f_y(x(t),y(t)) y'(t) = 0$$"
   ]
  },
  {
   "cell_type": "markdown",
   "metadata": {
    "slideshow": {
     "slide_type": "fragment"
    }
   },
   "source": [
    "\n",
    "$$= \\nabla f \\cdot \\begin{bmatrix} x'(t) \\\\ y'(t) \\end{bmatrix} = 0$$"
   ]
  },
  {
   "cell_type": "markdown",
   "metadata": {
    "slideshow": {
     "slide_type": "fragment"
    }
   },
   "source": [
    "Note this second vector is tangent to the level set (a curve here). This gives us the result."
   ]
  },
  {
   "cell_type": "markdown",
   "metadata": {
    "slideshow": {
     "slide_type": "subslide"
    }
   },
   "source": [
    "# 2. It points in the direction of greatest change."
   ]
  },
  {
   "cell_type": "markdown",
   "metadata": {
    "slideshow": {
     "slide_type": "fragment"
    }
   },
   "source": [
    "Which direction $\\vec u$ maximizes $D_\\vec u f$?"
   ]
  },
  {
   "cell_type": "markdown",
   "metadata": {
    "slideshow": {
     "slide_type": "fragment"
    }
   },
   "source": [
    "$$D_\\vec u f = \\nabla f \\cdot \\vec u = |\\nabla f||\\vec u| \\cos \\theta$$"
   ]
  },
  {
   "cell_type": "markdown",
   "metadata": {
    "slideshow": {
     "slide_type": "fragment"
    }
   },
   "source": [
    "Since $|\\vec u | = 1$, this is maximized when $\\theta = 0$. "
   ]
  },
  {
   "cell_type": "markdown",
   "metadata": {
    "slideshow": {
     "slide_type": "fragment"
    }
   },
   "source": [
    "In other words, $$\\vec u = \\frac{\\nabla f}{|\\nabla f|}$$ the unit vector in the direction of the gradient."
   ]
  },
  {
   "cell_type": "markdown",
   "metadata": {
    "slideshow": {
     "slide_type": "subslide"
    }
   },
   "source": [
    "# 3. Its magnitude is the amount of greatest change."
   ]
  },
  {
   "cell_type": "markdown",
   "metadata": {
    "slideshow": {
     "slide_type": "fragment"
    }
   },
   "source": [
    "We simply compute using the above $$D_{\\frac{\\nabla f}{|\\nabla f|}} f = \\nabla f \\cdot \\frac{\\nabla f}{|\\nabla f|}$$\n",
    "\n",
    "$$= \\frac{|\\nabla f|^2}{|\\nabla f|} = |\\nabla f|.$$"
   ]
  },
  {
   "cell_type": "markdown",
   "metadata": {
    "slideshow": {
     "slide_type": "slide"
    }
   },
   "source": [
    "## Example\n",
    "\n",
    "What happens when particle \"follows the gradient\" of a function?\n",
    "\n",
    "Suppose you have a swarm of drones equipped with temperature sensors (and GPS, etc.) which are programmed to follow the heat gradient. They are dropped over a forest fire and let go. What will one see?"
   ]
  },
  {
   "cell_type": "code",
   "execution_count": 6,
   "metadata": {
    "slideshow": {
     "slide_type": "fragment"
    }
   },
   "outputs": [],
   "source": [
    "i = np.array([1,0])\n",
    "j = np.array([0,1])\n",
    "\n",
    "def update(pts,f=f,dt=1/100):\n",
    "    out = []\n",
    "    for n in range(pts.shape[1]):\n",
    "        v = pts[:,n] # a point\n",
    "        z0 = f(*v) # value at the point\n",
    "        z1 = f(*(v + dt*i)) # value to the right\n",
    "        z2 = f(*(v + dt*j)) # value above\n",
    "        out.append(v + np.array([z1-z0,z2-z0])) # approx v + dt * grad(f)\n",
    "    return np.column_stack(out)"
   ]
  },
  {
   "cell_type": "code",
   "execution_count": 10,
   "metadata": {
    "hide_input": true,
    "scrolled": false,
    "slideshow": {
     "slide_type": "subslide"
    }
   },
   "outputs": [
    {
     "data": {
      "application/vnd.jupyter.widget-view+json": {
       "model_id": "d009170b70da4494873f06d86aa5c0e0",
       "version_major": 2,
       "version_minor": 0
      },
      "text/plain": [
       "interactive(children=(IntSlider(value=0, description='t', max=99), Checkbox(value=False, description='field'),…"
      ]
     },
     "metadata": {},
     "output_type": "display_data"
    }
   ],
   "source": [
    "f = lambda x,y: 50*(x+y)*(x-2/3)*(y-2/3)/(1+7*(x-1/2)**4+7*(y-1/2)**4)\n",
    "pts = 2*np.random.rand(2,100)\n",
    "\n",
    "pts_track = [pts]\n",
    "for k in range(100):\n",
    "    pts_track.append(update(pts_track[-1],dt=1/500))\n",
    "pts_track = np.array(pts_track)\n",
    "pts_track[2,0].shape\n",
    "\n",
    "x = y = np.linspace(0,2,102)\n",
    "x,y = np.meshgrid(x,y)\n",
    "z = f(x,y)\n",
    "\n",
    "xx = yy = np.linspace(0,2,26)\n",
    "xx,yy = np.meshgrid(xx,yy)\n",
    "        \n",
    "@interact(t=(0,99))\n",
    "def _(t=0,field=False,f=fixed(lambda x,y: 50*(x+y)*(x-2/3)*(y-2/3)/(1+7*(x-1/2)**4+7*(y-1/2)**4))):\n",
    "    fig = plt.figure(figsize=(9,9),dpi=100)\n",
    "    cp = plt.contour(x,y,z,levels=np.arange(-8,8,1),cmap='viridis')\n",
    "    plt.scatter(pts_track[t,0],pts_track[t,1])\n",
    "    plt.clabel(cp,fmt=\"%.f\");\n",
    "    plt.xlim([0,2])\n",
    "    plt.ylim([0,2])\n",
    "    if field:\n",
    "        plt.quiver(xx,yy,f(xx+.01,yy)-f(xx,yy),f(xx,yy+.01) - f(xx,yy))"
   ]
  },
  {
   "cell_type": "markdown",
   "metadata": {
    "slideshow": {
     "slide_type": "slide"
    }
   },
   "source": [
    "## Exercises\n",
    "\n",
    "  1. Find the maximum rate of change of each function at the given point and the direction in which is occurs.\n",
    "  \n",
    "    1. $f(x,y) = \\frac{y^2}{x}$ at $(4,2)$.\n",
    "    2. $g(x,y) = \\tan^{-1}(x+2y+3z)$ at $(5,-1,-1)$.\n",
    "  \n",
    "  2. Find the equation of the tangent plane to the surface $z+1=x e^y \\cos (z)$ at the point $(1,0,0)$."
   ]
  }
 ],
 "metadata": {
  "celltoolbar": "Slideshow",
  "kernelspec": {
   "display_name": "Python 3",
   "language": "python",
   "name": "python3"
  },
  "language_info": {
   "codemirror_mode": {
    "name": "ipython",
    "version": 3
   },
   "file_extension": ".py",
   "mimetype": "text/x-python",
   "name": "python",
   "nbconvert_exporter": "python",
   "pygments_lexer": "ipython3",
   "version": "3.7.6"
  },
  "rise": {
   "enable_chalkboard": true,
   "scroll": true,
   "theme": "sky",
   "transition": "concave"
  }
 },
 "nbformat": 4,
 "nbformat_minor": 2
}
