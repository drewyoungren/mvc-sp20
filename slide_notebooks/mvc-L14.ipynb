{
 "cells": [
  {
   "cell_type": "code",
   "execution_count": 33,
   "metadata": {
    "slideshow": {
     "slide_type": "skip"
    }
   },
   "outputs": [],
   "source": [
    "import numpy as np\n",
    "import matplotlib.pyplot as plt\n",
    "from IPython.display import display, HTML, IFrame\n",
    "from ipywidgets import interact,fixed\n",
    "import pandas as pd\n",
    "from mpl_toolkits import mplot3d\n",
    "from mpl_toolkits.mplot3d import axes3d\n",
    "from matplotlib.patches import FancyArrowPatch,Rectangle\n",
    "from mpl_toolkits.mplot3d.art3d import Poly3DCollection\n",
    "from mpl_toolkits.mplot3d import proj3d\n",
    "\n",
    "plt.rcParams[\"figure.figsize\"] = [12, 9]\n",
    "\n",
    "from numpy.linalg import norm\n",
    "from numpy import cos,sin,tan,arctan,exp,log,pi,sqrt"
   ]
  },
  {
   "cell_type": "markdown",
   "metadata": {
    "slideshow": {
     "slide_type": "notes"
    }
   },
   "source": [
    "$\\newcommand{\\RR}{\\mathbb{R}}$\n",
    "$\\newcommand{\\bv}[1]{\\begin{bmatrix} #1 \\end{bmatrix}}$\n",
    "$\\renewcommand{\\vec}{\\mathbf}$\n"
   ]
  },
  {
   "cell_type": "markdown",
   "metadata": {
    "slideshow": {
     "slide_type": "slide"
    }
   },
   "source": [
    "## APMA E2000\n",
    "\n",
    "# Lecture 14"
   ]
  },
  {
   "cell_type": "markdown",
   "metadata": {
    "hide_input": true,
    "slideshow": {
     "slide_type": "slide"
    }
   },
   "source": [
    "## Announcements\n",
    "\n",
    "  - No quiz 6 this week. \n",
    "    - Lab 02 - coming\n",
    "  - Homework 8 due Tuesday, March 24.\n",
    "    "
   ]
  },
  {
   "cell_type": "markdown",
   "metadata": {
    "slideshow": {
     "slide_type": "slide"
    }
   },
   "source": [
    "# One-minute Review\n",
    "\n",
    "  - To find local min/max of a function $f$ on a level set $g = c$, solve \n",
    "  $$ \\nabla f = \\lambda \\nabla g$$\n",
    "  \n",
    "  or look where $\\nabla g = \\vec 0.$\n",
    "  \n",
    "  "
   ]
  },
  {
   "cell_type": "markdown",
   "metadata": {
    "slideshow": {
     "slide_type": "slide"
    }
   },
   "source": [
    "# Lecture 14\n",
    "\n",
    "  ## Intro to Multiple Integration.\n",
    "\n",
    "\n",
    "  - Objectives"
   ]
  },
  {
   "cell_type": "markdown",
   "metadata": {
    "slideshow": {
     "slide_type": "fragment"
    }
   },
   "source": [
    "<ul><ul><li>Define the double integral</li></ul></ul>"
   ]
  },
  {
   "cell_type": "markdown",
   "metadata": {
    "slideshow": {
     "slide_type": "fragment"
    }
   },
   "source": [
    "<ul><ul><li>Compute using iterated integrals</li></ul></ul>"
   ]
  },
  {
   "cell_type": "markdown",
   "metadata": {
    "slideshow": {
     "slide_type": "fragment"
    }
   },
   "source": [
    "<ul><ul><li>Change the order of integration</li></ul></ul>"
   ]
  },
  {
   "cell_type": "markdown",
   "metadata": {
    "slideshow": {
     "slide_type": "fragment"
    }
   },
   "source": [
    "<ul><ul><li>Convert from rectangular to polar coordinates.</li></ul></ul>\n",
    "    "
   ]
  },
  {
   "cell_type": "markdown",
   "metadata": {
    "slideshow": {
     "slide_type": "subslide"
    }
   },
   "source": [
    "  - Resources\n",
    "    - Content\n",
    "      - Stewart: §15.1\n",
    "      - New Strang: [§5.1](https://openstax.org/books/calculus-volume-3/pages/5-1-double-integrals-over-rectangular-regions) [§5.2](https://openstax.org/books/calculus-volume-3/pages/5-2-double-integrals-over-general-regions) [§5.3](https://openstax.org/books/calculus-volume-3/pages/5-3-double-integrals-in-polar-coordinates)\n",
    "      - [Slides](https://e2000.columbiajupyter2.org/hub/user-redirect/git-pull?repo=https%3A%2F%2Fgithub.com%2Fdrewyoungren%2Fmvc-sp20&urlpath=tree%2Fmvc-sp20%2Fslide_notebooks%2Fmvc-L14.ipynb) via JupyterHub\n",
    "    - Practice\n",
    "      - Mooculus: [Multiple Integrals](https://ximera.osu.edu/mooculus/calculus3/multipleIntegrals/titlePage) [Polar Coordinnates](https://ximera.osu.edu/mooculus/calculus3/commonCoordinates/digInPolarCoordinates)\n",
    "    - Extras\n",
    "      - CalcBLUE: [Integrals](https://www.math.upenn.edu/~ghrist/BLUE.html#VOL3) "
   ]
  },
  {
   "cell_type": "markdown",
   "metadata": {
    "slideshow": {
     "slide_type": "slide"
    }
   },
   "source": [
    "# Remember Integration?\n",
    "\n",
    "Recall the definition of a definite integral.\n",
    "\n",
    "$$\\int_a^b f(x)\\,dx$$"
   ]
  },
  {
   "cell_type": "markdown",
   "metadata": {
    "slideshow": {
     "slide_type": "fragment"
    }
   },
   "source": [
    " $$ = \\lim _{N \\to \\infty} \\sum_{i=0}^N f(x_i^*) \\Delta x_i$$\n",
    " \n",
    "where $x_i^*$ is a sample point in the $i$th subinterval of $[a,b]$ and $\\Delta x_i$ is the width of the $i$th subinterval (often $\\frac{b-a}{N}$)."
   ]
  },
  {
   "cell_type": "markdown",
   "metadata": {
    "slideshow": {
     "slide_type": "subslide"
    }
   },
   "source": [
    " $$\\lim _{N \\to \\infty} \\sum_{i=1}^N f(x_i^*) \\Delta x_i$$\n"
   ]
  },
  {
   "cell_type": "code",
   "execution_count": 60,
   "metadata": {
    "hide_input": true,
    "scrolled": false
   },
   "outputs": [
    {
     "data": {
      "application/vnd.jupyter.widget-view+json": {
       "model_id": "f697910644b74908b5485de3882fff86",
       "version_major": 2,
       "version_minor": 0
      },
      "text/plain": [
       "interactive(children=(IntSlider(value=11, description='N', max=22, min=1), FloatSlider(value=0.5, description=…"
      ]
     },
     "metadata": {},
     "output_type": "display_data"
    }
   ],
   "source": [
    "@interact\n",
    "def _(N=(1,22),s=(0.,1.,.25),\n",
    "      f= fixed(lambda x: 1 - x**2 + x**3/4),\n",
    "      a=fixed(0),b=fixed(2)\n",
    "     ):\n",
    "    X = np.linspace(-1/2,5/2,100)\n",
    "    plt.figure(figsize=(9,9))\n",
    "    plt.plot(X,f(X),X,np.zeros_like(X),'k');\n",
    "    ax = plt.gca()\n",
    "    dx = (b-a)/N\n",
    "    tot = 0\n",
    "    for i in range(N):\n",
    "        xi = a + (i)*dx\n",
    "        yi = f(xi+s*dx)\n",
    "        tot += yi\n",
    "        if yi >=0:\n",
    "            c = 'b'\n",
    "        else: \n",
    "            c = 'r'\n",
    "        ax.add_patch(Rectangle((xi,0),dx,yi,alpha=.4,color=c))\n",
    "    ax.set_title(f\"$\\int_0^2(1-x^2+x^3/4)dx \\sim $ {tot * dx:.5f}\",fontsize=17)\n",
    "                                          \n",
    "                            "
   ]
  },
  {
   "cell_type": "code",
   "execution_count": 72,
   "metadata": {
    "slideshow": {
     "slide_type": "subslide"
    }
   },
   "outputs": [
    {
     "data": {
      "text/plain": [
       "(0.33333333333333326, 1.3047217069399301e-14)"
      ]
     },
     "execution_count": 72,
     "metadata": {},
     "output_type": "execute_result"
    }
   ],
   "source": [
    "from scipy.integrate import quad\n",
    "\n",
    "quad(lambda x: 1 - x**2 + x**3/4,0,2)"
   ]
  },
  {
   "cell_type": "markdown",
   "metadata": {
    "slideshow": {
     "slide_type": "slide"
    }
   },
   "source": [
    "# Multiple Integration\n",
    "\n",
    "Start with a question:\n",
    "\n",
    "##### What is the average altitude of Bolivia?\n",
    "\n",
    "<img alt=\"Topographical map of Bolivia\" src=\"https://legacy.lib.utexas.edu/maps/americas/bolivia_rel93.jpg\" width=\"50%\" />"
   ]
  },
  {
   "cell_type": "markdown",
   "metadata": {
    "slideshow": {
     "slide_type": "subslide"
    }
   },
   "source": [
    "#### ingredients:\n",
    "  - $f(x,y)$ altitude as a function of horizontal and vertical position\n",
    "  - $\\mathcal B$ the set of coordinates $(x,y)$ that make up Bolivia\n",
    "  "
   ]
  },
  {
   "cell_type": "markdown",
   "metadata": {
    "slideshow": {
     "slide_type": "fragment"
    }
   },
   "source": [
    "  $$\\text{Average altidude} = f_\\text{avg} = \\frac{1}{\\operatorname{Area}(\\mathcal B)} \\iint_\\mathcal B f\\,dA$$"
   ]
  },
  {
   "cell_type": "markdown",
   "metadata": {
    "slideshow": {
     "slide_type": "subslide"
    }
   },
   "source": [
    "# Double Integral\n",
    "\n",
    "Consider the rectangle $\\mathcal{R} = [a,b]\\times[c,d] = \\{(x,y)\\mid a\\leq x\\leq b, c\\leq y \\leq d\\}$. The **double integral** of a function $f$ over $\\mathcal{R}$ is \n",
    "$$\\iint_\\mathcal{R} f(x,y)\\,dA $$"
   ]
  },
  {
   "cell_type": "markdown",
   "metadata": {
    "slideshow": {
     "slide_type": "fragment"
    }
   },
   "source": [
    "$$= \\lim_{M,N\\to \\infty} \\sum_{i=1}^M \\sum_{j=1}^N f(x_{ij}^*,y_{ij}^*)\\, \\Delta A_{ij} $$\n",
    "\n",
    "where $(x_{ij}^*,y_{ij}^*)$ is a sample point in the $ij$th subrectangle of $\\mathcal{R}$ and $\\Delta A_{ij}$ is the area of the $ij$th subrectangle (often $\\Delta x\\Delta y$)."
   ]
  },
  {
   "cell_type": "code",
   "execution_count": 35,
   "metadata": {
    "hide_input": true,
    "scrolled": false
   },
   "outputs": [
    {
     "data": {
      "application/vnd.jupyter.widget-view+json": {
       "model_id": "8d125c86f0c74411b539227eb4ede47e",
       "version_major": 2,
       "version_minor": 0
      },
      "text/plain": [
       "interactive(children=(IntSlider(value=11, description='N', max=22, min=1), FloatSlider(value=0.5, description=…"
      ]
     },
     "metadata": {},
     "output_type": "display_data"
    }
   ],
   "source": [
    "@interact\n",
    "def _(N=(1,22),s=(0.,1.,.25),angle=(-6,100,6),\n",
    "      f=fixed(lambda x,y: 1 - x**2 + y**3/10),\n",
    "      a=fixed(0),b=fixed(2),c=fixed(1),d=fixed(4)):\n",
    "    X = np.linspace(a,b,150)\n",
    "    Y = np.linspace(c,d,150)\n",
    "    XN = np.linspace(a,b,N+1)\n",
    "    YN = np.linspace(c,d,N+1)\n",
    "    fig = plt.figure(figsize=(12,12))\n",
    "    ax = fig.add_subplot(111,projection='3d')\n",
    "    ax.view_init(30,angle)\n",
    "    X,Y = np.meshgrid(X,Y)\n",
    "    XN,YN = np.meshgrid(XN,YN)\n",
    "    ZN = (f(XN,YN)).ravel()\n",
    "    dx = (b-a)/N\n",
    "    dy = (d-c)/N\n",
    "    ax.plot_surface(X,Y,f(X,Y),alpha=.5,cmap='viridis')\n",
    "#     ax.bar3d(XN.ravel(),YN.ravel(),0*ZN,dx,dy,ZN)\n",
    "\n",
    "    tot = 0\n",
    "    for i in range(N):\n",
    "        for j in range(N):\n",
    "            xi = a + (i)*dx\n",
    "            yj = c + j*dy\n",
    "            zi = f(xi+s*dx,yj+s*dy)\n",
    "            tot += zi\n",
    "            if zi >=0:\n",
    "                cl = 'b'\n",
    "            else: \n",
    "                cl = 'r'\n",
    "            ax.bar3d(xi,yj,0,dx,dy,zi,alpha=.4,color=cl)\n",
    "#             ax.add_patch(Rectangle((a,c),b-a,d-c))\n",
    "    ax.set_title(f\"$\\iint_\\mathcal{{R}} (1-x^2+y^3/10) dA \\sim $ {tot * dx*dy:.5f}\",fontsize=17)\n",
    "\n",
    "                                          \n",
    "                            "
   ]
  },
  {
   "cell_type": "markdown",
   "metadata": {
    "slideshow": {
     "slide_type": "subslide"
    }
   },
   "source": [
    "#### Quick Example\n",
    "\n",
    "Let $S$ be the rectangle $[0,1]\\times [0,2]$. Estimate $$\\iint_S \\frac{x}{y+1} dA$$ using a $4\\times 4$ partition and \n",
    "\n",
    "  - \"lower-left\" sample points\n",
    "  - \"upper-left\" sample points\n",
    "  - \"midpoints\"\n",
    "\n"
   ]
  },
  {
   "cell_type": "code",
   "execution_count": 63,
   "metadata": {
    "scrolled": false,
    "slideshow": {
     "slide_type": "fragment"
    }
   },
   "outputs": [
    {
     "name": "stdout",
     "output_type": "stream",
     "text": [
      "lower-left:\t0.4812\n",
      "upper-left:\t0.3562\n",
      "midpoints:\t0.5449\n"
     ]
    }
   ],
   "source": [
    "f = lambda x,y: x/(y+1)\n",
    "\n",
    "a,b = (0,1)\n",
    "c,d = (0,2)\n",
    "\n",
    "M,N = (4,4)\n",
    "\n",
    "dx=(b-a)/M\n",
    "dy=(d-c)/N\n",
    "\n",
    "ll = dx*dy*sum([f(x,y) for x in np.arange(a,b,dx) for y in np.arange(c,d,dy)])\n",
    "ul = dx*dy*sum([f(x,y) for x in np.arange(a,b,dx) for y in (np.arange(c + dy,d + dy,dy))])\n",
    "mp = dx*dy*sum([f(x,y) for x in np.arange(a + dx/2,b,dx) for y in np.arange(c + dy/2,d,dy)])\n",
    "\n",
    "print(f\"lower-left:\\t{ll:.4f}\\nupper-left:\\t{ul:.4f}\\nmidpoints:\\t{mp:.4f}\")"
   ]
  },
  {
   "cell_type": "markdown",
   "metadata": {
    "slideshow": {
     "slide_type": "subslide"
    }
   },
   "source": [
    "### Extra\n",
    "\n",
    "How would you integrate this with Python?"
   ]
  },
  {
   "cell_type": "code",
   "execution_count": 52,
   "metadata": {
    "scrolled": false,
    "slideshow": {
     "slide_type": "skip"
    }
   },
   "outputs": [
    {
     "data": {
      "application/vnd.jupyter.widget-view+json": {
       "model_id": "1e275fc19d3b42fe81575dd50d9dcb2e",
       "version_major": 2,
       "version_minor": 0
      },
      "text/plain": [
       "interactive(children=(IntSlider(value=27, description='n', max=50, min=4), Output()), _dom_classes=('widget-in…"
      ]
     },
     "metadata": {},
     "output_type": "display_data"
    }
   ],
   "source": [
    "@interact\n",
    "def _(n=(4,50),\n",
    "     f=fixed(lambda x,y: x/(y+1))):\n",
    "    dx = 1/n\n",
    "    dy = 2/n\n",
    "    mp = dx*dy*sum([f(x,y) for x in np.arange(dx/2,1.,dx) for y in np.arange(dy/2,2.,dy)])\n",
    "    print(f\"With {n*n} subrectangles, the integral is approximately {mp:.15f}\")"
   ]
  },
  {
   "cell_type": "code",
   "execution_count": null,
   "metadata": {
    "slideshow": {
     "slide_type": "fragment"
    }
   },
   "outputs": [],
   "source": [
    "# import the real thing\n",
    "from scipy.integrate import dblquad \n",
    "\n",
    "dblquad(lambda y,x : x/(y+1),0,1,0,2)[0]"
   ]
  },
  {
   "cell_type": "code",
   "execution_count": 76,
   "metadata": {
    "slideshow": {
     "slide_type": "subslide"
    }
   },
   "outputs": [
    {
     "name": "stdout",
     "output_type": "stream",
     "text": [
      "Help on function dblquad in module scipy.integrate.quadpack:\n",
      "\n",
      "dblquad(func, a, b, gfun, hfun, args=(), epsabs=1.49e-08, epsrel=1.49e-08)\n",
      "    Compute a double integral.\n",
      "    \n",
      "    Return the double (definite) integral of ``func(y, x)`` from ``x = a..b``\n",
      "    and ``y = gfun(x)..hfun(x)``.\n",
      "    \n",
      "    Parameters\n",
      "    ----------\n",
      "    func : callable\n",
      "        A Python function or method of at least two variables: y must be the\n",
      "        first argument and x the second argument.\n",
      "    a, b : float\n",
      "        The limits of integration in x: `a` < `b`\n",
      "    gfun : callable or float\n",
      "        The lower boundary curve in y which is a function taking a single\n",
      "        floating point argument (x) and returning a floating point result\n",
      "        or a float indicating a constant boundary curve.\n",
      "    hfun : callable or float\n",
      "        The upper boundary curve in y (same requirements as `gfun`).\n",
      "    args : sequence, optional\n",
      "        Extra arguments to pass to `func`.\n",
      "    epsabs : float, optional\n",
      "        Absolute tolerance passed directly to the inner 1-D quadrature\n",
      "        integration. Default is 1.49e-8.\n",
      "    epsrel : float, optional\n",
      "        Relative tolerance of the inner 1-D integrals. Default is 1.49e-8.\n",
      "    \n",
      "    Returns\n",
      "    -------\n",
      "    y : float\n",
      "        The resultant integral.\n",
      "    abserr : float\n",
      "        An estimate of the error.\n",
      "    \n",
      "    See also\n",
      "    --------\n",
      "    quad : single integral\n",
      "    tplquad : triple integral\n",
      "    nquad : N-dimensional integrals\n",
      "    fixed_quad : fixed-order Gaussian quadrature\n",
      "    quadrature : adaptive Gaussian quadrature\n",
      "    odeint : ODE integrator\n",
      "    ode : ODE integrator\n",
      "    simps : integrator for sampled data\n",
      "    romb : integrator for sampled data\n",
      "    scipy.special : for coefficients and roots of orthogonal polynomials\n",
      "    \n",
      "    Examples\n",
      "    --------\n",
      "    \n",
      "    Compute the double integral of ``x * y**2`` over the box\n",
      "    ``x`` ranging from 0 to 2 and ``y`` ranging from 0 to 1.\n",
      "    \n",
      "    >>> from scipy import integrate\n",
      "    >>> f = lambda y, x: x*y**2\n",
      "    >>> integrate.dblquad(f, 0, 2, lambda x: 0, lambda x: 1)\n",
      "        (0.6666666666666667, 7.401486830834377e-15)\n",
      "\n"
     ]
    }
   ],
   "source": [
    "help(dblquad)"
   ]
  },
  {
   "cell_type": "markdown",
   "metadata": {
    "slideshow": {
     "slide_type": "slide"
    }
   },
   "source": [
    "# Properties of the Double Integral\n",
    "\n",
    "\n",
    "$$\\iint_\\mathcal{R} (f(x,y) + g(x,y))\\,dA = \\iint_\\mathcal{R} f(x,y) \\,dA + \\iint_\\mathcal{R} g(x,y)\\,dA $$  "
   ]
  },
  {
   "cell_type": "markdown",
   "metadata": {
    "slideshow": {
     "slide_type": "fragment"
    }
   },
   "source": [
    "$$\\iint_\\mathcal{R} c(f(x,y)) \\,dA = c\\iint_\\mathcal{R} f(x,y)\\,dA$$"
   ]
  },
  {
   "cell_type": "markdown",
   "metadata": {
    "slideshow": {
     "slide_type": "fragment"
    }
   },
   "source": [
    "$$\\iint_\\mathcal{R} c \\,dA = c\\, {\\rm Area}(\\mathcal{R})$$"
   ]
  },
  {
   "cell_type": "markdown",
   "metadata": {
    "slideshow": {
     "slide_type": "slide"
    }
   },
   "source": [
    "# Iterated Integrals\n",
    "\n",
    "#### Quick Question\n",
    "\n",
    "What sort of mathematical object is this:\n",
    "$$\\int_1^4 f(x,y)\\, dy$$"
   ]
  },
  {
   "cell_type": "markdown",
   "metadata": {
    "slideshow": {
     "slide_type": "fragment"
    }
   },
   "source": [
    "##### Answer\n",
    " It is a function of a single variable $x$. This is sometimes called \"integrating out $y$.\" A student called it a \"partial integral.\" That's cool."
   ]
  },
  {
   "cell_type": "markdown",
   "metadata": {
    "slideshow": {
     "slide_type": "slide"
    }
   },
   "source": [
    "# Iterated Integrals\n",
    "\n",
    "An **iterated integral** is a nested collection of integrals like so:\n",
    "\n",
    "$$ \\int_a^b \\int_c^d f(x,y)\\, dy\\, dx = \\int_a^b \\left( \\int_c^d f(x,y)\\, dy\\right)\\, dx $$"
   ]
  },
  {
   "cell_type": "code",
   "execution_count": 40,
   "metadata": {
    "hide_input": true,
    "scrolled": false,
    "slideshow": {
     "slide_type": "fragment"
    }
   },
   "outputs": [
    {
     "data": {
      "application/vnd.jupyter.widget-view+json": {
       "model_id": "48c0ff648fdd4d5a84008366b48ce11f",
       "version_major": 2,
       "version_minor": 0
      },
      "text/plain": [
       "interactive(children=(FloatSlider(value=0.5, description='s', max=1.0, step=0.025), IntSlider(value=42, descri…"
      ]
     },
     "metadata": {},
     "output_type": "display_data"
    }
   ],
   "source": [
    "f = lambda x,y: 1 - x**2 + y**3/10 \n",
    "a=0\n",
    "b=2\n",
    "c=1\n",
    "d=4\n",
    "\n",
    "@interact\n",
    "def _(s=(0.,1.,.025),angle=(-6,100,6)):\n",
    "    x = np.linspace(a,b,150)\n",
    "    y = np.linspace(c,d,150)\n",
    "    fig = plt.figure(figsize=(12,12))\n",
    "    ax = fig.add_subplot(111,projection='3d')\n",
    "    ax.view_init(30,angle)\n",
    "    X,Y = np.meshgrid(x,y)\n",
    "    dx = (b-a)\n",
    "    dy = (d-c)\n",
    "    ax.plot_surface(X,Y,f(X,Y),alpha=.5,cmap='viridis')\n",
    "#     ax.bar3d(XN.ravel(),YN.ravel(),0*ZN,dx,dy,ZN)\n",
    "    verts = [(a + s * dx,c,0)]\n",
    "    tot = 0\n",
    "    for yi in y:\n",
    "        zi = f(a + s*dx,yi)\n",
    "        tot += zi\n",
    "        verts.append((a + s*dx,yi,zi))\n",
    "    verts.append((a + s * dx,d,0))\n",
    "    ax.add_collection3d(Poly3DCollection([verts]))\n",
    "\n",
    "    ax.set_title(f\"$\\int_c^d(1-x^2+y^3/10) dy$ at x={a +s*dx} is about {tot*(d-c)/150:.5f}\",fontsize=17)\n",
    "                                          \n",
    "                            "
   ]
  },
  {
   "cell_type": "markdown",
   "metadata": {
    "slideshow": {
     "slide_type": "subslide"
    }
   },
   "source": [
    "## Fubini's Theorem\n",
    "\n",
    "If $f$ is continuous on the the rectangle $\\mathcal{R} = [a,b] \\times [c,d]$, then the double integral $\\iint_\\mathcal{R} f\\, dA$ exists and is equal to \n",
    "\n",
    "$$ \\int_a^b \\int_c^d f(x,y)\\,dy\\,dx =  \\int_c^d \\int_a^b f(x,y)\\,dx\\,dy. $$ "
   ]
  },
  {
   "cell_type": "markdown",
   "metadata": {
    "slideshow": {
     "slide_type": "subslide"
    }
   },
   "source": [
    "### Example\n",
    "\n",
    "Let $\\mathcal{R} = [0,\\pi]\\times[0,2\\pi]$. Evaluate $$\\iint_\\mathcal{R} x \\cos(xy)\\,dA$$ as an iterated integral."
   ]
  },
  {
   "cell_type": "code",
   "execution_count": 41,
   "metadata": {
    "slideshow": {
     "slide_type": "fragment"
    }
   },
   "outputs": [
    {
     "data": {
      "text/plain": [
       "0.058937983936327605"
      ]
     },
     "execution_count": 41,
     "metadata": {},
     "output_type": "execute_result"
    }
   ],
   "source": [
    "(1-cos(2*pi**2))/(2*pi)"
   ]
  },
  {
   "cell_type": "code",
   "execution_count": 64,
   "metadata": {
    "slideshow": {
     "slide_type": "fragment"
    }
   },
   "outputs": [
    {
     "data": {
      "text/plain": [
       "0.058937983936327404"
      ]
     },
     "execution_count": 64,
     "metadata": {},
     "output_type": "execute_result"
    }
   ],
   "source": [
    "dblquad(lambda y,x: x*cos(x*y),0,pi,0,2*pi)[0]"
   ]
  },
  {
   "cell_type": "markdown",
   "metadata": {
    "slideshow": {
     "slide_type": "subslide"
    }
   },
   "source": [
    "## Nonrectangular domains\n",
    "\n",
    "Assuming a region $\\mathcal{D}$ is not \"too bad****\", we can integrate over it by admitting to the sum, only terms where the subrectangle lies in $\\mathcal{D}$.  "
   ]
  },
  {
   "cell_type": "markdown",
   "metadata": {
    "slideshow": {
     "slide_type": "fragment"
    }
   },
   "source": [
    "#### Quick Example\n",
    "\n",
    "Let $\\mathcal{D} = \\{ (x,y) \\mid 1\\leq x^2 + y^2 \\leq 4\\}$, an annulus.\n",
    "\n",
    "Approximate $$\\iint_\\mathcal{D} (2+x)\\,dA$$"
   ]
  },
  {
   "cell_type": "code",
   "execution_count": 75,
   "metadata": {
    "hide_input": true,
    "scrolled": false,
    "slideshow": {
     "slide_type": "fragment"
    }
   },
   "outputs": [
    {
     "data": {
      "application/vnd.jupyter.widget-view+json": {
       "model_id": "1f77743413fc4c558f22c22512caeed9",
       "version_major": 2,
       "version_minor": 0
      },
      "text/plain": [
       "interactive(children=(IntSlider(value=20, description='N', max=40, min=1), FloatSlider(value=0.5, description=…"
      ]
     },
     "metadata": {},
     "output_type": "display_data"
    }
   ],
   "source": [
    "@interact\n",
    "def _(N=(1,40),s=(0.,1.,.25),angle=(-180,10,6),vangle=(15,90,5)):\n",
    "    f = lambda x,y: 2+x \n",
    "    a=-2\n",
    "    b=2\n",
    "    c=-2\n",
    "    d=2\n",
    "    r = np.linspace(1,2,50)\n",
    "    th = np.linspace(-pi,pi,150)\n",
    "    XN = np.linspace(a,b,N+1)\n",
    "    YN = np.linspace(c,d,N+1)\n",
    "    fig = plt.figure(figsize=(12,12))\n",
    "    ax = fig.add_subplot(111,projection='3d')\n",
    "    ax.view_init(vangle,angle)\n",
    "    r,th = np.meshgrid(r,th)\n",
    "    X = r*cos(th)\n",
    "    Y = r*sin(th)\n",
    "    XN,YN = np.meshgrid(XN,YN)\n",
    "    ZN = (f(XN,YN)).ravel()\n",
    "    dx = (b-a)/N\n",
    "    dy = (d-c)/N\n",
    "    ax.plot_surface(X,Y,f(X,Y),alpha=.8,cmap='rainbow')\n",
    "#     ax.bar3d(XN.ravel(),YN.ravel(),0*ZN,dx,dy,ZN)\n",
    "\n",
    "    tot = 0\n",
    "    for i in range(N):\n",
    "        for j in range(N):\n",
    "            xi = a + (i)*dx\n",
    "            yj = c + j*dy\n",
    "            zi = f(xi+s*dx,yj+s*dy)\n",
    "            if zi >=0:\n",
    "                cl = 'gray'\n",
    "            else: \n",
    "                cl = 'r'\n",
    "            if (1 < norm((xi,yj)) < 2) and (1 < norm((xi+dx,yj+dy)) < 2):\n",
    "                ax.bar3d(xi,yj,0,dx,dy,zi,alpha=.4,color=cl)\n",
    "                tot += zi\n",
    "#             ax.add_patch(Rectangle((a,c),b-a,d-c))\n",
    "    ax.set_title(f\"$\\int_\\mathcal{{D}}(x+2) dA \\sim $ {tot * dx*dy:.5f}\",fontsize=17)\n",
    "    for ch in 'xyz':\n",
    "        getattr(ax,f\"set_{ch}label\")(f\"${ch}$\",fontsize=17)                                          \n",
    "                            "
   ]
  },
  {
   "cell_type": "markdown",
   "metadata": {
    "slideshow": {
     "slide_type": "fragment"
    }
   },
   "source": [
    " ****Meaning, essentially, its area is well approximated with rectangles."
   ]
  },
  {
   "cell_type": "markdown",
   "metadata": {
    "slideshow": {
     "slide_type": "slide"
    }
   },
   "source": [
    "### Regions defined by functions\n",
    "\n",
    "A region in $\\RR^2$ that is bounded by graphs of functions (of one variable) can be integrated over as interated integrals. \n",
    "\n",
    "Suppose $\\mathcal{D} = \\{(x,y) \\mid g(x) \\leq y \\leq h(x) \\}$. Then \n",
    "\n",
    "$$\\iint_\\mathcal{R} f(x,y) \\,dA = \\int_a^b \\int_{g(x)}^{h(x)} f(x,y)\\,dy\\,dx$$ "
   ]
  },
  {
   "cell_type": "markdown",
   "metadata": {
    "slideshow": {
     "slide_type": "subslide"
    }
   },
   "source": [
    "## Example\n",
    "\n",
    "Let $\\mathcal{D}$ be the region bounded by the curves $y=x^3/32$ and $y=\\sqrt{x}$ in the first quadrant. Find the integral $\\iint_\\mathcal{D} x y\\,dA$ two ways."
   ]
  },
  {
   "cell_type": "code",
   "execution_count": null,
   "metadata": {
    "slideshow": {
     "slide_type": "skip"
    }
   },
   "outputs": [],
   "source": [
    "x = np.linspace(0,4,100)\n",
    "y1 = x**3/32\n",
    "y2 = sqrt(x)\n",
    "plt.plot(x,y1,x,y2)\n",
    "plt.gca().fill_between(x,y1,y2);"
   ]
  },
  {
   "cell_type": "code",
   "execution_count": 45,
   "metadata": {
    "hide_input": true,
    "scrolled": false,
    "slideshow": {
     "slide_type": "fragment"
    }
   },
   "outputs": [
    {
     "data": {
      "application/vnd.jupyter.widget-view+json": {
       "model_id": "cf6fcf8adb9c418392c30af703a326fe",
       "version_major": 2,
       "version_minor": 0
      },
      "text/plain": [
       "interactive(children=(FloatSlider(value=2.0, description='s', max=4.0, step=0.02), Dropdown(description='axis'…"
      ]
     },
     "metadata": {},
     "output_type": "display_data"
    }
   ],
   "source": [
    "@interact\n",
    "def _(s=(0,4,.02),axis=['x','y']):\n",
    "    x = np.linspace(0,4,100)\n",
    "    y1 = x**3/32\n",
    "    y2 = sqrt(x)\n",
    "    fig = plt.figure(figsize=(10,5))\n",
    "    ax = fig.gca()\n",
    "    ax.plot(x,y1,x,y2)\n",
    "    ax.fill_between(x,y1,y2);\n",
    "    if axis == 'x':\n",
    "        ax.add_patch(Rectangle([s-.01,s**3/32],.02,sqrt(s)-s**3/32,color='red',alpha=.8))\n",
    "    else:\n",
    "        ax.add_patch(Rectangle([(s/2)**2,(s/2)-.01],(32*(s/2))**(1/3)-(s/2)**2,.02,color='red',alpha=.8))"
   ]
  },
  {
   "cell_type": "code",
   "execution_count": null,
   "metadata": {
    "slideshow": {
     "slide_type": "fragment"
    }
   },
   "outputs": [],
   "source": [
    "f = lambda y,x: x*y\n",
    "g = lambda x: x**3/32\n",
    "h = sqrt\n",
    "\n",
    "dblquad(f, 0,4,g,h)[0]"
   ]
  },
  {
   "cell_type": "code",
   "execution_count": null,
   "metadata": {
    "slideshow": {
     "slide_type": "fragment"
    }
   },
   "outputs": [],
   "source": [
    "f = lambda x,y: x*y\n",
    "g = lambda y: (32*y)**(1/3)\n",
    "h = lambda y: y**2\n",
    "\n",
    "dblquad(f, 0,2,h,g)[0]"
   ]
  },
  {
   "cell_type": "markdown",
   "metadata": {
    "slideshow": {
     "slide_type": "subslide"
    }
   },
   "source": [
    "### Exercise\n",
    "\n",
    "We want to find the volume of the solid region under the plane $x-2y+z=10$ and above the region bounded by $x+y=1$ and $x^2+y=1$.\n",
    "\n",
    "  1. Sketch the region of integration."
   ]
  },
  {
   "cell_type": "markdown",
   "metadata": {
    "slideshow": {
     "slide_type": "fragment"
    }
   },
   "source": [
    "  2. Choose an order of integration."
   ]
  },
  {
   "cell_type": "markdown",
   "metadata": {
    "slideshow": {
     "slide_type": "fragment"
    }
   },
   "source": [
    "  3. Set up iterated integral."
   ]
  },
  {
   "cell_type": "markdown",
   "metadata": {
    "slideshow": {
     "slide_type": "slide"
    }
   },
   "source": [
    "## Polar Coordinates\n",
    "\n",
    "Note that the area of the rectangle $\\{(x,y) \\mid x_1 \\leq x \\leq x_2, y_1 \\leq y \\leq y_2 \\}$ is \n",
    "\n",
    "$$\\Delta A = (x_2-x_1)(y_2-y_1) = \\Delta x \\Delta y $$"
   ]
  },
  {
   "cell_type": "markdown",
   "metadata": {
    "slideshow": {
     "slide_type": "subslide"
    }
   },
   "source": [
    "But what about a \"polar rectangle\"  $\\{(r \\cos \\theta,r \\sin \\theta) \\mid r_1 \\leq r \\leq r_2, \\theta_1 \\leq \\theta \\leq \\theta_2 \\}$?"
   ]
  },
  {
   "cell_type": "code",
   "execution_count": 68,
   "metadata": {
    "hide_input": true,
    "slideshow": {
     "slide_type": "fragment"
    }
   },
   "outputs": [
    {
     "data": {
      "application/vnd.jupyter.widget-view+json": {
       "model_id": "c2d8a4391e86486fb1241b6f9739f961",
       "version_major": 2,
       "version_minor": 0
      },
      "text/plain": [
       "interactive(children=(FloatSlider(value=0.0, description='s', max=1.0), IntSlider(value=-61, description='angl…"
      ]
     },
     "metadata": {},
     "output_type": "display_data"
    }
   ],
   "source": [
    "@interact\n",
    "def _(s=(0,1,.1),angle=(-127,6,6)):\n",
    "    fig = plt.figure(figsize=(12,6))\n",
    "    ax= fig.add_subplot(121)\n",
    "    ax2 = fig.add_subplot(122,projection='3d')\n",
    "    r = np.linspace(1,2,8)\n",
    "    th = np.linspace(0,pi/3,8)\n",
    "    t = np.linspace(0,1,26)\n",
    "    for x in r:\n",
    "        ax.plot((1-s)*x*np.ones_like(t) + s*(x*cos(t*pi/3)),(1-s)*t*pi/3 + s*(x*sin(t*pi/3)),'k')\n",
    "    for y in th:\n",
    "        ax.plot((1-s)*(1+t) + s*(1+t)*cos(y),(1-s)*y*np.ones_like(t)+ s*(1+t)*sin(y),'k')\n",
    "\n",
    "    for x in r:\n",
    "        ax2.plot((1-s)*x*np.ones_like(t) + s*(x*cos(t*pi/3)),(1-s)*t*pi/3 + s*(x*sin(t*pi/3)),0*t,'k')\n",
    "    for y in th:\n",
    "        ax2.plot((1-s)*(1+t) + s*(1+t)*cos(y),(1-s)*y*np.ones_like(t)+ s*(1+t)*sin(y),0*t,'k')\n",
    "        \n",
    "    for a in [ax,ax2]:\n",
    "        if s == 0:\n",
    "            a.set_xlabel('$r$',fontsize=20)\n",
    "            a.set_ylabel('$\\\\theta$',fontsize=20)\n",
    "        elif s == 1:\n",
    "            a.set_xlabel('$x$',fontsize=20)\n",
    "            a.set_ylabel('$y$',fontsize=20)\n",
    "        else:\n",
    "            a.set_xlabel(' ',fontsize=20)\n",
    "            a.set_ylabel(' ',fontsize=20)\n",
    "            \n",
    "    R,TH = np.meshgrid(r,th)\n",
    "    \n",
    "    X = (1-s)*R + s*(R*cos(TH))\n",
    "    Y = (1-s)*TH + s*(R*sin(TH))\n",
    "    Z = 1 + R*cos(TH) + R*sin(TH)\n",
    "    ax2.plot_surface(X,Y,Z,cmap='rainbow')\n",
    "    ax2.view_init(35,angle)\n",
    "   \n",
    "    ax.set_xlim([0,2.5])\n",
    "    ax.set_ylim([0,2.5])\n",
    "    ax2.set_xlim3d([0,2.5])\n",
    "    ax2.set_ylim3d([0,2.5])"
   ]
  },
  {
   "cell_type": "markdown",
   "metadata": {
    "slideshow": {
     "slide_type": "subslide"
    }
   },
   "source": [
    "## Converting integrals to polar coordinates. \n",
    "\n",
    "Let $\\mathcal{D}$ be the polar region defined by $r_1 \\leq r \\leq r_2, \\theta_1 \\leq \\theta \\leq \\theta_2 $ and $f(x,y)$ a continuous function on $\\mathcal D$. Then,\n",
    "\n",
    "$$\\iint_\\mathcal D f dA = \\int_{\\theta_1}^{\\theta_2} \\int_{r_1}^{r_2} f(r \\cos \\theta,r \\sin \\theta )\\,r\\,dr\\,d\\theta$$ \n",
    "\n"
   ]
  },
  {
   "cell_type": "code",
   "execution_count": null,
   "metadata": {},
   "outputs": [],
   "source": []
  },
  {
   "cell_type": "markdown",
   "metadata": {
    "slideshow": {
     "slide_type": "fragment"
    }
   },
   "source": [
    "Remember to convert all parts of the integral:\n",
    "  - the limits of integration\n",
    "  - the integrand\n",
    "  - the differential"
   ]
  },
  {
   "cell_type": "markdown",
   "metadata": {
    "slideshow": {
     "slide_type": "subslide"
    }
   },
   "source": [
    "## Examples\n",
    "\n",
    "  1. Find the volume under a paraboloid $z=a^2-x^2-y^2$ annd above $z=0$ in terms of $a$ where $a>0$.\n",
    "  \n",
    "  3. Sketch the region of integration in the definite integral below and then evaluate it using polar coordinates.  $$\\int_0^1\\int_{\\sqrt{1-x^2}}^{\\sqrt{4-x^2}} x\\,dy\\,dx + \\int_1^2\\int_{0}^{\\sqrt{4-x^2}} x\\,dy\\,dx$$\n",
    "  \n",
    "  2. Find the volume of the region above the $xy$-plane, under the surface $z=x^2+y^2$ and inside the cylinder $x^2 +(y-1)^2 =1$.\n",
    "  \n"
   ]
  },
  {
   "cell_type": "markdown",
   "metadata": {
    "slideshow": {
     "slide_type": "slide"
    }
   },
   "source": [
    "### Cool Example\n",
    "\n",
    "Compute $$\\int_{-\\infty}^\\infty e^{-x^2}\\,dx.$$"
   ]
  },
  {
   "cell_type": "code",
   "execution_count": null,
   "metadata": {},
   "outputs": [],
   "source": []
  }
 ],
 "metadata": {
  "celltoolbar": "Slideshow",
  "kernelspec": {
   "display_name": "Python 3",
   "language": "python",
   "name": "python3"
  },
  "language_info": {
   "codemirror_mode": {
    "name": "ipython",
    "version": 3
   },
   "file_extension": ".py",
   "mimetype": "text/x-python",
   "name": "python",
   "nbconvert_exporter": "python",
   "pygments_lexer": "ipython3",
   "version": "3.7.6"
  },
  "rise": {
   "enable_chalkboard": true,
   "scroll": true,
   "theme": "sky",
   "transition": "concave"
  }
 },
 "nbformat": 4,
 "nbformat_minor": 2
}
