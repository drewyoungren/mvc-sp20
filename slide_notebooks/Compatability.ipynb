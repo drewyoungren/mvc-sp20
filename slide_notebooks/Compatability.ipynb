{
 "cells": [
  {
   "cell_type": "code",
   "execution_count": 23,
   "metadata": {},
   "outputs": [],
   "source": [
    "import pandas as pd\n",
    "import numpy as np\n",
    "import matplotlib.pyplot as plt"
   ]
  },
  {
   "cell_type": "markdown",
   "metadata": {},
   "source": [
    "Some online dating service advertises matching users on over 32 dimensions of compatibility. Let's try 5.\n",
    "\n",
    "Please fill out the following brief survey. Choose an identifier (fake name) to remain anonymous yet be able to recognize yourself. "
   ]
  },
  {
   "cell_type": "code",
   "execution_count": 2,
   "metadata": {},
   "outputs": [],
   "source": [
    "from itertools import combinations"
   ]
  },
  {
   "cell_type": "code",
   "execution_count": 68,
   "metadata": {},
   "outputs": [
    {
     "data": {
      "text/html": [
       "<div>\n",
       "<style scoped>\n",
       "    .dataframe tbody tr th:only-of-type {\n",
       "        vertical-align: middle;\n",
       "    }\n",
       "\n",
       "    .dataframe tbody tr th {\n",
       "        vertical-align: top;\n",
       "    }\n",
       "\n",
       "    .dataframe thead th {\n",
       "        text-align: right;\n",
       "    }\n",
       "</style>\n",
       "<table border=\"1\" class=\"dataframe\">\n",
       "  <thead>\n",
       "    <tr style=\"text-align: right;\">\n",
       "      <th></th>\n",
       "      <th>Timestamp</th>\n",
       "      <th>Name</th>\n",
       "      <th>Gazpacho</th>\n",
       "      <th>Wrestling</th>\n",
       "      <th>Driver</th>\n",
       "      <th>Socks</th>\n",
       "      <th>Halloween</th>\n",
       "    </tr>\n",
       "  </thead>\n",
       "  <tbody>\n",
       "    <tr>\n",
       "      <th>0</th>\n",
       "      <td>1/27/2020 16:38:26</td>\n",
       "      <td>Drake</td>\n",
       "      <td>6</td>\n",
       "      <td>4</td>\n",
       "      <td>7</td>\n",
       "      <td>0</td>\n",
       "      <td>6</td>\n",
       "    </tr>\n",
       "    <tr>\n",
       "      <th>1</th>\n",
       "      <td>1/27/2020 16:38:50</td>\n",
       "      <td>Shaggy</td>\n",
       "      <td>9</td>\n",
       "      <td>9</td>\n",
       "      <td>1</td>\n",
       "      <td>5</td>\n",
       "      <td>8</td>\n",
       "    </tr>\n",
       "    <tr>\n",
       "      <th>2</th>\n",
       "      <td>1/27/2020 16:39:20</td>\n",
       "      <td>Björn Borg</td>\n",
       "      <td>3</td>\n",
       "      <td>8</td>\n",
       "      <td>8</td>\n",
       "      <td>8</td>\n",
       "      <td>10</td>\n",
       "    </tr>\n",
       "    <tr>\n",
       "      <th>3</th>\n",
       "      <td>1/27/2020 17:02:16</td>\n",
       "      <td>Tin Man</td>\n",
       "      <td>1</td>\n",
       "      <td>0</td>\n",
       "      <td>10</td>\n",
       "      <td>0</td>\n",
       "      <td>3</td>\n",
       "    </tr>\n",
       "    <tr>\n",
       "      <th>4</th>\n",
       "      <td>1/27/2020 17:02:42</td>\n",
       "      <td>Dorothy</td>\n",
       "      <td>10</td>\n",
       "      <td>0</td>\n",
       "      <td>10</td>\n",
       "      <td>3</td>\n",
       "      <td>8</td>\n",
       "    </tr>\n",
       "  </tbody>\n",
       "</table>\n",
       "</div>"
      ],
      "text/plain": [
       "            Timestamp        Name  Gazpacho  Wrestling  Driver  Socks  \\\n",
       "0  1/27/2020 16:38:26       Drake         6          4       7      0   \n",
       "1  1/27/2020 16:38:50      Shaggy         9          9       1      5   \n",
       "2  1/27/2020 16:39:20  Björn Borg         3          8       8      8   \n",
       "3  1/27/2020 17:02:16     Tin Man         1          0      10      0   \n",
       "4  1/27/2020 17:02:42     Dorothy        10          0      10      3   \n",
       "\n",
       "   Halloween  \n",
       "0          6  \n",
       "1          8  \n",
       "2         10  \n",
       "3          3  \n",
       "4          8  "
      ]
     },
     "execution_count": 68,
     "metadata": {},
     "output_type": "execute_result"
    }
   ],
   "source": [
    "url = \"https://docs.google.com/spreadsheets/d/e/2PACX-1vQo8Y7wh33vZv9uYdewzwASSfYXQsPEGWldt_lWk8MPBYnBxKprcysZ-u9hjqPIWIeqndB4f-U1oAoM/pub?gid=1201323166&single=true&output=csv\"\n",
    "responses = pd.read_csv(url)\n",
    "qs = ['Gazpacho', 'Wrestling',\n",
    "       'Driver', 'Socks',\n",
    "       'Halloween']\n",
    "responses.columns = ['Timestamp', 'Name'] + qs\n",
    "responses"
   ]
  },
  {
   "cell_type": "code",
   "execution_count": 64,
   "metadata": {},
   "outputs": [],
   "source": []
  },
  {
   "cell_type": "code",
   "execution_count": 76,
   "metadata": {},
   "outputs": [
    {
     "data": {
      "image/png": "[encoded data removed]",
      "text/plain": [
       "<Figure size 432x288 with 1 Axes>"
      ]
     },
     "metadata": {
      "needs_background": "light"
     },
     "output_type": "display_data"
    }
   ],
   "source": [
    "answers = responses[qs].to_numpy() - 5\n",
    "plt.plot(np.transpose(answers));\n",
    "plt.xticks(ticks=range(5),labels=qs);\n",
    "# plt.legend(responses.Name,loc='upper right');"
   ]
  },
  {
   "cell_type": "code",
   "execution_count": 79,
   "metadata": {},
   "outputs": [],
   "source": [
    "from numpy import dot,arccos #dot product, arccos\n",
    "from numpy.linalg import norm # this is the magnitude function\n",
    "\n",
    "out = []\n",
    "for x,y in combinations(responses.index,2):\n",
    "    xinfo,yinfo = responses.loc[[x,y],qs].to_numpy() - 5\n",
    "#     print (xinfo,yinfo,dot(xinfo,yinfo))\n",
    "    compat = dot(xinfo,yinfo)/(norm(xinfo)*norm(yinfo))\n",
    "    out.append([responses.loc[x,\"Name\"],responses.loc[y,\"Name\"],compat])\n",
    "\n",
    "results = pd.DataFrame(out,columns=[\"Name1\",\"Name2\",\"Compat\"]).sort_values(\"Compat\",ascending=False)"
   ]
  },
  {
   "cell_type": "code",
   "execution_count": 80,
   "metadata": {},
   "outputs": [
    {
     "data": {
      "text/html": [
       "<div>\n",
       "<style scoped>\n",
       "    .dataframe tbody tr th:only-of-type {\n",
       "        vertical-align: middle;\n",
       "    }\n",
       "\n",
       "    .dataframe tbody tr th {\n",
       "        vertical-align: top;\n",
       "    }\n",
       "\n",
       "    .dataframe thead th {\n",
       "        text-align: right;\n",
       "    }\n",
       "</style>\n",
       "<table border=\"1\" class=\"dataframe\">\n",
       "  <thead>\n",
       "    <tr style=\"text-align: right;\">\n",
       "      <th></th>\n",
       "      <th>Name1</th>\n",
       "      <th>Name2</th>\n",
       "      <th>Compat</th>\n",
       "    </tr>\n",
       "  </thead>\n",
       "  <tbody>\n",
       "    <tr>\n",
       "      <th>3</th>\n",
       "      <td>Drake</td>\n",
       "      <td>Dorothy</td>\n",
       "      <td>0.621867</td>\n",
       "    </tr>\n",
       "    <tr>\n",
       "      <th>2</th>\n",
       "      <td>Drake</td>\n",
       "      <td>Tin Man</td>\n",
       "      <td>0.616655</td>\n",
       "    </tr>\n",
       "    <tr>\n",
       "      <th>9</th>\n",
       "      <td>Tin Man</td>\n",
       "      <td>Dorothy</td>\n",
       "      <td>0.371857</td>\n",
       "    </tr>\n",
       "    <tr>\n",
       "      <th>4</th>\n",
       "      <td>Shaggy</td>\n",
       "      <td>Björn Borg</td>\n",
       "      <td>0.123899</td>\n",
       "    </tr>\n",
       "    <tr>\n",
       "      <th>8</th>\n",
       "      <td>Björn Borg</td>\n",
       "      <td>Dorothy</td>\n",
       "      <td>-0.014245</td>\n",
       "    </tr>\n",
       "    <tr>\n",
       "      <th>0</th>\n",
       "      <td>Drake</td>\n",
       "      <td>Shaggy</td>\n",
       "      <td>-0.117073</td>\n",
       "    </tr>\n",
       "    <tr>\n",
       "      <th>6</th>\n",
       "      <td>Shaggy</td>\n",
       "      <td>Dorothy</td>\n",
       "      <td>-0.155315</td>\n",
       "    </tr>\n",
       "    <tr>\n",
       "      <th>1</th>\n",
       "      <td>Drake</td>\n",
       "      <td>Björn Borg</td>\n",
       "      <td>-0.212605</td>\n",
       "    </tr>\n",
       "    <tr>\n",
       "      <th>7</th>\n",
       "      <td>Björn Borg</td>\n",
       "      <td>Tin Man</td>\n",
       "      <td>-0.233074</td>\n",
       "    </tr>\n",
       "    <tr>\n",
       "      <th>5</th>\n",
       "      <td>Shaggy</td>\n",
       "      <td>Tin Man</td>\n",
       "      <td>-0.842544</td>\n",
       "    </tr>\n",
       "  </tbody>\n",
       "</table>\n",
       "</div>"
      ],
      "text/plain": [
       "        Name1       Name2    Compat\n",
       "3       Drake     Dorothy  0.621867\n",
       "2       Drake     Tin Man  0.616655\n",
       "9     Tin Man     Dorothy  0.371857\n",
       "4      Shaggy  Björn Borg  0.123899\n",
       "8  Björn Borg     Dorothy -0.014245\n",
       "0       Drake      Shaggy -0.117073\n",
       "6      Shaggy     Dorothy -0.155315\n",
       "1       Drake  Björn Borg -0.212605\n",
       "7  Björn Borg     Tin Man -0.233074\n",
       "5      Shaggy     Tin Man -0.842544"
      ]
     },
     "execution_count": 80,
     "metadata": {},
     "output_type": "execute_result"
    }
   ],
   "source": [
    "results"
   ]
  },
  {
   "cell_type": "code",
   "execution_count": null,
   "metadata": {},
   "outputs": [],
   "source": []
  }
 ],
 "metadata": {
  "kernelspec": {
   "display_name": "Python 3",
   "language": "python",
   "name": "python3"
  },
  "language_info": {
   "codemirror_mode": {
    "name": "ipython",
    "version": 3
   },
   "file_extension": ".py",
   "mimetype": "text/x-python",
   "name": "python",
   "nbconvert_exporter": "python",
   "pygments_lexer": "ipython3",
   "version": "3.7.6"
  }
 },
 "nbformat": 4,
 "nbformat_minor": 2
}
