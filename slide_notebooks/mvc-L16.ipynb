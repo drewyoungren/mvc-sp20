{
 "cells": [
  {
   "cell_type": "code",
   "execution_count": 1,
   "metadata": {
    "slideshow": {
     "slide_type": "skip"
    }
   },
   "outputs": [],
   "source": [
    "import numpy as np\n",
    "import matplotlib.pyplot as plt\n",
    "from IPython.display import display, HTML, IFrame\n",
    "from ipywidgets import interact,fixed\n",
    "import pandas as pd\n",
    "from mpl_toolkits import mplot3d\n",
    "from mpl_toolkits.mplot3d import axes3d\n",
    "from matplotlib.patches import FancyArrowPatch,Rectangle\n",
    "from mpl_toolkits.mplot3d.art3d import Poly3DCollection\n",
    "from mpl_toolkits.mplot3d import proj3d\n",
    "\n",
    "plt.rcParams[\"figure.figsize\"] = [10, 10]\n",
    "\n",
    "from numpy.linalg import norm\n",
    "from numpy import cos,sin,tan,arctan,exp,log,pi,sqrt\n",
    "\n",
    "from scipy.integrate import quad,dblquad"
   ]
  },
  {
   "cell_type": "markdown",
   "metadata": {
    "slideshow": {
     "slide_type": "notes"
    }
   },
   "source": [
    "$\\newcommand{\\RR}{\\mathbb{R}}$\n",
    "$\\newcommand{\\bv}[1]{\\begin{bmatrix} #1 \\end{bmatrix}}$\n",
    "$\\renewcommand{\\vec}{\\mathbf}$\n"
   ]
  },
  {
   "cell_type": "markdown",
   "metadata": {
    "hide_input": true,
    "slideshow": {
     "slide_type": "slide"
    }
   },
   "source": [
    "## Announcements\n",
    "\n",
    "  - Quiz 7 this week. \n",
    "    - Switch order of double integral.\n",
    "    - Polar coordinates.\n",
    "    - Center of mass/moments of inertia.\n",
    "  - Homework 9 due **Wednesday**.\n",
    "  - Exam 2 11/07\n",
    "    - Similar procedure to last time.\n",
    "    - Details to follow.\n",
    "    "
   ]
  },
  {
   "cell_type": "markdown",
   "metadata": {
    "slideshow": {
     "slide_type": "slide"
    }
   },
   "source": [
    "# One-minute Review\n",
    "\n",
    "  - A double integral of a function $f(x,y)$ over a region $\\mathcal R$ translated to $(r\\theta)$-coordinates is given by $$\\iint_\\mathcal R f(x,y)\\,dxdy = \\iint_\\mathcal R f(r\\cos \\theta, r \\sin \\theta)\\,r\\,drd\\theta$$\n",
    "\n",
    "where the bounds of integration for $\\mathcal R$ are translated appropriately.\n",
    "\n",
    "  - Let $\\rho(x,y)$ be a density function defined on a planar region $\\mathcal A$. Then, \n",
    "    - the total mass of $\\mathcal A$ is given by $$ M = \\iint_\\mathcal A \\rho(x,y)\\,dA.$$\n",
    "    - the center of mass of $\\mathcal A$ is given by $$ (\\bar{x},\\bar{y}) = \\left( \\frac1M \\iint_\\mathcal A x \\rho(x,y)\\,dA, \\frac1M \\iint_\\mathcal A y \\rho(x,y)\\,dA\\right).$$\n",
    "    - The moment of inertia about the origin is given by $$\\iint_\\mathcal A (x^2 + y^2) \\rho(x,y)\\,dA.$$\n",
    "  \n",
    "  "
   ]
  },
  {
   "cell_type": "markdown",
   "metadata": {
    "slideshow": {
     "slide_type": "slide"
    }
   },
   "source": [
    "# Lecture 16\n",
    "\n",
    "  - Objectives\n",
    "    - Triple Integration\n",
    "      - Change order of integration for nonrectangular domains.\n",
    "      - Cylindrical Coordinates.\n",
    "      - Spherical Coordinates.    \n",
    "  - Resources\n",
    "    - Content\n",
    "      - Stewart: §15.5–7\n",
    "      - New Strang:  \n",
    "        - [§5.4](https://openstax.org/books/calculus-volume-3/pages/5-4-triple-integrals) Some good practice on changing order of integration here, Particularly, nos. 203–206, 211, 212, 215–220, 235, 240\n",
    "        - [§5.5](https://openstax.org/books/calculus-volume-3/pages/5-5-triple-integrals-in-cylindrical-and-spherical-coordinates)\n",
    "      - [Slides](https://hub.columbiajupyter2.org/hub/user-redirect/git-pull?repo=https%3A%2F%2Fgithub.com%2Fdrewyoungren%2Fmvc-f19&urlpath=tree%2Fmvc-f19%2Fslides%2Fmvc-L16.ipynb) via JupyterHub\n",
    "    - Practice\n",
    "      - Mooculus: [Cylindrical Coordinates](https://ximera.osu.edu/mooculus/calculus3/commonCoordinates/digInCylindricalCoordinates) [Spherical](https://ximera.osu.edu/mooculus/calculus3/computationsAndInterpretations/digInMassMomentsAndCenterOfMass)\n",
    "    - Extras\n",
    "      - CalcBLUE: [Cylindrical Coordinates](https://www.youtube.com/watch?v=YIi7muLgI9U&list=PL8erL0pXF3JaJdUcmc_PeGV-vG5z87BkD&index=90) [Spherical Coordinates](https://www.youtube.com/watch?v=Zc8uCT-e5KI&list=PL8erL0pXF3JaJdUcmc_PeGV-vG5z87BkD&index=98) "
   ]
  },
  {
   "cell_type": "markdown",
   "metadata": {
    "slideshow": {
     "slide_type": "slide"
    }
   },
   "source": [
    "# Triple integrals\n",
    "\n",
    "Integrating in three dimensions presents no theoretical challenge. \n",
    "\n",
    "$$\\iiint_E f(x,y,z)\\,dV = \\lim_{M,N,P\\to\\infty} \\sum_{i=1}^M\\sum_{j=1}^N\\sum_{k=1}^P f(x_i^*,y_j^*,z_k^*)\\,\\Delta V_{ijk}$$"
   ]
  },
  {
   "cell_type": "markdown",
   "metadata": {
    "slideshow": {
     "slide_type": "fragment"
    }
   },
   "source": [
    "### Evaluating\n",
    "\n",
    "Fubini's Theorem applies directly to this case; thus, we can compute using (3) iterated integrals.\n",
    "\n",
    "$$\\iiint_E f(x,y,z)\\,dV = \\int_a^b \\int_{g(x)}^{h(x)} \\int_{j(x,y)}^{k(x,y)} f(x,y,z)\\,dz\\,dy\\,dx $$"
   ]
  },
  {
   "cell_type": "markdown",
   "metadata": {
    "slideshow": {
     "slide_type": "subslide"
    }
   },
   "source": [
    "## Example\n",
    "\n",
    "Set up an iterated integral to find the mass of the region between the surface $z=x^2 + y ^2$ and $z = 2x + 1$ if the density is given by $\\rho(x,y,z) = 2z$. "
   ]
  },
  {
   "cell_type": "code",
   "execution_count": 2,
   "metadata": {
    "hide_input": true,
    "scrolled": false,
    "slideshow": {
     "slide_type": "fragment"
    }
   },
   "outputs": [
    {
     "data": {
      "application/vnd.jupyter.widget-view+json": {
       "model_id": "879e90b1873243fa8ba0abb99efd0b9d",
       "version_major": 2,
       "version_minor": 0
      },
      "text/plain": [
       "interactive(children=(IntSlider(value=-24, description='angle', max=6, min=-108, step=6), Output()), _dom_clas…"
      ]
     },
     "metadata": {},
     "output_type": "display_data"
    }
   ],
   "source": [
    "@interact(angle=(-108,6,6))\n",
    "def _(angle=-24):\n",
    "    fig = plt.figure(figsize=(10,10))\n",
    "    ax= fig.add_subplot(111,projection='3d')\n",
    "    r = np.linspace(0,1,50)\n",
    "    th = np.linspace(0,2*pi,80)\n",
    "    r,th = np.meshgrid(r,th)\n",
    "    X = sqrt(2)*r*cos(th)+1\n",
    "    Y = sqrt(2)*r*sin(th)\n",
    "    Z = X**2 + Y**2\n",
    "    ax.plot_wireframe(X,Y,Z,rcount=20,ccount=20)\n",
    "    ax.plot_wireframe(X,Y,2*X + 1,rcount=20,ccount=20)\n",
    "    ax.plot_surface(X,Y,0*r,rcount=20,ccount=20,color='gray',alpha=.4)\n",
    "    ax.view_init(30,angle)\n",
    "# ???    t = np.linspace(0,1,26)\n",
    "#     for x in r:\n",
    "#         ax.plot(x*np.ones_like(t),t*pi/3,'k')\n",
    "#     for y in th:\n",
    "#         ax.plot(1+t,y*np.ones_like(t),'k')\n",
    "    for c in 'xyz':\n",
    "#         getattr(ax,f\"set_{c}lim\")([-1,1]);    \n",
    "        getattr(ax,f\"set_{c}label\")(f\"${c}$\",size=16)\n",
    "    "
   ]
  },
  {
   "cell_type": "markdown",
   "metadata": {
    "slideshow": {
     "slide_type": "fragment"
    }
   },
   "source": [
    "$$ \\int_{1-\\sqrt{2}}^{1+\\sqrt{2}}\\int_{-\\sqrt{2-(x-1)^2}}^{\\sqrt{2-(x-1)^2}}\\int_{x^2 + y^2}^{2x+1} 2z \\,dzdydx$$"
   ]
  },
  {
   "cell_type": "markdown",
   "metadata": {
    "slideshow": {
     "slide_type": "subslide"
    }
   },
   "source": [
    "## Switching the order of integration\n",
    "\n",
    "This is not an easy task in 3 variables, but is a very good exercise in spacial reasoning.\n",
    "\n",
    "It is worth practicing sketching in 3D (and keeping a graphing tool like CalcPlot3D handy). "
   ]
  },
  {
   "cell_type": "markdown",
   "metadata": {
    "slideshow": {
     "slide_type": "fragment"
    }
   },
   "source": [
    "### Example\n",
    "\n",
    "Write the triple integral $\\iiint_E f(x,y,z)\\,dV$ where E is the region in the first octant bounded by $z = 1-x^2$ and $y = 1-x$ as three different iterated integrals. "
   ]
  },
  {
   "cell_type": "code",
   "execution_count": 3,
   "metadata": {
    "hide_input": true,
    "scrolled": false,
    "slideshow": {
     "slide_type": "fragment"
    }
   },
   "outputs": [
    {
     "data": {
      "application/vnd.jupyter.widget-view+json": {
       "model_id": "7c98c163de7843e484930129d3f90a99",
       "version_major": 2,
       "version_minor": 0
      },
      "text/plain": [
       "interactive(children=(IntSlider(value=-24, description='angle', max=66, min=-108, step=6), IntSlider(value=42,…"
      ]
     },
     "metadata": {},
     "output_type": "display_data"
    }
   ],
   "source": [
    "@interact(angle=(-108,66,6))\n",
    "def _(angle=-24,vangle=(0,90,6)):\n",
    "    fig = plt.figure(figsize=(10,10))\n",
    "    ax= fig.add_subplot(111,projection='3d')\n",
    "    u = np.linspace(0,1,80)\n",
    "    v = np.linspace(0,1,80)\n",
    "    U,V = np.meshgrid(u,v)\n",
    "    X = U\n",
    "    Y = V*(1-U)\n",
    "    Z = 1-X**2\n",
    "    ax.plot_wireframe(X,Y,Z,rcount=20,ccount=20)\n",
    "    ax.plot_surface(X,Y,0*X,rcount=20,ccount=20,color='gray',alpha=.4)\n",
    "    ax.plot_surface(U,0*U,(1-U**2)*V,rcount=20,ccount=20,color='gray',alpha=.4)\n",
    "    ax.view_init(vangle,angle)\n",
    "    \n",
    "    ax.plot_wireframe(U,1-U,V*(1-U**2),rcount=20,ccount=20)\n",
    "\n",
    "# ???    t = np.linspace(0,1,26)\n",
    "#     for x in r:\n",
    "#         ax.plot(x*np.ones_like(t),t*pi/3,'k')\n",
    "#     for y in th:\n",
    "#         ax.plot(1+t,y*np.ones_like(t),'k')\n",
    "    for c in 'xyz':\n",
    "#         getattr(ax,f\"set_{c}lim\")([-1,1]);    \n",
    "        getattr(ax,f\"set_{c}label\")(f\"${c}$\",size=16)\n",
    "    "
   ]
  },
  {
   "cell_type": "markdown",
   "metadata": {
    "slideshow": {
     "slide_type": "fragment"
    }
   },
   "source": [
    "Solutions:\n",
    "\n",
    "$$\\int_0^1 \\int_0^{1-x} \\int_0^{1-x^2} f(x,y,z)\\,dz\\,dy\\,dx$$\n",
    "\n",
    "$$\\int_0^1 \\int_0^{1-x^2} \\int_0^{1-x} f(x,y,z)\\,dy\\,dz\\,dx$$\n",
    "\n",
    "$$\\int_0^1 \\int_0^{\\sqrt{1-z}} \\int_0^{1-x} f(x,y,z)\\,dy\\,dx\\,dz$$\n",
    "\n",
    "$$\\int_0^1 \\int_0^{1-y} \\int_0^{1-x^2} f(x,y,z)\\,dz\\,dx\\,dy$$\n",
    "\n",
    "And, oh boy..."
   ]
  },
  {
   "cell_type": "markdown",
   "metadata": {
    "slideshow": {
     "slide_type": "fragment"
    }
   },
   "source": [
    "$$\\int_0^1 \\int_0^{1-(1-y)^2} \\int_0^{\\sqrt{1-z}} f(x,y,z)\\,dx\\,dz\\,dy + \\int_0^1 \\int_{1-(1-y)^2}^1 \\int_0^{1-y} f(x,y,z)\\,dx\\,dz\\,dy $$\n",
    "\n",
    "$$\\int_0^1 \\int_0^{1-\\sqrt{1-z}} \\int_0^{1-y} f(x,y,z)\\,dx\\,dy\\,dz + \\int_0^1 \\int_{1-\\sqrt{1-z}}^1 \\int_0^{\\sqrt{1-z}} f(x,y,z)\\,dx\\,dy\\,dz $$"
   ]
  },
  {
   "cell_type": "markdown",
   "metadata": {
    "slideshow": {
     "slide_type": "subslide"
    }
   },
   "source": [
    "### Example\n",
    "\n",
    "Write the triple integral $\\iiint_E f(x,y,z)\\,dV$ where E is the region in the first octant bounded by $z = 1-x$ and $y = x^2$ as three different iterated integrals. "
   ]
  },
  {
   "cell_type": "code",
   "execution_count": 4,
   "metadata": {
    "hide_input": true,
    "scrolled": false,
    "slideshow": {
     "slide_type": "fragment"
    }
   },
   "outputs": [
    {
     "data": {
      "application/vnd.jupyter.widget-view+json": {
       "model_id": "52604cddd41d4d9190df43cfdf2e877b",
       "version_major": 2,
       "version_minor": 0
      },
      "text/plain": [
       "interactive(children=(IntSlider(value=-24, description='angle', max=66, min=-108, step=6), IntSlider(value=42,…"
      ]
     },
     "metadata": {},
     "output_type": "display_data"
    }
   ],
   "source": [
    "@interact(angle=(-108,66,6))\n",
    "def _(angle=-24,vangle=(0,90,6)):\n",
    "    fig = plt.figure(figsize=(10,10))\n",
    "    ax= fig.add_subplot(111,projection='3d')\n",
    "    u = np.linspace(0,1,80)\n",
    "    v = np.linspace(0,1,80)\n",
    "    U,V = np.meshgrid(u,v)\n",
    "    X = U\n",
    "    Y = V*(U**2)\n",
    "    Z = 1-X\n",
    "    ax.plot_wireframe(X,Y,Z,rcount=20,ccount=20)\n",
    "    ax.plot_surface(X,Y,0*X,rcount=20,ccount=20,color='gray',alpha=.4)\n",
    "    ax.view_init(vangle,angle)\n",
    "    \n",
    "    ax.plot_wireframe(U,U**2,V*(1-U),rcount=20,ccount=20)\n",
    "    ax.plot_surface(X,0*X,V*(1-U),rcount=20,ccount=20,color='gray',alpha=.4)\n",
    "# ???    t = np.linspace(0,1,26)\n",
    "#     for x in r:\n",
    "#         ax.plot(x*np.ones_like(t),t*pi/3,'k')\n",
    "#     for y in th:\n",
    "#         ax.plot(1+t,y*np.ones_like(t),'k')\n",
    "    for c in 'xyz':\n",
    "#         getattr(ax,f\"set_{c}lim\")([-1,1]);    \n",
    "        getattr(ax,f\"set_{c}label\")(f\"${c}$\",size=16)\n",
    "    "
   ]
  },
  {
   "cell_type": "markdown",
   "metadata": {
    "slideshow": {
     "slide_type": "fragment"
    }
   },
   "source": [
    "Solutions:\n",
    "\n",
    "$$\\int_{0}^{1} \\int_{0}^{1-x} \\int_{0}^{x^2} f(x,y,z)\\,dy \\,dz \\, dx $$\n",
    "\n",
    "$$\\int_{0}^{1} \\int_{0}^{1-z} \\int_{0}^{x^2} f(x,y,z)\\,dy \\,dx \\, dz $$\n",
    "\n",
    "$$\\int_{0}^{1} \\int_{0}^{x^2} \\int_{0}^{1-x} f(x,y,z)\\,dz \\,dy \\, dx $$\n",
    "\n",
    "$$\\int_{0}^{1} \\int_{0}^{\\sqrt{y}} \\int_{0}^{1-x} f(x,y,z)\\,dz \\,dx \\, dy $$\n",
    "\n",
    "And ..."
   ]
  },
  {
   "cell_type": "markdown",
   "metadata": {
    "slideshow": {
     "slide_type": "fragment"
    }
   },
   "source": [
    "$$\\int_{0}^{1} \\int_{0}^{(1-z)^2} \\int_{\\sqrt{y}}^{1-z} f(x,y,z)\\,dx \\,dy \\, dz $$\n",
    "\n",
    "$$\\int_{0}^{1} \\int_{0}^{1-\\sqrt{y}} \\int_{\\sqrt{y}}^{1-z} f(x,y,z)\\,dx \\,dz \\, dy $$"
   ]
  },
  {
   "cell_type": "markdown",
   "metadata": {
    "slideshow": {
     "slide_type": "subslide"
    }
   },
   "source": [
    "### Exercise\n",
    "\n",
    "Sketch the region in the first octant bounded by the planes $z=1$, $z = x$, and $z=y$ and express the triple integral of an arbitrary integrand over this region as an iterated integral. \n",
    "\n",
    "Start by sketching the regions \"shadow\" in each of the \n",
    "  - $xy$-\n",
    "  - $xz$-\n",
    "  - $yz$-planes."
   ]
  },
  {
   "cell_type": "code",
   "execution_count": 5,
   "metadata": {
    "hide_input": false,
    "scrolled": false,
    "slideshow": {
     "slide_type": "fragment"
    }
   },
   "outputs": [
    {
     "data": {
      "application/vnd.jupyter.widget-view+json": {
       "model_id": "f2a06b5d0e564bf28371e255e24175a4",
       "version_major": 2,
       "version_minor": 0
      },
      "text/plain": [
       "interactive(children=(IntSlider(value=-24, description='angle', max=66, min=-108, step=6), IntSlider(value=42,…"
      ]
     },
     "metadata": {},
     "output_type": "display_data"
    }
   ],
   "source": [
    "@interact(angle=(-108,66,6))\n",
    "def _(angle=-24,vangle=(0,90,6)):\n",
    "    fig = plt.figure(figsize=(10,10))\n",
    "    ax= fig.add_subplot(111,projection='3d')\n",
    "    u = np.linspace(0,1,80)\n",
    "    v = np.linspace(0,1,80)\n",
    "    U,V = np.meshgrid(u,v)\n",
    "    X = U\n",
    "    Y = V\n",
    "    Z = np.ones_like(U)\n",
    "    ax.plot_wireframe(X,Y,Z,rcount=20,ccount=20)\n",
    "#     ax.plot_surface(X,Y,0*X,rcount=20,ccount=20,color='gray',alpha=.4)\n",
    "    ax.view_init(vangle,angle)\n",
    "    \n",
    "    ax.plot_wireframe(U,U*V,U,rcount=20,ccount=20)\n",
    "    ax.plot_wireframe(U*V,U,U,rcount=20,ccount=20)\n",
    "    ax.plot_surface(U,0*X,U+V*(1-U),rcount=20,ccount=20,color='gray',alpha=.4)\n",
    "    ax.plot_surface(U*0,U,U+V*(1-U),rcount=20,ccount=20,color='gray',alpha=.4)\n",
    "\n",
    "    for c in 'xyz':\n",
    "#         getattr(ax,f\"set_{c}lim\")([-1,1]);    \n",
    "        getattr(ax,f\"set_{c}label\")(f\"${c}$\",size=16)\n",
    "    "
   ]
  },
  {
   "cell_type": "markdown",
   "metadata": {
    "slideshow": {
     "slide_type": "slide"
    }
   },
   "source": [
    "# Other Coordinates"
   ]
  },
  {
   "cell_type": "code",
   "execution_count": 6,
   "metadata": {
    "hide_input": true,
    "scrolled": false,
    "slideshow": {
     "slide_type": "fragment"
    }
   },
   "outputs": [
    {
     "data": {
      "application/vnd.jupyter.widget-view+json": {
       "model_id": "7c3b770f64fe4a0fa1868f448da1f7c8",
       "version_major": 2,
       "version_minor": 0
      },
      "text/plain": [
       "interactive(children=(IntSlider(value=-24, description='angle', max=66, min=-108, step=6), IntSlider(value=42,…"
      ]
     },
     "metadata": {},
     "output_type": "display_data"
    }
   ],
   "source": [
    "@interact(angle=(-108,66,6))\n",
    "def _(angle=-24,vangle=(0,90,6),coords=['rectangular','cylindrical','spherical']):\n",
    "    a,b,c = (.5,.6,.8)\n",
    "    r = sqrt(a**2 + b**2)\n",
    "    th = np.arctan(b/a)\n",
    "    rho = sqrt(a**2 + b**2 + c**2)\n",
    "    phi = np.arctan(r/c)\n",
    "    fig = plt.figure(figsize=(10,10))\n",
    "    ax= fig.add_subplot(111,projection='3d')\n",
    "    u = np.linspace(0,1,80)\n",
    "    v = np.linspace(0,1,80)\n",
    "    U,V = np.meshgrid(u,v)\n",
    "    X = U\n",
    "    Y = V\n",
    "    Z = np.ones_like(U)\n",
    "    if coords=='rectangular':\n",
    "        ax.plot([0,a,a,a],[0,0,b,b],[0,0,0,c],lw=3)\n",
    "        ax.plot_surface(a*U,b*V,0*X,rcount=20,ccount=20,color='gray',alpha=.4)\n",
    "    elif coords=='cylindrical':\n",
    "        ax.plot([0,a,a],[0,b,b],[0,0,c],lw=3)\n",
    "        ax.plot_surface(r*U*cos(th*V),r*U*sin(th*V),0*X,rcount=20,ccount=20,color='gray',alpha=.4)\n",
    "        ax.plot(r/4*cos(th*u),r/4*sin(th*u),0,color='k')\n",
    "        ax.text(r/3*cos(th/2),r/3*sin(th/2),0,\"$\\\\theta$\",horizontalalignment='center',verticalalignment='center',fontsize=16)\n",
    "        ax.text(r/2*cos(th + .1),r/2*sin(th + .1),0,\"$r$\",horizontalalignment='center',verticalalignment='center',fontsize=16)\n",
    "    elif coords=='spherical':\n",
    "        ax.plot([0,a],[0,b],[0,c],lw=3)\n",
    "        ax.plot_surface(r*U*cos(th*V),r*U*sin(th*V),0*X,rcount=20,ccount=20,color='gray',alpha=.4)\n",
    "        ax.plot_surface(rho*U*cos(th)*sin(V*phi),rho*U*sin(th)*sin(V*phi),rho*U*cos(V*phi),rcount=20,ccount=20,color='gray',alpha=.4)\n",
    "        ax.plot(r/4*cos(th*u),r/4*sin(th*u),0,color='k')\n",
    "        ax.text(r/3*cos(th/2),r/3*sin(th/2),0,\"$\\\\theta$\",horizontalalignment='center',verticalalignment='center',fontsize=16)\n",
    "        ax.text(rho/2*cos(th)*sin(phi - .1),rho/2*sin(th)*sin(phi - .1),rho/2*cos(phi - .1),\"$\\\\rho$\",horizontalalignment='center',verticalalignment='center',fontsize=16)\n",
    "#         ax.text(r/2*cos(th + .1),r/2*sin(th + .1),0,\"$r$\",horizontalalignment='center',verticalalignment='center',fontsize=16)\n",
    "        ax.plot(r/4*cos(th)*sin(phi*u),r/4*sin(th)*sin(phi*u),r/4*cos(phi*u),color='k')\n",
    "        ax.text(r/3*cos(th)*sin(phi/2),r/3*sin(th)*sin(phi/2),r/3*cos(phi/2),\"$\\\\phi$\",horizontalalignment='center',verticalalignment='center',fontsize=16)\n",
    "\n",
    "\n",
    "    ax.view_init(vangle,angle)\n",
    "    \n",
    "#     ax.plot_wireframe(U,U*V,U,rcount=20,ccount=20)\n",
    "#     ax.plot_wireframe(U*V,U,U,rcount=20,ccount=20)\n",
    "#     ax.plot_surface(U,0*X,U+V*(1-U),rcount=20,ccount=20,color='gray',alpha=.4)\n",
    "#     ax.plot_surface(U*0,U,U+V*(1-U),rcount=20,ccount=20,color='gray',alpha=.4)\n",
    "\n",
    "    for c in 'xyz':\n",
    "        getattr(ax,f\"set_{c}lim\")([0,1]);    \n",
    "        getattr(ax,f\"set_{c}label\")(f\"${c}$\",size=16)\n",
    "    "
   ]
  },
  {
   "cell_type": "markdown",
   "metadata": {
    "slideshow": {
     "slide_type": "fragment"
    }
   },
   "source": [
    "  - Rectangular: $$(x,y,z)$$\n",
    "  - Cylindrical: $$(r,\\theta,z)$$ $r\\geq 0$, $0 \\leq \\theta \\leq 2\\pi$.\n",
    "  - Spherical: $$(\\rho,\\theta,\\phi)$$ $\\rho\\geq 0$, $0 \\leq \\theta \\leq 2\\pi$, $0 \\leq \\phi \\leq \\pi$.\n",
    "\n",
    "\\begin{align*}\n",
    " x &= r \\cos \\theta = \\rho \\sin \\phi \\cos \\theta \\\\\n",
    " y &= r \\sin \\theta = \\rho \\sin \\phi \\sin \\theta \\\\\n",
    " z &= z = \\rho \\cos(\\phi) \\\\\n",
    " \\end{align*}\n",
    " \n",
    " "
   ]
  },
  {
   "cell_type": "markdown",
   "metadata": {
    "slideshow": {
     "slide_type": "slide"
    }
   },
   "source": [
    "# Volumes\n",
    "\n",
    "When integrating, we divide space up by taking small intervals in each coordinate. Let's look at the volumes $\\Delta V$ of such subdivisions."
   ]
  },
  {
   "cell_type": "code",
   "execution_count": 7,
   "metadata": {
    "hide_input": true,
    "scrolled": false,
    "slideshow": {
     "slide_type": "fragment"
    }
   },
   "outputs": [
    {
     "data": {
      "application/vnd.jupyter.widget-view+json": {
       "model_id": "794defca3a8642f28ae88943ac2cbf8f",
       "version_major": 2,
       "version_minor": 0
      },
      "text/plain": [
       "interactive(children=(IntSlider(value=-24, description='angle', max=66, min=-108, step=6), IntSlider(value=42,…"
      ]
     },
     "metadata": {},
     "output_type": "display_data"
    }
   ],
   "source": [
    "@interact(angle=(-108,66,6),mov=(.1,1,.05))\n",
    "def _(angle=-24,vangle=(0,90,6),coords=['rectangular','cylindrical','spherical'],mov=1):\n",
    "#     a,b,c = (.5,.6,.8)\n",
    "#     r = sqrt(a**2 + b**2)\n",
    "#     th = np.arctan(b/a)\n",
    "#     rho = sqrt(a**2 + b**2 + c**2)\n",
    "#     phi = np.arctan(r/c)\n",
    "    fig = plt.figure(figsize=(10,10))\n",
    "    ax= fig.add_subplot(111,projection='3d')\n",
    "    u = np.linspace(0,1,81)\n",
    "    v = np.linspace(0,1,81)\n",
    "    U,V = np.meshgrid(u,v)\n",
    "    X = U\n",
    "    Y = V\n",
    "    Z = np.ones_like(U)\n",
    "    if coords=='rectangular':\n",
    "        ax.plot_wireframe(U,V,0*Z+mov,rcount=11,ccount=11,color='gray',alpha=.7)\n",
    "        ax.plot_wireframe(U,V,0*Z+mov-.1,rcount=11,ccount=11,color='gray',alpha=.7)\n",
    "        for i in np.arange(0,1.1,.1):\n",
    "            for j in np.arange(0,1.1,.1):\n",
    "                ax.plot([i,i],[j,j],[mov-.1,mov],color='gray',alpha=.7)\n",
    "    elif coords=='cylindrical':\n",
    "        ax.plot_wireframe(mov*cos(pi/2*V),mov*sin(pi/2*V),U,rcount=11,ccount=11,color='gray',alpha=.7)\n",
    "        ax.plot_wireframe((mov-.1)*cos(pi/2*V),(mov-.1)*sin(pi/2*V),U,rcount=11,ccount=11,color='gray',alpha=.7)\n",
    "        for i in np.arange(0,1.1,.1):\n",
    "            for j in np.arange(0,1.1,.1):\n",
    "                ax.plot([(mov-.1)*cos(pi/2*i),(mov)*cos(pi/2*i)],[(mov-.1)*sin(pi/2*i),mov*sin(pi/2*i)],[j,j],color='gray',alpha=.7)\n",
    "\n",
    "    elif coords=='spherical':\n",
    "        ax.plot_wireframe(mov*sin(pi/2*U)*cos(pi/2*V),mov*sin(pi/2*U)*sin(pi/2*V),mov*cos(pi/2*U),rcount=11,ccount=11,color='gray',alpha=.7)\n",
    "        ax.plot_wireframe((mov-.1)*sin(pi/2*U)*cos(pi/2*V),(mov-.1)*sin(pi/2*U)*sin(pi/2*V),(mov-.1)*cos(pi/2*U),rcount=11,ccount=11,color='gray',alpha=.7)\n",
    "        for i in np.arange(0,1.1,.1):\n",
    "            for j in np.arange(0,1.1,.1):\n",
    "                ax.plot([(mov-.1)*sin(pi/2*j)*cos(pi/2*i),(mov)*sin(pi/2*j)*cos(pi/2*i)],[(mov-.1)*sin(pi/2*j)*sin(pi/2*i),(mov)*sin(pi/2*j)*sin(pi/2*i)],[(mov-.1)*cos(pi/2*j),(mov)*cos(pi/2*j)],color='gray',alpha=.7)\n",
    "\n",
    "\n",
    "    ax.view_init(vangle,angle)\n",
    "    \n",
    "    for c in 'xyz':\n",
    "        getattr(ax,f\"set_{c}lim\")([0,1]);    \n",
    "        getattr(ax,f\"set_{c}label\")(f\"${c}$\",size=16)\n",
    "    "
   ]
  },
  {
   "cell_type": "markdown",
   "metadata": {
    "slideshow": {
     "slide_type": "fragment"
    }
   },
   "source": [
    "$$dV=dx\\,dy\\,dz = r\\,dr\\,d\\theta\\,dz = \\rho^2 \\sin \\phi \\,d\\rho\\,d\\theta\\,d\\phi$$"
   ]
  },
  {
   "cell_type": "markdown",
   "metadata": {
    "slideshow": {
     "slide_type": "subslide"
    }
   },
   "source": [
    "## Example\n",
    "\n",
    "Find the mass of a right cone with height $h$ and radius (at base) $R$. and uniform density $\\rho$.\n",
    "\n",
    "<br>\n",
    "<div style=\"background:#cfcfee\">**Caution!** When doing these sorts of applications, do not confuse the density $\\rho$ with the polar coordinate $\\rho$. Choose variables wisely.</div>\n",
    "\n",
    "Find the moment of inertia relative to its central axis. "
   ]
  },
  {
   "cell_type": "markdown",
   "metadata": {
    "slideshow": {
     "slide_type": "fragment"
    }
   },
   "source": [
    "Solution:\n",
    "\n",
    "$$M = \\frac\\rho3 \\pi R^2 h$$\n",
    "\n",
    "$$I = \\frac{3}{10} M R^2$$"
   ]
  },
  {
   "cell_type": "markdown",
   "metadata": {
    "slideshow": {
     "slide_type": "subslide"
    }
   },
   "source": [
    "# Example\n",
    "\n",
    "Find the centroid of a solid hemisphere of radius $R$."
   ]
  },
  {
   "cell_type": "markdown",
   "metadata": {
    "slideshow": {
     "slide_type": "fragment"
    }
   },
   "source": [
    "Solution:\n",
    "\n",
    "$$(\\bar x,\\bar y,\\bar z) = (0,0,\\frac38 R)$$"
   ]
  },
  {
   "cell_type": "code",
   "execution_count": null,
   "metadata": {},
   "outputs": [],
   "source": []
  }
 ],
 "metadata": {
  "celltoolbar": "Slideshow",
  "kernelspec": {
   "display_name": "Python 3",
   "language": "python",
   "name": "python3"
  },
  "language_info": {
   "codemirror_mode": {
    "name": "ipython",
    "version": 3
   },
   "file_extension": ".py",
   "mimetype": "text/x-python",
   "name": "python",
   "nbconvert_exporter": "python",
   "pygments_lexer": "ipython3",
   "version": "3.7.6"
  },
  "rise": {
   "enable_chalkboard": true,
   "scroll": true,
   "theme": "sky",
   "transition": "concave"
  }
 },
 "nbformat": 4,
 "nbformat_minor": 2
}
