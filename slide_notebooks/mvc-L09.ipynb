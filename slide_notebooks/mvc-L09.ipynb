{
 "cells": [
  {
   "cell_type": "code",
   "execution_count": 1,
   "metadata": {
    "slideshow": {
     "slide_type": "skip"
    }
   },
   "outputs": [],
   "source": [
    "import numpy as np\n",
    "import matplotlib.pyplot as plt\n",
    "from IPython.display import display, HTML, IFrame\n",
    "from ipywidgets import interact,fixed\n",
    "import pandas as pd\n",
    "from mpl_toolkits import mplot3d\n",
    "from mpl_toolkits.mplot3d import axes3d\n",
    "from matplotlib.patches import FancyArrowPatch\n",
    "from mpl_toolkits.mplot3d import proj3d\n",
    "\n",
    "plt.rcParams[\"figure.figsize\"] = [12, 9]\n",
    "\n",
    "from numpy.linalg import norm\n",
    "from numpy import cos,sin,tan,arctan,exp,log,pi,sqrt"
   ]
  },
  {
   "cell_type": "markdown",
   "metadata": {
    "slideshow": {
     "slide_type": "notes"
    }
   },
   "source": [
    "$\\newcommand{\\RR}{\\mathbb{R}}$\n",
    "$\\newcommand{\\bv}[1]{\\begin{bmatrix} #1 \\end{bmatrix}}$\n",
    "$\\renewcommand{\\vec}{\\mathbf}$\n"
   ]
  },
  {
   "cell_type": "markdown",
   "metadata": {
    "hide_input": true,
    "slideshow": {
     "slide_type": "slide"
    }
   },
   "source": [
    "## Announcements\n",
    "\n",
    "  - **No quiz** in recitation, but they will meet\n",
    "  - Homework 5 **will** be due 2/25 (but will be short)\n",
    "  - First midterm exam - Thursday!\n",
    "    - review session **tonight** - Mudd 833, 7:!0pm–9pm\n",
    "    "
   ]
  },
  {
   "cell_type": "markdown",
   "metadata": {
    "slideshow": {
     "slide_type": "slide"
    }
   },
   "source": [
    "# One-minute Review\n",
    "\n",
    "The **partial derivative** of a function $f(x_1,\\ldots,x_n)$ with respect to $x_i$ is $$\\frac{\\partial f}{\\partial x_i}(x_1,\\ldots,x_n) = \\lim_{h\\to 0} \\frac{f(x_1,\\ldots,x_{i-1},x_i+h,\\ldots,x_n) - f(x_1,\\ldots,x_n)}{h}.$$"
   ]
  },
  {
   "cell_type": "markdown",
   "metadata": {
    "slideshow": {
     "slide_type": "slide"
    }
   },
   "source": [
    "# Lecture 09\n",
    "\n",
    "  - Objectives\n",
    "    - Relate \"differentiability\" to linear functions.\n",
    "    - Find the tangent plane to the graph of a function of two variables.\n",
    "    - Use linearization and/or differentials to estimate quantities.\n",
    "  \n",
    "  - Resources\n",
    "    - Content\n",
    "      - Stewart: §14.4\n",
    "      - New Strang: [§4.4](https://cnx.org/contents/oxzXkyFi@3.2:M_GqncFF@8/Tangent-Planes-and-Linear-Approximations)\n",
    "      - [Slides](https://e2000.columbiajupyter2.org/hub/user-redirect/git-pull?repo=https%3A%2F%2Fgithub.com%2Fdrewyoungren%2Fmvc-sp20&urlpath=tree%2Fmvc-sp20%2Fslide_notebooks%2Fmvc-L09.ipynb) via JupyterHub\n",
    "    - Practice\n",
    "      - Mooculus: [Tangent Planes](https://ximera.osu.edu/mooculus/calculus3/tangentPlanesAndDifferentiability/digInTangentPlanes)\n",
    "    - Extras\n",
    "      - CalcBLUE: [Tangent Spaces](https://www.youtube.com/watch?v=xDV2ikha320&index=64&list=PL8erL0pXF3JZZTnqjginERYYEi1WpLE_V) [Linearization](https://www.youtube.com/watch?v=Pb4VkLXTinU&index=70&list=PL8erL0pXF3JZZTnqjginERYYEi1WpLE_V)"
   ]
  },
  {
   "cell_type": "markdown",
   "metadata": {
    "slideshow": {
     "slide_type": "slide"
    }
   },
   "source": [
    "## Linear Functions\n",
    "\n",
    "A **linear function*** on $\\RR^n$ has the form $$L(x_1, \\ldots, x_n) = a_0 + \\sum_{i=1}^n a_i x_i$$ where the $a_i$'s are constants. "
   ]
  },
  {
   "cell_type": "markdown",
   "metadata": {
    "slideshow": {
     "slide_type": "fragment"
    }
   },
   "source": [
    "\\*Really, \"*affine* linear\".\n"
   ]
  },
  {
   "cell_type": "markdown",
   "metadata": {
    "slideshow": {
     "slide_type": "fragment"
    }
   },
   "source": [
    "#### Note \n",
    "\n",
    "In two variables, linear functions have planar graphs. "
   ]
  },
  {
   "cell_type": "markdown",
   "metadata": {
    "slideshow": {
     "slide_type": "subslide"
    }
   },
   "source": [
    "# Differentiability\n",
    "\n",
    "A function is differentiable at a point $(p_1, \\ldots, p_n)$ if there exists a linear function $L$ such that $$f(\\vec x) - L(\\vec x) = \\sum_{i=1}^n \\epsilon_i(\\vec x) (x_i - p_i)$$ where $\\epsilon_i \\to 0$ as $\\vec x \\to \\vec p$."
   ]
  },
  {
   "cell_type": "markdown",
   "metadata": {
    "slideshow": {
     "slide_type": "fragment"
    }
   },
   "source": [
    "#### Quick example\n",
    "\n",
    "Show that $f(x) = x^3$ is differentiable at $x=1$."
   ]
  },
  {
   "cell_type": "markdown",
   "metadata": {
    "slideshow": {
     "slide_type": "fragment"
    }
   },
   "source": [
    "##### Solution\n",
    "\n",
    "Let $L(x) = 3x-2$. Then $$f(x) - L(x) = x^3 - 3x + 2 = (x^2 + x - 2)(x-1)$$ and so $\\epsilon(x) = x^2 + x - 2 \\to 0 $ as $x\\to 1$."
   ]
  },
  {
   "cell_type": "markdown",
   "metadata": {
    "slideshow": {
     "slide_type": "subslide"
    }
   },
   "source": [
    "## Intuitively\n",
    "\n",
    "In 1-D a function is differentiable if when 'zoomed in' its graph is well-approximated by a line. "
   ]
  },
  {
   "cell_type": "code",
   "execution_count": 38,
   "metadata": {
    "hide_input": true,
    "scrolled": false,
    "slideshow": {
     "slide_type": "fragment"
    }
   },
   "outputs": [
    {
     "data": {
      "application/vnd.jupyter.widget-view+json": {
       "model_id": "a7fbd89414214451b3d6bad0b3d4dda8",
       "version_major": 2,
       "version_minor": 0
      },
      "text/plain": [
       "interactive(children=(FloatSlider(value=1.0, description='t', max=1.0, min=0.01, step=0.02), Dropdown(descript…"
      ]
     },
     "metadata": {},
     "output_type": "display_data"
    }
   ],
   "source": [
    "@interact(t=(0.01,1.,.02))\n",
    "def _(t=1.,func={'smooth': lambda x: x**2/3+2/3, 'nonsmooth': lambda x: np.abs(x-1)/3 + x/2+1/2}):\n",
    "    x = np.linspace(1-t,1+t, 200)\n",
    "    n = np.floor(np.log(t/4)/np.log(2))\n",
    "    plt.xticks(ticks=np.arange(1-8*2**n,1+8*2**n,2**n),labels=[])\n",
    "    plt.yticks(ticks=np.arange(1-8*2**n,1+8*2**n,2**n),labels=[])\n",
    "\n",
    "    plt.grid(True)\n",
    "    plt.plot(x,func(x),x,2/3*x +1/3)"
   ]
  },
  {
   "cell_type": "markdown",
   "metadata": {
    "slideshow": {
     "slide_type": "subslide"
    }
   },
   "source": [
    "## Intuitively\n",
    "\n",
    "In 2-D a function is differentiable if when 'zoomed in' its graph is well-approximated by a plane. "
   ]
  },
  {
   "cell_type": "code",
   "execution_count": 13,
   "metadata": {
    "hide_input": true,
    "slideshow": {
     "slide_type": "fragment"
    }
   },
   "outputs": [
    {
     "data": {
      "application/vnd.jupyter.widget-view+json": {
       "model_id": "25f46321f88847bfb907475ad50728df",
       "version_major": 2,
       "version_minor": 0
      },
      "text/plain": [
       "interactive(children=(FloatSlider(value=0.49, description='t', max=1.0, min=0.01, step=0.04), Dropdown(descrip…"
      ]
     },
     "metadata": {},
     "output_type": "display_data"
    }
   ],
   "source": [
    "@interact\n",
    "def _(t=(0.01,1.,.04),func={'smooth': lambda x,y: x**2+y**2, 'nonsmooth': lambda x,y: 2*np.abs(x-1) + 2*np.abs(y-1) + x + y}):\n",
    "    fig = plt.figure(figsize = (8,8),dpi=100)\n",
    "    ax = fig.add_subplot(projection='3d')\n",
    "    x = y = np.linspace(1-t,1+t, 50)\n",
    "    x,y = np.meshgrid(x,y)\n",
    "    ax.plot_surface(x,y,func(x,y))\n",
    "    ax.plot_surface(x,y,2*x +2*y - 2, alpha = .5)"
   ]
  },
  {
   "cell_type": "markdown",
   "metadata": {
    "slideshow": {
     "slide_type": "slide"
    }
   },
   "source": [
    "# The tangent plane\n",
    "\n",
    "Let's find the tangent plane to the function $$f(x,y) = \\ln(x+2y+1)$$ at the point $(1,1)$."
   ]
  },
  {
   "cell_type": "markdown",
   "metadata": {
    "slideshow": {
     "slide_type": "fragment"
    }
   },
   "source": [
    "  1. Find the curve along the graph of $f$ \"in the $x$-direction.\" $$ \\vec r_1(t) = \\begin{bmatrix} t \\\\ 1 \\\\ f(t,1)\\end{bmatrix} = \\begin{bmatrix} t \\\\ 1 \\\\ \\ln(t+3)\\end{bmatrix}$$"
   ]
  },
  {
   "cell_type": "markdown",
   "metadata": {
    "slideshow": {
     "slide_type": "fragment"
    }
   },
   "source": [
    "  2. Find its tangent vector $$ \\vec r_1'(1) = \\begin{bmatrix} 1 \\\\ 0 \\\\ f_x(1,1)\\end{bmatrix} = \\begin{bmatrix} 1 \\\\ 0 \\\\ \\frac14\\end{bmatrix}$$"
   ]
  },
  {
   "cell_type": "markdown",
   "metadata": {
    "slideshow": {
     "slide_type": "fragment"
    }
   },
   "source": [
    "  3. Find the curve along the graph of $f$ \"in the $y$-direction.\" $$ \\vec r_2(t) = \\begin{bmatrix} 1 \\\\ t \\\\ f(1,t)\\end{bmatrix} = \\begin{bmatrix} 1 \\\\ t \\\\ \\ln(2t+2)\\end{bmatrix}$$"
   ]
  },
  {
   "cell_type": "markdown",
   "metadata": {
    "slideshow": {
     "slide_type": "fragment"
    }
   },
   "source": [
    "  4. Find its tangent vector $$ \\vec r_2'(1) = \\begin{bmatrix} 0 \\\\ 1 \\\\ f_y(1,1)\\end{bmatrix} = \\begin{bmatrix} 0 \\\\ 1 \\\\ \\frac12\\end{bmatrix}$$"
   ]
  },
  {
   "cell_type": "markdown",
   "metadata": {
    "slideshow": {
     "slide_type": "fragment"
    }
   },
   "source": [
    "  5. Cross them to find the normal to the tangent plane."
   ]
  },
  {
   "cell_type": "code",
   "execution_count": 12,
   "metadata": {
    "hide_input": true,
    "scrolled": false,
    "slideshow": {
     "slide_type": "subslide"
    }
   },
   "outputs": [
    {
     "data": {
      "application/vnd.jupyter.widget-view+json": {
       "model_id": "6b66a093677f4997aaae3e3a6084db1d",
       "version_major": 2,
       "version_minor": 0
      },
      "text/plain": [
       "interactive(children=(IntSlider(value=-48, description='angle', max=30, min=-120, step=6), IntSlider(value=2, …"
      ]
     },
     "metadata": {},
     "output_type": "display_data"
    }
   ],
   "source": [
    "@interact\n",
    "def _(angle=(-120,30,6),stage=(0,5)):\n",
    "    fig = plt.figure(figsize=(10,10),dpi=100)\n",
    "    ax = fig.add_subplot(projection='3d')\n",
    "    x = y = np.linspace(0,2,100)\n",
    "    x,y = np.meshgrid(x,y)\n",
    "    ax.plot_surface(x,y,log(x +2*y+1),alpha=.6)\n",
    "    ax.view_init(30,angle)\n",
    "    ax.set_xlabel('$x$')\n",
    "    ax.set_ylabel('$y$')\n",
    "    if stage > 0:\n",
    "        t = np.linspace(0,2,50)\n",
    "        ax.plot(t,0*t+1,log(t+3),lw=3)\n",
    "    if stage > 1:\n",
    "        ax.quiver(1,1,log(4),1,0,1/4)\n",
    "    if stage > 2:\n",
    "        t = np.linspace(0,2,50)\n",
    "        ax.plot(0*t+1,t,log(2*t+2),lw=3)\n",
    "    if stage > 3:\n",
    "        ax.quiver(1,1,log(4),0,1,2/4)\n",
    "    if stage > 4:\n",
    "        ax.quiver(1,1,log(4),-1/4,-1/2,1)\n",
    "        ax.plot_surface(x,y,(x-1)/4 + (y-1)/2 + log(4),alpha=.3)\n"
   ]
  },
  {
   "cell_type": "markdown",
   "metadata": {
    "slideshow": {
     "slide_type": "subslide"
    }
   },
   "source": [
    "# Tangent Plane\n",
    "\n",
    "The normal vector to the graph $z=f(x,y)$ of a smooth function at the point $(a,b,f(a,b))$ is $$\\langle 1,0,f_x(a,b) \\rangle \\times \\langle 0,1,f_y(a,b) \\rangle = \\langle -f_x(a,b),-f_y(a,b),1 \\rangle.$$"
   ]
  },
  {
   "cell_type": "markdown",
   "metadata": {
    "slideshow": {
     "slide_type": "fragment"
    }
   },
   "source": [
    "Thus, the tangent plane has equation $$z = f(a,b) + f_x(a,b)(x-a) + f_y(a,b)(y-b).$$"
   ]
  },
  {
   "cell_type": "markdown",
   "metadata": {
    "slideshow": {
     "slide_type": "fragment"
    }
   },
   "source": [
    "The RHS is called the **linearization** of $f$ at (or \"around\") the point $(a,b)$."
   ]
  },
  {
   "cell_type": "markdown",
   "metadata": {
    "slideshow": {
     "slide_type": "subslide"
    }
   },
   "source": [
    "## Linearization\n",
    "\n",
    "It is often useful to use the linearization of a function to estimate its values nearby. The point being the *error* (really, those $\\epsilon$'s above) is small. \n",
    "\n",
    "The lineariztion of a function $f$ at $\\vec p = \\langle p_1, \\ldots, p_n \\rangle$ is a linear function\n",
    "\n",
    "$$L(\\vec x) = f(\\vec p) + \\sum_{i=1}^n \\frac{\\partial f}{\\partial x_i}(\\vec p)(x_i - p_i)$$\n"
   ]
  },
  {
   "cell_type": "markdown",
   "metadata": {
    "slideshow": {
     "slide_type": "fragment"
    }
   },
   "source": [
    "### Differentials \n",
    "\n",
    "It is sometimes convenient to use the language of **differentials** when estimating the change in a functions output. \n",
    "\n",
    "$$\\Delta z = f(x,y) - f(a,b) \\approx df = f_x dx + f_y dy$$ where the derivatives are taken at the appropriate point. "
   ]
  },
  {
   "cell_type": "markdown",
   "metadata": {
    "slideshow": {
     "slide_type": "fragment"
    }
   },
   "source": [
    "**Note:** With compact notation often comes vagueness that can lead to confusion. Use differentials with caution. Every problem we encounter can be solved just by using the language of linearization"
   ]
  },
  {
   "cell_type": "markdown",
   "metadata": {
    "slideshow": {
     "slide_type": "slide"
    }
   },
   "source": [
    "## Examples\n",
    "\n",
    "### 1. Contrived\n",
    "\n",
    "Find the linearization of the function \n",
    "\n",
    "$$f(x,y,z) = e^{-x^2 + 3y + 3z}$$ at the point $(3,2,1)$ and use it to estimate $f(3.02,2.03,0.99)$."
   ]
  },
  {
   "cell_type": "code",
   "execution_count": 39,
   "metadata": {
    "slideshow": {
     "slide_type": "fragment"
    }
   },
   "outputs": [
    {
     "name": "stdout",
     "output_type": "stream",
     "text": [
      "f(3,2,1) = 1.0\n",
      "f(3.02,2.03,.99) = 0.9413879031019328\n",
      "L(3.02,2.03,.99) = 0.94\n"
     ]
    }
   ],
   "source": [
    "f = lambda x,y,z: exp(-x**2 +3*y + 3*z)\n",
    "print(\"f(3,2,1) =\", f(3,2,1))\n",
    "print(\"f(3.02,2.03,.99) =\",f(3.02,2.03,.99))\n",
    "print(\"L(3.02,2.03,.99) =\",1 + (-6)*(.02) + 3*(.03) + 3*(-.01))"
   ]
  },
  {
   "cell_type": "markdown",
   "metadata": {
    "slideshow": {
     "slide_type": "slide"
    }
   },
   "source": [
    "## Examples\n",
    "\n",
    "### 2. A little better\n",
    "\n",
    "Use linearization to estimate $\\sqrt{\\frac27}$.\n"
   ]
  },
  {
   "cell_type": "code",
   "execution_count": 5,
   "metadata": {
    "hide_input": true,
    "scrolled": false,
    "slideshow": {
     "slide_type": "fragment"
    }
   },
   "outputs": [
    {
     "data": {
      "application/vnd.jupyter.widget-view+json": {
       "model_id": "922c08e5c8eb49bd900d993d8cab2b02",
       "version_major": 2,
       "version_minor": 0
      },
      "text/plain": [
       "interactive(children=(FloatSlider(value=0.1357142857142857, description='zoom', max=0.25, min=0.03571428571428…"
      ]
     },
     "metadata": {},
     "output_type": "display_data"
    }
   ],
   "source": [
    "# 1-D solution \n",
    "@interact\n",
    "def _(zoom = (2/7-1/4,.25,.01)):\n",
    "    t = np.linspace(1/4-zoom,1/4+zoom,55)\n",
    "    plt.plot(t,sqrt(t),t,1/2 + (t-1/4),[1/4,2/7,2/7],[1/2,1/2,1/2 +(2/7-1/4)]);"
   ]
  },
  {
   "cell_type": "code",
   "execution_count": 41,
   "metadata": {},
   "outputs": [
    {
     "data": {
      "text/plain": [
       "0.53125"
      ]
     },
     "execution_count": 41,
     "metadata": {},
     "output_type": "execute_result"
    }
   ],
   "source": [
    "8**(-3/2)/sqrt(2)+1/2"
   ]
  },
  {
   "cell_type": "code",
   "execution_count": 6,
   "metadata": {},
   "outputs": [
    {
     "data": {
      "text/plain": [
       "0.5345224838248488"
      ]
     },
     "execution_count": 6,
     "metadata": {},
     "output_type": "execute_result"
    }
   ],
   "source": [
    "sqrt(2/7)"
   ]
  },
  {
   "cell_type": "code",
   "execution_count": null,
   "metadata": {},
   "outputs": [],
   "source": []
  },
  {
   "cell_type": "code",
   "execution_count": 7,
   "metadata": {},
   "outputs": [
    {
     "data": {
      "text/plain": [
       "0.5357142857142857"
      ]
     },
     "execution_count": 7,
     "metadata": {},
     "output_type": "execute_result"
    }
   ],
   "source": [
    "15/28"
   ]
  },
  {
   "cell_type": "markdown",
   "metadata": {
    "slideshow": {
     "slide_type": "subslide"
    }
   },
   "source": [
    "### 2-D solution\n",
    "\n",
    "Use $g(x,y) = \\sqrt{\\frac{x}{y}}$ around $x=9,y=36$."
   ]
  },
  {
   "cell_type": "markdown",
   "metadata": {
    "slideshow": {
     "slide_type": "fragment"
    }
   },
   "source": [
    "$g_x(x,y) = \\frac{1}{2\\sqrt{xy}}$\n",
    "\n",
    "$g_x(9,36) = \\frac{1}{36}$"
   ]
  },
  {
   "cell_type": "markdown",
   "metadata": {
    "slideshow": {
     "slide_type": "fragment"
    }
   },
   "source": [
    "$g_y(x,y) = -\\frac{\\sqrt{x}}{2y\\sqrt{y}}$\n",
    "\n",
    "$g_y(9,36) = -\\frac{1}{144}$"
   ]
  },
  {
   "cell_type": "markdown",
   "metadata": {
    "slideshow": {
     "slide_type": "fragment"
    }
   },
   "source": [
    "$$L(x,y) = 1/2 + 1/36(x-9) -1/144(y-36)$$"
   ]
  },
  {
   "cell_type": "code",
   "execution_count": 8,
   "metadata": {
    "slideshow": {
     "slide_type": "fragment"
    }
   },
   "outputs": [
    {
     "data": {
      "text/plain": [
       "0.5347222222222222"
      ]
     },
     "execution_count": 8,
     "metadata": {},
     "output_type": "execute_result"
    }
   ],
   "source": [
    "1/2 + 1/36 + 1/144"
   ]
  },
  {
   "cell_type": "code",
   "execution_count": 42,
   "metadata": {},
   "outputs": [
    {
     "data": {
      "text/plain": [
       "0.5345224838248488"
      ]
     },
     "execution_count": 42,
     "metadata": {},
     "output_type": "execute_result"
    }
   ],
   "source": [
    "sqrt(2/7)"
   ]
  },
  {
   "cell_type": "code",
   "execution_count": null,
   "metadata": {},
   "outputs": [],
   "source": []
  },
  {
   "cell_type": "code",
   "execution_count": 9,
   "metadata": {
    "slideshow": {
     "slide_type": "fragment"
    }
   },
   "outputs": [
    {
     "data": {
      "text/plain": [
       "0.5345224838248488"
      ]
     },
     "execution_count": 9,
     "metadata": {},
     "output_type": "execute_result"
    }
   ],
   "source": [
    "sqrt(2/7)"
   ]
  },
  {
   "cell_type": "markdown",
   "metadata": {
    "slideshow": {
     "slide_type": "slide"
    }
   },
   "source": [
    "## Examples\n",
    "\n",
    "### 3. Least bad\n",
    "\n",
    "An aluminum can is cylindrical in shape with a height of 5 cm, a diameter of 6 cm, and is approximately .4 mm thick. Estimate the volume of aluminum used.\n",
    "\n",
    "The volume of a cylinder is $V = \\pi r^2 h$."
   ]
  },
  {
   "cell_type": "markdown",
   "metadata": {
    "slideshow": {
     "slide_type": "fragment"
    }
   },
   "source": [
    "#### Solution\n",
    "\n",
    "The volume of aluminum is the difference in Volume $\\Delta V$ between the \"outer\" can and its \"inner\" contents.\n",
    "\n",
    "$$dV = 2\\pi r h\\,dr + \\pi r^2dh$$ "
   ]
  },
  {
   "cell_type": "code",
   "execution_count": 10,
   "metadata": {
    "slideshow": {
     "slide_type": "fragment"
    }
   },
   "outputs": [
    {
     "data": {
      "text/plain": [
       "6.031857894892402"
      ]
     },
     "execution_count": 10,
     "metadata": {},
     "output_type": "execute_result"
    }
   ],
   "source": [
    "# Estimate with differentials\n",
    "2*pi*3*5*.04 + pi*3**2*.08"
   ]
  },
  {
   "cell_type": "code",
   "execution_count": 11,
   "metadata": {
    "slideshow": {
     "slide_type": "fragment"
    }
   },
   "outputs": [
    {
     "data": {
      "text/plain": [
       "6.03195842585734"
      ]
     },
     "execution_count": 11,
     "metadata": {},
     "output_type": "execute_result"
    }
   ],
   "source": [
    "pi*3.02**2*5.04 - pi*2.98**2*4.96"
   ]
  },
  {
   "cell_type": "code",
   "execution_count": null,
   "metadata": {},
   "outputs": [],
   "source": []
  },
  {
   "cell_type": "code",
   "execution_count": null,
   "metadata": {},
   "outputs": [],
   "source": []
  }
 ],
 "metadata": {
  "celltoolbar": "Slideshow",
  "kernelspec": {
   "display_name": "Python 3",
   "language": "python",
   "name": "python3"
  },
  "language_info": {
   "codemirror_mode": {
    "name": "ipython",
    "version": 3
   },
   "file_extension": ".py",
   "mimetype": "text/x-python",
   "name": "python",
   "nbconvert_exporter": "python",
   "pygments_lexer": "ipython3",
   "version": "3.7.6"
  },
  "rise": {
   "enable_chalkboard": true,
   "scroll": true,
   "theme": "sky",
   "transition": "concave"
  }
 },
 "nbformat": 4,
 "nbformat_minor": 2
}
