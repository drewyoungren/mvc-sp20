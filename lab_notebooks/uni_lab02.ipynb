{
 "cells": [
  {
   "cell_type": "markdown",
   "metadata": {
    "slideshow": {
     "slide_type": "fragment"
    }
   },
   "source": [
    "# Geomapping and Stokes' Theorem\n",
    "\n",
    "This lab is a quick exercise in applying the concepts of parameterized curves and surfaces to some geographic regions on Earth. It should be clear this is not a rigorous treatment or ready for real-world deployment. \n",
    "\n",
    "We'll start with some standard mathy modules."
   ]
  },
  {
   "cell_type": "code",
   "execution_count": 2,
   "metadata": {},
   "outputs": [],
   "source": [
    "import numpy as np\n",
    "import pandas as pd\n",
    "import matplotlib.pyplot as plt\n",
    "from mpl_toolkits.mplot3d import axes3d\n",
    "\n",
    "from numpy import sin,cos,arccos,pi,array,arange,linspace,meshgrid\n",
    "\n",
    "from ipywidgets import interact"
   ]
  },
  {
   "cell_type": "markdown",
   "metadata": {},
   "source": [
    "There are many different, widely-used systems for storing geographic data: KML, GeoJSON, GPS exchange format, just to name a few. We'll use a fairly simple but common one called Shapefiles (`.shp`). \n",
    "\n",
    "This next block should install a python module that can read them. "
   ]
  },
  {
   "cell_type": "code",
   "execution_count": 74,
   "metadata": {},
   "outputs": [],
   "source": [
    "try:\n",
    "    import shapefile as shp\n",
    "except:\n",
    "    import sys\n",
    "    !{sys.executable} -m pip install --user pyshp\n",
    "    import shapefile as shp"
   ]
  },
  {
   "cell_type": "markdown",
   "metadata": {},
   "source": [
    "You can find shape files all over the internet for most any municipality or geographic feature you are interested in. Here are some from the [Census Bureau](https://www.census.gov/geographies/mapping-files/time-series/geo/carto-boundary-file.html). Here are the [arrondissements of Paris](https://www.data.gouv.fr/en/datasets/arrondissements-1/).\n",
    "\n",
    "I have included in this folder files for the states of the USA and (many) countries of the world. "
   ]
  },
  {
   "cell_type": "code",
   "execution_count": 5,
   "metadata": {},
   "outputs": [],
   "source": [
    "us_states = shp.Reader(\"./cb_2018_us_state_500k.shp\")\n",
    "countries = shp.Reader(\"./ne_50m_admin_0_countries.shp\")"
   ]
  },
  {
   "cell_type": "markdown",
   "metadata": {},
   "source": [
    "A good way to explore these files, which can contain a host of information, and not all with the same structure, is to import them into a pandas dataframe. If you're not familiar with such a thing, it is basically a big spreadsheet table in python. "
   ]
  },
  {
   "cell_type": "code",
   "execution_count": 12,
   "metadata": {},
   "outputs": [],
   "source": [
    "def shp2df(sf):\n",
    "    \"\"\"This function reads a shapefile object imported by shapefile.Reader into a Pandas dataframe.\"\"\"\n",
    "    df = pd.DataFrame(columns=[x[0] for x in sf.fields][1:],data=sf.records())\n",
    "    df[\"PARTS\"] = [s.parts for s in sf.shapes()]\n",
    "    df[\"COORDS\"] = [s.points for s in sf.shapes()]\n",
    "    return df"
   ]
  },
  {
   "cell_type": "code",
   "execution_count": 15,
   "metadata": {},
   "outputs": [
    {
     "data": {
      "text/html": [
       "<div>\n",
       "<style scoped>\n",
       "    .dataframe tbody tr th:only-of-type {\n",
       "        vertical-align: middle;\n",
       "    }\n",
       "\n",
       "    .dataframe tbody tr th {\n",
       "        vertical-align: top;\n",
       "    }\n",
       "\n",
       "    .dataframe thead th {\n",
       "        text-align: right;\n",
       "    }\n",
       "</style>\n",
       "<table border=\"1\" class=\"dataframe\">\n",
       "  <thead>\n",
       "    <tr style=\"text-align: right;\">\n",
       "      <th></th>\n",
       "      <th>STATEFP</th>\n",
       "      <th>STATENS</th>\n",
       "      <th>AFFGEOID</th>\n",
       "      <th>GEOID</th>\n",
       "      <th>STUSPS</th>\n",
       "      <th>NAME</th>\n",
       "      <th>LSAD</th>\n",
       "      <th>ALAND</th>\n",
       "      <th>AWATER</th>\n",
       "      <th>PARTS</th>\n",
       "      <th>COORDS</th>\n",
       "    </tr>\n",
       "  </thead>\n",
       "  <tbody>\n",
       "    <tr>\n",
       "      <th>37</th>\n",
       "      <td>60</td>\n",
       "      <td>01802701</td>\n",
       "      <td>0400000US60</td>\n",
       "      <td>60</td>\n",
       "      <td>AS</td>\n",
       "      <td>American Samoa</td>\n",
       "      <td>00</td>\n",
       "      <td>197759063</td>\n",
       "      <td>1307243754</td>\n",
       "      <td>[0, 22, 42, 180, 236, 297, 312, 338, 992]</td>\n",
       "      <td>[(-168.145824, -14.547906), (-168.145605, -14....</td>\n",
       "    </tr>\n",
       "    <tr>\n",
       "      <th>21</th>\n",
       "      <td>08</td>\n",
       "      <td>01779779</td>\n",
       "      <td>0400000US08</td>\n",
       "      <td>08</td>\n",
       "      <td>CO</td>\n",
       "      <td>Colorado</td>\n",
       "      <td>00</td>\n",
       "      <td>268422891711</td>\n",
       "      <td>1181621593</td>\n",
       "      <td>[0]</td>\n",
       "      <td>[(-109.060253, 38.599328), (-109.059541, 38.71...</td>\n",
       "    </tr>\n",
       "    <tr>\n",
       "      <th>53</th>\n",
       "      <td>18</td>\n",
       "      <td>00448508</td>\n",
       "      <td>0400000US18</td>\n",
       "      <td>18</td>\n",
       "      <td>IN</td>\n",
       "      <td>Indiana</td>\n",
       "      <td>00</td>\n",
       "      <td>92789302676</td>\n",
       "      <td>1538002829</td>\n",
       "      <td>[0]</td>\n",
       "      <td>[(-88.09776, 37.904026), (-88.094476, 37.90596...</td>\n",
       "    </tr>\n",
       "    <tr>\n",
       "      <th>29</th>\n",
       "      <td>17</td>\n",
       "      <td>01779784</td>\n",
       "      <td>0400000US17</td>\n",
       "      <td>17</td>\n",
       "      <td>IL</td>\n",
       "      <td>Illinois</td>\n",
       "      <td>00</td>\n",
       "      <td>143780567633</td>\n",
       "      <td>6214824948</td>\n",
       "      <td>[0]</td>\n",
       "      <td>[(-91.512974, 40.181062), (-91.511073, 40.1887...</td>\n",
       "    </tr>\n",
       "  </tbody>\n",
       "</table>\n",
       "</div>"
      ],
      "text/plain": [
       "   STATEFP   STATENS     AFFGEOID GEOID STUSPS            NAME LSAD  \\\n",
       "37      60  01802701  0400000US60    60     AS  American Samoa   00   \n",
       "21      08  01779779  0400000US08    08     CO        Colorado   00   \n",
       "53      18  00448508  0400000US18    18     IN         Indiana   00   \n",
       "29      17  01779784  0400000US17    17     IL        Illinois   00   \n",
       "\n",
       "           ALAND      AWATER                                      PARTS  \\\n",
       "37     197759063  1307243754  [0, 22, 42, 180, 236, 297, 312, 338, 992]   \n",
       "21  268422891711  1181621593                                        [0]   \n",
       "53   92789302676  1538002829                                        [0]   \n",
       "29  143780567633  6214824948                                        [0]   \n",
       "\n",
       "                                               COORDS  \n",
       "37  [(-168.145824, -14.547906), (-168.145605, -14....  \n",
       "21  [(-109.060253, 38.599328), (-109.059541, 38.71...  \n",
       "53  [(-88.09776, 37.904026), (-88.094476, 37.90596...  \n",
       "29  [(-91.512974, 40.181062), (-91.511073, 40.1887...  "
      ]
     },
     "execution_count": 15,
     "metadata": {},
     "output_type": "execute_result"
    }
   ],
   "source": [
    "us = shp2df(us_states)\n",
    "us.sample(4)"
   ]
  },
  {
   "cell_type": "code",
   "execution_count": 77,
   "metadata": {},
   "outputs": [
    {
     "data": {
      "text/html": [
       "<div>\n",
       "<style scoped>\n",
       "    .dataframe tbody tr th:only-of-type {\n",
       "        vertical-align: middle;\n",
       "    }\n",
       "\n",
       "    .dataframe tbody tr th {\n",
       "        vertical-align: top;\n",
       "    }\n",
       "\n",
       "    .dataframe thead th {\n",
       "        text-align: right;\n",
       "    }\n",
       "</style>\n",
       "<table border=\"1\" class=\"dataframe\">\n",
       "  <thead>\n",
       "    <tr style=\"text-align: right;\">\n",
       "      <th></th>\n",
       "      <th>STATEFP</th>\n",
       "      <th>STATENS</th>\n",
       "      <th>AFFGEOID</th>\n",
       "      <th>GEOID</th>\n",
       "      <th>STUSPS</th>\n",
       "      <th>NAME</th>\n",
       "      <th>LSAD</th>\n",
       "      <th>ALAND</th>\n",
       "      <th>AWATER</th>\n",
       "      <th>PARTS</th>\n",
       "      <th>COORDS</th>\n",
       "    </tr>\n",
       "  </thead>\n",
       "  <tbody>\n",
       "    <tr>\n",
       "      <th>42</th>\n",
       "      <td>15</td>\n",
       "      <td>01779782</td>\n",
       "      <td>0400000US15</td>\n",
       "      <td>15</td>\n",
       "      <td>HI</td>\n",
       "      <td>Hawaii</td>\n",
       "      <td>00</td>\n",
       "      <td>16633990195</td>\n",
       "      <td>11777809026</td>\n",
       "      <td>[0, 665, 1102, 1206, 1313, 1583, 1591, 1600, 2...</td>\n",
       "      <td>[(-156.060759, 19.730549), (-156.0566630000000...</td>\n",
       "    </tr>\n",
       "  </tbody>\n",
       "</table>\n",
       "</div>"
      ],
      "text/plain": [
       "   STATEFP   STATENS     AFFGEOID GEOID STUSPS    NAME LSAD        ALAND  \\\n",
       "42      15  01779782  0400000US15    15     HI  Hawaii   00  16633990195   \n",
       "\n",
       "         AWATER                                              PARTS  \\\n",
       "42  11777809026  [0, 665, 1102, 1206, 1313, 1583, 1591, 1600, 2...   \n",
       "\n",
       "                                               COORDS  \n",
       "42  [(-156.060759, 19.730549), (-156.0566630000000...  "
      ]
     },
     "execution_count": 77,
     "metadata": {},
     "output_type": "execute_result"
    }
   ],
   "source": [
    "# pandas is useful for making queries of your data\n",
    "us[us.STUSPS == \"HI\"]"
   ]
  },
  {
   "cell_type": "markdown",
   "metadata": {},
   "source": [
    "## Latitude and longitude\n",
    "\n",
    "Latitude and longitude are standard coordinates on the surface of the earth. One can write [books](https://www.indiebound.org/book/9780802715296) about them, but the short version is each is a scalar representing:\n",
    "  - longitude: degrees east from the Greenwich meridean (negative is west)\n",
    "  - latitude: degrees north of the equator (negative is south)"
   ]
  },
  {
   "cell_type": "markdown",
   "metadata": {},
   "source": [
    "### Exercise 1\n",
    "\n",
    "Write a function that converts a longitude-latitude pair (note the order) and converts them to the typical (for this class) spherical coordinates $(\\theta,\\phi)$."
   ]
  },
  {
   "cell_type": "code",
   "execution_count": null,
   "metadata": {},
   "outputs": [],
   "source": [
    "def longlat2thetaphi(longlat):\n",
    "    \"\"\"Convert (long,lat) pair to (theta,phi) pair.\"\"\"\n",
    "    lo, la = longlat # stores coordinates individually\n",
    "    deg = pi/180 # might be useful\n",
    "    theta = # your code here\n",
    "    phi = # your code here"
   ]
  },
  {
   "cell_type": "markdown",
   "metadata": {},
   "source": [
    "## Visualizing\n",
    "\n",
    "The heart of the Shapefile is the list of coordinates for each entity. These are simply longitude-latitude pairs. We can plot them in the usual way via matplotlib. \n",
    "\n",
    "Let's try Utah. Note its index 22 (the first column above)."
   ]
  },
  {
   "cell_type": "code",
   "execution_count": 83,
   "metadata": {},
   "outputs": [
    {
     "data": {
      "image/png": "[encoded data removed]",
      "text/plain": [
       "<Figure size 576x575.061 with 1 Axes>"
      ]
     },
     "metadata": {
      "needs_background": "light"
     },
     "output_type": "display_data"
    }
   ],
   "source": [
    "# use the index for Utah found above. \n",
    "coords = us.loc[22,\"COORDS\"]\n",
    "x,y = np.column_stack(coords)\n",
    "\n",
    "ratio = (np.max(y) - np.min(y)) / (np.max(x) - np.min(x))\n",
    "plt.figure(figsize=(8,8*ratio))\n",
    "\n",
    "plt.plot(x,y);"
   ]
  },
  {
   "cell_type": "markdown",
   "metadata": {},
   "source": [
    "OK, let's try something with a few more features"
   ]
  },
  {
   "cell_type": "code",
   "execution_count": 86,
   "metadata": {},
   "outputs": [
    {
     "data": {
      "image/png": "[encoded data removed]",
      "text/plain": [
       "<Figure size 576x470.799 with 1 Axes>"
      ]
     },
     "metadata": {
      "needs_background": "light"
     },
     "output_type": "display_data"
    }
   ],
   "source": [
    "idx = us[us.NAME == \"Michigan\"].index[0]\n",
    "\n",
    "coords = us.loc[idx,\"COORDS\"]\n",
    "x,y = np.column_stack(coords)\n",
    "\n",
    "# Set up figure\n",
    "ratio = (np.max(y) - np.min(y)) / (np.max(x) - np.min(x))\n",
    "plt.figure(figsize=(8,8*ratio))\n",
    "\n",
    "plt.plot(x,y);"
   ]
  },
  {
   "cell_type": "markdown",
   "metadata": {},
   "source": [
    "Not a mitten. You see we have a problem of topology. Michigan in not one connected land mass. This is where the PARTS column comes in. It indicates the boundaries that separated the list of coordinates into contiguous shapes (\"rings\"). "
   ]
  },
  {
   "cell_type": "code",
   "execution_count": 131,
   "metadata": {},
   "outputs": [
    {
     "data": {
      "image/png": "[encoded data removed]",
      "text/plain": [
       "<Figure size 720x588.498 with 1 Axes>"
      ]
     },
     "metadata": {
      "needs_background": "light"
     },
     "output_type": "display_data"
    }
   ],
   "source": [
    "idx = us[us.NAME == \"Michigan\"].index[0]\n",
    "\n",
    "col = (0,39/255,76/255) # Michigan blue\n",
    "\n",
    "coords = us.loc[idx,\"COORDS\"]\n",
    "parts = us.loc[idx,\"PARTS\"]\n",
    "x,y = np.column_stack(coords)\n",
    "\n",
    "ratio = (np.max(y) - np.min(y)) / (np.max(x) - np.min(x))\n",
    "plt.figure(figsize=(10,10*ratio))\n",
    "\n",
    "for i in range(len(parts) - 1):\n",
    "    plt.plot(x[parts[i]:parts[i+1]],y[parts[i]:parts[i+1]],color=col);\n",
    "plt.plot(x[parts[-1]:],y[parts[-1]:],color=col);"
   ]
  },
  {
   "cell_type": "markdown",
   "metadata": {},
   "source": [
    "Better, but something is off. It is not just the missing maize. Michigan is looking a bit squished. That is because a degree of longitude is not generally equal to a degree of latitude. It depends where you are. \n",
    "\n",
    "As you likely know, mapping a curved surface like a sphere to a 2D plane accurately is not only difficult but [impossible](https://en.wikipedia.org/wiki/Gauss%E2%80%93Bonnet_theorem) to do perfectly accurately. Cartography is thus an art of doing the best one can for a particular application. "
   ]
  },
  {
   "cell_type": "markdown",
   "metadata": {},
   "source": [
    "### Exercise 2\n",
    "\n",
    "Convert degrees longitude and latitude to km east and north, respectively, from Ann Arbor (42.2808° N, 83.7430° W). \n",
    "\n",
    "Make a plot in these new coordinates (color/labels not necessary). ![Michigan as measured in km from Ann Arbor](MI_in_color.png)"
   ]
  },
  {
   "cell_type": "code",
   "execution_count": 25,
   "metadata": {},
   "outputs": [],
   "source": [
    "# Radius of Earth. You'll need this\n",
    "R = 6378.1"
   ]
  },
  {
   "cell_type": "code",
   "execution_count": null,
   "metadata": {},
   "outputs": [],
   "source": [
    "def longlat2km(longlat,center):\n",
    "    lo, la = longlat\n",
    "    a,b = center\n",
    "    x = # put code here\n",
    "    y = # put code here\n",
    "    return (x,y)\n",
    "\n",
    "# When complete, you could plot your conversion with the following code.\n",
    "x,y = np.column_stack([longlat2km(ll) for ll in coords])\n",
    "\n",
    "ratio = (np.max(y) - np.min(y)) / (np.max(x) - np.min(x))\n",
    "plt.figure(figsize=(8,8*ratio))\n",
    "\n",
    "for i in range(len(parts) - 1):\n",
    "    plt.plot(x[parts[i]:parts[i+1]],y[parts[i]:parts[i+1]],color='k');\n",
    "plt.plot(x[parts[-1]:],y[parts[-1]:],color='k');"
   ]
  },
  {
   "cell_type": "markdown",
   "metadata": {},
   "source": [
    "### Exercise 3"
   ]
  },
  {
   "cell_type": "markdown",
   "metadata": {},
   "source": [
    "Write a function that uses Green's theorem to estimate the surface area of a state. Recall,\n",
    "\n",
    "$$ \\text{Area}(D) = \\oint_{\\partial D} x\\,dy $$\n",
    "\n",
    "Hints:\n",
    "  - First compute the line integral above for a general line segment between points $(x_1,y_1)$ and $(x_2,y_2)$.\n",
    "  - If `arr` is a python iterable (array, list, etc.), you can sum its first `n` entries with `sum(arr[0:n])`\n",
    "\n",
    "or if you need a more complex summand:\n",
    "\n",
    "```total = 0\n",
    "for i in range(n):\n",
    "    total += # something based on i\n",
    "``` \n",
    "\n",
    "and the sum will be stored in `total`.\n",
    "\n",
    "  - Third, and important. Shapefiles are oriented in a **clockwise** (!) direction. You'll need a negative sign."
   ]
  },
  {
   "cell_type": "code",
   "execution_count": null,
   "metadata": {},
   "outputs": [],
   "source": [
    "# You might define more definitions here. \n",
    "\n",
    "def land_area(statename):\n",
    "    \"\"\"Returns the approximate land area in km^2 of statename.\"\"\"\n",
    "    idx = us[us.NAME == statename].index[0]\n",
    "    coords = us.loc[idx,\"COORDS\"]\n",
    "    parts = us.loc[idx,\"PARTS\"]\n",
    "    \n",
    "    center = # write code to choose a \"central\" point to measure from. \n",
    "    \n",
    "    # do the magic\n",
    "    \n",
    "    return total_area"
   ]
  },
  {
   "cell_type": "markdown",
   "metadata": {},
   "source": [
    "# Moving into 3D"
   ]
  },
  {
   "cell_type": "markdown",
   "metadata": {},
   "source": [
    "The method above will work reasonably well for small areas like the Central Park Reservoir or Rhode Island, but won't fair so well for something like Texas, Alaska, or, heaven forbid, Brazil. \n",
    "\n",
    "For this we must visualize our boundaries in 3D."
   ]
  },
  {
   "cell_type": "markdown",
   "metadata": {},
   "source": [
    "### Exercise 4\n",
    "\n",
    "Convert latitude/longitude to $(x,y,z)$ coordinates in km with center of the earth at the origin. You can use `longlat2thetaphi` above"
   ]
  },
  {
   "cell_type": "code",
   "execution_count": 87,
   "metadata": {
    "scrolled": true
   },
   "outputs": [],
   "source": [
    "def longlat2xyz(longlat):\n",
    "    # put code here\n",
    "    lo,la = longlat\n",
    "\n",
    "    return # Put code here"
   ]
  },
  {
   "cell_type": "markdown",
   "metadata": {},
   "source": [
    "## Making a globe. "
   ]
  },
  {
   "cell_type": "code",
   "execution_count": 27,
   "metadata": {},
   "outputs": [],
   "source": [
    "world = shp2df(countries)"
   ]
  },
  {
   "cell_type": "markdown",
   "metadata": {},
   "source": [
    "Add rough centers for each country for perspective. What might be wrong with this approach?"
   ]
  },
  {
   "cell_type": "code",
   "execution_count": 51,
   "metadata": {},
   "outputs": [],
   "source": [
    "def center_of_coords(coords):\n",
    "    x,y = np.column_stack(coords)\n",
    "    return np.array((np.mean(x),np.mean(y)))\n",
    "\n",
    "world[\"CENTER\"] = world.COORDS.apply(center_of_coords)"
   ]
  },
  {
   "cell_type": "code",
   "execution_count": 89,
   "metadata": {
    "hide_input": false
   },
   "outputs": [
    {
     "data": {
      "application/vnd.jupyter.widget-view+json": {
       "model_id": "4e08aed375364bf6826b7f75f9363325",
       "version_major": 2,
       "version_minor": 0
      },
      "text/plain": [
       "interactive(children=(Dropdown(description='name', options=('Zimbabwe', 'Zambia', 'Yemen', 'Vietnam', 'Venezue…"
      ]
     },
     "metadata": {},
     "output_type": "display_data"
    }
   ],
   "source": [
    "cts = world.NAME.to_list()\n",
    "cts.sort\n",
    "\n",
    "@interact\n",
    "def _(name=cts):\n",
    "    plt.figure(figsize=(14,14))\n",
    "    ax = plt.gca(projection='3d')\n",
    "    \n",
    "    cx,cy = world.loc[world.NAME == name,\"CENTER\"].values[0]\n",
    "    \n",
    "    for idx in world.index:\n",
    "        country = world.loc[idx]\n",
    "         \n",
    "        # prettify, can be omitted\n",
    "        s = country.NAME\n",
    "        np.random.seed(sum([ord(c) for c in s]))\n",
    "        col = np.random.rand(3)\n",
    "\n",
    "        if s == name:\n",
    "            alpha = 1\n",
    "            lw= 3\n",
    "        else:\n",
    "            alpha = .7\n",
    "            lw= 1\n",
    "\n",
    "        longdist = np.abs(country.CENTER[0] - cx)\n",
    "        if longdist > 180:\n",
    "            longdist = 360 -longdist\n",
    "        if longdist > 95:\n",
    "            alpha = .2\n",
    "        # end prettify     \n",
    "            \n",
    "        coords = country.COORDS\n",
    "        parts = country.PARTS\n",
    "\n",
    "        x,y,z = np.column_stack([longlat2xyz(xx) for xx in coords])\n",
    "        num_parts = len(parts)\n",
    "        for i in range(num_parts-1):\n",
    "            plt.plot(x[parts[i]:parts[i+1]],y[parts[i]:parts[i+1]],z[parts[i]:parts[i+1]],color=col,alpha=alpha,lw=lw)\n",
    "        plt.plot(x[parts[-1]:],y[parts[-1]:],z[parts[-1]:],color=col,alpha=alpha,lw=lw)\n",
    "\n",
    "\n",
    "    for c in 'xyz':\n",
    "        getattr(ax,f\"set_{c}lim\")(-R,R)\n",
    "    ax.view_init(np.max((cy,5)),cx)"
   ]
  },
  {
   "cell_type": "markdown",
   "metadata": {},
   "source": [
    "## Areas on the Globe"
   ]
  },
  {
   "cell_type": "markdown",
   "metadata": {},
   "source": [
    "### Exercise 5\n",
    "\n",
    "Compute the curl of the following vector field. $R$ is a constant (the radius of the earth).\n",
    "\n",
    "$$ \\mathbf F(x,y,z) = \\frac{ R^2 }{(x^2 + y^2)\\sqrt{x^2 + y^2 + z^2}} \\left( - zy \\,\\mathbf i + zx \\,\\mathbf j \\right) $$\n",
    "\n",
    "Why is this significant for finding the area of a region on a sphere?"
   ]
  },
  {
   "cell_type": "markdown",
   "metadata": {},
   "source": [
    "### Exercise 6\n",
    "\n",
    "Write code to estimate the area of a land mass from a series of points along its perimeter.\n",
    "\n",
    "You will construct a line integral. Use the following ideas to integrate it. "
   ]
  },
  {
   "cell_type": "code",
   "execution_count": null,
   "metadata": {},
   "outputs": [],
   "source": [
    "def midptarc(pt1,pt2):\n",
    "    \"\"\"Given two points on a sphere, return the midpoint on the great circle connecting them. \n",
    "    pt1 and pt2 are triples in xyz coordinates\"\"\"\n",
    "    "
   ]
  },
  {
   "cell_type": "markdown",
   "metadata": {},
   "source": [
    "Hint: Draw 2 points on a circle; find the midpoint of the cord connecting them. Extend a radius through this point to the circle."
   ]
  },
  {
   "cell_type": "code",
   "execution_count": null,
   "metadata": {},
   "outputs": [],
   "source": [
    "def gcdist(pt1,pt2):\n",
    "    \"\"\"Given two points on a sphere, return the distance along the great circle connecting them. \n",
    "    pt1 and pt2 are triples in xyz coordinates\"\"\""
   ]
  },
  {
   "cell_type": "markdown",
   "metadata": {},
   "source": [
    "Hint: Recall the dot product can be used to measure angles in 3-space too."
   ]
  },
  {
   "cell_type": "markdown",
   "metadata": {},
   "source": [
    "To estimate $\\oint_C \\mathbf F \\cdot d\\mathbf r $ given a series of points $P_0, P_1, \\dots,P_n$ along $C$ on a sphere, let $M_i$ be the midpoint on the great circle (arc) between $P_{i-1}$ and $P_i$. Let $\\mathbf T_i$ be the unit tangent vector to the arc at this point and $\\Delta s_i$ the length of this segment. Then\n",
    "\n",
    "$$\\oint_C \\mathbf F \\cdot d\\mathbf r  = \\oint_C \\mathbf F \\cdot \\mathbf T ds \\approx \\sum_{i=1}^n \\mathbf F(M_i)\\cdot \\mathbf T_i \\Delta s_i $$\n",
    "\n",
    "Hint: relate $\\mathbf T_i$ to $\\overrightarrow{P_{i-1}P_i}$."
   ]
  },
  {
   "cell_type": "code",
   "execution_count": 23,
   "metadata": {},
   "outputs": [
    {
     "name": "stdout",
     "output_type": "stream",
     "text": [
      "Help on function text in module matplotlib.pyplot:\n",
      "\n",
      "text(x, y, s, fontdict=None, withdash=<deprecated parameter>, **kwargs)\n",
      "    Add text to the axes.\n",
      "    \n",
      "    Add the text *s* to the axes at location *x*, *y* in data coordinates.\n",
      "    \n",
      "    Parameters\n",
      "    ----------\n",
      "    x, y : scalars\n",
      "        The position to place the text. By default, this is in data\n",
      "        coordinates. The coordinate system can be changed using the\n",
      "        *transform* parameter.\n",
      "    \n",
      "    s : str\n",
      "        The text.\n",
      "    \n",
      "    fontdict : dictionary, optional, default: None\n",
      "        A dictionary to override the default text properties. If fontdict\n",
      "        is None, the defaults are determined by your rc parameters.\n",
      "    \n",
      "    withdash : boolean, optional, default: False\n",
      "        Creates a `~matplotlib.text.TextWithDash` instance instead of a\n",
      "        `~matplotlib.text.Text` instance.\n",
      "    \n",
      "    Returns\n",
      "    -------\n",
      "    text : `.Text`\n",
      "        The created `.Text` instance.\n",
      "    \n",
      "    Other Parameters\n",
      "    ----------------\n",
      "    **kwargs : `~matplotlib.text.Text` properties.\n",
      "        Other miscellaneous text parameters.\n",
      "    \n",
      "    Examples\n",
      "    --------\n",
      "    Individual keyword arguments can be used to override any given\n",
      "    parameter::\n",
      "    \n",
      "        >>> text(x, y, s, fontsize=12)\n",
      "    \n",
      "    The default transform specifies that text is in data coords,\n",
      "    alternatively, you can specify text in axis coords ((0, 0) is\n",
      "    lower-left and (1, 1) is upper-right).  The example below places\n",
      "    text in the center of the axes::\n",
      "    \n",
      "        >>> text(0.5, 0.5, 'matplotlib', horizontalalignment='center',\n",
      "        ...      verticalalignment='center', transform=ax.transAxes)\n",
      "    \n",
      "    You can put a rectangular box around the text instance (e.g., to\n",
      "    set a background color) by using the keyword *bbox*.  *bbox* is\n",
      "    a dictionary of `~matplotlib.patches.Rectangle`\n",
      "    properties.  For example::\n",
      "    \n",
      "        >>> text(x, y, s, bbox=dict(facecolor='red', alpha=0.5))\n",
      "\n"
     ]
    }
   ],
   "source": [
    "help(plt.text)"
   ]
  },
  {
   "cell_type": "code",
   "execution_count": null,
   "metadata": {},
   "outputs": [],
   "source": [
    "def land_area_3d(coords):\n",
    "    # insert code here. "
   ]
  },
  {
   "cell_type": "markdown",
   "metadata": {},
   "source": [
    "### Exercise 7\n",
    "\n",
    "Estimate the land area of Brazil."
   ]
  },
  {
   "cell_type": "markdown",
   "metadata": {},
   "source": [
    "### Challenge\n",
    "\n",
    "Worth thinking about. Not necessary to complete for full credit. \n",
    "\n",
    "The vector field $\\mathbf F$ above is undefined at the poles, so what do we do about Antarctica?\n",
    "\n",
    "Show that no vector field works for area of all regions on the globe at once. That is, there is nothing we could replace $\\mathbf F$ with that would work on all regions. (What would $\\nabla \\times \\mathbf F$ have to be? Why can't any curl be that? Use Stokes' on the whole sphere.)\n",
    "\n",
    "What is the area of Antarctica?"
   ]
  },
  {
   "cell_type": "code",
   "execution_count": null,
   "metadata": {},
   "outputs": [],
   "source": []
  }
 ],
 "metadata": {
  "kernelspec": {
   "display_name": "Python 3",
   "language": "python",
   "name": "python3"
  },
  "language_info": {
   "codemirror_mode": {
    "name": "ipython",
    "version": 3
   },
   "file_extension": ".py",
   "mimetype": "text/x-python",
   "name": "python",
   "nbconvert_exporter": "python",
   "pygments_lexer": "ipython3",
   "version": "3.7.6"
  }
 },
 "nbformat": 4,
 "nbformat_minor": 4
}
