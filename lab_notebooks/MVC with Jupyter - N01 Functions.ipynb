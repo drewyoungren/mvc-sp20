{
  "cells": [
    {
      "cell_type": "code",
      "source": [
        "# These will be explained. For now, just run this at the beginning.\n",
        "%matplotlib inline\n",
        "import numpy as np\n",
        "import matplotlib.pyplot as plt"
      ],
      "outputs": [],
      "execution_count": 1,
      "metadata": {}
    },
    {
      "cell_type": "markdown",
      "source": [
        "# Functions\n",
        "\n",
        "In this notebook we introduce the all-important notion of functions. This will include the typical mathematical definition of a mapping from scalars to scalars, but also for many other kinds of inputs and outputa. \n",
        "\n",
        "Unfortunately, defining functions is not as straight-forward as in pure math, but it is quickly taken to. We'll start simply. $$f(x) = x^2$$ "
      ],
      "metadata": {}
    },
    {
      "cell_type": "code",
      "source": [
        "def f(x):\n",
        "    return x**2"
      ],
      "outputs": [],
      "execution_count": 2,
      "metadata": {}
    },
    {
      "cell_type": "markdown",
      "source": [
        "Function definitions start with the `def` keyword, then the function name and the arguments(s) in parentheses. Don't forget the subsequent colon `:`. Unfortunately (to some), Python is very sensitive to indentation. This forces more readable code but can lead to frustration at times. A function ends when it returns a value. "
      ],
      "metadata": {}
    },
    {
      "cell_type": "code",
      "source": [
        "f(-9)"
      ],
      "outputs": [
        {
          "output_type": "execute_result",
          "execution_count": 3,
          "data": {
            "text/plain": [
              "81"
            ]
          },
          "metadata": {}
        }
      ],
      "execution_count": 3,
      "metadata": {}
    },
    {
      "cell_type": "code",
      "source": [
        "f(1/2)"
      ],
      "outputs": [
        {
          "output_type": "execute_result",
          "execution_count": 4,
          "data": {
            "text/plain": [
              "0.25"
            ]
          },
          "metadata": {}
        }
      ],
      "execution_count": 4,
      "metadata": {}
    },
    {
      "cell_type": "code",
      "source": [
        "# Here is the most labored definition of the identity function\n",
        "def there_is_no_need_for_one_letter_functions(or_variables_for_that_matter):\n",
        "    return or_variables_for_that_matter"
      ],
      "outputs": [],
      "execution_count": 5,
      "metadata": {}
    },
    {
      "cell_type": "markdown",
      "source": [
        "Python funcions work on lots of objects, sometimes in ways you might not have anticipated."
      ],
      "metadata": {}
    },
    {
      "cell_type": "code",
      "source": [
        "v = np.array([1,2,3])\n",
        "there_is_no_need_for_one_letter_functions(v)"
      ],
      "outputs": [
        {
          "output_type": "execute_result",
          "execution_count": 6,
          "data": {
            "text/plain": [
              "array([1, 2, 3])"
            ]
          },
          "metadata": {}
        }
      ],
      "execution_count": 6,
      "metadata": {}
    },
    {
      "cell_type": "code",
      "source": [
        "# less obvious, so be careful\n",
        "f(v)"
      ],
      "outputs": [
        {
          "output_type": "execute_result",
          "execution_count": 7,
          "data": {
            "text/plain": [
              "array([1, 4, 9])"
            ]
          },
          "metadata": {}
        }
      ],
      "execution_count": 7,
      "metadata": {}
    },
    {
      "cell_type": "markdown",
      "source": [
        "## Special functions\n",
        "\n",
        "Of course, we know far more functions than those that come from basic arithmetical operations, and many of these are already implemented in NumPy."
      ],
      "metadata": {}
    },
    {
      "cell_type": "code",
      "source": [
        "np.cos(0)"
      ],
      "outputs": [
        {
          "output_type": "execute_result",
          "execution_count": 8,
          "data": {
            "text/plain": [
              "1.0"
            ]
          },
          "metadata": {}
        }
      ],
      "execution_count": 8,
      "metadata": {}
    },
    {
      "cell_type": "markdown",
      "source": [
        "| mathematics | Python | desciption |\n",
        "|-------------|--------|------------|\n",
        "|$\\sqrt{x}$ | `np.sqrt(x)` | square root |\n",
        "|$\\sin(t)$ | `np.sin(t)` | sine |\n",
        "|$\\cos(t)$ | `np.cos(t)` | cosine |\n",
        "|$\\tan(t)$ | `np.tan(t)` | tangent |\n",
        "|$\\tan^{-1}(x)$ | `np.arctan(x)` | inverse tangent |\n",
        "|$e^x$ | `np.exp(x)` | exponential |\n",
        "|$\\ln x$ |`np.log(x)` | natural logarithm |\n",
        "|$\\log_2 x$ |`np.log2(x)` | CS |\n",
        "|$\\log_{10} x$ |`np.log10(x)` | physics |\n",
        "|$\\pi$ |`np.pi` | a famous constant |\n"
      ],
      "metadata": {}
    },
    {
      "cell_type": "markdown",
      "source": [
        "**Tip.** To avoid having to remember the `np.` all the time, we can explicitly import specific functions with the following."
      ],
      "metadata": {}
    },
    {
      "cell_type": "code",
      "source": [
        "from numpy import sin,cos,sqrt,exp,log,pi"
      ],
      "outputs": [],
      "execution_count": 9,
      "metadata": {}
    },
    {
      "cell_type": "code",
      "source": [
        "sin(3*pi/2) "
      ],
      "outputs": [
        {
          "output_type": "execute_result",
          "execution_count": 10,
          "data": {
            "text/plain": [
              "-1.0"
            ]
          },
          "metadata": {}
        }
      ],
      "execution_count": 10,
      "metadata": {}
    },
    {
      "cell_type": "markdown",
      "source": [
        "## Vector-valued functions\n",
        "\n",
        "Of course functions need not only return a scalar. Recall the spiral curve $$\\vec r = \\langle t\\cos(t) + t\\sin(t) \\rangle$$"
      ],
      "metadata": {}
    },
    {
      "cell_type": "code",
      "source": [
        "def r(t):\n",
        "    return t * np.array([cos(t),sin(t)]) "
      ],
      "outputs": [],
      "execution_count": 11,
      "metadata": {}
    },
    {
      "cell_type": "code",
      "source": [
        "r(2*pi)"
      ],
      "outputs": [
        {
          "output_type": "execute_result",
          "execution_count": 12,
          "data": {
            "text/plain": [
              "array([ 6.28318531e+00, -1.53893655e-15])"
            ]
          },
          "metadata": {}
        }
      ],
      "execution_count": 12,
      "metadata": {}
    },
    {
      "cell_type": "markdown",
      "source": [
        "#### Exercise\n",
        "\n",
        "What is the exact value of $\\vec r(2\\pi)$? Why was the above printed out?"
      ],
      "metadata": {}
    },
    {
      "cell_type": "markdown",
      "source": [
        "## Functions of several variables\n",
        "\n",
        "Functions can be defined with any number of inputs in a straightforward way. Suppose $$f(x,y) = x^2 - x +2y^2$$"
      ],
      "metadata": {}
    },
    {
      "cell_type": "code",
      "source": [
        "def f(x,y):\n",
        "    return x**2 - x + 2 * y**2"
      ],
      "outputs": [],
      "execution_count": 14,
      "metadata": {}
    },
    {
      "cell_type": "code",
      "source": [
        "f(-12,4)"
      ],
      "outputs": [
        {
          "output_type": "execute_result",
          "execution_count": 15,
          "data": {
            "text/plain": [
              "188"
            ]
          },
          "metadata": {}
        }
      ],
      "execution_count": 15,
      "metadata": {}
    },
    {
      "cell_type": "markdown",
      "source": [
        "**Warning.** Note that the code above redefined the variable `f` to this new function. Prior cells referencing it may exhibi incorrect behavior. Though we recycle variables constantly when doing mathematics, it is better to use unique names in a computational setting. Feel free to expand beyond $f$ and $g$ for function names. "
      ],
      "metadata": {}
    },
    {
      "cell_type": "markdown",
      "source": [
        "## Plotting\n",
        "\n",
        "Visualizaion is often key to understanding mathematical objects. We'll use the library [Matplotlib](https://matplotlib.org/), which you can see imported above.\n",
        "\n",
        "> **Some editorializing.** Matplotlib is powerful and can in fact be used for publication-quality images, but it has many quirks and can be at times difficult to work with. If your main goal is graphing and you are new to this environment, I highly recommend using other, more intuitive options like CalcPlot3D, Geogebra, or many others. \n",
        "\n",
        "In this class, we are using the Python environment so that we can (eventually) do some fairly introcate computations that would be difficult otherwise. This plotting section is presented so one can quickly get a picture when mecessary. It is not the main point of this unit. **End of editorializing.**"
      ],
      "metadata": {}
    },
    {
      "cell_type": "markdown",
      "source": [
        "### A simple 1-D function\n",
        "\n",
        "Matplotlib is finnicky and somewhat counter-intuitive, especially if you are used to a CAS like _Mathematica_, MATLAB, etc. A plot has a lot of components but at the core are two arrays, of $x$- and $y$-values respectively, which are joined pairwise and in order by sraight line segments. \n",
        "\n",
        "Thus to graph a simple sine wave, we first construct a vector of $x$-values using NumPy's `linspace` function. "
      ],
      "metadata": {}
    },
    {
      "cell_type": "code",
      "source": [
        "x = np.linspace(0,2*pi,100)"
      ],
      "outputs": [],
      "execution_count": 17,
      "metadata": {}
    },
    {
      "cell_type": "markdown",
      "source": [
        "`x` is now a vector of 100 $x$-values, starting at $1$ and ending at $2\\pi$.\n",
        "\n",
        "Next we just need a corresponding sequence of $y$-values. "
      ],
      "metadata": {}
    },
    {
      "cell_type": "code",
      "source": [
        "y = np.sin(x)"
      ],
      "outputs": [],
      "execution_count": 112,
      "metadata": {}
    },
    {
      "cell_type": "markdown",
      "source": [
        "**Bad news:** $\\sin(x)$ just took a vector as its input. It's not supposed to do that.\n",
        "\n",
        "**Good news:** NumPy function are _vectorized_; that means when they expecting  a scalar and get a vector, they just act on each component of the vector in turn. This makes for less code, but more for the coder to think about. \n",
        "\n",
        "Anyway, now we're ready to actually make the graph. "
      ],
      "metadata": {}
    },
    {
      "cell_type": "code",
      "source": [
        "plt.plot(x,y);"
      ],
      "outputs": [
        {
          "output_type": "display_data",
          "data": {
            "image/png": "[encoded data removed]",
            "text/plain": [
              "<Figure size 432x288 with 1 Axes>"
            ]
          },
          "metadata": {
            "needs_background": "light"
          }
        }
      ],
      "execution_count": 114,
      "metadata": {}
    },
    {
      "cell_type": "markdown",
      "source": [
        "And generally we won't need anything fancier than that. here is a lot happening behind the scenes, but two lines, changing formulas as necessary, will suffice for about anuything in this course."
      ],
      "metadata": {}
    },
    {
      "cell_type": "markdown",
      "source": [
        "#### EXAMPLE\n",
        "\n",
        "Sketch the graph $y=e^{-x^2}$ for $x \\in [-3,3]$."
      ],
      "metadata": {}
    },
    {
      "cell_type": "code",
      "source": [
        "# Solution\n",
        "x = np.linspace(-3,3,100)\n",
        "plt.plot(x,exp(-x**2));"
      ],
      "outputs": [
        {
          "output_type": "display_data",
          "data": {
            "image/png": "[encoded data removed]",
            "text/plain": [
              "<Figure size 432x288 with 1 Axes>"
            ]
          },
          "metadata": {
            "needs_background": "light"
          }
        }
      ],
      "execution_count": 118,
      "metadata": {}
    },
    {
      "cell_type": "markdown",
      "source": [
        "### Getting fancy (optional)\n",
        "\n",
        "Now if such a bare graphic offends your aesthetic sensibilities, you are welcome to explore the rabbithole of the [docs and examples](https://matplotlib.org/3.1.0/api/_as_gen/matplotlib.pyplot.plot.html), but you migh consider more pressing obligations."
      ],
      "metadata": {}
    },
    {
      "cell_type": "code",
      "source": [
        "x = np.linspace(0,2*pi,100)\n",
        "plt.plot(x,sin(x),'b-',x,cos(pi*x)/2,\"r--\")\n",
        "plt.title(\"Two Waves\")\n",
        "plt.xticks(np.linspace(0,2*pi,9),['$0$', '','','', '$\\pi$','','','','$2\\pi$'])\n",
        "plt.xlabel('the angle $\\\\theta$')\n",
        "plt.ylabel('the upside-down',rotation=270,va='top')\n",
        "plt.legend([\"slow\",\"faster\"],shadow=True);"
      ],
      "outputs": [
        {
          "output_type": "display_data",
          "data": {
            "image/png": "[encoded data removed]",
            "text/plain": [
              "<Figure size 432x288 with 1 Axes>"
            ]
          },
          "metadata": {
            "needs_background": "light"
          }
        }
      ],
      "execution_count": 146,
      "metadata": {}
    },
    {
      "cell_type": "markdown",
      "source": [
        "### A curve\n",
        "\n",
        "Plotting $\\vec r(t)$ is similar; we just need to coax the vectors into the right forma for $plot$."
      ],
      "metadata": {}
    },
    {
      "cell_type": "code",
      "source": [
        "X,Y = np.column_stack([r(t) for t in np.linspace(0,8*pi,400)])"
      ],
      "outputs": [],
      "execution_count": 19,
      "metadata": {}
    },
    {
      "cell_type": "code",
      "source": [
        "fig, ax = plt.subplots(1)\n",
        "ax.plot(X,Y)\n",
        "ax.set_aspect(1);"
      ],
      "outputs": [
        {
          "output_type": "display_data",
          "data": {
            "text/plain": [
              "<Figure size 432x288 with 1 Axes>"
            ],
            "image/png": "[encoded data removed]"
          },
          "metadata": {
            "needs_background": "light"
          }
        }
      ],
      "execution_count": 22,
      "metadata": {}
    },
    {
      "cell_type": "code",
      "source": [],
      "outputs": [],
      "execution_count": 7,
      "metadata": {}
    },
    {
      "cell_type": "code",
      "source": [],
      "outputs": [],
      "execution_count": null,
      "metadata": {}
    }
  ],
  "metadata": {
    "kernelspec": {
      "name": "python3",
      "language": "python",
      "display_name": "Python 3"
    },
    "language_info": {
      "name": "python",
      "version": "3.7.3",
      "mimetype": "text/x-python",
      "codemirror_mode": {
        "name": "ipython",
        "version": 3
      },
      "pygments_lexer": "ipython3",
      "nbconvert_exporter": "python",
      "file_extension": ".py"
    },
    "kernel_info": {
      "name": "python3"
    },
    "nteract": {
      "version": "0.14.3"
    }
  },
  "nbformat": 4,
  "nbformat_minor": 2
}