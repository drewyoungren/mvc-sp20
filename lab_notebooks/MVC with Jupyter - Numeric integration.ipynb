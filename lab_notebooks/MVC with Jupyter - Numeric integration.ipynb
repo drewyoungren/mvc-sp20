{
 "cells": [
  {
   "cell_type": "code",
   "execution_count": 27,
   "metadata": {},
   "outputs": [],
   "source": [
    "import numpy as np\n",
    "from numpy import array,linspace,arange,meshgrid,exp,log,sqrt,cos,sin,tan,arctan,pi\n",
    "\n",
    "from scipy.integrate import quad,dblquad,tplquad\n",
    "import matplotlib.pyplot as plt"
   ]
  },
  {
   "cell_type": "markdown",
   "metadata": {},
   "source": [
    "### Anonymous functions\n",
    "\n",
    "We learned how to define functions with the `def` keyword."
   ]
  },
  {
   "cell_type": "code",
   "execution_count": 3,
   "metadata": {},
   "outputs": [
    {
     "data": {
      "text/plain": [
       "<function __main__.f(x)>"
      ]
     },
     "execution_count": 3,
     "metadata": {},
     "output_type": "execute_result"
    }
   ],
   "source": [
    "def f(x):\n",
    "    return x**2\n",
    "f"
   ]
  },
  {
   "cell_type": "markdown",
   "metadata": {},
   "source": [
    "but sometimes it's useful to specify a function in Python without giving it a name. For this we use `lambda` notation."
   ]
  },
  {
   "cell_type": "code",
   "execution_count": 4,
   "metadata": {},
   "outputs": [],
   "source": [
    "g = lambda x: x**2"
   ]
  },
  {
   "cell_type": "markdown",
   "metadata": {},
   "source": [
    "This is like saying \"g is the function that squares things\"."
   ]
  },
  {
   "cell_type": "code",
   "execution_count": 9,
   "metadata": {},
   "outputs": [
    {
     "data": {
      "text/plain": [
       "25"
      ]
     },
     "execution_count": 9,
     "metadata": {},
     "output_type": "execute_result"
    }
   ],
   "source": [
    "g(5)"
   ]
  },
  {
   "cell_type": "markdown",
   "metadata": {},
   "source": [
    "This notation comes in handy for functions that take functions as arguements. This brings us to the real subject of this notebook."
   ]
  },
  {
   "cell_type": "markdown",
   "metadata": {},
   "source": [
    "# Definite Integrals\n",
    "\n",
    "We want to evaluate expressions like $$\\int_a^bf(x)\\,dx.$$\n",
    "\n",
    "We know the Fundamental Theorem of Calculus tells us to find an antiderivative of $f$ and evaluate it at the endpoints, but computers aren't so good at that. What they are good at is adding and multiplying numbers."
   ]
  },
  {
   "cell_type": "markdown",
   "metadata": {},
   "source": [
    "### Riemann Sums\n",
    "\n",
    "Recall that a definite integral is the limit of Riemann sums, multiplying the width of subinterval by the value of the function at some point inside. For example, if we divide the interval into $N$ uniform subintervals and sample at the left endpoint, we have\n",
    " \n",
    "$$\\int_a^bf(x)\\,dx \\approx \\sum_{i=0}^{N-1} f(a + i\\Delta x)\\Delta x $$ where $\\Delta x = \\frac{b - a}{N}$."
   ]
  },
  {
   "cell_type": "code",
   "execution_count": 17,
   "metadata": {},
   "outputs": [],
   "source": [
    "def left_rule(f,a,b,N=1000):\n",
    "    \"\"\"Computes the Riemann sum of the definite integral of f from a to b\n",
    "    using N (default 1000) subintervals and left endpoints.\"\"\"\n",
    "    dx = (b - a)/N\n",
    "    return sum([f(a + i*dx) for i in range(N)])*dx"
   ]
  },
  {
   "cell_type": "markdown",
   "metadata": {},
   "source": [
    "Let's try it on $\\int_{-1}^1(1-x^2)\\,dx$ using an anonymous function."
   ]
  },
  {
   "cell_type": "code",
   "execution_count": 18,
   "metadata": {},
   "outputs": [
    {
     "data": {
      "text/plain": [
       "1.3333319999999993"
      ]
     },
     "execution_count": 18,
     "metadata": {},
     "output_type": "execute_result"
    }
   ],
   "source": [
    "left_rule(lambda x: 1 - x**2,-1,1)"
   ]
  },
  {
   "cell_type": "markdown",
   "metadata": {},
   "source": [
    "There are a lot of other (read: \"smarter\") ways to approximate integrals in this way. See the [Simpson's Rule](../extras/SimpsonsRule.ipynb) notebook to explore some more. \n",
    "\n",
    "This problem is (more or less) solved in the `scipy.integrate` library which builds on algorithms that have been around since the early days of computing. How does it worK? Knock off an afternoon with [Gaussian quadrature](https://en.wikipedia.org/wiki/Gaussian_quadrature)."
   ]
  },
  {
   "cell_type": "code",
   "execution_count": 22,
   "metadata": {},
   "outputs": [
    {
     "data": {
      "text/plain": [
       "(1.3333333333333335, 1.4802973661668755e-14)"
      ]
     },
     "execution_count": 22,
     "metadata": {},
     "output_type": "execute_result"
    }
   ],
   "source": [
    "quad(lambda x: 1 - x**2,-1,1)"
   ]
  },
  {
   "cell_type": "markdown",
   "metadata": {},
   "source": [
    "The first number is the estimate, awfully close to the exact $\\frac43$. The second is the error estimate. \n",
    "\n",
    "**Note** The `e` in the estimate is not the natural base $e$ but the **e**xponent from usual scientific notation. `3.14e-12`$=3.14\\times10^{-12}$.\n",
    "\n",
    "One can get the first element of any tuple (or list or other iterable) by appending `[0]`."
   ]
  },
  {
   "cell_type": "code",
   "execution_count": 26,
   "metadata": {},
   "outputs": [
    {
     "data": {
      "text/plain": [
       "3.1415926535897967"
      ]
     },
     "execution_count": 26,
     "metadata": {},
     "output_type": "execute_result"
    }
   ],
   "source": [
    "quad(lambda x: 2*sqrt(1 - x**2),-1,1)[0] # seem familiar?"
   ]
  },
  {
   "cell_type": "markdown",
   "metadata": {},
   "source": [
    "## Multiple integration\n",
    "\n",
    "A double integral is easily enough computed via `dblquad` which performs an iterated integral and works as you might expect **except for the quirk that the integrand's arguments must come in the order of integration**, i.e., the inside variable first. So a double integral like \n",
    "\n",
    "$$\\int_a^b \\int_{f(x)}^{g(x)} h(x,y)\\,dy\\,dx $$\n",
    "\n",
    "would be coded like \n",
    "\n",
    "```dblquad(lambda y,x: h(x,y),a,b,f,g)```\n",
    "\n",
    "assuming all variables defined as expected. \n",
    "\n",
    "#### Example\n",
    "\n",
    "Find the centroid of the region bounded by the $x$-axis, $x=1$ and $y=x^2$."
   ]
  },
  {
   "cell_type": "code",
   "execution_count": 33,
   "metadata": {
    "scrolled": false
   },
   "outputs": [
    {
     "data": {
      "image/png": "[encoded data removed]",
      "text/plain": [
       "<Figure size 432x432 with 1 Axes>"
      ]
     },
     "metadata": {
      "needs_background": "light"
     },
     "output_type": "display_data"
    }
   ],
   "source": [
    "x = linspace(0,1,50)\n",
    "plt.figure(figsize=(6,6))\n",
    "plt.fill_between(x,x**2,alpha=.7);"
   ]
  },
  {
   "cell_type": "markdown",
   "metadata": {},
   "source": [
    "The area is $$\\int_0^1\\int_0^{x^2}dy\\,dx.$$"
   ]
  },
  {
   "cell_type": "code",
   "execution_count": 63,
   "metadata": {},
   "outputs": [
    {
     "data": {
      "text/plain": [
       "0.33333333333333337"
      ]
     },
     "execution_count": 63,
     "metadata": {},
     "output_type": "execute_result"
    }
   ],
   "source": [
    "# the area is trivial\n",
    "\n",
    "A,err = quad(lambda x: x**2,0,1)\n",
    "A"
   ]
  },
  {
   "cell_type": "code",
   "execution_count": 56,
   "metadata": {},
   "outputs": [
    {
     "data": {
      "image/png": "[encoded data removed]",
      "text/plain": [
       "<Figure size 432x432 with 1 Axes>"
      ]
     },
     "metadata": {
      "needs_background": "light"
     },
     "output_type": "display_data"
    }
   ],
   "source": [
    "xbar,ybar = dblquad(lambda y,x: x,0,1,0,lambda x:x**2)[0] / A,dblquad(lambda y,x: y,0,1,0,lambda x:x**2)[0] / A\n",
    "\n",
    "x = linspace(0,1,50)\n",
    "plt.figure(figsize=(6,6))\n",
    "plt.fill_between(x,x**2,alpha=.3);\n",
    "plt.scatter([xbar],[ybar],s=2**6,c='r');"
   ]
  },
  {
   "cell_type": "markdown",
   "metadata": {},
   "source": [
    "#### Exercise\n",
    "\n",
    "Reverse the order of operations in $\\bar x$ and $\\bar y$ above. "
   ]
  },
  {
   "cell_type": "markdown",
   "metadata": {},
   "source": [
    "### Triple integrals\n",
    "\n",
    "`tplquad`, as you may have guessed, can compute triple integrals, but again, the order or the integrand's arguments in the order of integration, from inside to outside. "
   ]
  },
  {
   "cell_type": "markdown",
   "metadata": {},
   "source": [
    "### Example\n",
    "\n",
    "Find the centroid of the region above the surface $z=x^2 + y^2$ and below the plane $z=4$."
   ]
  },
  {
   "cell_type": "markdown",
   "metadata": {},
   "source": [
    "#### Solution\n",
    "\n",
    "It's easy enough to argue $\\bar x = \\bar y = 0$. We compute \n",
    "\n",
    "$$ \\bar z = \\frac{\\int_{-2}^2 \\int_{-\\sqrt{4 - x^2}}^{\\sqrt{4 - x^2}} \\int_{x^2 + y^2}^{4} z\\,dz\\,dy\\,dx}{\\int_{-2}^2 \\int_{-\\sqrt{4 - x^2}}^{\\sqrt{4 - x^2}} \\int_{x^2 + y^2}^{4}\\,dz\\,dy\\,dx} $$"
   ]
  },
  {
   "cell_type": "code",
   "execution_count": 70,
   "metadata": {},
   "outputs": [],
   "source": [
    "vol = dblquad(lambda y,x: 4 - x**2 - y**2, -2,2,\n",
    "        lambda x: -sqrt(4 - x**2),lambda x: sqrt(4 - x**2))[0]"
   ]
  },
  {
   "cell_type": "code",
   "execution_count": 71,
   "metadata": {},
   "outputs": [
    {
     "data": {
      "text/plain": [
       "2.666666666702137"
      ]
     },
     "execution_count": 71,
     "metadata": {},
     "output_type": "execute_result"
    }
   ],
   "source": [
    "tplquad(lambda z,y,x: z, -2,2,\n",
    "        lambda x: -sqrt(4 - x**2),lambda x: sqrt(4 - x**2),\n",
    "        lambda x,y: x**2 + y**2,4)[0] / vol"
   ]
  },
  {
   "cell_type": "code",
   "execution_count": null,
   "metadata": {},
   "outputs": [],
   "source": []
  }
 ],
 "metadata": {
  "kernelspec": {
   "display_name": "Python 3",
   "language": "python",
   "name": "python3"
  },
  "language_info": {
   "codemirror_mode": {
    "name": "ipython",
    "version": 3
   },
   "file_extension": ".py",
   "mimetype": "text/x-python",
   "name": "python",
   "nbconvert_exporter": "python",
   "pygments_lexer": "ipython3",
   "version": "3.7.6"
  }
 },
 "nbformat": 4,
 "nbformat_minor": 4
}
