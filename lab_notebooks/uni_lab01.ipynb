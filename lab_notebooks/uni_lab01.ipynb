{
 "cells": [
  {
   "cell_type": "markdown",
   "metadata": {},
   "source": [
    "# Lab 01\n",
    "\n",
    "This \"lab\" is an optional exercise, but if you complete it satisfactorily, it will replace one quiz score in the final calculation of your grade. Be sure to step through the accompanying \"MVC with Jupyter\" notebooks before diving into this one. "
   ]
  },
  {
   "cell_type": "markdown",
   "metadata": {},
   "source": [
    "## Instructions\n",
    "\n",
    "  1. Click on title `uni_lab01` at the top of this notebook and rename it by replacing `uni` with your actual UNI. "
   ]
  },
  {
   "cell_type": "markdown",
   "metadata": {},
   "source": [
    "  2.  <img alt=\"Volcano, of sorts\" src=\"volcano1.png\" style= \"float: right\" width=400> <p>Make a volcano. That is, produce a graph of a function of two variables that resembles your idea of a volcano. Exact aesthetics are up to you but the cone and crater should be recognizable.</p>"
   ]
  },
  {
   "cell_type": "code",
   "execution_count": 2,
   "metadata": {},
   "outputs": [],
   "source": [
    "# These are sufficient for doing the assignment though you are free to add more.\n",
    "import numpy as np\n",
    "import matplotlib.pyplot as plt\n",
    "from mpl_toolkits import mplot3d # Needed for 3D plots"
   ]
  },
  {
   "cell_type": "code",
   "execution_count": 3,
   "metadata": {},
   "outputs": [],
   "source": [
    "# Your code here"
   ]
  },
  {
   "cell_type": "markdown",
   "metadata": {},
   "source": [
    "  3. <img alt=\"Paraboloind with tangent plane\" src=\"tanplane1.png\" style= \"float: right\" width=400>Write a function called `plot_tan_plane(f,a,b)` that take in 3 arguments:\n",
    "    - `f` a function of two variable\n",
    "    - `a`, `b` coordinates of a point $(a,b)$\n",
    "    \n",
    "  that plots the graph $z=f(x,y)$ as well as the tangent plane to the graph at the point $(a,b)$. \n",
    "  \n",
    "  **Note** There is no simple, obvious way to take a partial derivative in numpy. Write code that approximates such.\n",
    "\n",
    "#### Test\n",
    "For instance, the code \n",
    "\n",
    "```plot_tan_plane(lambda x,y: 3 - x**2 - y**2,1,1)```\n",
    "\n",
    "should produce a picture like (it need not be exact) at right.\n"
   ]
  },
  {
   "cell_type": "code",
   "execution_count": null,
   "metadata": {},
   "outputs": [],
   "source": [
    "def plot_tan_plane(f,a,b):\n",
    "    ## Your code here"
   ]
  },
  {
   "cell_type": "code",
   "execution_count": null,
   "metadata": {},
   "outputs": [],
   "source": [
    "# test case 1\n",
    "plot_tan_plane(lambda x,y: 3 - x**2 - y**2,1,1)"
   ]
  },
  {
   "cell_type": "code",
   "execution_count": null,
   "metadata": {},
   "outputs": [],
   "source": [
    "# test case 2\n",
    "plot_tan_plane(lambda x,y: np.sin(x)*np.exp(y),np.pi/6,-1)"
   ]
  },
  {
   "cell_type": "markdown",
   "metadata": {},
   "source": [
    "  4. Download your `.ipynb` file and submit it on Courseworks under the assignment \"Lab 1\". Must be submitted by the end of the day **Friday, February 27** for credit."
   ]
  }
 ],
 "metadata": {
  "kernelspec": {
   "display_name": "Python 3",
   "language": "python",
   "name": "python3"
  },
  "language_info": {
   "codemirror_mode": {
    "name": "ipython",
    "version": 3
   },
   "file_extension": ".py",
   "mimetype": "text/x-python",
   "name": "python",
   "nbconvert_exporter": "python",
   "pygments_lexer": "ipython3",
   "version": "3.7.6"
  }
 },
 "nbformat": 4,
 "nbformat_minor": 4
}
