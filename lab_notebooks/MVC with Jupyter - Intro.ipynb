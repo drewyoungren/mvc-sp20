{
 "cells": [
  {
   "cell_type": "markdown",
   "metadata": {},
   "source": [
    "# Multivariable Calculus in Jupyter\n",
    "\n",
    "This is meant as a quick-and-dirty introduction to computation tools for multivariable calculus in Python/Jupyter.\n",
    "Python is the **language** we'll be writing our code in and Jupyter is the **environment** that executes the commands and stores the results. We'll also see a number of **libraries** (e.g., NumPy, SciPy, Pandas) that will help with various structures. \n",
    "\n",
    "This tools are extremely powerful and their use can get rather complex, but we will limit ourselves to the basic structures of the course. Computers generally don't read our system of mathematical symbols (originating in the 17th century and earlier) so part of the challenge is translating expressions we know into executable code. \n",
    "\n",
    "|mathematics     | Python  | decripion     |\n",
    "|----------------|----------------|----------------|\n",
    "| $\\displaystyle \\sum_{i=1}^6 i^2$ | `sum([i**2 for i in range(1,7)])`| add the first 6 squares |\n",
    "\n",
    "\n",
    "We'll cover the details in time. Let's start small. If you would like a bit more of the nitty-gritty, you can dive into  [SciPy Lectures](https://scipy-lectures.org)."
   ]
  },
  {
   "cell_type": "markdown",
   "metadata": {
    "slideshow": {
     "slide_type": "slide"
    }
   },
   "source": [
    "## Cells and Modes\n",
    "\n",
    "First we need to know the structure of a Jupyter notebook (this document). Everything you see below the menu above is in a **cell**.  Click to the left of this text and you should see this section highlighted (likely in blue). The notebook is in **Command Mode**. This is used to open new cells, delete old ones, move them around, etc. \n",
    "\n",
    "Now double-click on this text itself. The appearance should have changed, and you can now edit the text, hence **Edit Mode**. Click in the margin to get back out to command mode, where you generally want to be when not actively editing a cell. \n",
    "\n",
    "\n",
    "There are essentially two types of cells: \n",
    "  - **Markdown** cells containing formatted text (and mathematical $s_ym\\beta \\otimes l^s$) simply to be read (this is one of them)\n",
    "  - **Code** cells containing, well, code, i.e., instructions to be executed. \n",
    "\n",
    "You can change the cell type by selecting it and using the **Cell $\\rightarrow$ Cell Type** menu above or (in command mode only) typing `m` for markdown or `y` for code. "
   ]
  },
  {
   "cell_type": "markdown",
   "metadata": {},
   "source": [
    "## Arithmetic\n",
    "\n",
    "Let's do some math. Below is a code cell. Select it and press `Shift-Enter` to execute it. This is how all code cells are executed, even in edit mode."
   ]
  },
  {
   "cell_type": "code",
   "execution_count": null,
   "metadata": {},
   "outputs": [],
   "source": [
    "6 + 2"
   ]
  },
  {
   "cell_type": "markdown",
   "metadata": {},
   "source": [
    "Arithmetic works the expected way where  $a+b$, $a-b$, $a\\times b$, and $a \\div b$ are coded as `a + b`, `a - b`, `a * b`, and `a / b`, respectively. \n",
    "\n",
    "All delimiting should be done with parentheses `(` `)`. Brackets `[` `]` and braces `{` `}` have other special meanings. \n",
    "\n",
    "Now make a new code cell immediately below this one (Use the $\\mathbf{+}$ menu button above or in command mode, press `b`) and see how Python deal with the Internet’s \"problem\" $6 \\div 2 \\times 3$."
   ]
  },
  {
   "cell_type": "code",
   "execution_count": null,
   "metadata": {},
   "outputs": [],
   "source": []
  },
  {
   "cell_type": "markdown",
   "metadata": {},
   "source": [
    "Python does obey some conventions when it comes to order of operations, but whenever in doubt, it's better to have too many parentheses than too few. "
   ]
  },
  {
   "cell_type": "markdown",
   "metadata": {},
   "source": [
    "### Warning: Exponents\n",
    "\n",
    "One can of course take powers in Python but, unlike many computing environments, it uses a double-asterisk `**` for this. The commonly used carat `^` does something else (bitwise XOR) entirely."
   ]
  },
  {
   "cell_type": "code",
   "execution_count": null,
   "metadata": {},
   "outputs": [],
   "source": [
    "# This doesn't square. \n",
    "3^2"
   ]
  },
  {
   "cell_type": "code",
   "execution_count": null,
   "metadata": {},
   "outputs": [],
   "source": [
    "# This does. \n",
    "3**2"
   ]
  },
  {
   "cell_type": "code",
   "execution_count": null,
   "metadata": {},
   "outputs": [],
   "source": [
    "# one can take roots this way, but note the parentheses.\n",
    "2**(1/2)"
   ]
  },
  {
   "cell_type": "markdown",
   "metadata": {},
   "source": [
    "### Comments\n",
    "\n",
    "That reminds me, in code cells, anything following a `#` symbol on a line is considered a commend and ignored by the interpreter. This is very important for explaining to (human) readers what your code is meant to do."
   ]
  },
  {
   "cell_type": "code",
   "execution_count": null,
   "metadata": {},
   "outputs": [],
   "source": [
    "# This cell won't produce any thing at all.\n",
    "# You can write insults about the kernel's mother, and it won't even react."
   ]
  },
  {
   "cell_type": "markdown",
   "metadata": {},
   "source": [
    "## Variables \n",
    "\n",
    "Values of course can be stored in variables as in mathematics. Values are assigned using the `=` operator with the variable name coming on the left."
   ]
  },
  {
   "cell_type": "code",
   "execution_count": null,
   "metadata": {},
   "outputs": [],
   "source": [
    "x = 6 / 2 + 1.5**6\n",
    "x"
   ]
  },
  {
   "cell_type": "markdown",
   "metadata": {},
   "source": [
    "They can then be references in other expressions by name."
   ]
  },
  {
   "cell_type": "code",
   "execution_count": null,
   "metadata": {},
   "outputs": [],
   "source": [
    "x + 4"
   ]
  },
  {
   "cell_type": "markdown",
   "metadata": {},
   "source": [
    "### `print()`\n",
    "\n",
    "Python will display an expressions value if it is the last line of a code cell, but you can see a value at any point by explicitly calling the `print()` function."
   ]
  },
  {
   "cell_type": "code",
   "execution_count": null,
   "metadata": {},
   "outputs": [],
   "source": [
    "print(x)\n",
    "print(x + 7)\n",
    "x+8\n",
    "x"
   ]
  },
  {
   "cell_type": "markdown",
   "metadata": {},
   "source": [
    "### Changing a value\n",
    "\n",
    "Note that just writing an expression with a variable as above does not change its value. To do so another assignment must be called. "
   ]
  },
  {
   "cell_type": "code",
   "execution_count": null,
   "metadata": {},
   "outputs": [],
   "source": [
    "print(x)\n",
    "x = 14\n",
    "x"
   ]
  },
  {
   "cell_type": "code",
   "execution_count": null,
   "metadata": {},
   "outputs": [],
   "source": [
    "x = x + 1\n",
    "x"
   ]
  },
  {
   "cell_type": "markdown",
   "metadata": {},
   "source": [
    "**Important.** Note that last cell started with `x = x + 1`. Those used to computing will not bat an eyelash at this, but a pure mathematician might keel over as the equation $x=x+1$ has no solution.  \n",
    "\n",
    "The interpreter evaluates the expression on the right first, gets 15, and then assigns it to `x`. This is so common, you can do the same kind of incrementation like this:"
   ]
  },
  {
   "cell_type": "code",
   "execution_count": null,
   "metadata": {},
   "outputs": [],
   "source": [
    "x += 1\n",
    "x"
   ]
  },
  {
   "cell_type": "markdown",
   "metadata": {},
   "source": [
    "Be careful here though. Run that cell repeatedly to see the value go up and up."
   ]
  },
  {
   "cell_type": "markdown",
   "metadata": {},
   "source": [
    "## Vectors"
   ]
  },
  {
   "cell_type": "markdown",
   "metadata": {},
   "source": [
    "So far, we have only looked at scalars and scalar operations. To move up to vectors, we will invoke the [NumPy](https://www.numpy.org/)  (pronounce however you feel is most fun) library. We invoke it to as follows, using the conventional abbreviation `np`. We can then access its vast wealth of mathematical structures using `np.xxxxx` notation.\n",
    "\n",
    "**Note:** It is generally good practice to put all imports at the beginning of a document."
   ]
  },
  {
   "cell_type": "code",
   "execution_count": null,
   "metadata": {},
   "outputs": [],
   "source": [
    "import numpy as np"
   ]
  },
  {
   "cell_type": "markdown",
   "metadata": {},
   "source": [
    "For vectors, we are going to use a structure called a \"Numpy array\" which is actually a bit more generic and can be used for things like matrices and ensors as well, but we will stick to vectors. \n",
    "\n",
    "A vector or $\\vec v = \\langle 1,2,4\\rangle$ is declared this way."
   ]
  },
  {
   "cell_type": "code",
   "execution_count": null,
   "metadata": {
    "scrolled": true
   },
   "outputs": [],
   "source": [
    "v = np.array([1,2,4])"
   ]
  },
  {
   "cell_type": "markdown",
   "metadata": {},
   "source": [
    "**Warning.** Note the the double sets of delimeters. The expression `[1,2,4]` is a valid Python array, but there is a good reason we don't use those as vectors. Observe:"
   ]
  },
  {
   "cell_type": "code",
   "execution_count": null,
   "metadata": {},
   "outputs": [],
   "source": [
    "[1,2,4] + [7,6,8]"
   ]
  },
  {
   "cell_type": "markdown",
   "metadata": {},
   "source": [
    "Useful for sure, but maybe not what we want mathematically. Python knows to reat numpy arrays as numerical objects"
   ]
  },
  {
   "cell_type": "code",
   "execution_count": null,
   "metadata": {},
   "outputs": [],
   "source": [
    "w = np.array([7,6,8])"
   ]
  },
  {
   "cell_type": "code",
   "execution_count": null,
   "metadata": {},
   "outputs": [],
   "source": [
    "v+w"
   ]
  },
  {
   "cell_type": "markdown",
   "metadata": {},
   "source": [
    "### Vector operations\n",
    "\n",
    "We can accomplish our basic vector operations with relative ease. \n",
    "\n",
    "_We haven't seen all of these yet, so don't panic, but we will shortly._"
   ]
  },
  {
   "cell_type": "markdown",
   "metadata": {},
   "source": [
    "|mathematics     | Python  | decripion     |\n",
    "|----------------|----------------|----------------|\n",
    "| $\\vec v + \\vec w $ | `v + w`| vector addition |\n",
    "| $\\vec v - \\vec w $ | `v - w`| vector subtraction |\n",
    "| $ - \\vec w $ | `-w`|  negation | \n",
    "| $c \\vec v $ | `c * w`| scalar multiplication |\n",
    "| $\\vec v \\cdot \\vec w $ | `np.dot(v,w)`| dot product |\n",
    "| $\\vec v \\times \\vec w $ | `np.cross(v,w)`| cross product |"
   ]
  },
  {
   "cell_type": "code",
   "execution_count": null,
   "metadata": {
    "scrolled": true
   },
   "outputs": [],
   "source": [
    "v + w"
   ]
  },
  {
   "cell_type": "code",
   "execution_count": null,
   "metadata": {
    "scrolled": false
   },
   "outputs": [],
   "source": [
    "v - w"
   ]
  },
  {
   "cell_type": "code",
   "execution_count": null,
   "metadata": {},
   "outputs": [],
   "source": [
    "-w"
   ]
  },
  {
   "cell_type": "code",
   "execution_count": null,
   "metadata": {},
   "outputs": [],
   "source": [
    "6 * v"
   ]
  },
  {
   "cell_type": "code",
   "execution_count": null,
   "metadata": {},
   "outputs": [],
   "source": [
    "# it is smart enough\n",
    "v * 3"
   ]
  },
  {
   "cell_type": "markdown",
   "metadata": {},
   "source": [
    "Dot products need an explicit function call. `.` is taken for other (very important) roles in Python."
   ]
  },
  {
   "cell_type": "code",
   "execution_count": null,
   "metadata": {},
   "outputs": [],
   "source": [
    "np.dot(v,w)"
   ]
  },
  {
   "cell_type": "code",
   "execution_count": null,
   "metadata": {},
   "outputs": [],
   "source": [
    "np.cross(v,w)"
   ]
  },
  {
   "cell_type": "markdown",
   "metadata": {},
   "source": [
    "**Warning!** Remember how you can't multiply vectors? No one told Python. Use with great caution. "
   ]
  },
  {
   "cell_type": "code",
   "execution_count": null,
   "metadata": {},
   "outputs": [],
   "source": [
    "v * w"
   ]
  },
  {
   "cell_type": "markdown",
   "metadata": {},
   "source": [
    "#### Exercises\n",
    "\n",
    "Execute the following cell to define position vectors $\\vec u$, $\\vec v$, and $vec w$.  Then write python code to compute each of the specified expressions. \n",
    "\n",
    "Your code should still work when the definitions of $\\vec u$, $\\vec v$, and $vec w$."
   ]
  },
  {
   "cell_type": "code",
   "execution_count": null,
   "metadata": {},
   "outputs": [],
   "source": [
    "# consider these as position vectors\n",
    "\n",
    "u = np.array([1,1,0])\n",
    "v = np.array([2,-3,7])\n",
    "w = np.array([6,2,10])"
   ]
  },
  {
   "cell_type": "markdown",
   "metadata": {},
   "source": [
    "  1. Find the position halfway between $\\vec u$ and $\\vec w$. Store this in the variable `uw_midpoint`.\n",
    "  2. Find the position $1/3$ of the way from along the segment from $\\vec v$ to $\\vec w$. store this as the variable `vw_third`.\n",
    "  3. Find the centroid of the triangle with vertices at positions $\\vec u$, $\\vec v$, and $vec w$. Store this as the variable `uvw_centroid`. (*The **centroid** of a triangle is the intersection of its medians, which it can be shown always is $2/3$ the way from a vertex to the midpoint of the opposite side.*) "
   ]
  },
  {
   "cell_type": "code",
   "execution_count": null,
   "metadata": {},
   "outputs": [],
   "source": [
    "## Put your code here."
   ]
  },
  {
   "cell_type": "markdown",
   "metadata": {},
   "source": [
    "### Scalar or vector?"
   ]
  },
  {
   "cell_type": "code",
   "execution_count": null,
   "metadata": {},
   "outputs": [],
   "source": [
    "c = 6\n",
    "d = 6/7\n",
    "u = np.array([4,4,3,2])"
   ]
  },
  {
   "cell_type": "markdown",
   "metadata": {},
   "source": [
    "Because of the particulars of storing numerical information in a finite state machine, the question of \"scalar or vector?\" isn't quite so binary. Nonetheless, the `type()` function can be your friend. "
   ]
  },
  {
   "cell_type": "code",
   "execution_count": null,
   "metadata": {},
   "outputs": [],
   "source": [
    "print(type(c))\n",
    "print(type(d))\n",
    "print(type(u))"
   ]
  },
  {
   "cell_type": "code",
   "execution_count": null,
   "metadata": {},
   "outputs": [],
   "source": [
    "type(np.dot(w,w))"
   ]
  },
  {
   "cell_type": "markdown",
   "metadata": {},
   "source": [
    "## $\\vec i, \\vec j, \\vec k$ notation\n",
    "\n",
    "Here is a clever piece of code you might find handy. What do you think it does?"
   ]
  },
  {
   "cell_type": "code",
   "execution_count": null,
   "metadata": {},
   "outputs": [],
   "source": [
    "ii,jj,kk = np.eye(3)"
   ]
  },
  {
   "cell_type": "markdown",
   "metadata": {},
   "source": [
    "We can use these to write vectors in $\\mathbb{R}^3$ in a more human-friendly way. (*Note: I use the double-letters to remind myself that the objects are vectors, but that is not necessary or universal.*)"
   ]
  },
  {
   "cell_type": "code",
   "execution_count": null,
   "metadata": {
    "scrolled": true
   },
   "outputs": [],
   "source": [
    "3*ii + 6*jj - 2*kk"
   ]
  },
  {
   "cell_type": "markdown",
   "metadata": {},
   "source": [
    "#### EXERCISE\n",
    "\n",
    "  4. A student wants to compute $$\\langle 3,-2,4 \\rangle - \\frac25\\langle 2,-10,-15\\rangle.$$ Find the error in their code below. "
   ]
  },
  {
   "cell_type": "code",
   "execution_count": null,
   "metadata": {},
   "outputs": [],
   "source": [
    "(3*ii - 2**jj + 4*kk) - 2/5*(2*ii - 10*jj - 15*kk)\n",
    "\n",
    "# something is wrong"
   ]
  },
  {
   "cell_type": "markdown",
   "metadata": {},
   "source": [
    "**Extra** Can you explain why the original was off by $1$ in two components?"
   ]
  },
  {
   "cell_type": "markdown",
   "metadata": {},
   "source": [
    "## Drawing Vectors\n",
    "\n",
    "There are many ways to draw figures via Python. Most have pluses and minuses. We'll be using a popular library called [matplotlib](https://www.matplotlib.org/). It's a little finicky, and can get very complicated but we will take things slowly.  "
   ]
  },
  {
   "cell_type": "code",
   "execution_count": null,
   "metadata": {},
   "outputs": [],
   "source": [
    "## This is an import block for matplotlib. Normally we will do this in the first cell of the notebook.\n",
    "\n",
    "%matplotlib inline\n",
    "import matplotlib.pyplot as plt"
   ]
  },
  {
   "cell_type": "code",
   "execution_count": null,
   "metadata": {},
   "outputs": [],
   "source": [
    "# Draw a vector from the origin to (1,2)\n",
    "\n",
    "plt.arrow(0,0,1,2);"
   ]
  },
  {
   "cell_type": "code",
   "execution_count": null,
   "metadata": {},
   "outputs": [],
   "source": [
    "# Draw a vector from the origin to (1,2), in blue, make the window bigger, and label axes.\n",
    "\n",
    "plt.arrow(0,0,1,2,color='b',length_includes_head=True,head_width=.1);\n",
    "plt.xlim([-3,3])\n",
    "plt.ylim([-3,3])\n",
    "plt.xlabel(\"$x$\")\n",
    "plt.ylabel(\"$y$\")\n",
    "plt.title(\"A Vector\");"
   ]
  },
  {
   "cell_type": "markdown",
   "metadata": {},
   "source": [
    "That's a bit better, but a lot of code for a simple thing. Let's make our lives a bit easier and define a function to do this."
   ]
  },
  {
   "cell_type": "code",
   "execution_count": null,
   "metadata": {},
   "outputs": [],
   "source": [
    "def plot_vector(v,base=(0,0),**kwargs):\n",
    "    \"\"\"Plots a vector `v` with tail at the point `base` (defaults to origin).\"\"\"\n",
    "    plt.arrow(base[0],base[1],v[0],v[1],length_includes_head=True,head_width=.2,**kwargs);"
   ]
  },
  {
   "cell_type": "code",
   "execution_count": null,
   "metadata": {
    "scrolled": false
   },
   "outputs": [],
   "source": [
    "v = np.array([-1.5,2.5])\n",
    "w = np.array([3,-4])\n",
    "\n",
    "plt.xlim([-5,5])\n",
    "plt.ylim([-5,5])\n",
    "plt.xlabel(\"$x$\")\n",
    "plt.ylabel(\"$y$\")\n",
    "plt.title(\"A Vector\");\n",
    "\n",
    "plot_vector(v,color='r')\n",
    "plot_vector(v,base=(3,-1),color='b')\n",
    "plot_vector(v,base=(-2,2),color='purple')\n",
    "plt.grid(True);\n"
   ]
  },
  {
   "cell_type": "markdown",
   "metadata": {},
   "source": [
    "#### Example\n",
    "\n",
    "Let's plot a bunch of convex combinations of 2 vectors."
   ]
  },
  {
   "cell_type": "code",
   "execution_count": null,
   "metadata": {
    "scrolled": false
   },
   "outputs": [],
   "source": [
    "v = np.array([1,2])\n",
    "w = np.array([3,1])\n",
    "\n",
    "plt.figure(figsize=(7,7))\n",
    "plt.xlim([-5,5])\n",
    "plt.ylim([-5,5])\n",
    "plt.xlabel(\"$x$\")\n",
    "plt.ylabel(\"$y$\")\n",
    "plt.title(\"A Vector\");\n",
    "plt.grid(True)\n",
    "\n",
    "plot_vector(v,color='r')\n",
    "plot_vector(w,color='b')\n",
    "\n",
    "for t in np.arange(-1,2,.25):\n",
    "    plot_vector(t*v + (1-t)*w,color='gray',alpha=.5)"
   ]
  },
  {
   "cell_type": "markdown",
   "metadata": {},
   "source": [
    "#### Exercise\n",
    "\n",
    "imitate the code above to plot a number of vector along a line with the form $$\\vec p + t\\vec v$$"
   ]
  },
  {
   "cell_type": "code",
   "execution_count": null,
   "metadata": {},
   "outputs": [],
   "source": [
    "v = np.array([1,2])\n",
    "p = np.array([-3,-1])\n",
    "\n",
    "# Your code here\n"
   ]
  }
 ],
 "metadata": {
  "kernelspec": {
   "display_name": "Python 3",
   "language": "python",
   "name": "python3"
  },
  "language_info": {
   "codemirror_mode": {
    "name": "ipython",
    "version": 3
   },
   "file_extension": ".py",
   "mimetype": "text/x-python",
   "name": "python",
   "nbconvert_exporter": "python",
   "pygments_lexer": "ipython3",
   "version": "3.7.6"
  }
 },
 "nbformat": 4,
 "nbformat_minor": 2
}
