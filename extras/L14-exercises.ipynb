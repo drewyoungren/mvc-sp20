{
 "cells": [
  {
   "cell_type": "code",
   "execution_count": 31,
   "metadata": {},
   "outputs": [],
   "source": [
    "import numpy as np\n",
    "import matplotlib.pyplot as plt\n",
    "from numpy import array, arange, linspace, meshgrid, cos, sin, pi, tan, abs, exp, log, arctan, sqrt, inf\n",
    "from scipy.integrate import quad, dblquad"
   ]
  },
  {
   "cell_type": "markdown",
   "metadata": {},
   "source": [
    "### Example 1\n",
    "\n",
    "Let $\\mathcal R = [1,5]\\times[2,3]$. \n",
    "\n",
    "  a. Estimate $$\\iint_\\mathcal R (xy - y^2/6)dA$$ as a Riemann sum using 16 squares."
   ]
  },
  {
   "cell_type": "markdown",
   "metadata": {},
   "source": [
    "  b. Evaluate the definite integral in part a. "
   ]
  },
  {
   "cell_type": "markdown",
   "metadata": {},
   "source": [
    "<p style=\"padding-bottom:40%;\"> </p>"
   ]
  },
  {
   "cell_type": "markdown",
   "metadata": {},
   "source": [
    "### Example 2 \n",
    "\n",
    "Switch the order of integration of the following iterated integrals.\n",
    "\n",
    "a. \n",
    "$$\\int_0^1 \\int_0^x f(x,y)\\,dy\\,dx $$"
   ]
  },
  {
   "cell_type": "markdown",
   "metadata": {},
   "source": [
    "b.\n",
    "$$\\int_0^1 \\int_0^{e^y} g(x,y)\\,dx\\,dy $$"
   ]
  },
  {
   "cell_type": "markdown",
   "metadata": {},
   "source": [
    "### Exercise\n",
    "\n",
    "Let $\\mathcal D$ be the region in the plane bounded by the curves $y=x+|x|$ and $y=x+1$. Compute $$ \\iint_\\mathcal D y\\,dA$$ as an iterated integral. "
   ]
  },
  {
   "cell_type": "markdown",
   "metadata": {},
   "source": [
    "<p style=\"padding-bottom:40%;\"> </p>"
   ]
  },
  {
   "cell_type": "markdown",
   "metadata": {
    "slideshow": {
     "slide_type": "subslide"
    }
   },
   "source": [
    "## Examples - Polar Coordinates\n",
    "\n",
    "  1. Find the volume under a paraboloid $z=a^2-x^2-y^2$ annd above $z=0$ in terms of $a$ where $a>0$.\n",
    "  "
   ]
  },
  {
   "cell_type": "markdown",
   "metadata": {
    "slideshow": {
     "slide_type": "subslide"
    }
   },
   "source": [
    "  3. Find the volume of the region above the $xy$-plane, under the surface $z=x^2+y^2$ and inside the cylinder $x^2 +(y-1)^2 =1$.\n",
    "  "
   ]
  },
  {
   "cell_type": "markdown",
   "metadata": {
    "slideshow": {
     "slide_type": "slide"
    }
   },
   "source": [
    "### Cool Example\n",
    "\n",
    "Compute $$\\int_{-\\infty}^\\infty e^{-x^2}\\,dx.$$"
   ]
  },
  {
   "cell_type": "markdown",
   "metadata": {
    "slideshow": {
     "slide_type": "subslide"
    }
   },
   "source": [
    "#### Exercise\n",
    "\n",
    "Sketch the region of integration in the definite integral below and then evaluate it using polar coordinates. \n",
    "\n",
    "$$\\int_0^1\\int_{\\sqrt{1-x^2}}^{\\sqrt{4-x^2}} x\\,dy\\,dx + \\int_1^2\\int_{0}^{\\sqrt{4-x^2}} x\\,dy\\,dx$$\n",
    "  "
   ]
  }
 ],
 "metadata": {
  "kernelspec": {
   "display_name": "Python 3",
   "language": "python",
   "name": "python3"
  },
  "language_info": {
   "codemirror_mode": {
    "name": "ipython",
    "version": 3
   },
   "file_extension": ".py",
   "mimetype": "text/x-python",
   "name": "python",
   "nbconvert_exporter": "python",
   "pygments_lexer": "ipython3",
   "version": "3.7.6"
  }
 },
 "nbformat": 4,
 "nbformat_minor": 4
}
