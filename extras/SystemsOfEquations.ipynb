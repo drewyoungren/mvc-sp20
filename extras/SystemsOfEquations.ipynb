{
 "cells": [
  {
   "cell_type": "code",
   "execution_count": null,
   "metadata": {},
   "outputs": [],
   "source": [
    "import numpy as np\n",
    "import matplotlib.pyplot as plt\n",
    "\n",
    "from numpy import array, cos, sin, tan, arctan, exp, log, pi\n",
    "\n",
    "# This is the key function for solving systems of equations numerically\n",
    "from scipy.optimize import root "
   ]
  },
  {
   "cell_type": "markdown",
   "metadata": {},
   "source": [
    "# Systems of Equations\n",
    "\n",
    "In the course of solving optimization problems, one often needs to solve systems of equations, and sometimes large ones. One way to do this numerically is the `root` function from `scipy.optimize` (imported above). "
   ]
  },
  {
   "cell_type": "markdown",
   "metadata": {},
   "source": [
    "Let's peek at its [documentation](https://docs.scipy.org/doc/scipy/reference/generated/scipy.optimize.root.html), but don't get bogged down in the details."
   ]
  },
  {
   "cell_type": "code",
   "execution_count": null,
   "metadata": {},
   "outputs": [],
   "source": [
    "help(root)"
   ]
  },
  {
   "cell_type": "markdown",
   "metadata": {},
   "source": [
    "The important thing is that `root` tries to solve the equation $$f(x) = 0$$ numerically, starting with an initial \"guess\" of $x_0$. \n",
    "\n",
    "To do this, `root` function needs two inputs, a function (or _callable_) `fun` and a point `x0` in its domain. It then calls a solver (you can investigate and customize these, but it is quite the rabbithole) and and reports back results. "
   ]
  },
  {
   "cell_type": "markdown",
   "metadata": {},
   "source": [
    "## First example. \n",
    "\n",
    "Let's start simply and solve $$\\cos x = x.$$ We know this has a solution for some $0 < x < \\pi/2$ but don't have a good way of finding it.  "
   ]
  },
  {
   "cell_type": "code",
   "execution_count": null,
   "metadata": {},
   "outputs": [],
   "source": [
    "# plot cos and and x to see their intersection. \n",
    "x = np.linspace(0,pi/2,31)\n",
    "plt.plot(x,x,x,cos(x));"
   ]
  },
  {
   "cell_type": "markdown",
   "metadata": {},
   "source": [
    "Now, there is a simple trick to turning the solution of an equation into the zero of a function. It is good old subtraction. "
   ]
  },
  {
   "cell_type": "code",
   "execution_count": null,
   "metadata": {},
   "outputs": [],
   "source": [
    "def f(x):\n",
    "    return cos(x) - x"
   ]
  },
  {
   "cell_type": "code",
   "execution_count": null,
   "metadata": {},
   "outputs": [],
   "source": [
    "x = np.linspace(0,pi/2,31)\n",
    "plt.plot(x,f(x),x,0*x);"
   ]
  },
  {
   "cell_type": "code",
   "execution_count": null,
   "metadata": {},
   "outputs": [],
   "source": [
    "# Now just invoke root and give it a guess. \n",
    "root(f,.5)"
   ]
  },
  {
   "cell_type": "markdown",
   "metadata": {},
   "source": [
    "That's a lot of information, but the most important bit is the solution `x` and the `success` flag. We can capture all this in an object and then just use the pieces we need. "
   ]
  },
  {
   "cell_type": "code",
   "execution_count": null,
   "metadata": {},
   "outputs": [],
   "source": [
    "sol = root(f,.5)\n",
    "print(sol.message)\n",
    "x, = sol.x # that comma is there because root stores the solution as an array. "
   ]
  },
  {
   "cell_type": "code",
   "execution_count": null,
   "metadata": {},
   "outputs": [],
   "source": [
    "# Note the solution is a numeric approximation and thus not exact. \n",
    "print(x,cos(x))"
   ]
  },
  {
   "cell_type": "markdown",
   "metadata": {},
   "source": [
    "## Exercise\n",
    "\n",
    "Find all the solutions to $$e^x - 2x = 1$$. "
   ]
  },
  {
   "cell_type": "code",
   "execution_count": null,
   "metadata": {},
   "outputs": [],
   "source": [
    "xs = np.linspace(-1,2,50)\n",
    "plt.plot(xs,exp(xs) - 2*xs,label=\"$e^x-2x$\")\n",
    "plt.plot(xs,np.ones_like(xs),label=\"$1$\");\n",
    "plt.legend();"
   ]
  },
  {
   "cell_type": "code",
   "execution_count": null,
   "metadata": {},
   "outputs": [],
   "source": [
    "def f(x):\n",
    "    return # insert formula here"
   ]
  },
  {
   "cell_type": "markdown",
   "metadata": {},
   "source": [
    "### Warning\n",
    "\n",
    "Bad initial guesses can confuse the solver. Why does this code fail to find $\\sqrt{2}$? Can you fix it?"
   ]
  },
  {
   "cell_type": "code",
   "execution_count": null,
   "metadata": {},
   "outputs": [],
   "source": [
    "def g(x): return x**2 - 2\n",
    "root(g,0)"
   ]
  },
  {
   "cell_type": "markdown",
   "metadata": {},
   "source": [
    "# Systems\n",
    "\n",
    "The solution to any system of equations can be expressed as a root-finding problem by using vectors. `root` can take a vector-valued function as its callable. \n",
    "\n",
    "**Important** When dealing with several variables, the function given to `root` must take an array as its argument, not several variables. "
   ]
  },
  {
   "cell_type": "markdown",
   "metadata": {},
   "source": [
    "## First example\n",
    "\n",
    "Find two numbers that sum to 51 where one is twice the other. \n",
    "\n",
    "That is, we solve the system \n",
    "\n",
    "$$x + y = 51 $$\n",
    "$$x-2y =0 $$\n"
   ]
  },
  {
   "cell_type": "code",
   "execution_count": null,
   "metadata": {},
   "outputs": [],
   "source": [
    "def F(v):\n",
    "    x,y = v\n",
    "    return [x+y - 51,x-2*y]\n",
    "\n",
    "sol = root(F,[0,0])\n",
    "x,y = sol.x\n",
    "print(x,y)"
   ]
  },
  {
   "cell_type": "markdown",
   "metadata": {},
   "source": [
    "## Example from class\n",
    "\n",
    "<img src=\"halfdisk4.png\" width=\"50%\" style=\"float: right;\">\n",
    "We were trying to maximize/minimize the function $$u(x,y) = x^2 - 6x + 4y^2 - 8y$$ on the upper half-disk of radius $4$. \n",
    "\n",
    "Let's do the whole problem. "
   ]
  },
  {
   "cell_type": "code",
   "execution_count": null,
   "metadata": {},
   "outputs": [],
   "source": [
    "def u(x,y):\n",
    "    return x**2 - 6*x + 4*y**2 - 8*y"
   ]
  },
  {
   "cell_type": "code",
   "execution_count": null,
   "metadata": {},
   "outputs": [],
   "source": [
    "# Check the corners, store the candidates in a dictionary\n",
    "candidates = dict([((4,0),u(4,0)),((-4,0),u(-4,0))])\n",
    "candidates"
   ]
  },
  {
   "cell_type": "markdown",
   "metadata": {},
   "source": [
    "Find critical points $$\\nabla u = \\begin{bmatrix} 2x-6 \\\\ 8y-8 \\end{bmatrix} = \\mathbf 0$$"
   ]
  },
  {
   "cell_type": "code",
   "execution_count": null,
   "metadata": {},
   "outputs": [],
   "source": [
    "# Play dumb\n",
    "\n",
    "def F(v):\n",
    "    x,y = v # separate the individual inputs variables.\n",
    "    return [2*x - 6, 8*y - 8]\n",
    "\n",
    "root(F, (1,1))"
   ]
  },
  {
   "cell_type": "code",
   "execution_count": null,
   "metadata": {},
   "outputs": [],
   "source": [
    "candidates[(3,1)] = u(3,1)\n",
    "candidates"
   ]
  },
  {
   "cell_type": "markdown",
   "metadata": {},
   "source": [
    "For the bottom, we use the simple constraint $g(x,y) = y = 0$ and solve the system \n",
    "\n",
    "$$\\nabla u = \\begin{bmatrix} 2x-6 \\\\ 8y-8 \\end{bmatrix} = \\lambda \\begin{bmatrix} 0 \\\\ 1 \\end{bmatrix}$$\n",
    "\n",
    "This is equally trivial to solve, but let's use `root`. Note we have 3 variables now and so we pass in a function that takes in and returns $3$-vectors like so:"
   ]
  },
  {
   "cell_type": "code",
   "execution_count": null,
   "metadata": {},
   "outputs": [],
   "source": [
    "def G(v):\n",
    "    x,y,lam = v #unpack 3 variables\n",
    "    return [y,2*x-6,8*y - 8 - lam ] # note we move all terms over; the first entry is the constraint"
   ]
  },
  {
   "cell_type": "code",
   "execution_count": null,
   "metadata": {},
   "outputs": [],
   "source": [
    "root(G,(1,1,1))"
   ]
  },
  {
   "cell_type": "markdown",
   "metadata": {},
   "source": [
    "In case you are unfamiliar with the notation, that middle term for $y$ represents $-4.03896783 \\times 10^{-28}$ (or similar, depending on your setup), off from $0$ because of rounding errors."
   ]
  },
  {
   "cell_type": "code",
   "execution_count": null,
   "metadata": {},
   "outputs": [],
   "source": [
    "# add to what we've got. \n",
    "candidates[(3,0)] = u(3,0)\n",
    "candidates"
   ]
  },
  {
   "cell_type": "markdown",
   "metadata": {},
   "source": [
    "Finally, we turn to the top where $g(x,y) = x^2 + y^2 = 16$ and solve the system \n",
    "\n",
    "$$\\nabla u = \\begin{bmatrix} 2x-6 \\\\ 8y-8 \\end{bmatrix} = \\lambda \\begin{bmatrix} 2x \\\\ 2y \\end{bmatrix}$$\n",
    "\n",
    "Not so simple a system, so we use `root`."
   ]
  },
  {
   "cell_type": "code",
   "execution_count": null,
   "metadata": {},
   "outputs": [],
   "source": [
    "def H(v):\n",
    "    x,y,lam = v \n",
    "    return [x**2 + y**2 - 16,\n",
    "            2*x-6 - lam*2*x,\n",
    "            8*y - 8 - lam*2*y ] "
   ]
  },
  {
   "cell_type": "code",
   "execution_count": null,
   "metadata": {},
   "outputs": [],
   "source": [
    "sol = root(H,(-1,3,1))\n",
    "print(sol.message)"
   ]
  },
  {
   "cell_type": "code",
   "execution_count": null,
   "metadata": {},
   "outputs": [],
   "source": [
    "# Hooray\n",
    "x,y,lam = sol.x\n",
    "print(x,y,u(x,y))\n",
    "candidates[(x,y)] = u(x,y)"
   ]
  },
  {
   "cell_type": "code",
   "execution_count": null,
   "metadata": {},
   "outputs": [],
   "source": [
    "candidates"
   ]
  },
  {
   "cell_type": "markdown",
   "metadata": {},
   "source": [
    "**Bad news** we are not done. There are more solutions. The picture above suggests 3. We go hunting. "
   ]
  },
  {
   "cell_type": "code",
   "execution_count": null,
   "metadata": {},
   "outputs": [],
   "source": [
    "# Now the tricky bit is there are other solutions to the system above. \n",
    "\n",
    "root(H,(-3,1,1)).x"
   ]
  },
  {
   "cell_type": "code",
   "execution_count": null,
   "metadata": {},
   "outputs": [],
   "source": [
    "x,y,lam = root(H,(3,1,1)).x\n",
    "print(x,y,u(x,y))\n",
    "candidates[(x,y)] = u(x,y)"
   ]
  },
  {
   "cell_type": "code",
   "execution_count": null,
   "metadata": {},
   "outputs": [],
   "source": [
    "x,y,lam = root(H,(-3,1,1)).x\n",
    "print(x,y,u(x,y))\n",
    "candidates[(x,y)] = u(x,y)"
   ]
  },
  {
   "cell_type": "code",
   "execution_count": null,
   "metadata": {},
   "outputs": [],
   "source": [
    "candidates"
   ]
  },
  {
   "cell_type": "markdown",
   "metadata": {},
   "source": [
    "But that is all, so we conlude, finally that the global max of $u$ is $40$ at the corner $(-4,0)$ and the minimum is $-13$ and the critical point."
   ]
  },
  {
   "cell_type": "markdown",
   "metadata": {},
   "source": [
    "## Bonus discussion\n",
    "\n",
    "#### Ignore if you have other things to do\n",
    "\n",
    "Observe:"
   ]
  },
  {
   "cell_type": "code",
   "execution_count": null,
   "metadata": {},
   "outputs": [],
   "source": [
    "x,y,lam = root(H,(0,4,1)).x\n",
    "print(x,y,u(x,y))"
   ]
  },
  {
   "cell_type": "markdown",
   "metadata": {},
   "source": [
    "The initial point $(0,4)$ does not lead to the closest root. Which begs the question, which initial condition leads to which root?"
   ]
  },
  {
   "cell_type": "code",
   "execution_count": null,
   "metadata": {},
   "outputs": [],
   "source": [
    "def which_root(x0,y0):\n",
    "    \"\"\"This function takes the initial point (x0,y0)  and lambda=1 \n",
    "    and reports back the angle from -pi/2 to 3pi/2 associated to \n",
    "    the root it finds. This will make the subsequent picture easier to draw.\"\"\"\n",
    "    x,y,l = root(H,(x0,y0,1)).x\n",
    "    if x > 0:\n",
    "        return arctan(y/x)\n",
    "    elif x < 0:\n",
    "        return arctan(y/x) + pi\n",
    "    else:\n",
    "        return sign(y)*pi/2"
   ]
  },
  {
   "cell_type": "code",
   "execution_count": null,
   "metadata": {},
   "outputs": [],
   "source": [
    "X = Y = np.linspace(-4,4,250)\n",
    "X,Y = np.meshgrid(X,Y)\n",
    "Z = np.vectorize(which_root)(X,Y)"
   ]
  },
  {
   "cell_type": "code",
   "execution_count": null,
   "metadata": {},
   "outputs": [],
   "source": [
    "plt.figure(figsize=(10,8))\n",
    "plt.pcolormesh(X,Y,Z,cmap='gnuplot')\n",
    "plt.plot(4*cos(np.linspace(0,2*pi,100)),4*sin(np.linspace(0,2*pi,100)),'-k',lw=4)\n",
    "plt.colorbar();"
   ]
  },
  {
   "cell_type": "markdown",
   "metadata": {},
   "source": [
    "What does this mean? It mean these solving schemes are wickedly unstable, even chaotic. Try changing the default initial choice of $\\lambda_0$ in the code above (It is at 1 now) and watch the picture change. "
   ]
  },
  {
   "cell_type": "code",
   "execution_count": null,
   "metadata": {},
   "outputs": [],
   "source": [
    "plt.colormaps() #use these to try out other color schemes."
   ]
  },
  {
   "cell_type": "code",
   "execution_count": null,
   "metadata": {},
   "outputs": [],
   "source": []
  }
 ],
 "metadata": {
  "kernelspec": {
   "display_name": "Python 3",
   "language": "python",
   "name": "python3"
  },
  "language_info": {
   "codemirror_mode": {
    "name": "ipython",
    "version": 3
   },
   "file_extension": ".py",
   "mimetype": "text/x-python",
   "name": "python",
   "nbconvert_exporter": "python",
   "pygments_lexer": "ipython3",
   "version": "3.7.6"
  }
 },
 "nbformat": 4,
 "nbformat_minor": 4
}
