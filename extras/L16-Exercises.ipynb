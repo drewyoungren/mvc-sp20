{
 "cells": [
  {
   "cell_type": "code",
   "execution_count": 21,
   "metadata": {},
   "outputs": [],
   "source": [
    "import numpy as np\n",
    "import matplotlib.pyplot as plt\n",
    "from IPython.display import display, HTML, IFrame\n",
    "from ipywidgets import interact,fixed\n",
    "import pandas as pd\n",
    "from mpl_toolkits import mplot3d\n",
    "from mpl_toolkits.mplot3d import axes3d\n",
    "from matplotlib.patches import FancyArrowPatch,Rectangle\n",
    "from mpl_toolkits.mplot3d.art3d import Poly3DCollection\n",
    "from mpl_toolkits.mplot3d import proj3d\n",
    "\n",
    "plt.rcParams[\"figure.figsize\"] = [10, 10]\n",
    "\n",
    "from numpy.linalg import norm\n",
    "from numpy import cos,sin,tan,arctan,exp,log,pi,sqrt,arccos,linspace,array,arange,meshgrid,abs\n",
    "\n",
    "from scipy.integrate import quad,dblquad"
   ]
  },
  {
   "cell_type": "markdown",
   "metadata": {},
   "source": [
    "## One-minute Review\n",
    "\n",
    "A homework question asked about an integral of the form \n",
    "\n",
    "$$ \\int_0^1\\int_0^z\\int_z^1 f\\,dx\\,dy\\,dz $$"
   ]
  },
  {
   "cell_type": "code",
   "execution_count": 16,
   "metadata": {
    "hide_input": true,
    "scrolled": false,
    "slideshow": {
     "slide_type": "fragment"
    }
   },
   "outputs": [
    {
     "data": {
      "application/vnd.jupyter.widget-view+json": {
       "model_id": "85e3c480084b42cbbba12321740940bf",
       "version_major": 2,
       "version_minor": 0
      },
      "text/plain": [
       "interactive(children=(IntSlider(value=0, description='angle', max=90, step=6), IntSlider(value=42, description…"
      ]
     },
     "metadata": {},
     "output_type": "display_data"
    }
   ],
   "source": [
    "@interact(angle=(-0,90,6),a=(0.,1.,.05))\n",
    "def _(angle=-24,vangle=(0,90,6),a=0):\n",
    "    fig = plt.figure(figsize=(10,10))\n",
    "    ax= fig.add_subplot(111,projection='3d')\n",
    "    u = np.linspace(0,1,80)\n",
    "    v = np.linspace(0,1,80)\n",
    "    U,V = np.meshgrid(u,v)\n",
    "    X = U\n",
    "    Y = V\n",
    "    Z = np.ones_like(U)\n",
    "#     ax.plot_wireframe(X,Y,Z,rcount=20,ccount=20)\n",
    "#     ax.plot_surface(X,Y,0*X,rcount=20,ccount=20,color='gray',alpha=.4)\n",
    "    ax.view_init(vangle,angle)\n",
    "    \n",
    "    ax.plot_wireframe(U,V*(U),U,rcount=20,ccount=20,alpha=a)\n",
    "    ax.plot_wireframe(U*0+1,V*(U),U,rcount=20,ccount=20,alpha=a)\n",
    "    ax.plot_wireframe(U+V*(1-U),U,U,rcount=20,ccount=20,alpha=a)\n",
    "    ax.plot_surface(U,0*X,V*(U),rcount=20,ccount=20,color='gray',alpha=.4)\n",
    "    ax.plot_surface(U*0,U,U+V*(1-U),rcount=20,ccount=20,color='gray',alpha=.4)\n",
    "\n",
    "    for c in 'xyz':\n",
    "#         getattr(ax,f\"set_{c}lim\")([-1,1]);    \n",
    "        getattr(ax,f\"set_{c}label\")(f\"${c}$\",size=16)\n",
    "    "
   ]
  },
  {
   "cell_type": "markdown",
   "metadata": {
    "slideshow": {
     "slide_type": "subslide"
    }
   },
   "source": [
    "# Cylindrical/Spherical Coordinates\n",
    "\n",
    "### Quick Exercise\n",
    "\n",
    "We know the equations $x=1$, $y=1$, and $z=1$ represent planes perpendicular to the respective access. Identify each of the following sets in the new coordinates.\n",
    "\n",
    "  1. $r=1$\n",
    "  2. $\\theta = 1$\n",
    "  3. $\\rho = 1$\n",
    "  4. $\\phi = 1$"
   ]
  },
  {
   "cell_type": "code",
   "execution_count": 20,
   "metadata": {
    "hide_input": false
   },
   "outputs": [
    {
     "data": {
      "application/vnd.jupyter.widget-view+json": {
       "model_id": "",
       "version_major": 2,
       "version_minor": 0
      },
      "text/plain": [
       "interactive(children=(IntSlider(value=0, description='angle', max=90, min=-90, step=6), Dropdown(description='…"
      ]
     },
     "metadata": {},
     "output_type": "display_data"
    }
   ],
   "source": [
    "@interact\n",
    "def _(angle=(-90,90,6),coord=['r','theta','rho','phi']):\n",
    "    fig = plt.figure(figsize=(10,10))\n",
    "    ax=fig.add_subplot(111,projection='3d')\n",
    "    ax.view_init(30,angle)\n",
    "    u = v = np.linspace(0,1,100)\n",
    "    u,v = np.meshgrid(u,v)\n",
    "    if coord == 'r':\n",
    "        ax.plot_surface(cos(2*pi*v),sin(2*pi*v),2*u-1,alpha=.5)\n",
    "    elif coord == 'theta':\n",
    "        ax.plot_surface(sqrt(2)*v*cos(1),sqrt(2)*v*sin(1),2*u-1,alpha=.5)\n",
    "    elif coord == 'rho':\n",
    "        ax.plot_surface(sin(pi*u)*cos(2*pi*v),sin(pi*u)*sin(2*pi*v),cos(pi*u),alpha=.5)\n",
    "    elif coord == 'phi':\n",
    "        ax.plot_surface(sin(1)*u*cos(2*pi*v),sin(1)*u*sin(2*pi*v),cos(1)*u,alpha=.5)\n",
    "    ax.plot([-1,1],[0,0],[0,0],'k',lw=3)\n",
    "    ax.plot([0,0],[-1,1],[0,0],'k',lw=3)\n",
    "    ax.plot([0,0],[0,0],[-1,1],'k',lw=3)\n",
    "    for c in 'xyz':\n",
    "#         getattr(ax,f\"set_{c}lim\")([-1,1]);    \n",
    "        getattr(ax,f\"set_{c}label\")(f\"${c}$\",size=16)\n",
    "    "
   ]
  },
  {
   "cell_type": "markdown",
   "metadata": {},
   "source": [
    "## Exercise\n",
    "\n",
    "Each row of the table below represents a point in $\\mathbb{R}^3$. Fill in the missing values.\n",
    "\n",
    "<table>\n",
    "    <hr>\n",
    "    <td> $x$ </td>    <td> $y$ </td>    <td> $z$ </td>\n",
    "    <td> $r$ </td>    <td> $\\theta$ </td>    <td> $\\rho$ </td>    <td> $\\phi$ </td>\n",
    "    </hr>\n",
    "    <tr>\n",
    "    <td> $2$ </td>    <td> $2$ </td>    <td> $2$ </td>\n",
    "    <td>  </td>    <td>  </td>    <td>  </td>    <td>  </td>\n",
    "    </tr>\n",
    "    <tr>\n",
    "    <td>   </td>    <td>   </td>    <td> $2$ </td>\n",
    "    <td> $3/2$ </td>    <td> $\\pi$ </td>    <td>  </td>    <td>  </td>\n",
    "    </tr>\n",
    "    <tr>\n",
    "    <td>  </td>    <td>  </td>    <td>  </td>\n",
    "    <td>  </td>    <td> $\\pi/6$ </td>    <td> $\\sqrt{2}$ </td>    <td> $3\\pi/4$</td>\n",
    "    </tr>\n",
    "    <tr>\n",
    "    <td> $5$ </td>    <td> $1$ </td>    <td>  </td>\n",
    "    <td>  </td>    <td>  </td>    <td>  </td>    <td> $2\\pi/3$ </td>\n",
    "    </tr>\n",
    "</table>"
   ]
  },
  {
   "cell_type": "markdown",
   "metadata": {},
   "source": [
    "## Latitude/Longitude\n",
    "\n",
    "The surface of the earth is [roughly](https://en.wikipedia.org/wiki/Figure_of_the_Earth#/media/File:Earth_oblateness_to_scale.svg) a sphere. \n",
    "\n",
    "Longitude measures degrees east (+) or west (-) from the Greenwich meridiean (a line from the North Pole to the South Pole through Greenwich, England). Latitude measures degrees north (+) or south (-) of the equator. \n",
    "\n",
    "#### Quick questions\n",
    "\n",
    "How would you relate these to our definitions of $\\phi$ and $\\theta$?\n",
    "\n",
    "Using this, what are the spherical coordinates of Morningside Heights?\n",
    "\n",
    "Where is the point on earth where $\\phi = \\frac\\pi4 = -\\theta$?"
   ]
  },
  {
   "cell_type": "markdown",
   "metadata": {},
   "source": [
    "## Example\n",
    "\n",
    "Find, in terms of constant $a>0$, the centroid of the solid region\n",
    "\n",
    "$$ 0 \\leq z \\leq a^2 - x^2 - y^2.$$"
   ]
  },
  {
   "cell_type": "code",
   "execution_count": 29,
   "metadata": {
    "hide_input": true,
    "scrolled": false
   },
   "outputs": [
    {
     "data": {
      "application/vnd.jupyter.widget-view+json": {
       "model_id": "326c4baa47f8445a901b41599f0f1868",
       "version_major": 2,
       "version_minor": 0
      },
      "text/plain": [
       "interactive(children=(IntSlider(value=42, description='angle', max=90, step=6), Output()), _dom_classes=('widg…"
      ]
     },
     "metadata": {},
     "output_type": "display_data"
    }
   ],
   "source": [
    "@interact\n",
    "def _(angle=(0,90,6)):\n",
    "    fig = plt.figure(figsize=(10,10))\n",
    "    ax=fig.add_subplot(111,projection='3d')\n",
    "    ax.view_init(angle,30)\n",
    "    u = v = np.linspace(0,1,100)\n",
    "    u,v = np.meshgrid(u,v)\n",
    "\n",
    "    ax.plot_surface(sqrt(2)*u*cos(2*pi*v),sqrt(2)*u*sin(2*pi*v),2*(1-u**2),alpha=.5)\n",
    "    ax.plot([-1,1],[0,0],[0,0],'k',lw=3)\n",
    "    ax.plot([0,0],[-1,1],[0,0],'k',lw=3)\n",
    "    ax.plot([0,0],[0,0],[0,2],'k',lw=3)\n",
    "    for c in 'xyz':\n",
    "#         getattr(ax,f\"set_{c}lim\")([-1,1]);    \n",
    "        getattr(ax,f\"set_{c}label\")(f\"${c}$\",size=16)\n",
    "    "
   ]
  },
  {
   "cell_type": "markdown",
   "metadata": {
    "slideshow": {
     "slide_type": "subslide"
    }
   },
   "source": [
    "## Example\n",
    "\n",
    "Find the mass of a right cone with height $h$ and radius (at base) $R$. and uniform density $\\rho$."
   ]
  },
  {
   "cell_type": "code",
   "execution_count": 26,
   "metadata": {
    "hide_input": false,
    "scrolled": false
   },
   "outputs": [
    {
     "data": {
      "application/vnd.jupyter.widget-view+json": {
       "model_id": "",
       "version_major": 2,
       "version_minor": 0
      },
      "text/plain": [
       "interactive(children=(IntSlider(value=42, description='angle', max=90, step=6), Output()), _dom_classes=('widg…"
      ]
     },
     "metadata": {},
     "output_type": "display_data"
    }
   ],
   "source": [
    "@interact\n",
    "def _(angle=(0,90,6)):\n",
    "    fig = plt.figure(figsize=(10,10))\n",
    "    ax=fig.add_subplot(111,projection='3d')\n",
    "    ax.view_init(angle,30)\n",
    "    u = v = np.linspace(0,1,100)\n",
    "    u,v = np.meshgrid(u,v)\n",
    "\n",
    "    ax.plot_surface(sin(1)*u*cos(2*pi*v),sin(1)*u*sin(2*pi*v),2-2*u,alpha=.5)\n",
    "    ax.plot([-1,1],[0,0],[0,0],'k',lw=3)\n",
    "    ax.plot([0,0],[-1,1],[0,0],'k',lw=3)\n",
    "    ax.plot([0,0],[0,0],[0,2],'k',lw=3)\n",
    "    for c in 'xyz':\n",
    "#         getattr(ax,f\"set_{c}lim\")([-1,1]);    \n",
    "        getattr(ax,f\"set_{c}label\")(f\"${c}$\",size=16)\n",
    "    "
   ]
  },
  {
   "cell_type": "markdown",
   "metadata": {
    "slideshow": {
     "slide_type": "subslide"
    }
   },
   "source": [
    "<br>\n",
    "<div style=\"background:#cfcfee\">**Caution!** When doing these sorts of applications, do not confuse the density $\\rho$ with the polar coordinate $\\rho$. Choose variables wisely.</div>"
   ]
  },
  {
   "cell_type": "markdown",
   "metadata": {
    "slideshow": {
     "slide_type": "subslide"
    }
   },
   "source": [
    "Find the moment of inertia relative to its central axis. "
   ]
  },
  {
   "cell_type": "markdown",
   "metadata": {
    "slideshow": {
     "slide_type": "subslide"
    }
   },
   "source": [
    "## Example\n",
    "\n",
    "Find the centroid of a solid quarter-sphere of radius $R$ and uniform density."
   ]
  },
  {
   "cell_type": "code",
   "execution_count": 40,
   "metadata": {
    "hide_input": true,
    "scrolled": false
   },
   "outputs": [
    {
     "data": {
      "application/vnd.jupyter.widget-view+json": {
       "model_id": "996dac823c124aa19dde6c2adb665411",
       "version_major": 2,
       "version_minor": 0
      },
      "text/plain": [
       "interactive(children=(IntSlider(value=45, description='angle', max=135, min=-45, step=6), IntSlider(value=42, …"
      ]
     },
     "metadata": {},
     "output_type": "display_data"
    }
   ],
   "source": [
    "@interact\n",
    "def _(angle=(-45,135,6),vangle=(0,90,6)):\n",
    "    fig = plt.figure(figsize=(10,10))\n",
    "    ax=fig.add_subplot(111,projection='3d')\n",
    "    ax.view_init(vangle,angle)\n",
    "    u = v = np.linspace(0,1,100)\n",
    "    u,v = np.meshgrid(u,v)\n",
    "\n",
    "    ax.plot_wireframe(sin(pi*u)*cos(pi/2*v),sin(pi*u)*sin(pi/2*v),cos(pi*u),alpha=.8,rcount=20)\n",
    "    ax.plot_surface(v*sin(pi*u)*cos(pi/2),v*sin(pi*u)*sin(pi/2),v*cos(pi*u),alpha=.3,color='g')\n",
    "    ax.plot_surface(v*sin(pi*u)*cos(0),v*sin(pi*u)*sin(0),v*cos(pi*u),alpha=.3,color='g')\n",
    "    ax.plot([-1,1],[0,0],[0,0],'k',lw=3)\n",
    "    ax.plot([0,0],[-1,1],[0,0],'k',lw=3)\n",
    "    ax.plot([0,0],[0,0],[-1,1],'k',lw=3)\n",
    "    for c in 'xyz':\n",
    "#         getattr(ax,f\"set_{c}lim\")([-1,1]);    \n",
    "        getattr(ax,f\"set_{c}label\")(f\"${c}$\",size=16)\n",
    "    "
   ]
  },
  {
   "cell_type": "markdown",
   "metadata": {
    "slideshow": {
     "slide_type": "subslide"
    }
   },
   "source": [
    "## Example\n",
    "\n",
    "Find the moment of inertia of a solid sphere of radius $R$ relative to a central axis.\n",
    "\n",
    "The **radius of gyration** of a body is the distance from the axis of a point-mass with the same mass and moment of inertia. Find it for a sphere."
   ]
  },
  {
   "cell_type": "code",
   "execution_count": 61,
   "metadata": {
    "hide_input": false,
    "scrolled": false
   },
   "outputs": [
    {
     "data": {
      "application/vnd.jupyter.widget-view+json": {
       "model_id": "67c531c0499142d8b6f971353ef11d86",
       "version_major": 2,
       "version_minor": 0
      },
      "text/plain": [
       "interactive(children=(IntSlider(value=42, description='angle', max=90, step=6), Output()), _dom_classes=('widg…"
      ]
     },
     "metadata": {},
     "output_type": "display_data"
    }
   ],
   "source": [
    "@interact\n",
    "def _(angle=(0,90,6)):\n",
    "    tilt = 23.5*pi/180\n",
    "    fig = plt.figure(figsize=(10,10))\n",
    "    ax=fig.add_subplot(111,projection='3d')\n",
    "    ax.view_init(angle,30)\n",
    "    u = v = np.linspace(0,1,100)\n",
    "    u,v = np.meshgrid(u,v)\n",
    "\n",
    "    ax.plot_wireframe(sin(pi*u)*cos(2*pi*v),sin(pi*u)*sin(2*pi*v),cos(pi*u),alpha=1,rcount=12,ccount = 20)\n",
    "    ax.plot_surface(sin(pi*u)*cos(2*pi*v),sin(pi*u)*sin(2*pi*v),cos(pi*u),alpha=.2,color='g')\n",
    "    ax.plot([-1,1],[0,0],[0,0],'k',lw=3)\n",
    "    ax.plot([0,0],[-1,1],[0,0],'k',lw=3)\n",
    "    ax.plot([0,0],[0,0],[-1,1],'k',lw=3)\n",
    "    for c in 'xyz':\n",
    "#         getattr(ax,f\"set_{c}lim\")([-1,1]);    \n",
    "        getattr(ax,f\"set_{c}label\")(f\"${c}$\",size=16)\n",
    "    "
   ]
  },
  {
   "cell_type": "markdown",
   "metadata": {
    "slideshow": {
     "slide_type": "subslide"
    }
   },
   "source": [
    "## Example\n",
    "\n",
    "The Earth has a mass of roughly $6\\times10^{24}$ kg. Assuming it's uniformly dense, what is the mass of the portion above the arctic circle ($66.5^\\circ$N)?"
   ]
  },
  {
   "cell_type": "code",
   "execution_count": 56,
   "metadata": {
    "hide_input": true,
    "scrolled": false
   },
   "outputs": [
    {
     "data": {
      "application/vnd.jupyter.widget-view+json": {
       "model_id": "",
       "version_major": 2,
       "version_minor": 0
      },
      "text/plain": [
       "interactive(children=(IntSlider(value=42, description='angle', max=90, step=6), Output()), _dom_classes=('widg…"
      ]
     },
     "metadata": {},
     "output_type": "display_data"
    }
   ],
   "source": [
    "@interact\n",
    "def _(angle=(0,90,6)):\n",
    "    tilt = 23.5*pi/180\n",
    "    fig = plt.figure(figsize=(10,10))\n",
    "    ax=fig.add_subplot(111,projection='3d')\n",
    "    ax.view_init(angle,30)\n",
    "    u = v = np.linspace(0,1,100)\n",
    "    u,v = np.meshgrid(u,v)\n",
    "\n",
    "    ax.plot_wireframe(sin(tilt*u)*cos(2*pi*v),sin(tilt*u)*sin(2*pi*v),cos(tilt*u),alpha=1,rcount=10,ccount = 5)\n",
    "    ax.plot_wireframe(sin((1-u)*tilt + pi*u)*cos(2*pi*v),sin((1-u)*tilt + pi*u)*sin(2*pi*v),cos((1-u)*tilt + pi*u),rcount=10,ccount = np.ceil(5*(pi-tilt)/tilt),alpha=.4)\n",
    "    ax.plot_surface(sin(tilt*u)*cos(2*pi*v),sin(tilt*u)*sin(2*pi*v),0*u + cos(tilt),alpha=.3,color='g')\n",
    "    ax.plot([-1,1],[0,0],[0,0],'k',lw=3)\n",
    "    ax.plot([0,0],[-1,1],[0,0],'k',lw=3)\n",
    "    ax.plot([0,0],[0,0],[-1,1],'k',lw=3)\n",
    "    for c in 'xyz':\n",
    "#         getattr(ax,f\"set_{c}lim\")([-1,1]);    \n",
    "        getattr(ax,f\"set_{c}label\")(f\"${c}$\",size=16)\n",
    "    "
   ]
  },
  {
   "cell_type": "markdown",
   "metadata": {
    "slideshow": {
     "slide_type": "subslide"
    }
   },
   "source": [
    "## Exercise\n",
    "\n",
    "Set up a triple integral to find the volume of a torus with radii $a < b$."
   ]
  },
  {
   "cell_type": "code",
   "execution_count": 65,
   "metadata": {
    "hide_input": false,
    "scrolled": false
   },
   "outputs": [
    {
     "data": {
      "application/vnd.jupyter.widget-view+json": {
       "model_id": "5717d07c0cdf4b1084f160baa377ca15",
       "version_major": 2,
       "version_minor": 0
      },
      "text/plain": [
       "interactive(children=(IntSlider(value=42, description='angle', max=90, step=6), Output()), _dom_classes=('widg…"
      ]
     },
     "metadata": {},
     "output_type": "display_data"
    }
   ],
   "source": [
    "@interact\n",
    "def _(angle=(0,90,6)):\n",
    "    tilt = 23.5*pi/180\n",
    "    fig = plt.figure(figsize=(10,10))\n",
    "    ax=fig.add_subplot(111,projection='3d')\n",
    "    ax.view_init(angle,30)\n",
    "    u = v = np.linspace(0,1,100)\n",
    "    u,v = np.meshgrid(u,v)\n",
    "\n",
    "    ax.plot_wireframe((1+1/2*sin(2*pi*u))*cos(2*pi*v),(1+1/2*sin(2*pi*u))*sin(2*pi*v),(1/2*cos(2*pi*u)),alpha=1,rcount=10,ccount = 10)\n",
    "    ax.plot_surface((1+1/2*sin(2*pi*u))*cos(2*pi*v),(1+1/2*sin(2*pi*u))*sin(2*pi*v),(1/2*cos(2*pi*u)),alpha=.3,color='g')\n",
    "    ax.plot([-1.5,1.5],[0,0],[0,0],'k',lw=3)\n",
    "    ax.plot([0,0],[-1.5,1.5],[0,0],'k',lw=3)\n",
    "    ax.plot([0,0],[0,0],[-1.5,1.5],'k',lw=3)\n",
    "    for c in 'xyz':\n",
    "#         getattr(ax,f\"set_{c}lim\")([-1,1]);    \n",
    "        getattr(ax,f\"set_{c}label\")(f\"${c}$\",size=16)\n",
    "    "
   ]
  },
  {
   "cell_type": "code",
   "execution_count": null,
   "metadata": {},
   "outputs": [],
   "source": []
  }
 ],
 "metadata": {
  "kernelspec": {
   "display_name": "Python 3",
   "language": "python",
   "name": "python3"
  },
  "language_info": {
   "codemirror_mode": {
    "name": "ipython",
    "version": 3
   },
   "file_extension": ".py",
   "mimetype": "text/x-python",
   "name": "python",
   "nbconvert_exporter": "python",
   "pygments_lexer": "ipython3",
   "version": "3.7.6"
  }
 },
 "nbformat": 4,
 "nbformat_minor": 4
}
