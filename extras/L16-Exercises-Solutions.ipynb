{
 "cells": [
  {
   "cell_type": "code",
   "execution_count": 39,
   "metadata": {},
   "outputs": [],
   "source": [
    "import numpy as np\n",
    "import matplotlib.pyplot as plt\n",
    "from IPython.display import display, HTML, IFrame\n",
    "from ipywidgets import interact,fixed\n",
    "import pandas as pd\n",
    "from mpl_toolkits import mplot3d\n",
    "from mpl_toolkits.mplot3d import axes3d\n",
    "from matplotlib.patches import FancyArrowPatch,Rectangle\n",
    "from mpl_toolkits.mplot3d.art3d import Poly3DCollection\n",
    "from mpl_toolkits.mplot3d import proj3d\n",
    "\n",
    "plt.rcParams[\"figure.figsize\"] = [10, 10]\n",
    "\n",
    "from numpy.linalg import norm\n",
    "from numpy import cos,sin,tan,arctan,exp,log,pi,sqrt,arccos,linspace,array,arange,meshgrid,abs,arcsin\n",
    "\n",
    "from scipy.integrate import quad,dblquad,tplquad"
   ]
  },
  {
   "cell_type": "markdown",
   "metadata": {},
   "source": [
    "## One-minute Review\n",
    "\n",
    "A homework question asked about an integral of the form \n",
    "\n",
    "$$ \\int_0^1\\int_0^z\\int_z^1 f\\,dx\\,dy\\,dz $$"
   ]
  },
  {
   "cell_type": "code",
   "execution_count": 2,
   "metadata": {
    "hide_input": true,
    "scrolled": false,
    "slideshow": {
     "slide_type": "fragment"
    }
   },
   "outputs": [
    {
     "data": {
      "application/vnd.jupyter.widget-view+json": {
       "model_id": "08552f3a08af4857b139dac7b53e49aa",
       "version_major": 2,
       "version_minor": 0
      },
      "text/plain": [
       "interactive(children=(IntSlider(value=0, description='angle', max=90, step=6), IntSlider(value=42, description…"
      ]
     },
     "metadata": {},
     "output_type": "display_data"
    }
   ],
   "source": [
    "@interact(angle=(-0,90,6),a=(0.,1.,.05))\n",
    "def _(angle=-24,vangle=(0,90,6),a=0):\n",
    "    fig = plt.figure(figsize=(10,10))\n",
    "    ax= fig.add_subplot(111,projection='3d')\n",
    "    u = np.linspace(0,1,80)\n",
    "    v = np.linspace(0,1,80)\n",
    "    U,V = np.meshgrid(u,v)\n",
    "    X = U\n",
    "    Y = V\n",
    "    Z = np.ones_like(U)\n",
    "#     ax.plot_wireframe(X,Y,Z,rcount=20,ccount=20)\n",
    "#     ax.plot_surface(X,Y,0*X,rcount=20,ccount=20,color='gray',alpha=.4)\n",
    "    ax.view_init(vangle,angle)\n",
    "    \n",
    "    ax.plot_wireframe(U,V*(U),U,rcount=20,ccount=20,alpha=a)\n",
    "    ax.plot_wireframe(U*0+1,V*(U),U,rcount=20,ccount=20,alpha=a)\n",
    "    ax.plot_wireframe(U+V*(1-U),U,U,rcount=20,ccount=20,alpha=a)\n",
    "    ax.plot_surface(U,0*X,V*(U),rcount=20,ccount=20,color='gray',alpha=.4)\n",
    "    ax.plot_surface(U*0,U,U+V*(1-U),rcount=20,ccount=20,color='gray',alpha=.4)\n",
    "\n",
    "    for c in 'xyz':\n",
    "#         getattr(ax,f\"set_{c}lim\")([-1,1]);    \n",
    "        getattr(ax,f\"set_{c}label\")(f\"${c}$\",size=16)\n",
    "    "
   ]
  },
  {
   "cell_type": "markdown",
   "metadata": {
    "slideshow": {
     "slide_type": "subslide"
    }
   },
   "source": [
    "# Cylindrical/Spherical Coordinates\n",
    "\n",
    "### Quick Exercise\n",
    "\n",
    "We know the equations $x=1$, $y=1$, and $z=1$ represent planes perpendicular to the respective access. Identify each of the following sets in the new coordinates.\n",
    "\n",
    "  1. $r=1$\n",
    "  2. $\\theta = 1$\n",
    "  3. $\\rho = 1$\n",
    "  4. $\\phi = 1$"
   ]
  },
  {
   "cell_type": "code",
   "execution_count": 3,
   "metadata": {
    "hide_input": true
   },
   "outputs": [
    {
     "data": {
      "application/vnd.jupyter.widget-view+json": {
       "model_id": "17445365be004831b11c3438096a6c33",
       "version_major": 2,
       "version_minor": 0
      },
      "text/plain": [
       "interactive(children=(IntSlider(value=0, description='angle', max=90, min=-90, step=6), Dropdown(description='…"
      ]
     },
     "metadata": {},
     "output_type": "display_data"
    }
   ],
   "source": [
    "@interact\n",
    "def _(angle=(-90,90,6),coord=['r','theta','rho','phi']):\n",
    "    fig = plt.figure(figsize=(10,10))\n",
    "    ax=fig.add_subplot(111,projection='3d')\n",
    "    ax.view_init(30,angle)\n",
    "    u = v = np.linspace(0,1,100)\n",
    "    u,v = np.meshgrid(u,v)\n",
    "    if coord == 'r':\n",
    "        ax.plot_surface(cos(2*pi*v),sin(2*pi*v),2*u-1,alpha=.5)\n",
    "    elif coord == 'theta':\n",
    "        ax.plot_surface(sqrt(2)*v*cos(1),sqrt(2)*v*sin(1),2*u-1,alpha=.5)\n",
    "    elif coord == 'rho':\n",
    "        ax.plot_surface(sin(pi*u)*cos(2*pi*v),sin(pi*u)*sin(2*pi*v),cos(pi*u),alpha=.5)\n",
    "    elif coord == 'phi':\n",
    "        ax.plot_surface(sin(1)*u*cos(2*pi*v),sin(1)*u*sin(2*pi*v),cos(1)*u,alpha=.5)\n",
    "    ax.plot([-1,1],[0,0],[0,0],'k',lw=3)\n",
    "    ax.plot([0,0],[-1,1],[0,0],'k',lw=3)\n",
    "    ax.plot([0,0],[0,0],[-1,1],'k',lw=3)\n",
    "    for c in 'xyz':\n",
    "#         getattr(ax,f\"set_{c}lim\")([-1,1]);    \n",
    "        getattr(ax,f\"set_{c}label\")(f\"${c}$\",size=16)\n",
    "    "
   ]
  },
  {
   "cell_type": "markdown",
   "metadata": {},
   "source": [
    "## Exercise\n",
    "\n",
    "Each row of the table below represents a point in $\\mathbb{R}^3$. Fill in the missing values.\n",
    "\n",
    "<table>\n",
    "    <hr>\n",
    "    <td> $x$ </td>    <td> $y$ </td>    <td> $z$ </td>\n",
    "    <td> $r$ </td>    <td> $\\theta$ </td>    <td> $\\rho$ </td>    <td> $\\phi$ </td>\n",
    "    </hr>\n",
    "    <tr>\n",
    "    <td> $2$ </td>    <td> $2$ </td>    <td> $2$ </td>\n",
    "    <td> $2\\sqrt{2}$  </td>   <td> $\\pi/4$ </td>    <td> $2\\sqrt{3}$ </td>    <td> $\\cos^{-1}(1/\\sqrt{3})$ </td>\n",
    "    </tr>\n",
    "    <tr>\n",
    "    <td> $-3/2$  </td>    <td> $0$  </td>    <td> $2$ </td>\n",
    "    <td> $3/2$ </td>    <td> $\\pi$ </td>    <td> $5/2$ </td>    <td> $\\cos^{-1}(4/5)$ </td>\n",
    "    </tr>\n",
    "    <tr>\n",
    "    <td> $\\sqrt{3}/2$ </td>    <td> \n",
    "    $1/2$</td>    <td> $-1$ </td>\n",
    "    <td> $1$ </td>    <td> $\\pi/6$ </td>    <td> $\\sqrt{2}$ </td>    <td> $3\\pi/4$</td>\n",
    "    </tr>\n",
    "    <tr>\n",
    "    <td> $5$ </td>    <td> $1$ </td>    <td> $-\\sqrt{26/3}$ </td>\n",
    "    <td> $\\sqrt{26}$ </td>    <td> $\\tan^{-1}(1/5)$ </td>    <td> $2\\sqrt{26/3}$ </td>    <td> $2\\pi/3$ </td>\n",
    "    </tr>\n",
    "</table>"
   ]
  },
  {
   "cell_type": "markdown",
   "metadata": {},
   "source": [
    "## Latitude/Longitude\n",
    "\n",
    "The surface of the earth is [roughly](https://en.wikipedia.org/wiki/Figure_of_the_Earth#/media/File:Earth_oblateness_to_scale.svg) a sphere. \n",
    "\n",
    "Longitude measures degrees east (+) or west (-) from the Greenwich meridiean (a line from the North Pole to the South Pole through Greenwich, England). Latitude measures degrees north (+) or south (-) of the equator. \n",
    "\n",
    "#### Quick questions\n",
    "\n",
    "How would you relate these to our definitions of $\\phi$ and $\\theta$?\n",
    "\n",
    "Using this, what are the spherical coordinates of Morningside Heights?\n",
    "\n",
    "Where is the point on earth where $\\phi = \\frac\\pi4 = -\\theta$?"
   ]
  },
  {
   "cell_type": "markdown",
   "metadata": {},
   "source": [
    "## Example\n",
    "\n",
    "Find, in terms of constant $a>0$, the centroid of the solid region\n",
    "\n",
    "$$ 0 \\leq z \\leq a^2 - x^2 - y^2.$$"
   ]
  },
  {
   "cell_type": "code",
   "execution_count": 105,
   "metadata": {
    "hide_input": true,
    "scrolled": false
   },
   "outputs": [
    {
     "data": {
      "application/vnd.jupyter.widget-view+json": {
       "model_id": "204551c4cee3480ab67ea6e439854dcb",
       "version_major": 2,
       "version_minor": 0
      },
      "text/plain": [
       "interactive(children=(IntSlider(value=42, description='angle', max=90, step=6), Output()), _dom_classes=('widg…"
      ]
     },
     "metadata": {},
     "output_type": "display_data"
    }
   ],
   "source": [
    "@interact\n",
    "def _(angle=(0,90,6)):\n",
    "    fig = plt.figure(figsize=(10,10))\n",
    "    ax=fig.add_subplot(111,projection='3d')\n",
    "    ax.view_init(angle,30)\n",
    "    u = v = np.linspace(0,1,100)\n",
    "    u,v = np.meshgrid(u,v)\n",
    "\n",
    "    ax.plot_surface(sqrt(2)*u*cos(2*pi*v),sqrt(2)*u*sin(2*pi*v),2*(1-u**2),alpha=.5)\n",
    "    ax.plot_wireframe(sqrt(2)*u*cos(2*pi*v),sqrt(2)*u*sin(2*pi*v),2*(1-u**2),color=(.3,.3,.3),rcount=10,ccount=10)\n",
    "\n",
    "    ax.plot([-1,1],[0,0],[0,0],'k',lw=3)\n",
    "    ax.plot([0,0],[-1,1],[0,0],'k',lw=3)\n",
    "    ax.plot([0,0],[0,0],[0,2],'k',lw=3)\n",
    "    for c in 'xyz':\n",
    "#         getattr(ax,f\"set_{c}lim\")([-1,1]);    \n",
    "        getattr(ax,f\"set_{c}label\")(f\"${c}$\",size=16)\n",
    "    "
   ]
  },
  {
   "cell_type": "markdown",
   "metadata": {},
   "source": [
    "#### Solution\n",
    "\n",
    "$\\bar x = \\bar y = 0$ by symmetry. Treating the density as 1, we compute the volume\n",
    "\n",
    "$$V = \\int_0^{2\\pi}\\int_0^a\\int_0^{a^2 - r^2} r \\,dz\\,dr\\,d\\theta = 2\\pi a^4/4$$"
   ]
  },
  {
   "cell_type": "markdown",
   "metadata": {},
   "source": [
    "$$\\bar z = \\frac1V \\int_0^{2\\pi}\\int_0^a\\int_0^{a^2 - r^2} z r \\,dz\\,dr\\,d\\theta $$\n",
    "\n",
    "$$ = \\frac{\\pi a^6/6}{\\pi a^4/2} = \\frac{a^2}{3} $$"
   ]
  },
  {
   "cell_type": "markdown",
   "metadata": {
    "slideshow": {
     "slide_type": "subslide"
    }
   },
   "source": [
    "## Example\n",
    "\n",
    "Find the mass of a right cone with height $h$ and radius (at base) $R$. and uniform density $\\rho$."
   ]
  },
  {
   "cell_type": "code",
   "execution_count": 104,
   "metadata": {
    "hide_input": true,
    "scrolled": false
   },
   "outputs": [
    {
     "data": {
      "application/vnd.jupyter.widget-view+json": {
       "model_id": "b86f57030c4f40b2a0daf4d2dcadba0c",
       "version_major": 2,
       "version_minor": 0
      },
      "text/plain": [
       "interactive(children=(IntSlider(value=42, description='angle', max=90, step=6), Output()), _dom_classes=('widg…"
      ]
     },
     "metadata": {},
     "output_type": "display_data"
    }
   ],
   "source": [
    "@interact\n",
    "def _(angle=(0,90,6)):\n",
    "    fig = plt.figure(figsize=(10,10))\n",
    "    ax=fig.add_subplot(111,projection='3d')\n",
    "    ax.view_init(angle,30)\n",
    "    u = v = np.linspace(0,1,100)\n",
    "    u,v = np.meshgrid(u,v)\n",
    "\n",
    "    ax.plot_surface(sin(1)*u*cos(2*pi*v),sin(1)*u*sin(2*pi*v),2-2*u,alpha=.5)\n",
    "    ax.plot_wireframe(sin(1)*u*cos(2*pi*v),sin(1)*u*sin(2*pi*v),2-2*u,color=(.3,.3,.3),rcount=10,ccount=10)\n",
    "\n",
    "    ax.plot([-1,1],[0,0],[0,0],'k',lw=3)\n",
    "    ax.plot([0,0],[-1,1],[0,0],'k',lw=3)\n",
    "    ax.plot([0,0],[0,0],[0,2],'k',lw=3)\n",
    "    for c in 'xyz':\n",
    "#         getattr(ax,f\"set_{c}lim\")([-1,1]);    \n",
    "        getattr(ax,f\"set_{c}label\")(f\"${c}$\",size=16)\n",
    "    "
   ]
  },
  {
   "cell_type": "markdown",
   "metadata": {
    "slideshow": {
     "slide_type": "subslide"
    }
   },
   "source": [
    "<br>\n",
    "<div style=\"background:#cfcfee\">**Caution!** When doing these sorts of applications, do not confuse the density $\\rho$ with the polar coordinate $\\rho$. Choose variables wisely.</div>"
   ]
  },
  {
   "cell_type": "markdown",
   "metadata": {
    "slideshow": {
     "slide_type": "subslide"
    }
   },
   "source": [
    "Find the moment of inertia relative to its central axis. "
   ]
  },
  {
   "cell_type": "markdown",
   "metadata": {},
   "source": [
    "#### Solution\n",
    "\n",
    "$$ M = \\int_0^{2\\pi} \\int_0^R \\int_0^{h-\\frac{h}{R}r} \\rho r\\,dz\\,dr\\,d\\theta = \\frac\\pi3 R^2h\\rho$$"
   ]
  },
  {
   "cell_type": "markdown",
   "metadata": {},
   "source": [
    "$r$ is the distance to the $z$-axis, so we are just integrating $r^2$. \n",
    "\n",
    "$$ I = \\int_0^{2\\pi} \\int_0^R \\int_0^{h-\\frac{h}{R}r} \\rho r^3\\,dz\\,dr\\,d\\theta = \\frac{\\pi R^{4} h \\rho}{10} = \\frac{3}{10}MR^2 $$"
   ]
  },
  {
   "cell_type": "markdown",
   "metadata": {
    "slideshow": {
     "slide_type": "subslide"
    }
   },
   "source": [
    "## Example\n",
    "\n",
    "Find the centroid of a solid quarter-sphere of radius $R$ and uniform density."
   ]
  },
  {
   "cell_type": "code",
   "execution_count": 6,
   "metadata": {
    "hide_input": true,
    "scrolled": false
   },
   "outputs": [
    {
     "data": {
      "application/vnd.jupyter.widget-view+json": {
       "model_id": "7b49440573c1492e9c2d902447e6b46e",
       "version_major": 2,
       "version_minor": 0
      },
      "text/plain": [
       "interactive(children=(IntSlider(value=45, description='angle', max=135, min=-45, step=6), IntSlider(value=42, …"
      ]
     },
     "metadata": {},
     "output_type": "display_data"
    }
   ],
   "source": [
    "@interact\n",
    "def _(angle=(-45,135,6),vangle=(0,90,6)):\n",
    "    fig = plt.figure(figsize=(10,10))\n",
    "    ax=fig.add_subplot(111,projection='3d')\n",
    "    ax.view_init(vangle,angle)\n",
    "    u = v = np.linspace(0,1,100)\n",
    "    u,v = np.meshgrid(u,v)\n",
    "\n",
    "    ax.plot_wireframe(sin(pi*u)*cos(pi/2*v),sin(pi*u)*sin(pi/2*v),cos(pi*u),alpha=.8,rcount=20)\n",
    "    ax.plot_surface(v*sin(pi*u)*cos(pi/2),v*sin(pi*u)*sin(pi/2),v*cos(pi*u),alpha=.3,color='g')\n",
    "    ax.plot_surface(v*sin(pi*u)*cos(0),v*sin(pi*u)*sin(0),v*cos(pi*u),alpha=.3,color='g')\n",
    "    ax.plot([-1,1],[0,0],[0,0],'k',lw=3)\n",
    "    ax.plot([0,0],[-1,1],[0,0],'k',lw=3)\n",
    "    ax.plot([0,0],[0,0],[-1,1],'k',lw=3)\n",
    "    for c in 'xyz':\n",
    "#         getattr(ax,f\"set_{c}lim\")([-1,1]);    \n",
    "        getattr(ax,f\"set_{c}label\")(f\"${c}$\",size=16)\n",
    "    "
   ]
  },
  {
   "cell_type": "markdown",
   "metadata": {},
   "source": [
    "#### Solution\n",
    "\n",
    "$$\\bar x = \\frac1V\\int_0^{\\pi/2}\\int_0^\\pi\\int_0^R (\\rho \\sin\\phi\\cos \\theta)\\rho^2\\sin\\phi \\,d\\rho\\,d\\phi\\,d\\theta $$\n",
    "\n",
    "$$ = \\frac1V\\left(\\int_0^{\\pi/2}\\cos \\theta\\,d\\theta\\right)\\left(\\int_0^\\pi \\sin^2\\phi \\,d\\phi\\right)\\left( \\int_0^R \\rho^3\\,d\\rho \\right) = \\frac{1}{\\pi R^3/3} (1)(\\pi/2)(R^4/4)$$\n",
    "\n",
    "$$(\\bar x,\\bar y,\\bar z) = \\left( \\frac38 R,\\frac38 R,0\\right)$$"
   ]
  },
  {
   "cell_type": "markdown",
   "metadata": {
    "slideshow": {
     "slide_type": "subslide"
    }
   },
   "source": [
    "## Example\n",
    "\n",
    "Find the moment of inertia of a solid sphere of radius $R$ relative to a central axis.\n",
    "\n",
    "The **radius of gyration** of a body is the distance from the axis of a point-mass with the same mass and moment of inertia. Find it for a sphere."
   ]
  },
  {
   "cell_type": "code",
   "execution_count": 7,
   "metadata": {
    "hide_input": true,
    "scrolled": false
   },
   "outputs": [
    {
     "data": {
      "application/vnd.jupyter.widget-view+json": {
       "model_id": "",
       "version_major": 2,
       "version_minor": 0
      },
      "text/plain": [
       "interactive(children=(IntSlider(value=42, description='angle', max=90, step=6), Output()), _dom_classes=('widg…"
      ]
     },
     "metadata": {},
     "output_type": "display_data"
    }
   ],
   "source": [
    "@interact\n",
    "def _(angle=(0,90,6)):\n",
    "    tilt = 23.5*pi/180\n",
    "    fig = plt.figure(figsize=(10,10))\n",
    "    ax=fig.add_subplot(111,projection='3d')\n",
    "    ax.view_init(angle,30)\n",
    "    u = v = np.linspace(0,1,100)\n",
    "    u,v = np.meshgrid(u,v)\n",
    "\n",
    "    ax.plot_wireframe(sin(pi*u)*cos(2*pi*v),sin(pi*u)*sin(2*pi*v),cos(pi*u),alpha=1,rcount=12,ccount = 20)\n",
    "    ax.plot_surface(sin(pi*u)*cos(2*pi*v),sin(pi*u)*sin(2*pi*v),cos(pi*u),alpha=.2,color='g')\n",
    "    ax.plot([-1,1],[0,0],[0,0],'k',lw=3)\n",
    "    ax.plot([0,0],[-1,1],[0,0],'k',lw=3)\n",
    "    ax.plot([0,0],[0,0],[-1,1],'k',lw=3)\n",
    "    for c in 'xyz':\n",
    "#         getattr(ax,f\"set_{c}lim\")([-1,1]);    \n",
    "        getattr(ax,f\"set_{c}label\")(f\"${c}$\",size=16)\n",
    "    "
   ]
  },
  {
   "cell_type": "markdown",
   "metadata": {},
   "source": [
    "Consider the density to be 1.\n",
    "\n",
    "$$M = \\frac43 \\pi R^3 $$\n",
    "\n",
    "The distance to the $z$-axis is $r=\\rho\\sin\\phi$.\n",
    "\n",
    "$$ I = \\int_0^{2\\pi} \\int_0^\\pi \\int_0^R (\\rho \\sin\\phi)^2\\rho^2\\sin\\phi\\,d\\rho\\,d\\phi\\,d\\theta $$ \n",
    "\n",
    "$$= \\frac{8\\pi R^5}{15} = \\frac25 M R^2 $$"
   ]
  },
  {
   "cell_type": "markdown",
   "metadata": {},
   "source": [
    "So the radius of gyration is $\\displaystyle R_g = \\sqrt{\\frac{I}{M}} = \\sqrt{\\frac25}R$."
   ]
  },
  {
   "cell_type": "markdown",
   "metadata": {
    "slideshow": {
     "slide_type": "subslide"
    }
   },
   "source": [
    "## Example\n",
    "\n",
    "The Earth has a mass of roughly $6\\times10^{24}$ kg. Assuming it's uniformly dense, what is the mass of the portion above the arctic circle ($66.5^\\circ$N)?"
   ]
  },
  {
   "cell_type": "code",
   "execution_count": 36,
   "metadata": {
    "hide_input": true,
    "scrolled": false
   },
   "outputs": [
    {
     "data": {
      "application/vnd.jupyter.widget-view+json": {
       "model_id": "5ac4b7956f03425db1b7d591f3759880",
       "version_major": 2,
       "version_minor": 0
      },
      "text/plain": [
       "interactive(children=(IntSlider(value=42, description='angle', max=90, step=6), Output()), _dom_classes=('widg…"
      ]
     },
     "metadata": {},
     "output_type": "display_data"
    }
   ],
   "source": [
    "@interact\n",
    "def _(angle=(0,90,6)):\n",
    "    tilt = 23.5*pi/180\n",
    "    fig = plt.figure(figsize=(10,10))\n",
    "    ax=fig.add_subplot(111,projection='3d')\n",
    "    ax.view_init(angle,30)\n",
    "    u = v = np.linspace(0,1,100)\n",
    "    u,v = np.meshgrid(u,v)\n",
    "\n",
    "    ax.plot_wireframe(sin(tilt*u)*cos(2*pi*v),sin(tilt*u)*sin(2*pi*v),cos(tilt*u),alpha=1,rcount=10,ccount = 5)\n",
    "    ax.plot_wireframe(sin((1-u)*tilt + pi*u)*cos(2*pi*v),sin((1-u)*tilt + pi*u)*sin(2*pi*v),cos((1-u)*tilt + pi*u),rcount=10,ccount = np.ceil(5*(pi-tilt)/tilt),alpha=.2)\n",
    "    ax.plot_surface(sin(tilt*u)*cos(2*pi*v),sin(tilt*u)*sin(2*pi*v),0*u + cos(tilt),alpha=.3,color='g')\n",
    "    ax.plot([-1,1],[0,0],[0,0],'k',lw=3)\n",
    "    ax.plot([0,0],[-1,1],[0,0],'k',lw=3)\n",
    "    ax.plot([0,0],[0,0],[-1,1],'k',lw=3)\n",
    "    for c in 'xyz':\n",
    "#         getattr(ax,f\"set_{c}lim\")([-1,1]);    \n",
    "        getattr(ax,f\"set_{c}label\")(f\"${c}$\",size=16)\n",
    "    "
   ]
  },
  {
   "cell_type": "markdown",
   "metadata": {},
   "source": [
    "Let $R$ be the radius of the Earth, and let $$\\alpha = 23.5^\\circ = 23.5\\frac{\\pi}{180}$$ be ite tilt. \n",
    "\n",
    "We compute the volume of this polar \"cap\":\n",
    "\n",
    "$$V = \\int_0^{2\\pi}\\int_0^\\alpha \\int_{\\frac{R\\cos\\alpha}{\\cos\\phi}}^R \\rho^2\\sin\\phi \\,d\\rho\\,d\\phi\\,d\\theta$$"
   ]
  },
  {
   "cell_type": "markdown",
   "metadata": {},
   "source": [
    "To better see where the $\\rho$ bounds came from, observe the following \"slice\" of the picture for a fixed $\\theta$. "
   ]
  },
  {
   "cell_type": "code",
   "execution_count": 88,
   "metadata": {
    "hide_input": true
   },
   "outputs": [
    {
     "data": {
      "application/vnd.jupyter.widget-view+json": {
       "model_id": "cc0fccee191f4881ac939d4126b054b6",
       "version_major": 2,
       "version_minor": 0
      },
      "text/plain": [
       "interactive(children=(FloatSlider(value=0.2, description='phi', max=0.41015237421866746, step=0.01), Output())…"
      ]
     },
     "metadata": {},
     "output_type": "display_data"
    }
   ],
   "source": [
    "@interact\n",
    "def _(phi=(0,alpha,.01)):\n",
    "    t = linspace(-alpha,alpha,60)\n",
    "    plt.figure(figsize = (6,6.6))\n",
    "    plt.fill(sin(t),cos(t),fc=(0,1,.4,.2),ec=(0,0,.5),lw=2)\n",
    "    plt.xlim(-.5,.5)\n",
    "    plt.ylim(0,1.1)\n",
    "    plt.plot([-sin(alpha),0,sin(alpha)],[cos(alpha),0,cos(alpha)],lw=1,color='k');\n",
    "    plt.plot([0,0],[0,1],lw=1,color='k');\n",
    "    t = linspace(-pi,pi)\n",
    "    plt.fill(sin(t),cos(t),fc=(.4,.4,1,.1),ec=(0,0,.5),lw=1)\n",
    "    plt.plot([0,sin(phi)],[0,cos(phi)])\n",
    "    plt.plot([tan(phi)*cos(alpha),sin(phi)],[cos(alpha),cos(phi)],lw=4,color='r')\n",
    "    t = linspace(0,phi)\n",
    "    plt.plot(.2*sin(t),.2*cos(t),'k',lw=1)\n",
    "    plt.text(.3*sin(phi/2),.3*cos(phi/2),\"$\\phi$\",fontsize=17,horizontalalignment='center')\n",
    "\n"
   ]
  },
  {
   "cell_type": "markdown",
   "metadata": {},
   "source": [
    "As $\\phi$ varies from $0$ to $\\alpha$, the range of $\\rho$ is seen in the red line segment. The higher value is always $R$, but the smaller value comes from the horizontal line $z=R\\cos\\alpha = \\rho\\cos\\phi$. Solving for $\\rho$ gives us the lower bound."
   ]
  },
  {
   "cell_type": "markdown",
   "metadata": {},
   "source": [
    "$$V = \\int_0^{2\\pi}\\int_0^\\alpha \\int_{\\frac{R\\cos\\alpha}{\\cos\\phi}}^R \\rho^2\\sin\\phi \\,d\\rho\\,d\\phi\\,d\\theta$$\n",
    "\n",
    "$$ = \\frac{2\\pi R^3}{3}\\int_0^\\alpha (1-\\cos^3\\alpha \\sec^3\\phi)\\sin\\phi\\,d\\phi $$"
   ]
  },
  {
   "cell_type": "markdown",
   "metadata": {},
   "source": [
    "$$ = \\frac{2\\pi R^3}{3}\\left(1-\\cos\\alpha -\\cos^3\\alpha \\int_0^\\alpha \\sec^2\\phi \\tan\\phi\\,d\\phi \\right)$$\n",
    "\n",
    "$$ =  \\frac{2\\pi R^3}{3}\\left(1-\\cos\\alpha -\\cos^3\\alpha \\frac{\\tan^2\\alpha}{2}\\right) $$\n",
    "\n",
    "$$ =  \\frac{2\\pi R^3}{3}\\left(1-\\cos\\alpha(1 + \\frac12\\sin^2\\alpha)\\right) $$\n",
    "\n",
    "$$ =  \\frac{2\\pi R^3}{3}\\left(1-\\frac{3\\cos\\alpha}{2} + \\frac{\\cos^3\\alpha}{2}\\right) $$\n",
    "\n",
    "which is an interesting formula I did not know before now. It gives the volume of a ball swept out by an angle $\\alpha$ of 'latitude' down from the north pole."
   ]
  },
  {
   "cell_type": "code",
   "execution_count": 99,
   "metadata": {
    "hide_input": false
   },
   "outputs": [
    {
     "data": {
      "image/png": "[encoded data removed]",
      "text/plain": [
       "<Figure size 452.389x288 with 1 Axes>"
      ]
     },
     "metadata": {
      "needs_background": "light"
     },
     "output_type": "display_data"
    }
   ],
   "source": [
    "a = linspace(0,pi/2,77)\n",
    "plt.figure(figsize=(2*pi,4))\n",
    "plt.fill_between(a,1-3*cos(a)/2 + cos(a)**3/2,fc=(.3,.3,1,.3),ec='k');"
   ]
  },
  {
   "cell_type": "code",
   "execution_count": 33,
   "metadata": {},
   "outputs": [],
   "source": [
    "alpha = 23.5*pi/180\n",
    "R = 6371\n",
    "M = 5.92e24"
   ]
  },
  {
   "cell_type": "code",
   "execution_count": 92,
   "metadata": {},
   "outputs": [
    {
     "data": {
      "text/plain": [
       "2.9698490214032138e+22"
      ]
     },
     "execution_count": 92,
     "metadata": {},
     "output_type": "execute_result"
    }
   ],
   "source": [
    "(1-3*cos(alpha)/2 + cos(alpha)**3/2)*M/2"
   ]
  },
  {
   "cell_type": "code",
   "execution_count": 38,
   "metadata": {},
   "outputs": [
    {
     "data": {
      "text/plain": [
       "2.969849021403217e+22"
      ]
     },
     "execution_count": 38,
     "metadata": {},
     "output_type": "execute_result"
    }
   ],
   "source": [
    "tplquad(lambda rho, ph, th: rho**2*sin(ph),0,2*pi,0,alpha,lambda th,ph: R*cos(alpha)/cos(ph),R)[0]/(pi*R**3*4/3) * M"
   ]
  },
  {
   "cell_type": "markdown",
   "metadata": {
    "slideshow": {
     "slide_type": "subslide"
    }
   },
   "source": [
    "## Exercise\n",
    "\n",
    "Set up a triple integral to find the volume of a torus with radii $a < b$."
   ]
  },
  {
   "cell_type": "code",
   "execution_count": 9,
   "metadata": {
    "hide_input": true,
    "scrolled": false
   },
   "outputs": [
    {
     "data": {
      "application/vnd.jupyter.widget-view+json": {
       "model_id": "",
       "version_major": 2,
       "version_minor": 0
      },
      "text/plain": [
       "interactive(children=(IntSlider(value=42, description='angle', max=90, step=6), Output()), _dom_classes=('widg…"
      ]
     },
     "metadata": {},
     "output_type": "display_data"
    }
   ],
   "source": [
    "@interact\n",
    "def _(angle=(0,90,6)):\n",
    "    tilt = 23.5*pi/180\n",
    "    fig = plt.figure(figsize=(10,10))\n",
    "    ax=fig.add_subplot(111,projection='3d')\n",
    "    ax.view_init(angle,30)\n",
    "    u = v = np.linspace(0,1,100)\n",
    "    u,v = np.meshgrid(u,v)\n",
    "\n",
    "    ax.plot_wireframe((1+1/2*sin(2*pi*u))*cos(2*pi*v),(1+1/2*sin(2*pi*u))*sin(2*pi*v),(1/2*cos(2*pi*u)),alpha=1,rcount=10,ccount = 10)\n",
    "    ax.plot_surface((1+1/2*sin(2*pi*u))*cos(2*pi*v),(1+1/2*sin(2*pi*u))*sin(2*pi*v),(1/2*cos(2*pi*u)),alpha=.3,color='g')\n",
    "    ax.plot([-1.5,1.5],[0,0],[0,0],'k',lw=3)\n",
    "    ax.plot([0,0],[-1.5,1.5],[0,0],'k',lw=3)\n",
    "    ax.plot([0,0],[0,0],[-1.5,1.5],'k',lw=3)\n",
    "    for c in 'xyz':\n",
    "#         getattr(ax,f\"set_{c}lim\")([-1,1]);    \n",
    "        getattr(ax,f\"set_{c}label\")(f\"${c}$\",size=16)\n",
    "    "
   ]
  },
  {
   "cell_type": "markdown",
   "metadata": {},
   "source": [
    "HW 10 exercise."
   ]
  },
  {
   "cell_type": "code",
   "execution_count": null,
   "metadata": {},
   "outputs": [],
   "source": []
  }
 ],
 "metadata": {
  "kernelspec": {
   "display_name": "Python 3",
   "language": "python",
   "name": "python3"
  },
  "language_info": {
   "codemirror_mode": {
    "name": "ipython",
    "version": 3
   },
   "file_extension": ".py",
   "mimetype": "text/x-python",
   "name": "python",
   "nbconvert_exporter": "python",
   "pygments_lexer": "ipython3",
   "version": "3.7.6"
  }
 },
 "nbformat": 4,
 "nbformat_minor": 4
}
