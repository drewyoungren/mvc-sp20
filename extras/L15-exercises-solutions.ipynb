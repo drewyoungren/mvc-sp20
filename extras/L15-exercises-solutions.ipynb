{
 "cells": [
  {
   "cell_type": "code",
   "execution_count": 36,
   "metadata": {},
   "outputs": [],
   "source": [
    "import numpy as np\n",
    "import matplotlib.pyplot as plt\n",
    "from mpl_toolkits.mplot3d import Axes3D\n",
    "from numpy import array, arange, linspace, meshgrid, cos, sin, pi, tan, abs, exp, log, arctan, sqrt, inf\n",
    "from ipywidgets import interact,fixed\n",
    "from scipy.integrate import quad, dblquad, tplquad\n",
    "from IPython.display import display,clear_output\n",
    "import ipywidgets as widgets\n"
   ]
  },
  {
   "cell_type": "markdown",
   "metadata": {},
   "source": [
    "$\\newcommand{\\R}{\\mathbb{R}}$"
   ]
  },
  {
   "cell_type": "markdown",
   "metadata": {},
   "source": [
    "### Example\n",
    "\n",
    "Consider the region $ E\\subset\\R^3$ bounded defined by $$-1 \\leq x \\leq 1$$ $$ -1 \\leq y \\leq 1$$ $$ -2 \\leq z \\leq 2^x.$$ "
   ]
  },
  {
   "cell_type": "code",
   "execution_count": 2,
   "metadata": {
    "hide_input": true,
    "scrolled": false,
    "slideshow": {
     "slide_type": "fragment"
    }
   },
   "outputs": [
    {
     "data": {
      "application/vnd.jupyter.widget-view+json": {
       "model_id": "c9e66ae509804897840af7b4ab7fddac",
       "version_major": 2,
       "version_minor": 0
      },
      "text/plain": [
       "interactive(children=(IntSlider(value=-24, description='angle', max=66, min=-108, step=6), IntSlider(value=42,…"
      ]
     },
     "metadata": {},
     "output_type": "display_data"
    }
   ],
   "source": [
    "@interact(angle=(-108,66,6))\n",
    "def _(angle=-24,vangle=(0,90,6)):\n",
    "    fig = plt.figure(figsize=(10,10))\n",
    "    ax= fig.add_subplot(111,projection='3d')\n",
    "    u = np.linspace(-1,1,80)\n",
    "    v = np.linspace(-1,1,80)\n",
    "    U,V = np.meshgrid(u,v)\n",
    "    X = U\n",
    "    Y = V\n",
    "    Z = 2**U\n",
    "    ax.plot_wireframe(X,Y,Z,rcount=20,ccount=20)\n",
    "    ax.plot_surface(X,Y,0*X - 2,rcount=20,ccount=20,color='gray',alpha=.4)\n",
    "    ax.plot_surface(0*X -1,Y,1.25*X - .75,rcount=20,ccount=20,color='gray',alpha=.4)\n",
    "    ax.plot_surface(0*X + 1,Y,2*X,rcount=20,ccount=20,color='gray',alpha=.4)\n",
    "    ax.plot_surface(X,0*Y+1,(2**X + 2)/2*Y + (2**X - 2)/2 ,rcount=20,ccount=20,color='blue',alpha=.3)\n",
    "    ax.plot_surface(X,0*Y-1,(2**X + 2)/2*Y + (2**X - 2)/2 ,rcount=20,ccount=20,color='blue',alpha=.3)\n",
    "    ax.view_init(vangle,angle)\n",
    "    \n",
    "    for c in 'xyz':\n",
    "#         getattr(ax,f\"set_{c}lim\")([-1,1]);    \n",
    "        getattr(ax,f\"set_{c}label\")(f\"${c}$\",size=16)\n",
    "    "
   ]
  },
  {
   "cell_type": "markdown",
   "metadata": {},
   "source": [
    "Which of the following triple integrals is greatest?\n",
    "\n",
    "  a. $$\\iiint_E x\\,dV$$\n",
    "  b. $$\\iiint_E -x^2\\,dV$$\n",
    "  c. $$\\iiint_E y\\,dV$$\n",
    "  d. $$\\iiint_E z\\,dV$$\n",
    "  e. $$\\iiint_E \\,dV$$"
   ]
  },
  {
   "cell_type": "markdown",
   "metadata": {},
   "source": [
    "#### Answer \n",
    "\n",
    "e. "
   ]
  },
  {
   "cell_type": "markdown",
   "metadata": {
    "slideshow": {
     "slide_type": "subslide"
    }
   },
   "source": [
    "### Example\n",
    "\n",
    "Write the triple integral $\\iiint_E f(x,y,z)\\,dV$ where E is the region in the first octant bounded by $z = 1-x$ and $y = x^2$ as three different iterated integrals. "
   ]
  },
  {
   "cell_type": "code",
   "execution_count": 3,
   "metadata": {
    "hide_input": true,
    "scrolled": false,
    "slideshow": {
     "slide_type": "fragment"
    }
   },
   "outputs": [
    {
     "data": {
      "application/vnd.jupyter.widget-view+json": {
       "model_id": "a474b106bd084e1381e4ac1368a47dfb",
       "version_major": 2,
       "version_minor": 0
      },
      "text/plain": [
       "interactive(children=(IntSlider(value=-24, description='angle', max=66, min=-108, step=6), IntSlider(value=42,…"
      ]
     },
     "metadata": {},
     "output_type": "display_data"
    }
   ],
   "source": [
    "@interact(angle=(-108,66,6))\n",
    "def _(angle=-24,vangle=(0,90,6)):\n",
    "    fig = plt.figure(figsize=(10,10))\n",
    "    ax= fig.add_subplot(111,projection='3d')\n",
    "    u = np.linspace(0,1,80)\n",
    "    v = np.linspace(0,1,80)\n",
    "    U,V = np.meshgrid(u,v)\n",
    "    X = U\n",
    "    Y = V*(U**2)\n",
    "    Z = 1-X\n",
    "    ax.plot_wireframe(X,Y,Z,rcount=20,ccount=20)\n",
    "    ax.plot_surface(X,Y,0*X,rcount=20,ccount=20,color='gray',alpha=.4)\n",
    "    ax.view_init(vangle,angle)\n",
    "    \n",
    "    ax.plot_wireframe(U,U**2,V*(1-U),rcount=20,ccount=20)\n",
    "    ax.plot_surface(X,0*X,V*(1-U),rcount=20,ccount=20,color='gray',alpha=.4)\n",
    "# ???    t = np.linspace(0,1,26)\n",
    "#     for x in r:\n",
    "#         ax.plot(x*np.ones_like(t),t*pi/3,'k')\n",
    "#     for y in th:\n",
    "#         ax.plot(1+t,y*np.ones_like(t),'k')\n",
    "    for c in 'xyz':\n",
    "#         getattr(ax,f\"set_{c}lim\")([-1,1]);    \n",
    "        getattr(ax,f\"set_{c}label\")(f\"${c}$\",size=16)\n",
    "    "
   ]
  },
  {
   "cell_type": "markdown",
   "metadata": {
    "slideshow": {
     "slide_type": "fragment"
    }
   },
   "source": [
    "Solutions:\n",
    "\n",
    "$$\\int_{0}^{1} \\int_{0}^{1-x} \\int_{0}^{x^2} f(x,y,z)\\,dy \\,dz \\, dx $$\n",
    "\n",
    "$$\\int_{0}^{1} \\int_{0}^{1-z} \\int_{0}^{x^2} f(x,y,z)\\,dy \\,dx \\, dz $$\n",
    "\n",
    "$$\\int_{0}^{1} \\int_{0}^{x^2} \\int_{0}^{1-x} f(x,y,z)\\,dz \\,dy \\, dx $$\n",
    "\n",
    "$$\\int_{0}^{1} \\int_{0}^{\\sqrt{y}} \\int_{0}^{1-x} f(x,y,z)\\,dz \\,dx \\, dy $$\n",
    "\n",
    "And ..."
   ]
  },
  {
   "cell_type": "markdown",
   "metadata": {
    "slideshow": {
     "slide_type": "fragment"
    }
   },
   "source": [
    "$$\\int_{0}^{1} \\int_{0}^{(1-z)^2} \\int_{\\sqrt{y}}^{1-z} f(x,y,z)\\,dx \\,dy \\, dz $$\n",
    "\n",
    "$$\\int_{0}^{1} \\int_{0}^{1-\\sqrt{y}} \\int_{\\sqrt{y}}^{1-z} f(x,y,z)\\,dx \\,dz \\, dy $$"
   ]
  },
  {
   "cell_type": "markdown",
   "metadata": {
    "slideshow": {
     "slide_type": "subslide"
    }
   },
   "source": [
    "### Exercise\n",
    "\n",
    "Sketch the region in the first octant bounded by the planes $z=1$, $z = x$, and $z=y$ and express the triple integral of an arbitrary integrand over this region as an iterated integral. \n",
    "\n",
    "Start by sketching the regions \"shadow\" in each of the \n",
    "  - $xy$-\n",
    "  - $xz$-\n",
    "  - $yz$-planes."
   ]
  },
  {
   "cell_type": "code",
   "execution_count": 4,
   "metadata": {
    "hide_input": true,
    "scrolled": false,
    "slideshow": {
     "slide_type": "fragment"
    }
   },
   "outputs": [
    {
     "data": {
      "application/vnd.jupyter.widget-view+json": {
       "model_id": "3e7f53cae6874926b2183ba8ee6ac86a",
       "version_major": 2,
       "version_minor": 0
      },
      "text/plain": [
       "interactive(children=(IntSlider(value=-24, description='angle', max=66, min=-108, step=6), IntSlider(value=42,…"
      ]
     },
     "metadata": {},
     "output_type": "display_data"
    }
   ],
   "source": [
    "@interact(angle=(-108,66,6))\n",
    "def _(angle=-24,vangle=(0,90,6)):\n",
    "    fig = plt.figure(figsize=(10,10))\n",
    "    ax= fig.add_subplot(111,projection='3d')\n",
    "    u = np.linspace(0,1,80)\n",
    "    v = np.linspace(0,1,80)\n",
    "    U,V = np.meshgrid(u,v)\n",
    "    X = U\n",
    "    Y = V\n",
    "    Z = np.ones_like(U)\n",
    "    ax.plot_wireframe(X,Y,Z,rcount=20,ccount=20)\n",
    "#     ax.plot_surface(X,Y,0*X,rcount=20,ccount=20,color='gray',alpha=.4)\n",
    "    ax.view_init(vangle,angle)\n",
    "    \n",
    "    ax.plot_wireframe(U,U*V,U,rcount=20,ccount=20)\n",
    "    ax.plot_wireframe(U*V,U,U,rcount=20,ccount=20)\n",
    "    ax.plot_surface(U,0*X,U+V*(1-U),rcount=20,ccount=20,color='gray',alpha=.4)\n",
    "    ax.plot_surface(U*0,U,U+V*(1-U),rcount=20,ccount=20,color='gray',alpha=.4)\n",
    "\n",
    "    for c in 'xyz':\n",
    "#         getattr(ax,f\"set_{c}lim\")([-1,1]);    \n",
    "        getattr(ax,f\"set_{c}label\")(f\"${c}$\",size=16)\n",
    "    "
   ]
  },
  {
   "cell_type": "markdown",
   "metadata": {
    "slideshow": {
     "slide_type": "slide"
    }
   },
   "source": [
    "### Exercise - Center of Mass\n",
    "\n",
    "Take the top half of the annulus $\\{(x,y) \\mid 1 \\leq x^2 + y^2 \\leq 4\\}$. Does this region contain its **centroid** (center of mass with uniform density)?"
   ]
  },
  {
   "cell_type": "code",
   "execution_count": 5,
   "metadata": {
    "hide_input": false,
    "slideshow": {
     "slide_type": "fragment"
    }
   },
   "outputs": [
    {
     "data": {
      "image/png": "[encoded data removed]",
      "text/plain": [
       "<Figure size 720x360 with 1 Axes>"
      ]
     },
     "metadata": {
      "needs_background": "light"
     },
     "output_type": "display_data"
    }
   ],
   "source": [
    "t = np.linspace(0,pi,100)\n",
    "plt.figure(figsize=(10,5))\n",
    "plt.fill(np.concatenate([-cos(-t),2*cos(t)]),np.concatenate([sin(t),2*sin(t)]));"
   ]
  },
  {
   "cell_type": "markdown",
   "metadata": {},
   "source": [
    "#### Solution\n",
    "\n",
    "For a centroid, we are assuming constant density, so for the purposes of center of mass, we can just assume it is 1. So the mass is the area. \n",
    "\n",
    "Symmetry tells us $\\bar x = 0$. Further we know the area from simple geometry is $\\frac{3\\pi}{2}$. \n",
    "\n",
    "Thus we need only compute $\\bar y$ for which we use polar coordinates.\n",
    "\n",
    "$$\\bar y = \\frac{1}{3\\pi/2} \\int_0^\\pi \\int_1^2 r^2 \\sin \\theta \\,dr \\,d\\theta $$\n",
    "\n",
    "(Don't forget the other $r$ from polar coordinates.)\n",
    "\n",
    "This is easily evaluated to $\\frac{28}{9\\pi}$, which is awfully close, but just under, 1. So the centroid is **not** in the region."
   ]
  },
  {
   "cell_type": "markdown",
   "metadata": {
    "slideshow": {
     "slide_type": "subslide"
    }
   },
   "source": [
    "### Exercise - Moment of Inertia\n",
    "\n",
    "Set up integrals to compute the moments of inertia for the annular region above about \n",
    "\n",
    "  - the origin\n",
    "  - the $x$-axis\n",
    "  - the line $x=-1$."
   ]
  },
  {
   "cell_type": "markdown",
   "metadata": {
    "slideshow": {
     "slide_type": "fragment"
    }
   },
   "source": [
    "![The region D spinning abut the z-axis in 3 different configurations.](constant_L.gif)"
   ]
  },
  {
   "cell_type": "markdown",
   "metadata": {},
   "source": [
    "Around the origin. The distance is $r$. Square it and don't forget the $r$ from polar coordinates\n",
    "\n",
    "$$\\int_0^\\pi \\int_1^2 r^3 \\,dr \\,d\\theta$$"
   ]
  },
  {
   "cell_type": "code",
   "execution_count": 6,
   "metadata": {
    "scrolled": true
   },
   "outputs": [
    {
     "data": {
      "text/plain": [
       "11.780972450961725"
      ]
     },
     "execution_count": 6,
     "metadata": {},
     "output_type": "execute_result"
    }
   ],
   "source": [
    "dblquad(lambda r,t: r**3,0,pi,1,2)[0] # around the origin"
   ]
  },
  {
   "cell_type": "markdown",
   "metadata": {},
   "source": [
    "Around the $x$-axis.  The distance is $y = r \\sin \\theta$. Square it and don't forget the $r$ from polar coordinates\n",
    "\n",
    "$$\\int_0^\\pi \\int_1^2 r^3 \\sin^2 \\theta \\,dr \\,d\\theta$$"
   ]
  },
  {
   "cell_type": "code",
   "execution_count": 7,
   "metadata": {},
   "outputs": [
    {
     "data": {
      "text/plain": [
       "5.890486225480862"
      ]
     },
     "execution_count": 7,
     "metadata": {},
     "output_type": "execute_result"
    }
   ],
   "source": [
    "dblquad(lambda r,t: r**3*sin(t)**2,0,pi,1,2)[0]"
   ]
  },
  {
   "cell_type": "markdown",
   "metadata": {},
   "source": [
    "Around the line $x=1$.  The distance is $x - (-1) = r \\cos \\theta + 1$. Square it and don't forget the $r$ from polar coordinates\n",
    "\n",
    "$$\\int_0^\\pi \\int_1^2 r(r\\cos \\theta +1)^2 \\,dr \\,d\\theta$$"
   ]
  },
  {
   "cell_type": "code",
   "execution_count": 8,
   "metadata": {},
   "outputs": [
    {
     "data": {
      "text/plain": [
       "10.602875205865551"
      ]
     },
     "execution_count": 8,
     "metadata": {},
     "output_type": "execute_result"
    }
   ],
   "source": [
    "dblquad(lambda r,t: r*(r*cos(t)+1)**2,0,pi,1,2)[0]"
   ]
  },
  {
   "cell_type": "markdown",
   "metadata": {},
   "source": [
    "### Bonus question\n",
    "\n",
    "Call that half-annular region above $A$. Let $r$ be the usual polar coordinate. Is the expression \n",
    "\n",
    "$$\\frac{\\iiint_A r\\,dV}{\\iiint_A \\,dV}$$ the $r$-coordinate of the centroid? Why or why not?"
   ]
  },
  {
   "cell_type": "markdown",
   "metadata": {
    "slideshow": {
     "slide_type": "slide"
    }
   },
   "source": [
    "## Example - Probability\n",
    "\n",
    "Suppose a straw is creased at two random points along its length. What is the probability the three resulting sections can be folded into a triangle?"
   ]
  },
  {
   "cell_type": "code",
   "execution_count": 23,
   "metadata": {
    "hide_input": true,
    "scrolled": false,
    "slideshow": {
     "slide_type": "fragment"
    }
   },
   "outputs": [
    {
     "data": {
      "application/vnd.jupyter.widget-view+json": {
       "model_id": "0832f4bb03844f488633d14b1ff11620",
       "version_major": 2,
       "version_minor": 0
      },
      "text/plain": [
       "VBox(children=(Button(description='New straw', style=ButtonStyle()), Output()))"
      ]
     },
     "metadata": {},
     "output_type": "display_data"
    }
   ],
   "source": [
    "button = widgets.Button(description='New straw')\n",
    "out = widgets.Output()\n",
    "def on_button_clicked(_):\n",
    "      # \"linking function with output\"\n",
    "    v = np.random.rand(2)\n",
    "    with out:\n",
    "        # what happens when we press the button\n",
    "        clear_output()\n",
    "        @interact(t=(0.,1.))\n",
    "        def _(t=0):\n",
    "            v.sort()\n",
    "            x,y = v\n",
    "\n",
    "            a = x\n",
    "            b = y-x\n",
    "            c = 1-y\n",
    "\n",
    "            if ((a**2+b**2 - c**2)/(2*a*b))**2 <= 1:\n",
    "                alpha = np.arccos((a**2+b**2 - c**2)/(2*a*b))\n",
    "            else:\n",
    "                alpha=0\n",
    "            if ((-a**2+b**2 + c**2)/(2*c*b))**2 <= 1:\n",
    "                beta = np.arccos((-a**2+b**2 + c**2)/(2*c*b))\n",
    "            else:\n",
    "                beta=0\n",
    "\n",
    "            fig = plt.figure(figsize=(8,8))\n",
    "            ax = fig.add_subplot(111)\n",
    "            ax.plot([a+a*cos((1-t)*pi + t * alpha),a,y,y-c*cos((1-t)*pi + t * beta)],[a*sin((1-t)*pi + t * alpha),0,0,c*sin((1-t)*pi + t * beta)])\n",
    "            ax.set_xlim([-.1,1])\n",
    "            ax.set_ylim([-.1,1])\n",
    "            ax.axis('off')\n",
    "            ax.scatter([x,y],[0,0])\n",
    "# linking button and function together using a button's method\n",
    "button.on_click(on_button_clicked)\n",
    "# displaying button and its output together\n",
    "widgets.VBox([button,out])"
   ]
  },
  {
   "cell_type": "markdown",
   "metadata": {
    "slideshow": {
     "slide_type": "subslide"
    }
   },
   "source": [
    "Take the straw to be the unit interval $[0,1]$. We model the points on the straw as two random variables with $ 0 < x < y < 1$. Thus, our joint probability density function $\\rho(x,y)$ will be constant on this region and 0 everywhere else. $$ \\rho(x,y) = \\begin{cases} C & 0 < x < y < 1 \\\\ 0 & \\text{else} \\end{cases} $$"
   ]
  },
  {
   "cell_type": "code",
   "execution_count": 34,
   "metadata": {
    "slideshow": {
     "slide_type": "fragment"
    }
   },
   "outputs": [
    {
     "data": {
      "image/png": "[encoded data removed]",
      "text/plain": [
       "<Figure size 432x432 with 1 Axes>"
      ]
     },
     "metadata": {
      "needs_background": "light"
     },
     "output_type": "display_data"
    }
   ],
   "source": [
    "plt.figure(figsize=(6,6))\n",
    "plt.xlim(0,1)\n",
    "plt.ylim(0,1)\n",
    "x = linspace(0,1)\n",
    "plt.fill_between(x,x,1,alpha=.3,color='b');"
   ]
  },
  {
   "cell_type": "markdown",
   "metadata": {
    "slideshow": {
     "slide_type": "subslide"
    }
   },
   "source": [
    "To be a probability distribution, we know $\\iint \\rho\\,dA = 1$, so $C = 2$.\n",
    "\n",
    "Now, we need just integrate $\\rho$ over the region in which the straw can be bent into a triangle. This event is just a region in $xy$-space, and we will (cheekily) call it $\\Delta$. The key to finding $\\Delta$ is simply the triangle inequality: The sum of any two sides must be longer that the third side. "
   ]
  },
  {
   "cell_type": "markdown",
   "metadata": {
    "slideshow": {
     "slide_type": "fragment"
    }
   },
   "source": [
    "$$ x + y - x > 1-y$$\n",
    "\n",
    "$$ y > \\frac12 $$"
   ]
  },
  {
   "cell_type": "markdown",
   "metadata": {
    "slideshow": {
     "slide_type": "fragment"
    }
   },
   "source": [
    "$$  y - x + 1 -y > x$$\n",
    "\n",
    "$$ \\frac12 > x $$"
   ]
  },
  {
   "cell_type": "markdown",
   "metadata": {
    "slideshow": {
     "slide_type": "fragment"
    }
   },
   "source": [
    "$$  x + 1 - y > y - x$$\n",
    "\n",
    "$$ y < x + \\frac12 $$"
   ]
  },
  {
   "cell_type": "code",
   "execution_count": 41,
   "metadata": {
    "slideshow": {
     "slide_type": "subslide"
    }
   },
   "outputs": [
    {
     "data": {
      "image/png": "[encoded data removed]",
      "text/plain": [
       "<Figure size 432x432 with 1 Axes>"
      ]
     },
     "metadata": {
      "needs_background": "light"
     },
     "output_type": "display_data"
    }
   ],
   "source": [
    "plt.figure(figsize=(6,6))\n",
    "plt.xlim(0,1)\n",
    "plt.ylim(0,1)\n",
    "x = linspace(0,1)\n",
    "plt.fill_between(x,x,1,alpha=.3,color='b');\n",
    "plt.fill_between(x,1/2,1,alpha=.1,color='r');\n",
    "plt.fill_betweenx(x,0,1/2,alpha=.1,color='r');\n",
    "plt.fill_between(x,x+1/2,alpha=.1,color='r');"
   ]
  },
  {
   "cell_type": "markdown",
   "metadata": {},
   "source": [
    "So $P(\\Delta) = \\iint_\\Delta \\rho \\,dA = \\iint_\\Delta 2\\,dA = \\frac14$.\n",
    "\n",
    "You can watch the solution below."
   ]
  },
  {
   "cell_type": "code",
   "execution_count": 44,
   "metadata": {},
   "outputs": [
    {
     "data": {
      "image/jpeg": "[encoded data removed]",
      "text/html": [
       "\n",
       "        <iframe\n",
       "            width=\"800\"\n",
       "            height=\"400\"\n",
       "            src=\"https://www.youtube.com/embed/iQ2_OUpGtwY\"\n",
       "            frameborder=\"0\"\n",
       "            allowfullscreen\n",
       "        ></iframe>\n",
       "        "
      ],
      "text/plain": [
       "<IPython.lib.display.YouTubeVideo at 0x11b79dc90>"
      ]
     },
     "execution_count": 44,
     "metadata": {},
     "output_type": "execute_result"
    }
   ],
   "source": [
    "from IPython.display import YouTubeVideo\n",
    "id='iQ2_OUpGtwY'\n",
    "YouTubeVideo(id=id,width=800,height=400)"
   ]
  },
  {
   "cell_type": "code",
   "execution_count": null,
   "metadata": {},
   "outputs": [],
   "source": []
  }
 ],
 "metadata": {
  "kernelspec": {
   "display_name": "Python 3",
   "language": "python",
   "name": "python3"
  },
  "language_info": {
   "codemirror_mode": {
    "name": "ipython",
    "version": 3
   },
   "file_extension": ".py",
   "mimetype": "text/x-python",
   "name": "python",
   "nbconvert_exporter": "python",
   "pygments_lexer": "ipython3",
   "version": "3.7.6"
  },
  "rise": {
   "enable_chalkboard": true,
   "scroll": true
  }
 },
 "nbformat": 4,
 "nbformat_minor": 4
}
