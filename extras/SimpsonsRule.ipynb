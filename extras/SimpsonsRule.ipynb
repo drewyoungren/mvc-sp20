{
 "cells": [
  {
   "cell_type": "code",
   "execution_count": 63,
   "metadata": {},
   "outputs": [],
   "source": [
    "import numpy as np\n",
    "import matplotlib.pyplot as plt\n",
    "from ipywidgets import interact,fixed"
   ]
  },
  {
   "cell_type": "markdown",
   "metadata": {},
   "source": [
    "# Simpson's Rule\n",
    "\n",
    "Simpson's rule is a means of approximating a integral integral $$ I = \\int_a^b f(x)\\,dx$$ using only a finite number of values of $f$."
   ]
  },
  {
   "cell_type": "markdown",
   "metadata": {},
   "source": [
    "More specifically, let $n$ be a positive, even integer. We partition the interval $[a,b]$ into $n$ uniform subintervals of width $$\\Delta x = \\frac{b-a}{n}$$.\n",
    "\n",
    "\\begin{align*}\n",
    "x_0 &= a \\\\\n",
    "x_1 &= a + \\Delta x \\\\\n",
    "\\ &\\vdots \\\\\n",
    "x_i &= a  + i\\Delta x \\\\\n",
    "\\ &\\vdots \\\\\n",
    "x_n &= b\n",
    "\\end{align*}\n"
   ]
  },
  {
   "cell_type": "markdown",
   "metadata": {},
   "source": [
    "Since $n$ is even, we take these subintervals 2 at a time. Then we fit a quadratic function to the three function values at the edges of this pair of intervals. Graphically,"
   ]
  },
  {
   "cell_type": "code",
   "execution_count": 61,
   "metadata": {
    "hide_input": true,
    "scrolled": false
   },
   "outputs": [
    {
     "data": {
      "application/vnd.jupyter.widget-view+json": {
       "model_id": "",
       "version_major": 2,
       "version_minor": 0
      },
      "text/plain": [
       "interactive(children=(FloatSlider(value=1.5, description='y0', max=3.0), FloatSlider(value=2.0, description='y…"
      ]
     },
     "metadata": {},
     "output_type": "display_data"
    }
   ],
   "source": [
    "@interact\n",
    "def _(y0=(0,3.),y1=(0,4.),y2=(0,3.)):\n",
    "    plt.plot([-1,-1],[0,y0],'--k')\n",
    "    plt.plot([0,0],[0,y1],'--k')\n",
    "    plt.plot([1,1],[0,y2],'--k')\n",
    "    x = np.linspace(-1,1,55)\n",
    "    A = np.array([[1,-1,1],[1,0,0],[1,1,1]])\n",
    "    c,b,a = np.linalg.solve(A,[y0,y1,y2])\n",
    "    plt.plot(x,a*x**2 + b*x + c,'k')\n",
    "    plt.fill(np.concatenate([x,[x[-1],x[0]]]),np.concatenate([a*x**2 + b*x + c,[0,0]]),alpha=.5)\n",
    "    plt.ylim([0,4])\n",
    "    plt.xticks([-1,0,1],['$-h$','$0$','$h$'])"
   ]
  },
  {
   "cell_type": "markdown",
   "metadata": {},
   "source": [
    "Since we don't actually care about the expression for this curve, only its integral, we can make a shortcut. Suppose the three points are translated to $-h,0,h$ and let $ax^2 + bx+c$ be the curve function that fits these values, so \n",
    "\n",
    "\\begin{align*}\n",
    "y_0 &= a(-h)^2 + b(-h) + c  \\\\\n",
    "y_1 &= c  \\\\\n",
    "y_2 &= a(h)^2 + b(h) + c  \\\\\n",
    "\\end{align*}\n",
    "\n",
    "Now note we have $$y_0 + 4y_1 +y_2 = 2ah^2 +6c$$ (you'll see why this matters in a second)."
   ]
  },
  {
   "cell_type": "markdown",
   "metadata": {},
   "source": [
    "We integrate \n",
    "\n",
    "$$\\int_{-h}^h ax^2+bx+c\\,dx = 2 a\\frac{h^3}{3} + 2ch = \\frac{h}{3}(2ah^2 +6c) $$ $$= \\frac{h}{3}(y_0 + 4 y_1 +y_2)$$"
   ]
  },
  {
   "cell_type": "markdown",
   "metadata": {},
   "source": [
    "So the area under each pair of subintervals can be computed this way, and when we add them together, the terms on the \"inside edge\" of each pair gets added twice. Thus a pattern emerges.\n",
    "\n",
    "\\begin{align*}\n",
    "I \\approx \\frac{\\Delta x}{3} (&f(x_0) + 4f(x_1) + f(x_2) \\  \\\\\n",
    "+ &f(x_2) + 4f(x_3) + f(x_4) \\\\\n",
    " &\\vdots \\\\\n",
    "+ &f(x_{n-2}) + 4f(x_{n-1}) + f(x_{n}) )\n",
    "\\end{align*}\n",
    "$$ = \\frac{\\Delta x}{3} (f(x_0) + 4f(x_1) + 2f(x_2) + 4f(x_3) +\\cdots + 2f(x_{n-2}) + 4f(x_{n-1}) + f(x_{n}) ) $$"
   ]
  },
  {
   "cell_type": "markdown",
   "metadata": {},
   "source": [
    "This last estimate is what is known as **Simpson's Rule**.\n",
    "\n",
    "#### Example \n",
    "\n",
    "Estimate the definite integral $$\\int_0^\\pi x^2 \\sin^2{x}\\,dx $$ using Simpson's Rule. "
   ]
  },
  {
   "cell_type": "code",
   "execution_count": 85,
   "metadata": {
    "hide_input": true,
    "scrolled": false
   },
   "outputs": [
    {
     "data": {
      "application/vnd.jupyter.widget-view+json": {
       "model_id": "5efe4b8773264990b6305228058c1cde",
       "version_major": 2,
       "version_minor": 0
      },
      "text/plain": [
       "interactive(children=(IntSlider(value=16, description='n', max=30, min=2, step=2), Output()), _dom_classes=('w…"
      ]
     },
     "metadata": {},
     "output_type": "display_data"
    }
   ],
   "source": [
    "@interact\n",
    "def _(n=(2,30,2),f=fixed(lambda x: x**2*np.sin(x)**2)):\n",
    "    for i in range(0,n,2):\n",
    "        x0,x1,x2 = [(np.pi/n*j) for j in range(i,i+3)]\n",
    "        y0,y1,y2 = [f(x0),f(x1),f(x2)]\n",
    "        plt.plot([x0,x0],[0,y0],'--k')\n",
    "        plt.plot([x1,x1],[0,y1],'--k')\n",
    "#         plt.plot([1,1],[0,y2],'--k')\n",
    "        x = np.linspace(x0,x2,25)\n",
    "        A = np.array([[1,x0,x0**2],[1,x1,x1**2],[1,x2,x2**2]])\n",
    "        c,b,a = np.linalg.solve(A,[y0,y1,y2])\n",
    "        plt.plot(x,a*x**2 + b*x + c,'k')\n",
    "        plt.fill(np.concatenate([x,[x[-1],x[0]]]),np.concatenate([a*x**2 + b*x + c,[0,0]]),alpha=.6)\n",
    "    x = np.linspace(0,np.pi,55)\n",
    "    plt.plot(x,f(x),'k')\n",
    "    plt.fill(np.concatenate([x,[x[-1],x[0]]]),np.concatenate([f(x),[0,0]]),'r',alpha=.15)\n",
    "    plt.ylim([0,3.5])\n",
    "    plt.xticks([np.pi/4*i for i in range(5)],[\"$\\\\frac{{ {} \\pi }}{{4}}$\".format(i) for i in range(5)])"
   ]
  },
  {
   "cell_type": "code",
   "execution_count": 86,
   "metadata": {},
   "outputs": [],
   "source": [
    "def sr_vector(n):\n",
    "    \"\"\"This is a generator for producing the 142424...4241 pattern in Simpson's Rule\"\"\"\n",
    "    yield 1\n",
    "    for _ in range(n//2-1):\n",
    "        yield 4\n",
    "        yield 2\n",
    "    yield 4\n",
    "    yield 1\n",
    "\n",
    "def simpsons_rule(f,a,b,n=10):\n",
    "    \"\"\"Approximates the definite integral of f from a to b using n \n",
    "    subintervals via Simpson's Rule. \n",
    "    n must be even.\n",
    "    \"\"\"\n",
    "    dx = (b-a)/(n)\n",
    "    return dx/3*np.dot(list(sr_vector(n)),[f(a+i*dx) for i in range(n+1)])"
   ]
  },
  {
   "cell_type": "code",
   "execution_count": 76,
   "metadata": {},
   "outputs": [
    {
     "data": {
      "text/plain": [
       "4.382314616652521"
      ]
     },
     "execution_count": 76,
     "metadata": {},
     "output_type": "execute_result"
    }
   ],
   "source": [
    "from scipy.integrate import quad\n",
    "quad(lambda x: x**2*np.sin(x)**2,0,np.pi)[0]\n"
   ]
  },
  {
   "cell_type": "code",
   "execution_count": 87,
   "metadata": {},
   "outputs": [
    {
     "name": "stdout",
     "output_type": "stream",
     "text": [
      " 2 5.167712780049969\n",
      " 4 4.521748682543723\n",
      " 6 4.402125701524049\n",
      " 8 4.387965137547131\n",
      "10 4.384524331585615\n",
      "12 4.383354231493331\n",
      "14 4.382867548618777\n",
      "16 4.382635661414043\n",
      "18 4.382513743235085\n",
      "20 4.382444658492079\n",
      "22 4.382403133008028\n",
      "24 4.382376952596762\n",
      "   4.382314616652521\n"
     ]
    }
   ],
   "source": [
    "for n in range(2,25,2):\n",
    "    print(f\"{n:2d}\",simpsons_rule(lambda x: x**2*np.sin(x)**2,0,np.pi,n))\n",
    "print(\"  \",II[0])"
   ]
  },
  {
   "cell_type": "code",
   "execution_count": 29,
   "metadata": {
    "scrolled": false
   },
   "outputs": [
    {
     "data": {
      "text/plain": [
       "3.141592653589793"
      ]
     },
     "execution_count": 29,
     "metadata": {},
     "output_type": "execute_result"
    }
   ],
   "source": [
    "# Here's another example.\n",
    "# quad(lambda x : 4/(1+x**2),0,1)[0]\n",
    "simpsons_rule(lambda x : 4/(1+x**2),0,1,1000)"
   ]
  }
 ],
 "metadata": {
  "kernelspec": {
   "display_name": "Python 3",
   "language": "python",
   "name": "python3"
  },
  "language_info": {
   "codemirror_mode": {
    "name": "ipython",
    "version": 3
   },
   "file_extension": ".py",
   "mimetype": "text/x-python",
   "name": "python",
   "nbconvert_exporter": "python",
   "pygments_lexer": "ipython3",
   "version": "3.7.6"
  }
 },
 "nbformat": 4,
 "nbformat_minor": 4
}
