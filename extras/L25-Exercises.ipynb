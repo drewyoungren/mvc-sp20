{
 "cells": [
  {
   "cell_type": "code",
   "execution_count": 1,
   "metadata": {
    "slideshow": {
     "slide_type": "skip"
    }
   },
   "outputs": [],
   "source": [
    "import numpy as np\n",
    "import matplotlib.pyplot as plt\n",
    "from IPython.display import display, HTML, IFrame\n",
    "from ipywidgets import interact,fixed,FloatSlider\n",
    "import pandas as pd\n",
    "from mpl_toolkits import mplot3d\n",
    "from mpl_toolkits.mplot3d import axes3d\n",
    "from matplotlib.patches import FancyArrowPatch,Rectangle,Circle\n",
    "from mpl_toolkits.mplot3d.art3d import Poly3DCollection\n",
    "from mpl_toolkits.mplot3d import proj3d\n",
    "import mpl_toolkits.mplot3d.art3d as art3d\n",
    "\n",
    "\n",
    "plt.rcParams[\"figure.figsize\"] = [10, 10]\n",
    "\n",
    "from numpy.linalg import norm\n",
    "from numpy import cos,sin,tan,arctan,exp,log,pi,sqrt\n",
    "\n",
    "from scipy.integrate import quad,dblquad\n",
    "\n",
    "from matplotlib import cm\n",
    "\n",
    "from matplotlib.animation import FuncAnimation\n",
    "\n",
    "fig = plt.figure()\n",
    "ax = fig.add_subplot(projection='3d')\n",
    "plt.close()"
   ]
  },
  {
   "cell_type": "markdown",
   "metadata": {
    "slideshow": {
     "slide_type": "notes"
    }
   },
   "source": [
    "$\\newcommand{\\RR}{\\mathbb{R}}$\n",
    "$\\newcommand{\\bv}[1]{\\begin{bmatrix} #1 \\end{bmatrix}}$\n",
    "$\\renewcommand{\\vec}{\\mathbf}$\n"
   ]
  },
  {
   "cell_type": "markdown",
   "metadata": {
    "slideshow": {
     "slide_type": "slide"
    }
   },
   "source": [
    "# One-minute Review\n",
    "\n",
    "### Fishing in a river\n",
    "\n",
    "\n",
    "\n",
    "How could we know the two surfaces in the earlier example had the same flux?"
   ]
  },
  {
   "cell_type": "markdown",
   "metadata": {
    "slideshow": {
     "slide_type": "fragment"
    }
   },
   "source": [
    "### Example\n",
    "\n",
    "Consider the constant vector field $\\vec F(x,y,z) = \\vec i$. Consider the surfaces\n",
    "\n",
    "  - $\\Omega_1$: piece of the plane $x=0$ for $(0 \\leq y,z \\leq 1$\n",
    "  - $\\Omega_2$: piece of the surface $x= 3y(1-y)$ for $0 \\leq y,z \\leq 1$\n",
    "\n",
    "oriented in the positive $x$-direction. Through which surface is the flux of $\\vec F$ greater?"
   ]
  },
  {
   "cell_type": "code",
   "execution_count": 2,
   "metadata": {
    "hide_input": true,
    "scrolled": false,
    "slideshow": {
     "slide_type": "fragment"
    }
   },
   "outputs": [
    {
     "data": {
      "application/vnd.jupyter.widget-view+json": {
       "model_id": "675b3ad97d3344eca67e9d28e51c7299",
       "version_major": 2,
       "version_minor": 0
      },
      "text/plain": [
       "interactive(children=(IntSlider(value=-48, description='angle', max=6, min=-96, step=6), Checkbox(value=False,…"
      ]
     },
     "metadata": {},
     "output_type": "display_data"
    }
   ],
   "source": [
    "@interact\n",
    "def _(angle = (-96,6,6),caps=False):\n",
    "    fig = plt.figure(figsize=(8,8))\n",
    "    ax = fig.gca(projection='3d')\n",
    "    u = np.linspace(0,1,20)\n",
    "    v = np.linspace(0,1,10)\n",
    "    U,V = np.meshgrid(u,v)\n",
    "    ax.plot_surface(0*U*(1-U),U,V,alpha=.5)\n",
    "    ax.plot_wireframe(0*U*(1-U),U,V,alpha=1,color='k',rcount=10,ccount=10)\n",
    "    ax.plot_surface(3*U*(1-U),U,V,alpha=.5)\n",
    "    ax.plot_wireframe(3*U*(1-U),U,V,alpha=1,color='k',rcount=10,ccount=10)\n",
    "    if caps:\n",
    "        ax.plot_surface(3*V*U*(1-U),U,np.ones_like(V),alpha=.5)\n",
    "        ax.plot_wireframe(3*V*U*(1-U),U,np.ones_like(V),alpha=1,color='k',rcount=10,ccount=10)\n",
    "        ax.plot_surface(3*V*U*(1-U),U,np.zeros_like(V),alpha=.5)\n",
    "        ax.plot_wireframe(3*V*U*(1-U),U,np.zeros_like(V),alpha=1,color='k',rcount=10,ccount=10)\n",
    "    ax.view_init(30,angle)\n",
    "    u = v = np.linspace(0,1,7)\n",
    "    # v = np.linspace(0,2*pi,10)\n",
    "    U,V,W = np.meshgrid(u,v,u)\n",
    "    ax.quiver(U,V,W,np.ones_like(U),0*U,0*U,length=.2);\n"
   ]
  },
  {
   "cell_type": "markdown",
   "metadata": {
    "slideshow": {
     "slide_type": "subslide"
    }
   },
   "source": [
    "### Revisit Cone\n",
    "\n",
    "Find the flux of the curl $\\nabla\\times \\vec F$ of the vector field $2y\\,\\vec i + 3z\\,\\vec j +x\\,\\vec k$ through the piece of the cone $z=\\sqrt{x^2 + y^2}$ below $z=2$, oriented upward.\n",
    "  \n",
    "  "
   ]
  },
  {
   "cell_type": "code",
   "execution_count": 3,
   "metadata": {
    "hide_input": true,
    "scrolled": false,
    "slideshow": {
     "slide_type": "fragment"
    }
   },
   "outputs": [
    {
     "data": {
      "application/vnd.jupyter.widget-view+json": {
       "model_id": "d51e0c8004f74920ac4516eb72825ce5",
       "version_major": 2,
       "version_minor": 0
      },
      "text/plain": [
       "interactive(children=(IntSlider(value=24, description='angle', max=96, min=-6, step=6), IntSlider(value=42, de…"
      ]
     },
     "metadata": {},
     "output_type": "display_data"
    }
   ],
   "source": [
    "@interact(angle=(-6,96,6))\n",
    "def _(angle = 24,vangle=(0,90,6),fade=(0,1,.04)):\n",
    "    fig = plt.figure(figsize=(8,8))\n",
    "    ax = fig.gca(projection='3d')\n",
    "    u = np.linspace(0,2,100)\n",
    "    v = np.linspace(0,2*pi,100)\n",
    "    U,V = np.meshgrid(u,v)\n",
    "    ax.view_init(vangle,angle)\n",
    "    ax.plot_surface(U*cos(V),U*sin(V),U,alpha=.5)\n",
    "    ax.plot_wireframe(U*cos(V),U*sin(V),U,alpha=1,color='k',rcount=10,ccount=10)\n",
    "    # ax.plot_surface(U*cos(V),U*sin(V),2*np.ones_like(U),alpha=.5)\n",
    "    # ax.plot_wireframe(U*cos(V),U*sin(V),2*np.ones_like(U),alpha=1,color='k',rcount=10,ccount=10)\n",
    "    u = v = np.linspace(-2,2,8)\n",
    "    # v = np.linspace(0,2*pi,10)\n",
    "    U,V,W = np.meshgrid(u,v,u)\n",
    "    ax.quiver(U,(V),W,2*V,3*W,U,length=.1,alpha=1-fade);\n",
    "    ax.quiver(U,(V),W,0*U - 3,0*W - 1,0*U - 2,length=.2,lw=2,color='r',alpha=fade);\n"
   ]
  },
  {
   "cell_type": "markdown",
   "metadata": {},
   "source": [
    "## Exercise\n",
    "\n",
    "Compute the line integral $\\oint_{\\partial D} \\vec F \\cdot d\\vec r$ around the ccw (from above) boundary of the surface $D$ given.\n",
    "\n",
    "$$ \\vec F(x,y,z) = xyz \\,\\vec i + y \\,\\vec j + z \\,\\vec k$$\n",
    "\n",
    "where $D$ is the portion of the surface $z=x^2$ above $x^2 + y^2 \\leq a^2$ in the first octant."
   ]
  },
  {
   "cell_type": "code",
   "execution_count": 4,
   "metadata": {
    "hide_input": true,
    "scrolled": false,
    "slideshow": {
     "slide_type": "fragment"
    }
   },
   "outputs": [
    {
     "data": {
      "application/vnd.jupyter.widget-view+json": {
       "model_id": "20e6f1ab57f744f69e63ff83c1379667",
       "version_major": 2,
       "version_minor": 0
      },
      "text/plain": [
       "interactive(children=(IntSlider(value=-24, description='angle', max=6, min=-96, step=6), IntSlider(value=42, d…"
      ]
     },
     "metadata": {},
     "output_type": "display_data"
    }
   ],
   "source": [
    "@interact(angle=(-96,6,6))\n",
    "def _(angle = -24,vangle=(0,90,6)):\n",
    "    fig = plt.figure(figsize=(8,8))\n",
    "    ax = fig.gca(projection='3d')\n",
    "    u = np.linspace(0,2,40)\n",
    "    v = np.linspace(0,pi/2,40)\n",
    "    U,V = np.meshgrid(u,v)\n",
    "    ax.view_init(vangle,angle)\n",
    "    ax.plot_surface(U*cos(V),U*sin(V),U**2*cos(V)**2,alpha=.5)\n",
    "    ax.plot_wireframe(U*cos(V),U*sin(V),U**2*cos(V)**2,alpha=1,color='k',rcount=10,ccount=10)\n",
    "    # ax.plot_surface(U*cos(V),U*sin(V),2*np.ones_like(U),alpha=.5)\n",
    "    # ax.plot_wireframe(U*cos(V),U*sin(V),2*np.ones_like(U),alpha=1,color='k',rcount=10,ccount=10)\n",
    "    u = v = np.linspace(0,2,8)\n",
    "    # v = np.linspace(0,2*pi,10)\n",
    "    U,V,W = np.meshgrid(u,v,2*u)\n",
    "    ax.quiver(U,V,W,U*W*V,V,W,length=.05);\n",
    "#     ax.quiver(U,V,W,0*U - 3,0*W - 1,0*U - 2,length=.2,lw=2,color='r');\n"
   ]
  },
  {
   "cell_type": "code",
   "execution_count": null,
   "metadata": {},
   "outputs": [],
   "source": []
  }
 ],
 "metadata": {
  "kernelspec": {
   "display_name": "Python 3",
   "language": "python",
   "name": "python3"
  },
  "language_info": {
   "codemirror_mode": {
    "name": "ipython",
    "version": 3
   },
   "file_extension": ".py",
   "mimetype": "text/x-python",
   "name": "python",
   "nbconvert_exporter": "python",
   "pygments_lexer": "ipython3",
   "version": "3.7.6"
  }
 },
 "nbformat": 4,
 "nbformat_minor": 4
}
